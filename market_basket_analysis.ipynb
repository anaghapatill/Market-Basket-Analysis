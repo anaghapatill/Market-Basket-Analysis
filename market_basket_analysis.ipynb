{
 "cells": [
  {
   "cell_type": "markdown",
   "id": "02448d77",
   "metadata": {
    "papermill": {
     "duration": 0.049946,
     "end_time": "2022-11-20T05:54:59.639716",
     "exception": false,
     "start_time": "2022-11-20T05:54:59.589770",
     "status": "completed"
    },
    "tags": []
   },
   "source": [
    "# Market Basket Analysis"
   ]
  },
  {
   "cell_type": "markdown",
   "id": "0804026a",
   "metadata": {
    "papermill": {
     "duration": 0.046996,
     "end_time": "2022-11-20T05:54:59.736551",
     "exception": false,
     "start_time": "2022-11-20T05:54:59.689555",
     "status": "completed"
    },
    "tags": []
   },
   "source": [
    "## Introduction"
   ]
  },
  {
   "cell_type": "markdown",
   "id": "98e2f2b9",
   "metadata": {
    "papermill": {
     "duration": 0.046871,
     "end_time": "2022-11-20T05:54:59.830666",
     "exception": false,
     "start_time": "2022-11-20T05:54:59.783795",
     "status": "completed"
    },
    "tags": []
   },
   "source": [
    "* The data contains orders of 200,000 users with each user having between 4 and 100 orders \n",
    "* Each order in the data is classified as prior, train or test\n",
    "* Prior orders describe the past behaviour of a user while train and test orders regard the future behaviour that we need to predict\n",
    "* We will predict which previously purchased products (prior orders) will be in a user’s next order (train and test orders)\n",
    "\n",
    "\n",
    "* This is a classification problem because we need to predict whether each pair of user and product is a reorder or not\n",
    "* This is indicated by the value of the reordered variable, i.e. reordered = 1 or reordered = 0"
   ]
  },
  {
   "cell_type": "code",
   "execution_count": 1,
   "id": "d74d9413",
   "metadata": {
    "execution": {
     "iopub.execute_input": "2022-11-20T05:54:59.927845Z",
     "iopub.status.busy": "2022-11-20T05:54:59.927343Z",
     "iopub.status.idle": "2022-11-20T05:54:59.938749Z",
     "shell.execute_reply": "2022-11-20T05:54:59.937582Z"
    },
    "papermill": {
     "duration": 0.063196,
     "end_time": "2022-11-20T05:54:59.941651",
     "exception": false,
     "start_time": "2022-11-20T05:54:59.878455",
     "status": "completed"
    },
    "tags": []
   },
   "outputs": [],
   "source": [
    "import pandas as pd\n",
    "import numpy as np\n",
    "import gc\n",
    "gc.enable()   #frees up memory"
   ]
  },
  {
   "cell_type": "markdown",
   "id": "cbeb7e57",
   "metadata": {
    "papermill": {
     "duration": 0.048039,
     "end_time": "2022-11-20T05:55:00.037956",
     "exception": false,
     "start_time": "2022-11-20T05:54:59.989917",
     "status": "completed"
    },
    "tags": []
   },
   "source": [
    "## Dataset Description"
   ]
  },
  {
   "cell_type": "markdown",
   "id": "b572800e",
   "metadata": {
    "papermill": {
     "duration": 0.047542,
     "end_time": "2022-11-20T05:55:00.133132",
     "exception": false,
     "start_time": "2022-11-20T05:55:00.085590",
     "status": "completed"
    },
    "tags": []
   },
   "source": [
    "* **orders**: This table includes all orders, namely prior, train, and test. It has a single primary key (order_id)\n",
    "* **order_products_train**: This table includes training orders. It has a composite primary key (order_id and product_id) and indicates whether a product in an order is a reorder or not (through the reordered variable)\n",
    "* **order_products_prior** : This table includes prior orders. It has a composite primary key (order_id and product_id) and indicates whether a product in an order is a reorder or not (through the reordered variable)\n",
    "* **products**: This table includes all products. It has a single primary key (product_id)\n",
    "* **aisles**: This table includes all aisles. It has a single primary key (aisle_id)\n",
    "* **departments**: This table includes all departments. It has a single primary key (department_id)"
   ]
  },
  {
   "cell_type": "code",
   "execution_count": 2,
   "id": "d421edf7",
   "metadata": {
    "execution": {
     "iopub.execute_input": "2022-11-20T05:55:00.231023Z",
     "iopub.status.busy": "2022-11-20T05:55:00.230569Z",
     "iopub.status.idle": "2022-11-20T05:55:21.256759Z",
     "shell.execute_reply": "2022-11-20T05:55:21.255559Z"
    },
    "papermill": {
     "duration": 21.078692,
     "end_time": "2022-11-20T05:55:21.259741",
     "exception": false,
     "start_time": "2022-11-20T05:55:00.181049",
     "status": "completed"
    },
    "tags": []
   },
   "outputs": [],
   "source": [
    "orders = pd.read_csv('../input/instacart-market-basket-analysis/orders.csv')\n",
    "order_products_train = pd.read_csv('../input/instacart-market-basket-analysis/order_products__train.csv')\n",
    "order_products_prior = pd.read_csv('../input/instacart-market-basket-analysis/order_products__prior.csv')\n",
    "products = pd.read_csv('../input/instacart-market-basket-analysis/products.csv')\n",
    "aisles = pd.read_csv('../input/instacart-market-basket-analysis/aisles.csv')\n",
    "departments = pd.read_csv('../input/instacart-market-basket-analysis/departments.csv')\n",
    "\n",
    "orders = orders.loc[orders.user_id.isin(orders.user_id.drop_duplicates().sample(frac = 0.30, random_state = 101))]"
   ]
  },
  {
   "cell_type": "code",
   "execution_count": 3,
   "id": "b86dab26",
   "metadata": {
    "execution": {
     "iopub.execute_input": "2022-11-20T05:55:21.359900Z",
     "iopub.status.busy": "2022-11-20T05:55:21.358616Z",
     "iopub.status.idle": "2022-11-20T05:55:21.384465Z",
     "shell.execute_reply": "2022-11-20T05:55:21.382881Z"
    },
    "papermill": {
     "duration": 0.079256,
     "end_time": "2022-11-20T05:55:21.387677",
     "exception": false,
     "start_time": "2022-11-20T05:55:21.308421",
     "status": "completed"
    },
    "tags": []
   },
   "outputs": [
    {
     "data": {
      "text/html": [
       "<div>\n",
       "<style scoped>\n",
       "    .dataframe tbody tr th:only-of-type {\n",
       "        vertical-align: middle;\n",
       "    }\n",
       "\n",
       "    .dataframe tbody tr th {\n",
       "        vertical-align: top;\n",
       "    }\n",
       "\n",
       "    .dataframe thead th {\n",
       "        text-align: right;\n",
       "    }\n",
       "</style>\n",
       "<table border=\"1\" class=\"dataframe\">\n",
       "  <thead>\n",
       "    <tr style=\"text-align: right;\">\n",
       "      <th></th>\n",
       "      <th>order_id</th>\n",
       "      <th>user_id</th>\n",
       "      <th>eval_set</th>\n",
       "      <th>order_number</th>\n",
       "      <th>order_dow</th>\n",
       "      <th>order_hour_of_day</th>\n",
       "      <th>days_since_prior_order</th>\n",
       "    </tr>\n",
       "  </thead>\n",
       "  <tbody>\n",
       "    <tr>\n",
       "      <th>50</th>\n",
       "      <td>2086598</td>\n",
       "      <td>6</td>\n",
       "      <td>prior</td>\n",
       "      <td>1</td>\n",
       "      <td>5</td>\n",
       "      <td>18</td>\n",
       "      <td>NaN</td>\n",
       "    </tr>\n",
       "    <tr>\n",
       "      <th>51</th>\n",
       "      <td>298250</td>\n",
       "      <td>6</td>\n",
       "      <td>prior</td>\n",
       "      <td>2</td>\n",
       "      <td>4</td>\n",
       "      <td>16</td>\n",
       "      <td>6.0</td>\n",
       "    </tr>\n",
       "    <tr>\n",
       "      <th>52</th>\n",
       "      <td>998866</td>\n",
       "      <td>6</td>\n",
       "      <td>prior</td>\n",
       "      <td>3</td>\n",
       "      <td>2</td>\n",
       "      <td>18</td>\n",
       "      <td>12.0</td>\n",
       "    </tr>\n",
       "    <tr>\n",
       "      <th>53</th>\n",
       "      <td>1528013</td>\n",
       "      <td>6</td>\n",
       "      <td>test</td>\n",
       "      <td>4</td>\n",
       "      <td>3</td>\n",
       "      <td>16</td>\n",
       "      <td>22.0</td>\n",
       "    </tr>\n",
       "    <tr>\n",
       "      <th>83</th>\n",
       "      <td>1224907</td>\n",
       "      <td>10</td>\n",
       "      <td>prior</td>\n",
       "      <td>1</td>\n",
       "      <td>2</td>\n",
       "      <td>14</td>\n",
       "      <td>NaN</td>\n",
       "    </tr>\n",
       "  </tbody>\n",
       "</table>\n",
       "</div>"
      ],
      "text/plain": [
       "    order_id  user_id eval_set  order_number  order_dow  order_hour_of_day  \\\n",
       "50   2086598        6    prior             1          5                 18   \n",
       "51    298250        6    prior             2          4                 16   \n",
       "52    998866        6    prior             3          2                 18   \n",
       "53   1528013        6     test             4          3                 16   \n",
       "83   1224907       10    prior             1          2                 14   \n",
       "\n",
       "    days_since_prior_order  \n",
       "50                     NaN  \n",
       "51                     6.0  \n",
       "52                    12.0  \n",
       "53                    22.0  \n",
       "83                     NaN  "
      ]
     },
     "execution_count": 3,
     "metadata": {},
     "output_type": "execute_result"
    }
   ],
   "source": [
    "orders.head(5)"
   ]
  },
  {
   "cell_type": "code",
   "execution_count": 4,
   "id": "6691aab4",
   "metadata": {
    "execution": {
     "iopub.execute_input": "2022-11-20T05:55:21.487660Z",
     "iopub.status.busy": "2022-11-20T05:55:21.486824Z",
     "iopub.status.idle": "2022-11-20T05:55:21.565290Z",
     "shell.execute_reply": "2022-11-20T05:55:21.563479Z"
    },
    "papermill": {
     "duration": 0.132349,
     "end_time": "2022-11-20T05:55:21.569032",
     "exception": false,
     "start_time": "2022-11-20T05:55:21.436683",
     "status": "completed"
    },
    "tags": []
   },
   "outputs": [
    {
     "name": "stdout",
     "output_type": "stream",
     "text": [
      "<class 'pandas.core.frame.DataFrame'>\n",
      "Int64Index: 1030204 entries, 50 to 3420933\n",
      "Data columns (total 7 columns):\n",
      " #   Column                  Non-Null Count    Dtype  \n",
      "---  ------                  --------------    -----  \n",
      " 0   order_id                1030204 non-null  int64  \n",
      " 1   user_id                 1030204 non-null  int64  \n",
      " 2   eval_set                1030204 non-null  object \n",
      " 3   order_number            1030204 non-null  int64  \n",
      " 4   order_dow               1030204 non-null  int64  \n",
      " 5   order_hour_of_day       1030204 non-null  int64  \n",
      " 6   days_since_prior_order  968341 non-null   float64\n",
      "dtypes: float64(1), int64(5), object(1)\n",
      "memory usage: 62.9+ MB\n"
     ]
    }
   ],
   "source": [
    "orders.info()"
   ]
  },
  {
   "cell_type": "code",
   "execution_count": 5,
   "id": "02955ffe",
   "metadata": {
    "execution": {
     "iopub.execute_input": "2022-11-20T05:55:21.668231Z",
     "iopub.status.busy": "2022-11-20T05:55:21.667757Z",
     "iopub.status.idle": "2022-11-20T05:55:21.678984Z",
     "shell.execute_reply": "2022-11-20T05:55:21.678012Z"
    },
    "papermill": {
     "duration": 0.063779,
     "end_time": "2022-11-20T05:55:21.681391",
     "exception": false,
     "start_time": "2022-11-20T05:55:21.617612",
     "status": "completed"
    },
    "tags": []
   },
   "outputs": [
    {
     "data": {
      "text/html": [
       "<div>\n",
       "<style scoped>\n",
       "    .dataframe tbody tr th:only-of-type {\n",
       "        vertical-align: middle;\n",
       "    }\n",
       "\n",
       "    .dataframe tbody tr th {\n",
       "        vertical-align: top;\n",
       "    }\n",
       "\n",
       "    .dataframe thead th {\n",
       "        text-align: right;\n",
       "    }\n",
       "</style>\n",
       "<table border=\"1\" class=\"dataframe\">\n",
       "  <thead>\n",
       "    <tr style=\"text-align: right;\">\n",
       "      <th></th>\n",
       "      <th>order_id</th>\n",
       "      <th>product_id</th>\n",
       "      <th>add_to_cart_order</th>\n",
       "      <th>reordered</th>\n",
       "    </tr>\n",
       "  </thead>\n",
       "  <tbody>\n",
       "    <tr>\n",
       "      <th>0</th>\n",
       "      <td>1</td>\n",
       "      <td>49302</td>\n",
       "      <td>1</td>\n",
       "      <td>1</td>\n",
       "    </tr>\n",
       "    <tr>\n",
       "      <th>1</th>\n",
       "      <td>1</td>\n",
       "      <td>11109</td>\n",
       "      <td>2</td>\n",
       "      <td>1</td>\n",
       "    </tr>\n",
       "    <tr>\n",
       "      <th>2</th>\n",
       "      <td>1</td>\n",
       "      <td>10246</td>\n",
       "      <td>3</td>\n",
       "      <td>0</td>\n",
       "    </tr>\n",
       "    <tr>\n",
       "      <th>3</th>\n",
       "      <td>1</td>\n",
       "      <td>49683</td>\n",
       "      <td>4</td>\n",
       "      <td>0</td>\n",
       "    </tr>\n",
       "    <tr>\n",
       "      <th>4</th>\n",
       "      <td>1</td>\n",
       "      <td>43633</td>\n",
       "      <td>5</td>\n",
       "      <td>1</td>\n",
       "    </tr>\n",
       "  </tbody>\n",
       "</table>\n",
       "</div>"
      ],
      "text/plain": [
       "   order_id  product_id  add_to_cart_order  reordered\n",
       "0         1       49302                  1          1\n",
       "1         1       11109                  2          1\n",
       "2         1       10246                  3          0\n",
       "3         1       49683                  4          0\n",
       "4         1       43633                  5          1"
      ]
     },
     "execution_count": 5,
     "metadata": {},
     "output_type": "execute_result"
    }
   ],
   "source": [
    "order_products_train.head(5)"
   ]
  },
  {
   "cell_type": "code",
   "execution_count": 6,
   "id": "ae859c0c",
   "metadata": {
    "execution": {
     "iopub.execute_input": "2022-11-20T05:55:21.781897Z",
     "iopub.status.busy": "2022-11-20T05:55:21.781048Z",
     "iopub.status.idle": "2022-11-20T05:55:21.801865Z",
     "shell.execute_reply": "2022-11-20T05:55:21.800349Z"
    },
    "papermill": {
     "duration": 0.073695,
     "end_time": "2022-11-20T05:55:21.804516",
     "exception": false,
     "start_time": "2022-11-20T05:55:21.730821",
     "status": "completed"
    },
    "scrolled": true,
    "tags": []
   },
   "outputs": [
    {
     "name": "stdout",
     "output_type": "stream",
     "text": [
      "<class 'pandas.core.frame.DataFrame'>\n",
      "RangeIndex: 1384617 entries, 0 to 1384616\n",
      "Data columns (total 4 columns):\n",
      " #   Column             Non-Null Count    Dtype\n",
      "---  ------             --------------    -----\n",
      " 0   order_id           1384617 non-null  int64\n",
      " 1   product_id         1384617 non-null  int64\n",
      " 2   add_to_cart_order  1384617 non-null  int64\n",
      " 3   reordered          1384617 non-null  int64\n",
      "dtypes: int64(4)\n",
      "memory usage: 42.3 MB\n"
     ]
    }
   ],
   "source": [
    "order_products_train.info()"
   ]
  },
  {
   "cell_type": "code",
   "execution_count": 7,
   "id": "d302e8d3",
   "metadata": {
    "execution": {
     "iopub.execute_input": "2022-11-20T05:55:21.904332Z",
     "iopub.status.busy": "2022-11-20T05:55:21.903891Z",
     "iopub.status.idle": "2022-11-20T05:55:21.915800Z",
     "shell.execute_reply": "2022-11-20T05:55:21.914528Z"
    },
    "papermill": {
     "duration": 0.065459,
     "end_time": "2022-11-20T05:55:21.918668",
     "exception": false,
     "start_time": "2022-11-20T05:55:21.853209",
     "status": "completed"
    },
    "tags": []
   },
   "outputs": [
    {
     "data": {
      "text/html": [
       "<div>\n",
       "<style scoped>\n",
       "    .dataframe tbody tr th:only-of-type {\n",
       "        vertical-align: middle;\n",
       "    }\n",
       "\n",
       "    .dataframe tbody tr th {\n",
       "        vertical-align: top;\n",
       "    }\n",
       "\n",
       "    .dataframe thead th {\n",
       "        text-align: right;\n",
       "    }\n",
       "</style>\n",
       "<table border=\"1\" class=\"dataframe\">\n",
       "  <thead>\n",
       "    <tr style=\"text-align: right;\">\n",
       "      <th></th>\n",
       "      <th>order_id</th>\n",
       "      <th>product_id</th>\n",
       "      <th>add_to_cart_order</th>\n",
       "      <th>reordered</th>\n",
       "    </tr>\n",
       "  </thead>\n",
       "  <tbody>\n",
       "    <tr>\n",
       "      <th>0</th>\n",
       "      <td>2</td>\n",
       "      <td>33120</td>\n",
       "      <td>1</td>\n",
       "      <td>1</td>\n",
       "    </tr>\n",
       "    <tr>\n",
       "      <th>1</th>\n",
       "      <td>2</td>\n",
       "      <td>28985</td>\n",
       "      <td>2</td>\n",
       "      <td>1</td>\n",
       "    </tr>\n",
       "    <tr>\n",
       "      <th>2</th>\n",
       "      <td>2</td>\n",
       "      <td>9327</td>\n",
       "      <td>3</td>\n",
       "      <td>0</td>\n",
       "    </tr>\n",
       "    <tr>\n",
       "      <th>3</th>\n",
       "      <td>2</td>\n",
       "      <td>45918</td>\n",
       "      <td>4</td>\n",
       "      <td>1</td>\n",
       "    </tr>\n",
       "    <tr>\n",
       "      <th>4</th>\n",
       "      <td>2</td>\n",
       "      <td>30035</td>\n",
       "      <td>5</td>\n",
       "      <td>0</td>\n",
       "    </tr>\n",
       "  </tbody>\n",
       "</table>\n",
       "</div>"
      ],
      "text/plain": [
       "   order_id  product_id  add_to_cart_order  reordered\n",
       "0         2       33120                  1          1\n",
       "1         2       28985                  2          1\n",
       "2         2        9327                  3          0\n",
       "3         2       45918                  4          1\n",
       "4         2       30035                  5          0"
      ]
     },
     "execution_count": 7,
     "metadata": {},
     "output_type": "execute_result"
    }
   ],
   "source": [
    "order_products_prior.head(5)"
   ]
  },
  {
   "cell_type": "code",
   "execution_count": 8,
   "id": "5fd65678",
   "metadata": {
    "execution": {
     "iopub.execute_input": "2022-11-20T05:55:22.026102Z",
     "iopub.status.busy": "2022-11-20T05:55:22.024999Z",
     "iopub.status.idle": "2022-11-20T05:55:22.036755Z",
     "shell.execute_reply": "2022-11-20T05:55:22.035325Z"
    },
    "papermill": {
     "duration": 0.065178,
     "end_time": "2022-11-20T05:55:22.039603",
     "exception": false,
     "start_time": "2022-11-20T05:55:21.974425",
     "status": "completed"
    },
    "tags": []
   },
   "outputs": [
    {
     "name": "stdout",
     "output_type": "stream",
     "text": [
      "<class 'pandas.core.frame.DataFrame'>\n",
      "RangeIndex: 32434489 entries, 0 to 32434488\n",
      "Data columns (total 4 columns):\n",
      " #   Column             Dtype\n",
      "---  ------             -----\n",
      " 0   order_id           int64\n",
      " 1   product_id         int64\n",
      " 2   add_to_cart_order  int64\n",
      " 3   reordered          int64\n",
      "dtypes: int64(4)\n",
      "memory usage: 989.8 MB\n"
     ]
    }
   ],
   "source": [
    "order_products_prior.info()"
   ]
  },
  {
   "cell_type": "code",
   "execution_count": 9,
   "id": "f8199582",
   "metadata": {
    "execution": {
     "iopub.execute_input": "2022-11-20T05:55:22.146278Z",
     "iopub.status.busy": "2022-11-20T05:55:22.145817Z",
     "iopub.status.idle": "2022-11-20T05:55:22.158828Z",
     "shell.execute_reply": "2022-11-20T05:55:22.157590Z"
    },
    "papermill": {
     "duration": 0.07053,
     "end_time": "2022-11-20T05:55:22.161538",
     "exception": false,
     "start_time": "2022-11-20T05:55:22.091008",
     "status": "completed"
    },
    "tags": []
   },
   "outputs": [
    {
     "data": {
      "text/html": [
       "<div>\n",
       "<style scoped>\n",
       "    .dataframe tbody tr th:only-of-type {\n",
       "        vertical-align: middle;\n",
       "    }\n",
       "\n",
       "    .dataframe tbody tr th {\n",
       "        vertical-align: top;\n",
       "    }\n",
       "\n",
       "    .dataframe thead th {\n",
       "        text-align: right;\n",
       "    }\n",
       "</style>\n",
       "<table border=\"1\" class=\"dataframe\">\n",
       "  <thead>\n",
       "    <tr style=\"text-align: right;\">\n",
       "      <th></th>\n",
       "      <th>product_id</th>\n",
       "      <th>product_name</th>\n",
       "      <th>aisle_id</th>\n",
       "      <th>department_id</th>\n",
       "    </tr>\n",
       "  </thead>\n",
       "  <tbody>\n",
       "    <tr>\n",
       "      <th>0</th>\n",
       "      <td>1</td>\n",
       "      <td>Chocolate Sandwich Cookies</td>\n",
       "      <td>61</td>\n",
       "      <td>19</td>\n",
       "    </tr>\n",
       "    <tr>\n",
       "      <th>1</th>\n",
       "      <td>2</td>\n",
       "      <td>All-Seasons Salt</td>\n",
       "      <td>104</td>\n",
       "      <td>13</td>\n",
       "    </tr>\n",
       "    <tr>\n",
       "      <th>2</th>\n",
       "      <td>3</td>\n",
       "      <td>Robust Golden Unsweetened Oolong Tea</td>\n",
       "      <td>94</td>\n",
       "      <td>7</td>\n",
       "    </tr>\n",
       "    <tr>\n",
       "      <th>3</th>\n",
       "      <td>4</td>\n",
       "      <td>Smart Ones Classic Favorites Mini Rigatoni Wit...</td>\n",
       "      <td>38</td>\n",
       "      <td>1</td>\n",
       "    </tr>\n",
       "    <tr>\n",
       "      <th>4</th>\n",
       "      <td>5</td>\n",
       "      <td>Green Chile Anytime Sauce</td>\n",
       "      <td>5</td>\n",
       "      <td>13</td>\n",
       "    </tr>\n",
       "  </tbody>\n",
       "</table>\n",
       "</div>"
      ],
      "text/plain": [
       "   product_id                                       product_name  aisle_id  \\\n",
       "0           1                         Chocolate Sandwich Cookies        61   \n",
       "1           2                                   All-Seasons Salt       104   \n",
       "2           3               Robust Golden Unsweetened Oolong Tea        94   \n",
       "3           4  Smart Ones Classic Favorites Mini Rigatoni Wit...        38   \n",
       "4           5                          Green Chile Anytime Sauce         5   \n",
       "\n",
       "   department_id  \n",
       "0             19  \n",
       "1             13  \n",
       "2              7  \n",
       "3              1  \n",
       "4             13  "
      ]
     },
     "execution_count": 9,
     "metadata": {},
     "output_type": "execute_result"
    }
   ],
   "source": [
    "products.head(5)"
   ]
  },
  {
   "cell_type": "code",
   "execution_count": 10,
   "id": "1b438c4d",
   "metadata": {
    "execution": {
     "iopub.execute_input": "2022-11-20T05:55:22.263522Z",
     "iopub.status.busy": "2022-11-20T05:55:22.263056Z",
     "iopub.status.idle": "2022-11-20T05:55:22.281932Z",
     "shell.execute_reply": "2022-11-20T05:55:22.279796Z"
    },
    "papermill": {
     "duration": 0.073397,
     "end_time": "2022-11-20T05:55:22.284896",
     "exception": false,
     "start_time": "2022-11-20T05:55:22.211499",
     "status": "completed"
    },
    "tags": []
   },
   "outputs": [
    {
     "name": "stdout",
     "output_type": "stream",
     "text": [
      "<class 'pandas.core.frame.DataFrame'>\n",
      "RangeIndex: 49688 entries, 0 to 49687\n",
      "Data columns (total 4 columns):\n",
      " #   Column         Non-Null Count  Dtype \n",
      "---  ------         --------------  ----- \n",
      " 0   product_id     49688 non-null  int64 \n",
      " 1   product_name   49688 non-null  object\n",
      " 2   aisle_id       49688 non-null  int64 \n",
      " 3   department_id  49688 non-null  int64 \n",
      "dtypes: int64(3), object(1)\n",
      "memory usage: 1.5+ MB\n"
     ]
    }
   ],
   "source": [
    "products.info()"
   ]
  },
  {
   "cell_type": "code",
   "execution_count": 11,
   "id": "fb71b010",
   "metadata": {
    "execution": {
     "iopub.execute_input": "2022-11-20T05:55:22.390526Z",
     "iopub.status.busy": "2022-11-20T05:55:22.389974Z",
     "iopub.status.idle": "2022-11-20T05:55:22.401164Z",
     "shell.execute_reply": "2022-11-20T05:55:22.400145Z"
    },
    "papermill": {
     "duration": 0.067191,
     "end_time": "2022-11-20T05:55:22.403682",
     "exception": false,
     "start_time": "2022-11-20T05:55:22.336491",
     "status": "completed"
    },
    "tags": []
   },
   "outputs": [
    {
     "data": {
      "text/html": [
       "<div>\n",
       "<style scoped>\n",
       "    .dataframe tbody tr th:only-of-type {\n",
       "        vertical-align: middle;\n",
       "    }\n",
       "\n",
       "    .dataframe tbody tr th {\n",
       "        vertical-align: top;\n",
       "    }\n",
       "\n",
       "    .dataframe thead th {\n",
       "        text-align: right;\n",
       "    }\n",
       "</style>\n",
       "<table border=\"1\" class=\"dataframe\">\n",
       "  <thead>\n",
       "    <tr style=\"text-align: right;\">\n",
       "      <th></th>\n",
       "      <th>aisle_id</th>\n",
       "      <th>aisle</th>\n",
       "    </tr>\n",
       "  </thead>\n",
       "  <tbody>\n",
       "    <tr>\n",
       "      <th>0</th>\n",
       "      <td>1</td>\n",
       "      <td>prepared soups salads</td>\n",
       "    </tr>\n",
       "    <tr>\n",
       "      <th>1</th>\n",
       "      <td>2</td>\n",
       "      <td>specialty cheeses</td>\n",
       "    </tr>\n",
       "    <tr>\n",
       "      <th>2</th>\n",
       "      <td>3</td>\n",
       "      <td>energy granola bars</td>\n",
       "    </tr>\n",
       "    <tr>\n",
       "      <th>3</th>\n",
       "      <td>4</td>\n",
       "      <td>instant foods</td>\n",
       "    </tr>\n",
       "    <tr>\n",
       "      <th>4</th>\n",
       "      <td>5</td>\n",
       "      <td>marinades meat preparation</td>\n",
       "    </tr>\n",
       "  </tbody>\n",
       "</table>\n",
       "</div>"
      ],
      "text/plain": [
       "   aisle_id                       aisle\n",
       "0         1       prepared soups salads\n",
       "1         2           specialty cheeses\n",
       "2         3         energy granola bars\n",
       "3         4               instant foods\n",
       "4         5  marinades meat preparation"
      ]
     },
     "execution_count": 11,
     "metadata": {},
     "output_type": "execute_result"
    }
   ],
   "source": [
    "aisles.head(5)"
   ]
  },
  {
   "cell_type": "code",
   "execution_count": 12,
   "id": "9e9d0754",
   "metadata": {
    "execution": {
     "iopub.execute_input": "2022-11-20T05:55:22.510176Z",
     "iopub.status.busy": "2022-11-20T05:55:22.509749Z",
     "iopub.status.idle": "2022-11-20T05:55:22.522749Z",
     "shell.execute_reply": "2022-11-20T05:55:22.521189Z"
    },
    "papermill": {
     "duration": 0.069223,
     "end_time": "2022-11-20T05:55:22.525172",
     "exception": false,
     "start_time": "2022-11-20T05:55:22.455949",
     "status": "completed"
    },
    "tags": []
   },
   "outputs": [
    {
     "name": "stdout",
     "output_type": "stream",
     "text": [
      "<class 'pandas.core.frame.DataFrame'>\n",
      "RangeIndex: 134 entries, 0 to 133\n",
      "Data columns (total 2 columns):\n",
      " #   Column    Non-Null Count  Dtype \n",
      "---  ------    --------------  ----- \n",
      " 0   aisle_id  134 non-null    int64 \n",
      " 1   aisle     134 non-null    object\n",
      "dtypes: int64(1), object(1)\n",
      "memory usage: 2.2+ KB\n"
     ]
    }
   ],
   "source": [
    "aisles.info()"
   ]
  },
  {
   "cell_type": "code",
   "execution_count": 13,
   "id": "11861d54",
   "metadata": {
    "execution": {
     "iopub.execute_input": "2022-11-20T05:55:22.627246Z",
     "iopub.status.busy": "2022-11-20T05:55:22.626750Z",
     "iopub.status.idle": "2022-11-20T05:55:22.638062Z",
     "shell.execute_reply": "2022-11-20T05:55:22.637007Z"
    },
    "papermill": {
     "duration": 0.065338,
     "end_time": "2022-11-20T05:55:22.640778",
     "exception": false,
     "start_time": "2022-11-20T05:55:22.575440",
     "status": "completed"
    },
    "tags": []
   },
   "outputs": [
    {
     "data": {
      "text/html": [
       "<div>\n",
       "<style scoped>\n",
       "    .dataframe tbody tr th:only-of-type {\n",
       "        vertical-align: middle;\n",
       "    }\n",
       "\n",
       "    .dataframe tbody tr th {\n",
       "        vertical-align: top;\n",
       "    }\n",
       "\n",
       "    .dataframe thead th {\n",
       "        text-align: right;\n",
       "    }\n",
       "</style>\n",
       "<table border=\"1\" class=\"dataframe\">\n",
       "  <thead>\n",
       "    <tr style=\"text-align: right;\">\n",
       "      <th></th>\n",
       "      <th>department_id</th>\n",
       "      <th>department</th>\n",
       "    </tr>\n",
       "  </thead>\n",
       "  <tbody>\n",
       "    <tr>\n",
       "      <th>0</th>\n",
       "      <td>1</td>\n",
       "      <td>frozen</td>\n",
       "    </tr>\n",
       "    <tr>\n",
       "      <th>1</th>\n",
       "      <td>2</td>\n",
       "      <td>other</td>\n",
       "    </tr>\n",
       "    <tr>\n",
       "      <th>2</th>\n",
       "      <td>3</td>\n",
       "      <td>bakery</td>\n",
       "    </tr>\n",
       "    <tr>\n",
       "      <th>3</th>\n",
       "      <td>4</td>\n",
       "      <td>produce</td>\n",
       "    </tr>\n",
       "    <tr>\n",
       "      <th>4</th>\n",
       "      <td>5</td>\n",
       "      <td>alcohol</td>\n",
       "    </tr>\n",
       "  </tbody>\n",
       "</table>\n",
       "</div>"
      ],
      "text/plain": [
       "   department_id department\n",
       "0              1     frozen\n",
       "1              2      other\n",
       "2              3     bakery\n",
       "3              4    produce\n",
       "4              5    alcohol"
      ]
     },
     "execution_count": 13,
     "metadata": {},
     "output_type": "execute_result"
    }
   ],
   "source": [
    "departments.head(5)"
   ]
  },
  {
   "cell_type": "code",
   "execution_count": 14,
   "id": "93ec88bf",
   "metadata": {
    "execution": {
     "iopub.execute_input": "2022-11-20T05:55:22.749642Z",
     "iopub.status.busy": "2022-11-20T05:55:22.749232Z",
     "iopub.status.idle": "2022-11-20T05:55:22.764736Z",
     "shell.execute_reply": "2022-11-20T05:55:22.763224Z"
    },
    "papermill": {
     "duration": 0.074103,
     "end_time": "2022-11-20T05:55:22.767693",
     "exception": false,
     "start_time": "2022-11-20T05:55:22.693590",
     "status": "completed"
    },
    "tags": []
   },
   "outputs": [
    {
     "name": "stdout",
     "output_type": "stream",
     "text": [
      "<class 'pandas.core.frame.DataFrame'>\n",
      "RangeIndex: 21 entries, 0 to 20\n",
      "Data columns (total 2 columns):\n",
      " #   Column         Non-Null Count  Dtype \n",
      "---  ------         --------------  ----- \n",
      " 0   department_id  21 non-null     int64 \n",
      " 1   department     21 non-null     object\n",
      "dtypes: int64(1), object(1)\n",
      "memory usage: 464.0+ bytes\n"
     ]
    }
   ],
   "source": [
    "departments.info()"
   ]
  },
  {
   "cell_type": "markdown",
   "id": "d07ca1b8",
   "metadata": {
    "papermill": {
     "duration": 0.052722,
     "end_time": "2022-11-20T05:55:22.875410",
     "exception": false,
     "start_time": "2022-11-20T05:55:22.822688",
     "status": "completed"
    },
    "tags": []
   },
   "source": [
    "# Reshaping the Data"
   ]
  },
  {
   "cell_type": "markdown",
   "id": "d9da2573",
   "metadata": {
    "papermill": {
     "duration": 0.052609,
     "end_time": "2022-11-20T05:55:22.980390",
     "exception": false,
     "start_time": "2022-11-20T05:55:22.927781",
     "status": "completed"
    },
    "tags": []
   },
   "source": [
    "We convert character variables into categories so we can use them in the creation of the model"
   ]
  },
  {
   "cell_type": "code",
   "execution_count": 15,
   "id": "3b14e26c",
   "metadata": {
    "execution": {
     "iopub.execute_input": "2022-11-20T05:55:23.162190Z",
     "iopub.status.busy": "2022-11-20T05:55:23.161736Z",
     "iopub.status.idle": "2022-11-20T05:55:23.342746Z",
     "shell.execute_reply": "2022-11-20T05:55:23.341406Z"
    },
    "papermill": {
     "duration": 0.312606,
     "end_time": "2022-11-20T05:55:23.345749",
     "exception": false,
     "start_time": "2022-11-20T05:55:23.033143",
     "status": "completed"
    },
    "tags": []
   },
   "outputs": [],
   "source": [
    "aisles['aisle'] = aisles['aisle'].astype('category')\n",
    "departments['department'] = departments['department'].astype('category')\n",
    "orders['eval_set'] = orders['eval_set'].astype('category')\n",
    "products['product_name'] = products['product_name'].astype('category')"
   ]
  },
  {
   "cell_type": "markdown",
   "id": "a0e9b074",
   "metadata": {
    "papermill": {
     "duration": 0.052315,
     "end_time": "2022-11-20T05:55:23.451760",
     "exception": false,
     "start_time": "2022-11-20T05:55:23.399445",
     "status": "completed"
    },
    "tags": []
   },
   "source": [
    "# Merging Datasets "
   ]
  },
  {
   "cell_type": "markdown",
   "id": "4e7e11ea",
   "metadata": {
    "papermill": {
     "duration": 0.050404,
     "end_time": "2022-11-20T05:55:23.553941",
     "exception": false,
     "start_time": "2022-11-20T05:55:23.503537",
     "status": "completed"
    },
    "tags": []
   },
   "source": [
    "A new DataFrame named <b>order_prior</b> which combines the DataFrames <b>orders</b> and <b>order_products_prior</b> is created which contains only the prior orders"
   ]
  },
  {
   "cell_type": "code",
   "execution_count": 16,
   "id": "62d6e954",
   "metadata": {
    "execution": {
     "iopub.execute_input": "2022-11-20T05:55:23.664990Z",
     "iopub.status.busy": "2022-11-20T05:55:23.663915Z",
     "iopub.status.idle": "2022-11-20T05:55:29.276693Z",
     "shell.execute_reply": "2022-11-20T05:55:29.275396Z"
    },
    "papermill": {
     "duration": 5.672569,
     "end_time": "2022-11-20T05:55:29.279700",
     "exception": false,
     "start_time": "2022-11-20T05:55:23.607131",
     "status": "completed"
    },
    "tags": []
   },
   "outputs": [
    {
     "data": {
      "text/html": [
       "<div>\n",
       "<style scoped>\n",
       "    .dataframe tbody tr th:only-of-type {\n",
       "        vertical-align: middle;\n",
       "    }\n",
       "\n",
       "    .dataframe tbody tr th {\n",
       "        vertical-align: top;\n",
       "    }\n",
       "\n",
       "    .dataframe thead th {\n",
       "        text-align: right;\n",
       "    }\n",
       "</style>\n",
       "<table border=\"1\" class=\"dataframe\">\n",
       "  <thead>\n",
       "    <tr style=\"text-align: right;\">\n",
       "      <th></th>\n",
       "      <th>order_id</th>\n",
       "      <th>user_id</th>\n",
       "      <th>eval_set</th>\n",
       "      <th>order_number</th>\n",
       "      <th>order_dow</th>\n",
       "      <th>order_hour_of_day</th>\n",
       "      <th>days_since_prior_order</th>\n",
       "      <th>product_id</th>\n",
       "      <th>add_to_cart_order</th>\n",
       "      <th>reordered</th>\n",
       "    </tr>\n",
       "  </thead>\n",
       "  <tbody>\n",
       "    <tr>\n",
       "      <th>0</th>\n",
       "      <td>2086598</td>\n",
       "      <td>6</td>\n",
       "      <td>prior</td>\n",
       "      <td>1</td>\n",
       "      <td>5</td>\n",
       "      <td>18</td>\n",
       "      <td>NaN</td>\n",
       "      <td>27521</td>\n",
       "      <td>1</td>\n",
       "      <td>0</td>\n",
       "    </tr>\n",
       "    <tr>\n",
       "      <th>1</th>\n",
       "      <td>2086598</td>\n",
       "      <td>6</td>\n",
       "      <td>prior</td>\n",
       "      <td>1</td>\n",
       "      <td>5</td>\n",
       "      <td>18</td>\n",
       "      <td>NaN</td>\n",
       "      <td>38293</td>\n",
       "      <td>2</td>\n",
       "      <td>0</td>\n",
       "    </tr>\n",
       "    <tr>\n",
       "      <th>2</th>\n",
       "      <td>2086598</td>\n",
       "      <td>6</td>\n",
       "      <td>prior</td>\n",
       "      <td>1</td>\n",
       "      <td>5</td>\n",
       "      <td>18</td>\n",
       "      <td>NaN</td>\n",
       "      <td>21903</td>\n",
       "      <td>3</td>\n",
       "      <td>0</td>\n",
       "    </tr>\n",
       "    <tr>\n",
       "      <th>3</th>\n",
       "      <td>2086598</td>\n",
       "      <td>6</td>\n",
       "      <td>prior</td>\n",
       "      <td>1</td>\n",
       "      <td>5</td>\n",
       "      <td>18</td>\n",
       "      <td>NaN</td>\n",
       "      <td>48679</td>\n",
       "      <td>4</td>\n",
       "      <td>0</td>\n",
       "    </tr>\n",
       "    <tr>\n",
       "      <th>4</th>\n",
       "      <td>298250</td>\n",
       "      <td>6</td>\n",
       "      <td>prior</td>\n",
       "      <td>2</td>\n",
       "      <td>4</td>\n",
       "      <td>16</td>\n",
       "      <td>6.0</td>\n",
       "      <td>38293</td>\n",
       "      <td>1</td>\n",
       "      <td>1</td>\n",
       "    </tr>\n",
       "  </tbody>\n",
       "</table>\n",
       "</div>"
      ],
      "text/plain": [
       "   order_id  user_id eval_set  order_number  order_dow  order_hour_of_day  \\\n",
       "0   2086598        6    prior             1          5                 18   \n",
       "1   2086598        6    prior             1          5                 18   \n",
       "2   2086598        6    prior             1          5                 18   \n",
       "3   2086598        6    prior             1          5                 18   \n",
       "4    298250        6    prior             2          4                 16   \n",
       "\n",
       "   days_since_prior_order  product_id  add_to_cart_order  reordered  \n",
       "0                     NaN       27521                  1          0  \n",
       "1                     NaN       38293                  2          0  \n",
       "2                     NaN       21903                  3          0  \n",
       "3                     NaN       48679                  4          0  \n",
       "4                     6.0       38293                  1          1  "
      ]
     },
     "execution_count": 16,
     "metadata": {},
     "output_type": "execute_result"
    }
   ],
   "source": [
    "# order_products_prior includes prior orders only\n",
    "order_prior = orders.merge(order_products_prior, on = 'order_id', how = 'inner')\n",
    "order_prior.head(5)"
   ]
  },
  {
   "cell_type": "markdown",
   "id": "2ca8d177",
   "metadata": {
    "papermill": {
     "duration": 0.050545,
     "end_time": "2022-11-20T05:55:29.383504",
     "exception": false,
     "start_time": "2022-11-20T05:55:29.332959",
     "status": "completed"
    },
    "tags": []
   },
   "source": [
    "# Creating Predictor Variables\n",
    "#### Predictor variables (features) describe the characteristics of a product and the behaviour of a user regarding one or multiple products\n",
    "* <b>User predictors</b> describing the behavior of a user e.g. total number of orders of a user\n",
    "* <b>Product predictors</b> describing characteristics of a product e.g. total number of times a product has been purchased\n",
    "* <b>User & product predictors</b> describing the behavior of a user towards a specific product e.g. total times a user ordered a specific product"
   ]
  },
  {
   "cell_type": "markdown",
   "id": "8a8d8cdb",
   "metadata": {
    "papermill": {
     "duration": 0.050928,
     "end_time": "2022-11-20T05:55:29.484587",
     "exception": false,
     "start_time": "2022-11-20T05:55:29.433659",
     "status": "completed"
    },
    "tags": []
   },
   "source": [
    "## Creating user predictors\n",
    "- Number of orders per customer\n",
    "- How frequent a customer has reordered products"
   ]
  },
  {
   "cell_type": "markdown",
   "id": "fb9aabc1",
   "metadata": {
    "papermill": {
     "duration": 0.049453,
     "end_time": "2022-11-20T05:55:29.584362",
     "exception": false,
     "start_time": "2022-11-20T05:55:29.534909",
     "status": "completed"
    },
    "tags": []
   },
   "source": [
    "\n",
    "\n",
    "**user_order** DataFrame to store the total number of placed orders per customer"
   ]
  },
  {
   "cell_type": "code",
   "execution_count": 17,
   "id": "b7aab418",
   "metadata": {
    "execution": {
     "iopub.execute_input": "2022-11-20T05:55:29.686837Z",
     "iopub.status.busy": "2022-11-20T05:55:29.686034Z",
     "iopub.status.idle": "2022-11-20T05:55:29.956816Z",
     "shell.execute_reply": "2022-11-20T05:55:29.955214Z"
    },
    "papermill": {
     "duration": 0.325469,
     "end_time": "2022-11-20T05:55:29.959606",
     "exception": false,
     "start_time": "2022-11-20T05:55:29.634137",
     "status": "completed"
    },
    "tags": []
   },
   "outputs": [
    {
     "data": {
      "text/html": [
       "<div>\n",
       "<style scoped>\n",
       "    .dataframe tbody tr th:only-of-type {\n",
       "        vertical-align: middle;\n",
       "    }\n",
       "\n",
       "    .dataframe tbody tr th {\n",
       "        vertical-align: top;\n",
       "    }\n",
       "\n",
       "    .dataframe thead th {\n",
       "        text-align: right;\n",
       "    }\n",
       "</style>\n",
       "<table border=\"1\" class=\"dataframe\">\n",
       "  <thead>\n",
       "    <tr style=\"text-align: right;\">\n",
       "      <th></th>\n",
       "      <th>user_total_orders</th>\n",
       "    </tr>\n",
       "    <tr>\n",
       "      <th>user_id</th>\n",
       "      <th></th>\n",
       "    </tr>\n",
       "  </thead>\n",
       "  <tbody>\n",
       "    <tr>\n",
       "      <th>6</th>\n",
       "      <td>3</td>\n",
       "    </tr>\n",
       "    <tr>\n",
       "      <th>10</th>\n",
       "      <td>5</td>\n",
       "    </tr>\n",
       "    <tr>\n",
       "      <th>17</th>\n",
       "      <td>40</td>\n",
       "    </tr>\n",
       "    <tr>\n",
       "      <th>19</th>\n",
       "      <td>9</td>\n",
       "    </tr>\n",
       "    <tr>\n",
       "      <th>25</th>\n",
       "      <td>3</td>\n",
       "    </tr>\n",
       "  </tbody>\n",
       "</table>\n",
       "</div>"
      ],
      "text/plain": [
       "         user_total_orders\n",
       "user_id                   \n",
       "6                        3\n",
       "10                       5\n",
       "17                      40\n",
       "19                       9\n",
       "25                       3"
      ]
     },
     "execution_count": 17,
     "metadata": {},
     "output_type": "execute_result"
    }
   ],
   "source": [
    "# creating a new dataframe for user behaviour according to total orders placed by each user\n",
    "# create distinct groups for each user, identify the highest order number in each group, save the new column to a DataFrame\n",
    "user_order = order_prior.groupby('user_id')['order_number'].max().to_frame('user_total_orders')\n",
    "user_order.head(5)"
   ]
  },
  {
   "cell_type": "code",
   "execution_count": 18,
   "id": "a3f4ebd9",
   "metadata": {
    "execution": {
     "iopub.execute_input": "2022-11-20T05:55:30.068697Z",
     "iopub.status.busy": "2022-11-20T05:55:30.068257Z",
     "iopub.status.idle": "2022-11-20T05:55:30.080739Z",
     "shell.execute_reply": "2022-11-20T05:55:30.079852Z"
    },
    "papermill": {
     "duration": 0.068842,
     "end_time": "2022-11-20T05:55:30.082909",
     "exception": false,
     "start_time": "2022-11-20T05:55:30.014067",
     "status": "completed"
    },
    "tags": []
   },
   "outputs": [
    {
     "data": {
      "text/html": [
       "<div>\n",
       "<style scoped>\n",
       "    .dataframe tbody tr th:only-of-type {\n",
       "        vertical-align: middle;\n",
       "    }\n",
       "\n",
       "    .dataframe tbody tr th {\n",
       "        vertical-align: top;\n",
       "    }\n",
       "\n",
       "    .dataframe thead th {\n",
       "        text-align: right;\n",
       "    }\n",
       "</style>\n",
       "<table border=\"1\" class=\"dataframe\">\n",
       "  <thead>\n",
       "    <tr style=\"text-align: right;\">\n",
       "      <th></th>\n",
       "      <th>user_id</th>\n",
       "      <th>user_total_orders</th>\n",
       "    </tr>\n",
       "  </thead>\n",
       "  <tbody>\n",
       "    <tr>\n",
       "      <th>0</th>\n",
       "      <td>6</td>\n",
       "      <td>3</td>\n",
       "    </tr>\n",
       "    <tr>\n",
       "      <th>1</th>\n",
       "      <td>10</td>\n",
       "      <td>5</td>\n",
       "    </tr>\n",
       "    <tr>\n",
       "      <th>2</th>\n",
       "      <td>17</td>\n",
       "      <td>40</td>\n",
       "    </tr>\n",
       "    <tr>\n",
       "      <th>3</th>\n",
       "      <td>19</td>\n",
       "      <td>9</td>\n",
       "    </tr>\n",
       "    <tr>\n",
       "      <th>4</th>\n",
       "      <td>25</td>\n",
       "      <td>3</td>\n",
       "    </tr>\n",
       "  </tbody>\n",
       "</table>\n",
       "</div>"
      ],
      "text/plain": [
       "   user_id  user_total_orders\n",
       "0        6                  3\n",
       "1       10                  5\n",
       "2       17                 40\n",
       "3       19                  9\n",
       "4       25                  3"
      ]
     },
     "execution_count": 18,
     "metadata": {},
     "output_type": "execute_result"
    }
   ],
   "source": [
    "# adding a index column \n",
    "user_order = user_order.reset_index()\n",
    "user_order.head(5)"
   ]
  },
  {
   "cell_type": "markdown",
   "id": "4b7c3b3a",
   "metadata": {
    "papermill": {
     "duration": 0.052512,
     "end_time": "2022-11-20T05:55:30.189578",
     "exception": false,
     "start_time": "2022-11-20T05:55:30.137066",
     "status": "completed"
    },
    "tags": []
   },
   "source": [
    "Frequency of a customer reordering products\n",
    "* probability of reorder = total times of reorders (reordered = 1) / total number of purchased products from all baskets (reordered = 0 & reordered = 1)"
   ]
  },
  {
   "cell_type": "code",
   "execution_count": 19,
   "id": "8f6d4b70",
   "metadata": {
    "execution": {
     "iopub.execute_input": "2022-11-20T05:55:30.298780Z",
     "iopub.status.busy": "2022-11-20T05:55:30.297618Z",
     "iopub.status.idle": "2022-11-20T05:55:30.560539Z",
     "shell.execute_reply": "2022-11-20T05:55:30.559317Z"
    },
    "papermill": {
     "duration": 0.32067,
     "end_time": "2022-11-20T05:55:30.563570",
     "exception": false,
     "start_time": "2022-11-20T05:55:30.242900",
     "status": "completed"
    },
    "tags": []
   },
   "outputs": [
    {
     "data": {
      "text/html": [
       "<div>\n",
       "<style scoped>\n",
       "    .dataframe tbody tr th:only-of-type {\n",
       "        vertical-align: middle;\n",
       "    }\n",
       "\n",
       "    .dataframe tbody tr th {\n",
       "        vertical-align: top;\n",
       "    }\n",
       "\n",
       "    .dataframe thead th {\n",
       "        text-align: right;\n",
       "    }\n",
       "</style>\n",
       "<table border=\"1\" class=\"dataframe\">\n",
       "  <thead>\n",
       "    <tr style=\"text-align: right;\">\n",
       "      <th></th>\n",
       "      <th>user_id</th>\n",
       "      <th>user_reordered_ratio</th>\n",
       "    </tr>\n",
       "  </thead>\n",
       "  <tbody>\n",
       "    <tr>\n",
       "      <th>0</th>\n",
       "      <td>6</td>\n",
       "      <td>0.142857</td>\n",
       "    </tr>\n",
       "    <tr>\n",
       "      <th>1</th>\n",
       "      <td>10</td>\n",
       "      <td>0.342657</td>\n",
       "    </tr>\n",
       "    <tr>\n",
       "      <th>2</th>\n",
       "      <td>17</td>\n",
       "      <td>0.717687</td>\n",
       "    </tr>\n",
       "    <tr>\n",
       "      <th>3</th>\n",
       "      <td>19</td>\n",
       "      <td>0.348039</td>\n",
       "    </tr>\n",
       "    <tr>\n",
       "      <th>4</th>\n",
       "      <td>25</td>\n",
       "      <td>0.095238</td>\n",
       "    </tr>\n",
       "  </tbody>\n",
       "</table>\n",
       "</div>"
      ],
      "text/plain": [
       "   user_id  user_reordered_ratio\n",
       "0        6              0.142857\n",
       "1       10              0.342657\n",
       "2       17              0.717687\n",
       "3       19              0.348039\n",
       "4       25              0.095238"
      ]
     },
     "execution_count": 19,
     "metadata": {},
     "output_type": "execute_result"
    }
   ],
   "source": [
    "# creating a new dataframe with ratio of a user reordering probability\n",
    "user_reorder = order_prior.groupby('user_id')['reordered'].mean().to_frame('user_reordered_ratio')     # probability of reordered calculated based on user_id\n",
    "user_reorder = user_reorder.reset_index()\n",
    "user_reorder.head(5)"
   ]
  },
  {
   "cell_type": "code",
   "execution_count": 20,
   "id": "b40653f3",
   "metadata": {
    "execution": {
     "iopub.execute_input": "2022-11-20T05:55:30.677680Z",
     "iopub.status.busy": "2022-11-20T05:55:30.676786Z",
     "iopub.status.idle": "2022-11-20T05:55:30.706242Z",
     "shell.execute_reply": "2022-11-20T05:55:30.705199Z"
    },
    "papermill": {
     "duration": 0.08785,
     "end_time": "2022-11-20T05:55:30.708796",
     "exception": false,
     "start_time": "2022-11-20T05:55:30.620946",
     "status": "completed"
    },
    "tags": []
   },
   "outputs": [],
   "source": [
    "# left join to keep all the users from the user_order DataFrame\n",
    "user_order = user_order.merge(user_reorder, on = 'user_id', how = 'left')  "
   ]
  },
  {
   "cell_type": "code",
   "execution_count": 21,
   "id": "1c13cb7b",
   "metadata": {
    "execution": {
     "iopub.execute_input": "2022-11-20T05:55:30.813259Z",
     "iopub.status.busy": "2022-11-20T05:55:30.811918Z",
     "iopub.status.idle": "2022-11-20T05:55:30.932609Z",
     "shell.execute_reply": "2022-11-20T05:55:30.931429Z"
    },
    "papermill": {
     "duration": 0.175679,
     "end_time": "2022-11-20T05:55:30.935396",
     "exception": false,
     "start_time": "2022-11-20T05:55:30.759717",
     "status": "completed"
    },
    "tags": []
   },
   "outputs": [
    {
     "data": {
      "text/plain": [
       "196"
      ]
     },
     "execution_count": 21,
     "metadata": {},
     "output_type": "execute_result"
    }
   ],
   "source": [
    "del user_reorder\n",
    "gc.collect()"
   ]
  },
  {
   "cell_type": "code",
   "execution_count": 22,
   "id": "d4517604",
   "metadata": {
    "execution": {
     "iopub.execute_input": "2022-11-20T05:55:31.039594Z",
     "iopub.status.busy": "2022-11-20T05:55:31.038931Z",
     "iopub.status.idle": "2022-11-20T05:55:31.050684Z",
     "shell.execute_reply": "2022-11-20T05:55:31.049499Z"
    },
    "papermill": {
     "duration": 0.066904,
     "end_time": "2022-11-20T05:55:31.053256",
     "exception": false,
     "start_time": "2022-11-20T05:55:30.986352",
     "status": "completed"
    },
    "tags": []
   },
   "outputs": [
    {
     "data": {
      "text/html": [
       "<div>\n",
       "<style scoped>\n",
       "    .dataframe tbody tr th:only-of-type {\n",
       "        vertical-align: middle;\n",
       "    }\n",
       "\n",
       "    .dataframe tbody tr th {\n",
       "        vertical-align: top;\n",
       "    }\n",
       "\n",
       "    .dataframe thead th {\n",
       "        text-align: right;\n",
       "    }\n",
       "</style>\n",
       "<table border=\"1\" class=\"dataframe\">\n",
       "  <thead>\n",
       "    <tr style=\"text-align: right;\">\n",
       "      <th></th>\n",
       "      <th>user_id</th>\n",
       "      <th>user_total_orders</th>\n",
       "      <th>user_reordered_ratio</th>\n",
       "    </tr>\n",
       "  </thead>\n",
       "  <tbody>\n",
       "    <tr>\n",
       "      <th>0</th>\n",
       "      <td>6</td>\n",
       "      <td>3</td>\n",
       "      <td>0.142857</td>\n",
       "    </tr>\n",
       "    <tr>\n",
       "      <th>1</th>\n",
       "      <td>10</td>\n",
       "      <td>5</td>\n",
       "      <td>0.342657</td>\n",
       "    </tr>\n",
       "    <tr>\n",
       "      <th>2</th>\n",
       "      <td>17</td>\n",
       "      <td>40</td>\n",
       "      <td>0.717687</td>\n",
       "    </tr>\n",
       "    <tr>\n",
       "      <th>3</th>\n",
       "      <td>19</td>\n",
       "      <td>9</td>\n",
       "      <td>0.348039</td>\n",
       "    </tr>\n",
       "    <tr>\n",
       "      <th>4</th>\n",
       "      <td>25</td>\n",
       "      <td>3</td>\n",
       "      <td>0.095238</td>\n",
       "    </tr>\n",
       "  </tbody>\n",
       "</table>\n",
       "</div>"
      ],
      "text/plain": [
       "   user_id  user_total_orders  user_reordered_ratio\n",
       "0        6                  3              0.142857\n",
       "1       10                  5              0.342657\n",
       "2       17                 40              0.717687\n",
       "3       19                  9              0.348039\n",
       "4       25                  3              0.095238"
      ]
     },
     "execution_count": 22,
     "metadata": {},
     "output_type": "execute_result"
    }
   ],
   "source": [
    "user_order.head(5)"
   ]
  },
  {
   "cell_type": "markdown",
   "id": "ba7c2ac0",
   "metadata": {
    "papermill": {
     "duration": 0.051105,
     "end_time": "2022-11-20T05:55:31.156000",
     "exception": false,
     "start_time": "2022-11-20T05:55:31.104895",
     "status": "completed"
    },
    "tags": []
   },
   "source": [
    "## Creating product predictors\n",
    "- Number of purchases for each product\n",
    "- What is the probability for a product to be reordered"
   ]
  },
  {
   "cell_type": "markdown",
   "id": "099c1845",
   "metadata": {
    "papermill": {
     "duration": 0.054425,
     "end_time": "2022-11-20T05:55:31.264166",
     "exception": false,
     "start_time": "2022-11-20T05:55:31.209741",
     "status": "completed"
    },
    "tags": []
   },
   "source": [
    "**product_purchase** DataFrame to stores the total number of purchases for each product (from all customers)"
   ]
  },
  {
   "cell_type": "code",
   "execution_count": 23,
   "id": "7ff09f8a",
   "metadata": {
    "execution": {
     "iopub.execute_input": "2022-11-20T05:55:31.395402Z",
     "iopub.status.busy": "2022-11-20T05:55:31.394492Z",
     "iopub.status.idle": "2022-11-20T05:55:31.694191Z",
     "shell.execute_reply": "2022-11-20T05:55:31.692966Z"
    },
    "papermill": {
     "duration": 0.373609,
     "end_time": "2022-11-20T05:55:31.696780",
     "exception": false,
     "start_time": "2022-11-20T05:55:31.323171",
     "status": "completed"
    },
    "tags": []
   },
   "outputs": [
    {
     "data": {
      "text/html": [
       "<div>\n",
       "<style scoped>\n",
       "    .dataframe tbody tr th:only-of-type {\n",
       "        vertical-align: middle;\n",
       "    }\n",
       "\n",
       "    .dataframe tbody tr th {\n",
       "        vertical-align: top;\n",
       "    }\n",
       "\n",
       "    .dataframe thead th {\n",
       "        text-align: right;\n",
       "    }\n",
       "</style>\n",
       "<table border=\"1\" class=\"dataframe\">\n",
       "  <thead>\n",
       "    <tr style=\"text-align: right;\">\n",
       "      <th></th>\n",
       "      <th>product_total_purchase</th>\n",
       "    </tr>\n",
       "    <tr>\n",
       "      <th>product_id</th>\n",
       "      <th></th>\n",
       "    </tr>\n",
       "  </thead>\n",
       "  <tbody>\n",
       "    <tr>\n",
       "      <th>1</th>\n",
       "      <td>588</td>\n",
       "    </tr>\n",
       "    <tr>\n",
       "      <th>2</th>\n",
       "      <td>24</td>\n",
       "    </tr>\n",
       "    <tr>\n",
       "      <th>3</th>\n",
       "      <td>96</td>\n",
       "    </tr>\n",
       "    <tr>\n",
       "      <th>4</th>\n",
       "      <td>71</td>\n",
       "    </tr>\n",
       "    <tr>\n",
       "      <th>5</th>\n",
       "      <td>1</td>\n",
       "    </tr>\n",
       "  </tbody>\n",
       "</table>\n",
       "</div>"
      ],
      "text/plain": [
       "            product_total_purchase\n",
       "product_id                        \n",
       "1                              588\n",
       "2                               24\n",
       "3                               96\n",
       "4                               71\n",
       "5                                1"
      ]
     },
     "execution_count": 23,
     "metadata": {},
     "output_type": "execute_result"
    }
   ],
   "source": [
    "# creating a new dataframe with respect to product_id and number of times a product is purchased for product target variable\n",
    "product_purchase = order_prior.groupby('product_id')['order_id'].count().to_frame('product_total_purchase')\n",
    "product_purchase.head(5)"
   ]
  },
  {
   "cell_type": "code",
   "execution_count": 24,
   "id": "4f3c7770",
   "metadata": {
    "execution": {
     "iopub.execute_input": "2022-11-20T05:55:31.801892Z",
     "iopub.status.busy": "2022-11-20T05:55:31.800802Z",
     "iopub.status.idle": "2022-11-20T05:55:31.812773Z",
     "shell.execute_reply": "2022-11-20T05:55:31.811592Z"
    },
    "papermill": {
     "duration": 0.067233,
     "end_time": "2022-11-20T05:55:31.815269",
     "exception": false,
     "start_time": "2022-11-20T05:55:31.748036",
     "status": "completed"
    },
    "tags": []
   },
   "outputs": [
    {
     "data": {
      "text/html": [
       "<div>\n",
       "<style scoped>\n",
       "    .dataframe tbody tr th:only-of-type {\n",
       "        vertical-align: middle;\n",
       "    }\n",
       "\n",
       "    .dataframe tbody tr th {\n",
       "        vertical-align: top;\n",
       "    }\n",
       "\n",
       "    .dataframe thead th {\n",
       "        text-align: right;\n",
       "    }\n",
       "</style>\n",
       "<table border=\"1\" class=\"dataframe\">\n",
       "  <thead>\n",
       "    <tr style=\"text-align: right;\">\n",
       "      <th></th>\n",
       "      <th>product_id</th>\n",
       "      <th>product_total_purchase</th>\n",
       "    </tr>\n",
       "  </thead>\n",
       "  <tbody>\n",
       "    <tr>\n",
       "      <th>0</th>\n",
       "      <td>1</td>\n",
       "      <td>588</td>\n",
       "    </tr>\n",
       "    <tr>\n",
       "      <th>1</th>\n",
       "      <td>2</td>\n",
       "      <td>24</td>\n",
       "    </tr>\n",
       "    <tr>\n",
       "      <th>2</th>\n",
       "      <td>3</td>\n",
       "      <td>96</td>\n",
       "    </tr>\n",
       "    <tr>\n",
       "      <th>3</th>\n",
       "      <td>4</td>\n",
       "      <td>71</td>\n",
       "    </tr>\n",
       "    <tr>\n",
       "      <th>4</th>\n",
       "      <td>5</td>\n",
       "      <td>1</td>\n",
       "    </tr>\n",
       "  </tbody>\n",
       "</table>\n",
       "</div>"
      ],
      "text/plain": [
       "   product_id  product_total_purchase\n",
       "0           1                     588\n",
       "1           2                      24\n",
       "2           3                      96\n",
       "3           4                      71\n",
       "4           5                       1"
      ]
     },
     "execution_count": 24,
     "metadata": {},
     "output_type": "execute_result"
    }
   ],
   "source": [
    "# indexing the newly created dataframe\n",
    "product_purchase = product_purchase.reset_index()\n",
    "product_purchase.head(5)"
   ]
  },
  {
   "cell_type": "markdown",
   "id": "8e3ebe1a",
   "metadata": {
    "papermill": {
     "duration": 0.052989,
     "end_time": "2022-11-20T05:55:31.920881",
     "exception": false,
     "start_time": "2022-11-20T05:55:31.867892",
     "status": "completed"
    },
    "tags": []
   },
   "source": [
    "Remove products with less than 25 purchases "
   ]
  },
  {
   "cell_type": "code",
   "execution_count": 25,
   "id": "54b76feb",
   "metadata": {
    "execution": {
     "iopub.execute_input": "2022-11-20T05:55:32.025923Z",
     "iopub.status.busy": "2022-11-20T05:55:32.025488Z",
     "iopub.status.idle": "2022-11-20T05:55:38.644503Z",
     "shell.execute_reply": "2022-11-20T05:55:38.642989Z"
    },
    "papermill": {
     "duration": 6.674804,
     "end_time": "2022-11-20T05:55:38.647283",
     "exception": false,
     "start_time": "2022-11-20T05:55:31.972479",
     "status": "completed"
    },
    "tags": []
   },
   "outputs": [
    {
     "data": {
      "text/html": [
       "<div>\n",
       "<style scoped>\n",
       "    .dataframe tbody tr th:only-of-type {\n",
       "        vertical-align: middle;\n",
       "    }\n",
       "\n",
       "    .dataframe tbody tr th {\n",
       "        vertical-align: top;\n",
       "    }\n",
       "\n",
       "    .dataframe thead th {\n",
       "        text-align: right;\n",
       "    }\n",
       "</style>\n",
       "<table border=\"1\" class=\"dataframe\">\n",
       "  <thead>\n",
       "    <tr style=\"text-align: right;\">\n",
       "      <th></th>\n",
       "      <th>order_id</th>\n",
       "      <th>user_id</th>\n",
       "      <th>eval_set</th>\n",
       "      <th>order_number</th>\n",
       "      <th>order_dow</th>\n",
       "      <th>order_hour_of_day</th>\n",
       "      <th>days_since_prior_order</th>\n",
       "      <th>product_id</th>\n",
       "      <th>add_to_cart_order</th>\n",
       "      <th>reordered</th>\n",
       "    </tr>\n",
       "  </thead>\n",
       "  <tbody>\n",
       "    <tr>\n",
       "      <th>0</th>\n",
       "      <td>2086598</td>\n",
       "      <td>6</td>\n",
       "      <td>prior</td>\n",
       "      <td>1</td>\n",
       "      <td>5</td>\n",
       "      <td>18</td>\n",
       "      <td>NaN</td>\n",
       "      <td>27521</td>\n",
       "      <td>1</td>\n",
       "      <td>0</td>\n",
       "    </tr>\n",
       "    <tr>\n",
       "      <th>1</th>\n",
       "      <td>2086598</td>\n",
       "      <td>6</td>\n",
       "      <td>prior</td>\n",
       "      <td>1</td>\n",
       "      <td>5</td>\n",
       "      <td>18</td>\n",
       "      <td>NaN</td>\n",
       "      <td>38293</td>\n",
       "      <td>2</td>\n",
       "      <td>0</td>\n",
       "    </tr>\n",
       "    <tr>\n",
       "      <th>2</th>\n",
       "      <td>2086598</td>\n",
       "      <td>6</td>\n",
       "      <td>prior</td>\n",
       "      <td>1</td>\n",
       "      <td>5</td>\n",
       "      <td>18</td>\n",
       "      <td>NaN</td>\n",
       "      <td>21903</td>\n",
       "      <td>3</td>\n",
       "      <td>0</td>\n",
       "    </tr>\n",
       "    <tr>\n",
       "      <th>3</th>\n",
       "      <td>2086598</td>\n",
       "      <td>6</td>\n",
       "      <td>prior</td>\n",
       "      <td>1</td>\n",
       "      <td>5</td>\n",
       "      <td>18</td>\n",
       "      <td>NaN</td>\n",
       "      <td>48679</td>\n",
       "      <td>4</td>\n",
       "      <td>0</td>\n",
       "    </tr>\n",
       "    <tr>\n",
       "      <th>4</th>\n",
       "      <td>298250</td>\n",
       "      <td>6</td>\n",
       "      <td>prior</td>\n",
       "      <td>2</td>\n",
       "      <td>4</td>\n",
       "      <td>16</td>\n",
       "      <td>6.0</td>\n",
       "      <td>38293</td>\n",
       "      <td>1</td>\n",
       "      <td>1</td>\n",
       "    </tr>\n",
       "  </tbody>\n",
       "</table>\n",
       "</div>"
      ],
      "text/plain": [
       "   order_id  user_id eval_set  order_number  order_dow  order_hour_of_day  \\\n",
       "0   2086598        6    prior             1          5                 18   \n",
       "1   2086598        6    prior             1          5                 18   \n",
       "2   2086598        6    prior             1          5                 18   \n",
       "3   2086598        6    prior             1          5                 18   \n",
       "4    298250        6    prior             2          4                 16   \n",
       "\n",
       "   days_since_prior_order  product_id  add_to_cart_order  reordered  \n",
       "0                     NaN       27521                  1          0  \n",
       "1                     NaN       38293                  2          0  \n",
       "2                     NaN       21903                  3          0  \n",
       "3                     NaN       48679                  4          0  \n",
       "4                     6.0       38293                  1          1  "
      ]
     },
     "execution_count": 25,
     "metadata": {},
     "output_type": "execute_result"
    }
   ],
   "source": [
    "probability_reorder = order_prior.groupby('product_id').filter(lambda x : x.shape[0] > 35)      # probability of reordered calculated based on product_id and removing products with less than 35 purchases\n",
    "probability_reorder.head(5)"
   ]
  },
  {
   "cell_type": "markdown",
   "id": "6077d98f",
   "metadata": {
    "papermill": {
     "duration": 0.05227,
     "end_time": "2022-11-20T05:55:38.753677",
     "exception": false,
     "start_time": "2022-11-20T05:55:38.701407",
     "status": "completed"
    },
    "tags": []
   },
   "source": [
    "Mean of reorders - how many times a product has been reordered divided by how many times has been ordered in total"
   ]
  },
  {
   "cell_type": "code",
   "execution_count": 26,
   "id": "56c02c67",
   "metadata": {
    "execution": {
     "iopub.execute_input": "2022-11-20T05:55:38.861037Z",
     "iopub.status.busy": "2022-11-20T05:55:38.859636Z",
     "iopub.status.idle": "2022-11-20T05:55:39.181351Z",
     "shell.execute_reply": "2022-11-20T05:55:39.180164Z"
    },
    "papermill": {
     "duration": 0.378433,
     "end_time": "2022-11-20T05:55:39.183966",
     "exception": false,
     "start_time": "2022-11-20T05:55:38.805533",
     "status": "completed"
    },
    "tags": []
   },
   "outputs": [
    {
     "data": {
      "text/html": [
       "<div>\n",
       "<style scoped>\n",
       "    .dataframe tbody tr th:only-of-type {\n",
       "        vertical-align: middle;\n",
       "    }\n",
       "\n",
       "    .dataframe tbody tr th {\n",
       "        vertical-align: top;\n",
       "    }\n",
       "\n",
       "    .dataframe thead th {\n",
       "        text-align: right;\n",
       "    }\n",
       "</style>\n",
       "<table border=\"1\" class=\"dataframe\">\n",
       "  <thead>\n",
       "    <tr style=\"text-align: right;\">\n",
       "      <th></th>\n",
       "      <th>product_id</th>\n",
       "      <th>product_reorder_ratio</th>\n",
       "    </tr>\n",
       "  </thead>\n",
       "  <tbody>\n",
       "    <tr>\n",
       "      <th>0</th>\n",
       "      <td>1</td>\n",
       "      <td>0.647959</td>\n",
       "    </tr>\n",
       "    <tr>\n",
       "      <th>1</th>\n",
       "      <td>3</td>\n",
       "      <td>0.770833</td>\n",
       "    </tr>\n",
       "    <tr>\n",
       "      <th>2</th>\n",
       "      <td>4</td>\n",
       "      <td>0.281690</td>\n",
       "    </tr>\n",
       "    <tr>\n",
       "      <th>3</th>\n",
       "      <td>9</td>\n",
       "      <td>0.528302</td>\n",
       "    </tr>\n",
       "    <tr>\n",
       "      <th>4</th>\n",
       "      <td>10</td>\n",
       "      <td>0.513854</td>\n",
       "    </tr>\n",
       "  </tbody>\n",
       "</table>\n",
       "</div>"
      ],
      "text/plain": [
       "   product_id  product_reorder_ratio\n",
       "0           1               0.647959\n",
       "1           3               0.770833\n",
       "2           4               0.281690\n",
       "3           9               0.528302\n",
       "4          10               0.513854"
      ]
     },
     "execution_count": 26,
     "metadata": {},
     "output_type": "execute_result"
    }
   ],
   "source": [
    "probability_reorder = probability_reorder.groupby('product_id')['reordered'].mean().to_frame('product_reorder_ratio')\n",
    "probability_reorder = probability_reorder.reset_index()\n",
    "probability_reorder.head(5)"
   ]
  },
  {
   "cell_type": "code",
   "execution_count": 27,
   "id": "ae0bce03",
   "metadata": {
    "execution": {
     "iopub.execute_input": "2022-11-20T05:55:39.290919Z",
     "iopub.status.busy": "2022-11-20T05:55:39.290500Z",
     "iopub.status.idle": "2022-11-20T05:55:39.310701Z",
     "shell.execute_reply": "2022-11-20T05:55:39.309700Z"
    },
    "papermill": {
     "duration": 0.076555,
     "end_time": "2022-11-20T05:55:39.313303",
     "exception": false,
     "start_time": "2022-11-20T05:55:39.236748",
     "status": "completed"
    },
    "tags": []
   },
   "outputs": [],
   "source": [
    "# left join to keep all the products from the product_purchase DataFrame\n",
    "product_purchase = product_purchase.merge(probability_reorder, on = 'product_id', how = 'left') "
   ]
  },
  {
   "cell_type": "code",
   "execution_count": 28,
   "id": "d72ab456",
   "metadata": {
    "execution": {
     "iopub.execute_input": "2022-11-20T05:55:39.419804Z",
     "iopub.status.busy": "2022-11-20T05:55:39.419097Z",
     "iopub.status.idle": "2022-11-20T05:55:39.531416Z",
     "shell.execute_reply": "2022-11-20T05:55:39.530492Z"
    },
    "papermill": {
     "duration": 0.168045,
     "end_time": "2022-11-20T05:55:39.533762",
     "exception": false,
     "start_time": "2022-11-20T05:55:39.365717",
     "status": "completed"
    },
    "tags": []
   },
   "outputs": [
    {
     "data": {
      "text/plain": [
       "42"
      ]
     },
     "execution_count": 28,
     "metadata": {},
     "output_type": "execute_result"
    }
   ],
   "source": [
    "del probability_reorder\n",
    "gc.collect()"
   ]
  },
  {
   "cell_type": "code",
   "execution_count": 29,
   "id": "d97afa74",
   "metadata": {
    "execution": {
     "iopub.execute_input": "2022-11-20T05:55:39.640270Z",
     "iopub.status.busy": "2022-11-20T05:55:39.639513Z",
     "iopub.status.idle": "2022-11-20T05:55:39.649598Z",
     "shell.execute_reply": "2022-11-20T05:55:39.648750Z"
    },
    "papermill": {
     "duration": 0.065948,
     "end_time": "2022-11-20T05:55:39.652129",
     "exception": false,
     "start_time": "2022-11-20T05:55:39.586181",
     "status": "completed"
    },
    "tags": []
   },
   "outputs": [
    {
     "data": {
      "text/html": [
       "<div>\n",
       "<style scoped>\n",
       "    .dataframe tbody tr th:only-of-type {\n",
       "        vertical-align: middle;\n",
       "    }\n",
       "\n",
       "    .dataframe tbody tr th {\n",
       "        vertical-align: top;\n",
       "    }\n",
       "\n",
       "    .dataframe thead th {\n",
       "        text-align: right;\n",
       "    }\n",
       "</style>\n",
       "<table border=\"1\" class=\"dataframe\">\n",
       "  <thead>\n",
       "    <tr style=\"text-align: right;\">\n",
       "      <th></th>\n",
       "      <th>product_id</th>\n",
       "      <th>product_total_purchase</th>\n",
       "      <th>product_reorder_ratio</th>\n",
       "    </tr>\n",
       "  </thead>\n",
       "  <tbody>\n",
       "    <tr>\n",
       "      <th>0</th>\n",
       "      <td>1</td>\n",
       "      <td>588</td>\n",
       "      <td>0.647959</td>\n",
       "    </tr>\n",
       "    <tr>\n",
       "      <th>1</th>\n",
       "      <td>2</td>\n",
       "      <td>24</td>\n",
       "      <td>NaN</td>\n",
       "    </tr>\n",
       "    <tr>\n",
       "      <th>2</th>\n",
       "      <td>3</td>\n",
       "      <td>96</td>\n",
       "      <td>0.770833</td>\n",
       "    </tr>\n",
       "    <tr>\n",
       "      <th>3</th>\n",
       "      <td>4</td>\n",
       "      <td>71</td>\n",
       "      <td>0.281690</td>\n",
       "    </tr>\n",
       "    <tr>\n",
       "      <th>4</th>\n",
       "      <td>5</td>\n",
       "      <td>1</td>\n",
       "      <td>NaN</td>\n",
       "    </tr>\n",
       "  </tbody>\n",
       "</table>\n",
       "</div>"
      ],
      "text/plain": [
       "   product_id  product_total_purchase  product_reorder_ratio\n",
       "0           1                     588               0.647959\n",
       "1           2                      24                    NaN\n",
       "2           3                      96               0.770833\n",
       "3           4                      71               0.281690\n",
       "4           5                       1                    NaN"
      ]
     },
     "execution_count": 29,
     "metadata": {},
     "output_type": "execute_result"
    }
   ],
   "source": [
    "product_purchase.head(5)"
   ]
  },
  {
   "cell_type": "markdown",
   "id": "8019115e",
   "metadata": {
    "papermill": {
     "duration": 0.05144,
     "end_time": "2022-11-20T05:55:39.755698",
     "exception": false,
     "start_time": "2022-11-20T05:55:39.704258",
     "status": "completed"
    },
    "tags": []
   },
   "source": [
    "# Filling Missing Values"
   ]
  },
  {
   "cell_type": "code",
   "execution_count": 30,
   "id": "35d42158",
   "metadata": {
    "execution": {
     "iopub.execute_input": "2022-11-20T05:55:39.861949Z",
     "iopub.status.busy": "2022-11-20T05:55:39.861526Z",
     "iopub.status.idle": "2022-11-20T05:55:39.874103Z",
     "shell.execute_reply": "2022-11-20T05:55:39.872931Z"
    },
    "papermill": {
     "duration": 0.069059,
     "end_time": "2022-11-20T05:55:39.876708",
     "exception": false,
     "start_time": "2022-11-20T05:55:39.807649",
     "status": "completed"
    },
    "tags": []
   },
   "outputs": [
    {
     "data": {
      "text/html": [
       "<div>\n",
       "<style scoped>\n",
       "    .dataframe tbody tr th:only-of-type {\n",
       "        vertical-align: middle;\n",
       "    }\n",
       "\n",
       "    .dataframe tbody tr th {\n",
       "        vertical-align: top;\n",
       "    }\n",
       "\n",
       "    .dataframe thead th {\n",
       "        text-align: right;\n",
       "    }\n",
       "</style>\n",
       "<table border=\"1\" class=\"dataframe\">\n",
       "  <thead>\n",
       "    <tr style=\"text-align: right;\">\n",
       "      <th></th>\n",
       "      <th>product_id</th>\n",
       "      <th>product_total_purchase</th>\n",
       "      <th>product_reorder_ratio</th>\n",
       "    </tr>\n",
       "  </thead>\n",
       "  <tbody>\n",
       "    <tr>\n",
       "      <th>0</th>\n",
       "      <td>1</td>\n",
       "      <td>588</td>\n",
       "      <td>0.647959</td>\n",
       "    </tr>\n",
       "    <tr>\n",
       "      <th>1</th>\n",
       "      <td>2</td>\n",
       "      <td>24</td>\n",
       "      <td>0.000000</td>\n",
       "    </tr>\n",
       "    <tr>\n",
       "      <th>2</th>\n",
       "      <td>3</td>\n",
       "      <td>96</td>\n",
       "      <td>0.770833</td>\n",
       "    </tr>\n",
       "    <tr>\n",
       "      <th>3</th>\n",
       "      <td>4</td>\n",
       "      <td>71</td>\n",
       "      <td>0.281690</td>\n",
       "    </tr>\n",
       "    <tr>\n",
       "      <th>4</th>\n",
       "      <td>5</td>\n",
       "      <td>1</td>\n",
       "      <td>0.000000</td>\n",
       "    </tr>\n",
       "  </tbody>\n",
       "</table>\n",
       "</div>"
      ],
      "text/plain": [
       "   product_id  product_total_purchase  product_reorder_ratio\n",
       "0           1                     588               0.647959\n",
       "1           2                      24               0.000000\n",
       "2           3                      96               0.770833\n",
       "3           4                      71               0.281690\n",
       "4           5                       1               0.000000"
      ]
     },
     "execution_count": 30,
     "metadata": {},
     "output_type": "execute_result"
    }
   ],
   "source": [
    "product_purchase['product_reorder_ratio'] = product_purchase['product_reorder_ratio'].fillna(value = 0)\n",
    "product_purchase.head(5)"
   ]
  },
  {
   "cell_type": "markdown",
   "id": "63820b93",
   "metadata": {
    "papermill": {
     "duration": 0.05244,
     "end_time": "2022-11-20T05:55:39.981437",
     "exception": false,
     "start_time": "2022-11-20T05:55:39.928997",
     "status": "completed"
    },
    "tags": []
   },
   "source": [
    "## Creating user-product predictors\n",
    "- How many times a user bought a product\n",
    "- How frequently a customer bought a product after its first purchase\n",
    "- How many times a customer bought a product on its last 5 orders"
   ]
  },
  {
   "cell_type": "markdown",
   "id": "f6a5d604",
   "metadata": {
    "papermill": {
     "duration": 0.053898,
     "end_time": "2022-11-20T05:55:40.088922",
     "exception": false,
     "start_time": "2022-11-20T05:55:40.035024",
     "status": "completed"
    },
    "tags": []
   },
   "source": [
    "**user_product** DataFrame contains how many times each user bought a particular product"
   ]
  },
  {
   "cell_type": "code",
   "execution_count": 31,
   "id": "1cb6c6cd",
   "metadata": {
    "execution": {
     "iopub.execute_input": "2022-11-20T05:55:40.196569Z",
     "iopub.status.busy": "2022-11-20T05:55:40.196134Z",
     "iopub.status.idle": "2022-11-20T05:55:42.432633Z",
     "shell.execute_reply": "2022-11-20T05:55:42.431487Z"
    },
    "papermill": {
     "duration": 2.294508,
     "end_time": "2022-11-20T05:55:42.435930",
     "exception": false,
     "start_time": "2022-11-20T05:55:40.141422",
     "status": "completed"
    },
    "tags": []
   },
   "outputs": [
    {
     "data": {
      "text/html": [
       "<div>\n",
       "<style scoped>\n",
       "    .dataframe tbody tr th:only-of-type {\n",
       "        vertical-align: middle;\n",
       "    }\n",
       "\n",
       "    .dataframe tbody tr th {\n",
       "        vertical-align: top;\n",
       "    }\n",
       "\n",
       "    .dataframe thead th {\n",
       "        text-align: right;\n",
       "    }\n",
       "</style>\n",
       "<table border=\"1\" class=\"dataframe\">\n",
       "  <thead>\n",
       "    <tr style=\"text-align: right;\">\n",
       "      <th></th>\n",
       "      <th></th>\n",
       "      <th>user_product_total</th>\n",
       "    </tr>\n",
       "    <tr>\n",
       "      <th>user_id</th>\n",
       "      <th>product_id</th>\n",
       "      <th></th>\n",
       "    </tr>\n",
       "  </thead>\n",
       "  <tbody>\n",
       "    <tr>\n",
       "      <th rowspan=\"5\" valign=\"top\">6</th>\n",
       "      <th>8424</th>\n",
       "      <td>1</td>\n",
       "    </tr>\n",
       "    <tr>\n",
       "      <th>10644</th>\n",
       "      <td>1</td>\n",
       "    </tr>\n",
       "    <tr>\n",
       "      <th>11068</th>\n",
       "      <td>1</td>\n",
       "    </tr>\n",
       "    <tr>\n",
       "      <th>20323</th>\n",
       "      <td>1</td>\n",
       "    </tr>\n",
       "    <tr>\n",
       "      <th>21903</th>\n",
       "      <td>2</td>\n",
       "    </tr>\n",
       "  </tbody>\n",
       "</table>\n",
       "</div>"
      ],
      "text/plain": [
       "                    user_product_total\n",
       "user_id product_id                    \n",
       "6       8424                         1\n",
       "        10644                        1\n",
       "        11068                        1\n",
       "        20323                        1\n",
       "        21903                        2"
      ]
     },
     "execution_count": 31,
     "metadata": {},
     "output_type": "execute_result"
    }
   ],
   "source": [
    "# creating a new dataframe with respect to user_id and product_id for user-product target variable \n",
    "user_product = order_prior.groupby(['user_id','product_id'])['order_id'].count().to_frame('user_product_total')\n",
    "user_product.head(5)"
   ]
  },
  {
   "cell_type": "code",
   "execution_count": 32,
   "id": "80a46d04",
   "metadata": {
    "execution": {
     "iopub.execute_input": "2022-11-20T05:55:42.550529Z",
     "iopub.status.busy": "2022-11-20T05:55:42.550011Z",
     "iopub.status.idle": "2022-11-20T05:55:42.636023Z",
     "shell.execute_reply": "2022-11-20T05:55:42.634794Z"
    },
    "papermill": {
     "duration": 0.143441,
     "end_time": "2022-11-20T05:55:42.638731",
     "exception": false,
     "start_time": "2022-11-20T05:55:42.495290",
     "status": "completed"
    },
    "tags": []
   },
   "outputs": [
    {
     "data": {
      "text/html": [
       "<div>\n",
       "<style scoped>\n",
       "    .dataframe tbody tr th:only-of-type {\n",
       "        vertical-align: middle;\n",
       "    }\n",
       "\n",
       "    .dataframe tbody tr th {\n",
       "        vertical-align: top;\n",
       "    }\n",
       "\n",
       "    .dataframe thead th {\n",
       "        text-align: right;\n",
       "    }\n",
       "</style>\n",
       "<table border=\"1\" class=\"dataframe\">\n",
       "  <thead>\n",
       "    <tr style=\"text-align: right;\">\n",
       "      <th></th>\n",
       "      <th>user_id</th>\n",
       "      <th>product_id</th>\n",
       "      <th>user_product_total</th>\n",
       "    </tr>\n",
       "  </thead>\n",
       "  <tbody>\n",
       "    <tr>\n",
       "      <th>0</th>\n",
       "      <td>6</td>\n",
       "      <td>8424</td>\n",
       "      <td>1</td>\n",
       "    </tr>\n",
       "    <tr>\n",
       "      <th>1</th>\n",
       "      <td>6</td>\n",
       "      <td>10644</td>\n",
       "      <td>1</td>\n",
       "    </tr>\n",
       "    <tr>\n",
       "      <th>2</th>\n",
       "      <td>6</td>\n",
       "      <td>11068</td>\n",
       "      <td>1</td>\n",
       "    </tr>\n",
       "    <tr>\n",
       "      <th>3</th>\n",
       "      <td>6</td>\n",
       "      <td>20323</td>\n",
       "      <td>1</td>\n",
       "    </tr>\n",
       "    <tr>\n",
       "      <th>4</th>\n",
       "      <td>6</td>\n",
       "      <td>21903</td>\n",
       "      <td>2</td>\n",
       "    </tr>\n",
       "  </tbody>\n",
       "</table>\n",
       "</div>"
      ],
      "text/plain": [
       "   user_id  product_id  user_product_total\n",
       "0        6        8424                   1\n",
       "1        6       10644                   1\n",
       "2        6       11068                   1\n",
       "3        6       20323                   1\n",
       "4        6       21903                   2"
      ]
     },
     "execution_count": 32,
     "metadata": {},
     "output_type": "execute_result"
    }
   ],
   "source": [
    "# indexing the dataframe\n",
    "user_product = user_product.reset_index()\n",
    "user_product.head(5)"
   ]
  },
  {
   "cell_type": "markdown",
   "id": "c4ebdadb",
   "metadata": {
    "papermill": {
     "duration": 0.052519,
     "end_time": "2022-11-20T05:55:42.746164",
     "exception": false,
     "start_time": "2022-11-20T05:55:42.693645",
     "status": "completed"
    },
    "tags": []
   },
   "source": [
    "Frequency of a customer buying a product after its first purchase\n",
    "* how many times a user bought a product out of the times the user had the chance to a buy it (starting from their first purchase of the product)\n",
    "* ratio of number of times a user bought a product by total orders placed since the first user's order of a product"
   ]
  },
  {
   "cell_type": "code",
   "execution_count": 33,
   "id": "a55f0ce1",
   "metadata": {
    "execution": {
     "iopub.execute_input": "2022-11-20T05:55:42.853961Z",
     "iopub.status.busy": "2022-11-20T05:55:42.853550Z",
     "iopub.status.idle": "2022-11-20T05:55:44.920938Z",
     "shell.execute_reply": "2022-11-20T05:55:44.919422Z"
    },
    "papermill": {
     "duration": 2.124664,
     "end_time": "2022-11-20T05:55:44.923664",
     "exception": false,
     "start_time": "2022-11-20T05:55:42.799000",
     "status": "completed"
    },
    "tags": []
   },
   "outputs": [],
   "source": [
    "# number of times a product is being bought by a user\n",
    "times_bought = order_prior.groupby(['user_id','product_id'])[['order_id']].count()"
   ]
  },
  {
   "cell_type": "code",
   "execution_count": 34,
   "id": "e16a7f31",
   "metadata": {
    "execution": {
     "iopub.execute_input": "2022-11-20T05:55:45.036630Z",
     "iopub.status.busy": "2022-11-20T05:55:45.035895Z",
     "iopub.status.idle": "2022-11-20T05:55:45.047690Z",
     "shell.execute_reply": "2022-11-20T05:55:45.046718Z"
    },
    "papermill": {
     "duration": 0.07098,
     "end_time": "2022-11-20T05:55:45.049810",
     "exception": false,
     "start_time": "2022-11-20T05:55:44.978830",
     "status": "completed"
    },
    "tags": []
   },
   "outputs": [
    {
     "data": {
      "text/html": [
       "<div>\n",
       "<style scoped>\n",
       "    .dataframe tbody tr th:only-of-type {\n",
       "        vertical-align: middle;\n",
       "    }\n",
       "\n",
       "    .dataframe tbody tr th {\n",
       "        vertical-align: top;\n",
       "    }\n",
       "\n",
       "    .dataframe thead th {\n",
       "        text-align: right;\n",
       "    }\n",
       "</style>\n",
       "<table border=\"1\" class=\"dataframe\">\n",
       "  <thead>\n",
       "    <tr style=\"text-align: right;\">\n",
       "      <th></th>\n",
       "      <th></th>\n",
       "      <th>times_bought</th>\n",
       "    </tr>\n",
       "    <tr>\n",
       "      <th>user_id</th>\n",
       "      <th>product_id</th>\n",
       "      <th></th>\n",
       "    </tr>\n",
       "  </thead>\n",
       "  <tbody>\n",
       "    <tr>\n",
       "      <th rowspan=\"5\" valign=\"top\">6</th>\n",
       "      <th>8424</th>\n",
       "      <td>1</td>\n",
       "    </tr>\n",
       "    <tr>\n",
       "      <th>10644</th>\n",
       "      <td>1</td>\n",
       "    </tr>\n",
       "    <tr>\n",
       "      <th>11068</th>\n",
       "      <td>1</td>\n",
       "    </tr>\n",
       "    <tr>\n",
       "      <th>20323</th>\n",
       "      <td>1</td>\n",
       "    </tr>\n",
       "    <tr>\n",
       "      <th>21903</th>\n",
       "      <td>2</td>\n",
       "    </tr>\n",
       "  </tbody>\n",
       "</table>\n",
       "</div>"
      ],
      "text/plain": [
       "                    times_bought\n",
       "user_id product_id              \n",
       "6       8424                   1\n",
       "        10644                  1\n",
       "        11068                  1\n",
       "        20323                  1\n",
       "        21903                  2"
      ]
     },
     "execution_count": 34,
     "metadata": {},
     "output_type": "execute_result"
    }
   ],
   "source": [
    "times_bought.columns = ['times_bought']\n",
    "times_bought.head(5)"
   ]
  },
  {
   "cell_type": "code",
   "execution_count": 35,
   "id": "da3b14a7",
   "metadata": {
    "execution": {
     "iopub.execute_input": "2022-11-20T05:55:45.158171Z",
     "iopub.status.busy": "2022-11-20T05:55:45.157393Z",
     "iopub.status.idle": "2022-11-20T05:55:45.413900Z",
     "shell.execute_reply": "2022-11-20T05:55:45.412560Z"
    },
    "papermill": {
     "duration": 0.313936,
     "end_time": "2022-11-20T05:55:45.416661",
     "exception": false,
     "start_time": "2022-11-20T05:55:45.102725",
     "status": "completed"
    },
    "tags": []
   },
   "outputs": [
    {
     "data": {
      "text/html": [
       "<div>\n",
       "<style scoped>\n",
       "    .dataframe tbody tr th:only-of-type {\n",
       "        vertical-align: middle;\n",
       "    }\n",
       "\n",
       "    .dataframe tbody tr th {\n",
       "        vertical-align: top;\n",
       "    }\n",
       "\n",
       "    .dataframe thead th {\n",
       "        text-align: right;\n",
       "    }\n",
       "</style>\n",
       "<table border=\"1\" class=\"dataframe\">\n",
       "  <thead>\n",
       "    <tr style=\"text-align: right;\">\n",
       "      <th></th>\n",
       "      <th>total_orders</th>\n",
       "    </tr>\n",
       "    <tr>\n",
       "      <th>user_id</th>\n",
       "      <th></th>\n",
       "    </tr>\n",
       "  </thead>\n",
       "  <tbody>\n",
       "    <tr>\n",
       "      <th>6</th>\n",
       "      <td>3</td>\n",
       "    </tr>\n",
       "    <tr>\n",
       "      <th>10</th>\n",
       "      <td>5</td>\n",
       "    </tr>\n",
       "    <tr>\n",
       "      <th>17</th>\n",
       "      <td>40</td>\n",
       "    </tr>\n",
       "    <tr>\n",
       "      <th>19</th>\n",
       "      <td>9</td>\n",
       "    </tr>\n",
       "    <tr>\n",
       "      <th>25</th>\n",
       "      <td>3</td>\n",
       "    </tr>\n",
       "  </tbody>\n",
       "</table>\n",
       "</div>"
      ],
      "text/plain": [
       "         total_orders\n",
       "user_id              \n",
       "6                   3\n",
       "10                  5\n",
       "17                 40\n",
       "19                  9\n",
       "25                  3"
      ]
     },
     "execution_count": 35,
     "metadata": {},
     "output_type": "execute_result"
    }
   ],
   "source": [
    "# total orders placed since the first user's order of a product\n",
    "total_order = order_prior.groupby('user_id')['order_number'].max().to_frame('total_orders')\n",
    "total_order.head(5)"
   ]
  },
  {
   "cell_type": "code",
   "execution_count": 36,
   "id": "8eda7a2b",
   "metadata": {
    "execution": {
     "iopub.execute_input": "2022-11-20T05:55:45.525471Z",
     "iopub.status.busy": "2022-11-20T05:55:45.524289Z",
     "iopub.status.idle": "2022-11-20T05:55:47.718800Z",
     "shell.execute_reply": "2022-11-20T05:55:47.717549Z"
    },
    "papermill": {
     "duration": 2.251699,
     "end_time": "2022-11-20T05:55:47.721489",
     "exception": false,
     "start_time": "2022-11-20T05:55:45.469790",
     "status": "completed"
    },
    "tags": []
   },
   "outputs": [
    {
     "data": {
      "text/html": [
       "<div>\n",
       "<style scoped>\n",
       "    .dataframe tbody tr th:only-of-type {\n",
       "        vertical-align: middle;\n",
       "    }\n",
       "\n",
       "    .dataframe tbody tr th {\n",
       "        vertical-align: top;\n",
       "    }\n",
       "\n",
       "    .dataframe thead th {\n",
       "        text-align: right;\n",
       "    }\n",
       "</style>\n",
       "<table border=\"1\" class=\"dataframe\">\n",
       "  <thead>\n",
       "    <tr style=\"text-align: right;\">\n",
       "      <th></th>\n",
       "      <th>user_id</th>\n",
       "      <th>product_id</th>\n",
       "      <th>first_order</th>\n",
       "    </tr>\n",
       "  </thead>\n",
       "  <tbody>\n",
       "    <tr>\n",
       "      <th>0</th>\n",
       "      <td>6</td>\n",
       "      <td>8424</td>\n",
       "      <td>3</td>\n",
       "    </tr>\n",
       "    <tr>\n",
       "      <th>1</th>\n",
       "      <td>6</td>\n",
       "      <td>10644</td>\n",
       "      <td>2</td>\n",
       "    </tr>\n",
       "    <tr>\n",
       "      <th>2</th>\n",
       "      <td>6</td>\n",
       "      <td>11068</td>\n",
       "      <td>2</td>\n",
       "    </tr>\n",
       "    <tr>\n",
       "      <th>3</th>\n",
       "      <td>6</td>\n",
       "      <td>20323</td>\n",
       "      <td>2</td>\n",
       "    </tr>\n",
       "    <tr>\n",
       "      <th>4</th>\n",
       "      <td>6</td>\n",
       "      <td>21903</td>\n",
       "      <td>1</td>\n",
       "    </tr>\n",
       "  </tbody>\n",
       "</table>\n",
       "</div>"
      ],
      "text/plain": [
       "   user_id  product_id  first_order\n",
       "0        6        8424            3\n",
       "1        6       10644            2\n",
       "2        6       11068            2\n",
       "3        6       20323            2\n",
       "4        6       21903            1"
      ]
     },
     "execution_count": 36,
     "metadata": {},
     "output_type": "execute_result"
    }
   ],
   "source": [
    "# creating a dataframe where a user brought a product for the first time \n",
    "first_order = order_prior.groupby(['user_id','product_id'])['order_number'].min().to_frame('first_order')\n",
    "first_order = first_order.reset_index()\n",
    "first_order.head(5)"
   ]
  },
  {
   "cell_type": "code",
   "execution_count": 37,
   "id": "83e87369",
   "metadata": {
    "execution": {
     "iopub.execute_input": "2022-11-20T05:55:47.831041Z",
     "iopub.status.busy": "2022-11-20T05:55:47.830651Z",
     "iopub.status.idle": "2022-11-20T05:55:48.389990Z",
     "shell.execute_reply": "2022-11-20T05:55:48.388551Z"
    },
    "papermill": {
     "duration": 0.617286,
     "end_time": "2022-11-20T05:55:48.392899",
     "exception": false,
     "start_time": "2022-11-20T05:55:47.775613",
     "status": "completed"
    },
    "tags": []
   },
   "outputs": [
    {
     "data": {
      "text/html": [
       "<div>\n",
       "<style scoped>\n",
       "    .dataframe tbody tr th:only-of-type {\n",
       "        vertical-align: middle;\n",
       "    }\n",
       "\n",
       "    .dataframe tbody tr th {\n",
       "        vertical-align: top;\n",
       "    }\n",
       "\n",
       "    .dataframe thead th {\n",
       "        text-align: right;\n",
       "    }\n",
       "</style>\n",
       "<table border=\"1\" class=\"dataframe\">\n",
       "  <thead>\n",
       "    <tr style=\"text-align: right;\">\n",
       "      <th></th>\n",
       "      <th>user_id</th>\n",
       "      <th>total_orders</th>\n",
       "      <th>product_id</th>\n",
       "      <th>first_order</th>\n",
       "    </tr>\n",
       "  </thead>\n",
       "  <tbody>\n",
       "    <tr>\n",
       "      <th>0</th>\n",
       "      <td>6</td>\n",
       "      <td>3</td>\n",
       "      <td>8424</td>\n",
       "      <td>3</td>\n",
       "    </tr>\n",
       "    <tr>\n",
       "      <th>1</th>\n",
       "      <td>6</td>\n",
       "      <td>3</td>\n",
       "      <td>10644</td>\n",
       "      <td>2</td>\n",
       "    </tr>\n",
       "    <tr>\n",
       "      <th>2</th>\n",
       "      <td>6</td>\n",
       "      <td>3</td>\n",
       "      <td>11068</td>\n",
       "      <td>2</td>\n",
       "    </tr>\n",
       "    <tr>\n",
       "      <th>3</th>\n",
       "      <td>6</td>\n",
       "      <td>3</td>\n",
       "      <td>20323</td>\n",
       "      <td>2</td>\n",
       "    </tr>\n",
       "    <tr>\n",
       "      <th>4</th>\n",
       "      <td>6</td>\n",
       "      <td>3</td>\n",
       "      <td>21903</td>\n",
       "      <td>1</td>\n",
       "    </tr>\n",
       "  </tbody>\n",
       "</table>\n",
       "</div>"
      ],
      "text/plain": [
       "   user_id  total_orders  product_id  first_order\n",
       "0        6             3        8424            3\n",
       "1        6             3       10644            2\n",
       "2        6             3       11068            2\n",
       "3        6             3       20323            2\n",
       "4        6             3       21903            1"
      ]
     },
     "execution_count": 37,
     "metadata": {},
     "output_type": "execute_result"
    }
   ],
   "source": [
    "# joining the total_order and first_order dataframes to get the ratio\n",
    "span = pd.merge(total_order, first_order, on = 'user_id', how = 'right')\n",
    "span.head(5)"
   ]
  },
  {
   "cell_type": "code",
   "execution_count": 38,
   "id": "8442cd7d",
   "metadata": {
    "execution": {
     "iopub.execute_input": "2022-11-20T05:55:48.502674Z",
     "iopub.status.busy": "2022-11-20T05:55:48.502272Z",
     "iopub.status.idle": "2022-11-20T05:55:48.530259Z",
     "shell.execute_reply": "2022-11-20T05:55:48.529418Z"
    },
    "papermill": {
     "duration": 0.085745,
     "end_time": "2022-11-20T05:55:48.532726",
     "exception": false,
     "start_time": "2022-11-20T05:55:48.446981",
     "status": "completed"
    },
    "tags": []
   },
   "outputs": [
    {
     "data": {
      "text/html": [
       "<div>\n",
       "<style scoped>\n",
       "    .dataframe tbody tr th:only-of-type {\n",
       "        vertical-align: middle;\n",
       "    }\n",
       "\n",
       "    .dataframe tbody tr th {\n",
       "        vertical-align: top;\n",
       "    }\n",
       "\n",
       "    .dataframe thead th {\n",
       "        text-align: right;\n",
       "    }\n",
       "</style>\n",
       "<table border=\"1\" class=\"dataframe\">\n",
       "  <thead>\n",
       "    <tr style=\"text-align: right;\">\n",
       "      <th></th>\n",
       "      <th>user_id</th>\n",
       "      <th>total_orders</th>\n",
       "      <th>product_id</th>\n",
       "      <th>first_order</th>\n",
       "      <th>order_range</th>\n",
       "    </tr>\n",
       "  </thead>\n",
       "  <tbody>\n",
       "    <tr>\n",
       "      <th>0</th>\n",
       "      <td>6</td>\n",
       "      <td>3</td>\n",
       "      <td>8424</td>\n",
       "      <td>3</td>\n",
       "      <td>1</td>\n",
       "    </tr>\n",
       "    <tr>\n",
       "      <th>1</th>\n",
       "      <td>6</td>\n",
       "      <td>3</td>\n",
       "      <td>10644</td>\n",
       "      <td>2</td>\n",
       "      <td>2</td>\n",
       "    </tr>\n",
       "    <tr>\n",
       "      <th>2</th>\n",
       "      <td>6</td>\n",
       "      <td>3</td>\n",
       "      <td>11068</td>\n",
       "      <td>2</td>\n",
       "      <td>2</td>\n",
       "    </tr>\n",
       "    <tr>\n",
       "      <th>3</th>\n",
       "      <td>6</td>\n",
       "      <td>3</td>\n",
       "      <td>20323</td>\n",
       "      <td>2</td>\n",
       "      <td>2</td>\n",
       "    </tr>\n",
       "    <tr>\n",
       "      <th>4</th>\n",
       "      <td>6</td>\n",
       "      <td>3</td>\n",
       "      <td>21903</td>\n",
       "      <td>1</td>\n",
       "      <td>3</td>\n",
       "    </tr>\n",
       "  </tbody>\n",
       "</table>\n",
       "</div>"
      ],
      "text/plain": [
       "   user_id  total_orders  product_id  first_order  order_range\n",
       "0        6             3        8424            3            1\n",
       "1        6             3       10644            2            2\n",
       "2        6             3       11068            2            2\n",
       "3        6             3       20323            2            2\n",
       "4        6             3       21903            1            3"
      ]
     },
     "execution_count": 38,
     "metadata": {},
     "output_type": "execute_result"
    }
   ],
   "source": [
    "# the +1 includes in the difference the first order where the product has been purchased\n",
    "# finding the range in which a user can order i.e., total orders - first order\n",
    "span['order_range'] = span.total_orders - span.first_order + 1\n",
    "span.head(5)"
   ]
  },
  {
   "cell_type": "code",
   "execution_count": 39,
   "id": "bb215128",
   "metadata": {
    "execution": {
     "iopub.execute_input": "2022-11-20T05:55:48.646950Z",
     "iopub.status.busy": "2022-11-20T05:55:48.646034Z",
     "iopub.status.idle": "2022-11-20T05:55:51.048851Z",
     "shell.execute_reply": "2022-11-20T05:55:51.047476Z"
    },
    "papermill": {
     "duration": 2.462478,
     "end_time": "2022-11-20T05:55:51.051676",
     "exception": false,
     "start_time": "2022-11-20T05:55:48.589198",
     "status": "completed"
    },
    "tags": []
   },
   "outputs": [],
   "source": [
    "user_product_ratio = pd.merge(times_bought, span, on = ['user_id','product_id'], how = 'left')"
   ]
  },
  {
   "cell_type": "code",
   "execution_count": 40,
   "id": "c149e25d",
   "metadata": {
    "execution": {
     "iopub.execute_input": "2022-11-20T05:55:51.167144Z",
     "iopub.status.busy": "2022-11-20T05:55:51.166695Z",
     "iopub.status.idle": "2022-11-20T05:55:51.179781Z",
     "shell.execute_reply": "2022-11-20T05:55:51.178525Z"
    },
    "papermill": {
     "duration": 0.074497,
     "end_time": "2022-11-20T05:55:51.182170",
     "exception": false,
     "start_time": "2022-11-20T05:55:51.107673",
     "status": "completed"
    },
    "tags": []
   },
   "outputs": [
    {
     "data": {
      "text/html": [
       "<div>\n",
       "<style scoped>\n",
       "    .dataframe tbody tr th:only-of-type {\n",
       "        vertical-align: middle;\n",
       "    }\n",
       "\n",
       "    .dataframe tbody tr th {\n",
       "        vertical-align: top;\n",
       "    }\n",
       "\n",
       "    .dataframe thead th {\n",
       "        text-align: right;\n",
       "    }\n",
       "</style>\n",
       "<table border=\"1\" class=\"dataframe\">\n",
       "  <thead>\n",
       "    <tr style=\"text-align: right;\">\n",
       "      <th></th>\n",
       "      <th>user_id</th>\n",
       "      <th>product_id</th>\n",
       "      <th>times_bought</th>\n",
       "      <th>total_orders</th>\n",
       "      <th>first_order</th>\n",
       "      <th>order_range</th>\n",
       "    </tr>\n",
       "  </thead>\n",
       "  <tbody>\n",
       "    <tr>\n",
       "      <th>0</th>\n",
       "      <td>6</td>\n",
       "      <td>8424</td>\n",
       "      <td>1</td>\n",
       "      <td>3</td>\n",
       "      <td>3</td>\n",
       "      <td>1</td>\n",
       "    </tr>\n",
       "    <tr>\n",
       "      <th>1</th>\n",
       "      <td>6</td>\n",
       "      <td>10644</td>\n",
       "      <td>1</td>\n",
       "      <td>3</td>\n",
       "      <td>2</td>\n",
       "      <td>2</td>\n",
       "    </tr>\n",
       "    <tr>\n",
       "      <th>2</th>\n",
       "      <td>6</td>\n",
       "      <td>11068</td>\n",
       "      <td>1</td>\n",
       "      <td>3</td>\n",
       "      <td>2</td>\n",
       "      <td>2</td>\n",
       "    </tr>\n",
       "    <tr>\n",
       "      <th>3</th>\n",
       "      <td>6</td>\n",
       "      <td>20323</td>\n",
       "      <td>1</td>\n",
       "      <td>3</td>\n",
       "      <td>2</td>\n",
       "      <td>2</td>\n",
       "    </tr>\n",
       "    <tr>\n",
       "      <th>4</th>\n",
       "      <td>6</td>\n",
       "      <td>21903</td>\n",
       "      <td>2</td>\n",
       "      <td>3</td>\n",
       "      <td>1</td>\n",
       "      <td>3</td>\n",
       "    </tr>\n",
       "  </tbody>\n",
       "</table>\n",
       "</div>"
      ],
      "text/plain": [
       "   user_id  product_id  times_bought  total_orders  first_order  order_range\n",
       "0        6        8424             1             3            3            1\n",
       "1        6       10644             1             3            2            2\n",
       "2        6       11068             1             3            2            2\n",
       "3        6       20323             1             3            2            2\n",
       "4        6       21903             2             3            1            3"
      ]
     },
     "execution_count": 40,
     "metadata": {},
     "output_type": "execute_result"
    }
   ],
   "source": [
    "user_product_ratio.head(5)"
   ]
  },
  {
   "cell_type": "code",
   "execution_count": 41,
   "id": "213090e1",
   "metadata": {
    "execution": {
     "iopub.execute_input": "2022-11-20T05:55:51.294093Z",
     "iopub.status.busy": "2022-11-20T05:55:51.293689Z",
     "iopub.status.idle": "2022-11-20T05:55:51.313048Z",
     "shell.execute_reply": "2022-11-20T05:55:51.312136Z"
    },
    "papermill": {
     "duration": 0.078285,
     "end_time": "2022-11-20T05:55:51.316027",
     "exception": false,
     "start_time": "2022-11-20T05:55:51.237742",
     "status": "completed"
    },
    "tags": []
   },
   "outputs": [],
   "source": [
    "# ratio calculation\n",
    "user_product_ratio['user_reorder_ratio'] = user_product_ratio.times_bought / user_product_ratio.order_range"
   ]
  },
  {
   "cell_type": "code",
   "execution_count": 42,
   "id": "ba35fc01",
   "metadata": {
    "execution": {
     "iopub.execute_input": "2022-11-20T05:55:51.433747Z",
     "iopub.status.busy": "2022-11-20T05:55:51.433347Z",
     "iopub.status.idle": "2022-11-20T05:55:51.447893Z",
     "shell.execute_reply": "2022-11-20T05:55:51.446603Z"
    },
    "papermill": {
     "duration": 0.076357,
     "end_time": "2022-11-20T05:55:51.450969",
     "exception": false,
     "start_time": "2022-11-20T05:55:51.374612",
     "status": "completed"
    },
    "tags": []
   },
   "outputs": [
    {
     "data": {
      "text/html": [
       "<div>\n",
       "<style scoped>\n",
       "    .dataframe tbody tr th:only-of-type {\n",
       "        vertical-align: middle;\n",
       "    }\n",
       "\n",
       "    .dataframe tbody tr th {\n",
       "        vertical-align: top;\n",
       "    }\n",
       "\n",
       "    .dataframe thead th {\n",
       "        text-align: right;\n",
       "    }\n",
       "</style>\n",
       "<table border=\"1\" class=\"dataframe\">\n",
       "  <thead>\n",
       "    <tr style=\"text-align: right;\">\n",
       "      <th></th>\n",
       "      <th>user_id</th>\n",
       "      <th>product_id</th>\n",
       "      <th>times_bought</th>\n",
       "      <th>total_orders</th>\n",
       "      <th>first_order</th>\n",
       "      <th>order_range</th>\n",
       "      <th>user_reorder_ratio</th>\n",
       "    </tr>\n",
       "  </thead>\n",
       "  <tbody>\n",
       "    <tr>\n",
       "      <th>0</th>\n",
       "      <td>6</td>\n",
       "      <td>8424</td>\n",
       "      <td>1</td>\n",
       "      <td>3</td>\n",
       "      <td>3</td>\n",
       "      <td>1</td>\n",
       "      <td>1.000000</td>\n",
       "    </tr>\n",
       "    <tr>\n",
       "      <th>1</th>\n",
       "      <td>6</td>\n",
       "      <td>10644</td>\n",
       "      <td>1</td>\n",
       "      <td>3</td>\n",
       "      <td>2</td>\n",
       "      <td>2</td>\n",
       "      <td>0.500000</td>\n",
       "    </tr>\n",
       "    <tr>\n",
       "      <th>2</th>\n",
       "      <td>6</td>\n",
       "      <td>11068</td>\n",
       "      <td>1</td>\n",
       "      <td>3</td>\n",
       "      <td>2</td>\n",
       "      <td>2</td>\n",
       "      <td>0.500000</td>\n",
       "    </tr>\n",
       "    <tr>\n",
       "      <th>3</th>\n",
       "      <td>6</td>\n",
       "      <td>20323</td>\n",
       "      <td>1</td>\n",
       "      <td>3</td>\n",
       "      <td>2</td>\n",
       "      <td>2</td>\n",
       "      <td>0.500000</td>\n",
       "    </tr>\n",
       "    <tr>\n",
       "      <th>4</th>\n",
       "      <td>6</td>\n",
       "      <td>21903</td>\n",
       "      <td>2</td>\n",
       "      <td>3</td>\n",
       "      <td>1</td>\n",
       "      <td>3</td>\n",
       "      <td>0.666667</td>\n",
       "    </tr>\n",
       "  </tbody>\n",
       "</table>\n",
       "</div>"
      ],
      "text/plain": [
       "   user_id  product_id  times_bought  total_orders  first_order  order_range  \\\n",
       "0        6        8424             1             3            3            1   \n",
       "1        6       10644             1             3            2            2   \n",
       "2        6       11068             1             3            2            2   \n",
       "3        6       20323             1             3            2            2   \n",
       "4        6       21903             2             3            1            3   \n",
       "\n",
       "   user_reorder_ratio  \n",
       "0            1.000000  \n",
       "1            0.500000  \n",
       "2            0.500000  \n",
       "3            0.500000  \n",
       "4            0.666667  "
      ]
     },
     "execution_count": 42,
     "metadata": {},
     "output_type": "execute_result"
    }
   ],
   "source": [
    "user_product_ratio.head(5)"
   ]
  },
  {
   "cell_type": "code",
   "execution_count": 43,
   "id": "74244167",
   "metadata": {
    "execution": {
     "iopub.execute_input": "2022-11-20T05:55:51.571673Z",
     "iopub.status.busy": "2022-11-20T05:55:51.571152Z",
     "iopub.status.idle": "2022-11-20T05:55:51.803843Z",
     "shell.execute_reply": "2022-11-20T05:55:51.802756Z"
    },
    "papermill": {
     "duration": 0.294953,
     "end_time": "2022-11-20T05:55:51.806207",
     "exception": false,
     "start_time": "2022-11-20T05:55:51.511254",
     "status": "completed"
    },
    "tags": []
   },
   "outputs": [
    {
     "data": {
      "text/html": [
       "<div>\n",
       "<style scoped>\n",
       "    .dataframe tbody tr th:only-of-type {\n",
       "        vertical-align: middle;\n",
       "    }\n",
       "\n",
       "    .dataframe tbody tr th {\n",
       "        vertical-align: top;\n",
       "    }\n",
       "\n",
       "    .dataframe thead th {\n",
       "        text-align: right;\n",
       "    }\n",
       "</style>\n",
       "<table border=\"1\" class=\"dataframe\">\n",
       "  <thead>\n",
       "    <tr style=\"text-align: right;\">\n",
       "      <th></th>\n",
       "      <th>user_id</th>\n",
       "      <th>product_id</th>\n",
       "      <th>user_reorder_ratio</th>\n",
       "    </tr>\n",
       "  </thead>\n",
       "  <tbody>\n",
       "    <tr>\n",
       "      <th>0</th>\n",
       "      <td>6</td>\n",
       "      <td>8424</td>\n",
       "      <td>1.000000</td>\n",
       "    </tr>\n",
       "    <tr>\n",
       "      <th>1</th>\n",
       "      <td>6</td>\n",
       "      <td>10644</td>\n",
       "      <td>0.500000</td>\n",
       "    </tr>\n",
       "    <tr>\n",
       "      <th>2</th>\n",
       "      <td>6</td>\n",
       "      <td>11068</td>\n",
       "      <td>0.500000</td>\n",
       "    </tr>\n",
       "    <tr>\n",
       "      <th>3</th>\n",
       "      <td>6</td>\n",
       "      <td>20323</td>\n",
       "      <td>0.500000</td>\n",
       "    </tr>\n",
       "    <tr>\n",
       "      <th>4</th>\n",
       "      <td>6</td>\n",
       "      <td>21903</td>\n",
       "      <td>0.666667</td>\n",
       "    </tr>\n",
       "  </tbody>\n",
       "</table>\n",
       "</div>"
      ],
      "text/plain": [
       "   user_id  product_id  user_reorder_ratio\n",
       "0        6        8424            1.000000\n",
       "1        6       10644            0.500000\n",
       "2        6       11068            0.500000\n",
       "3        6       20323            0.500000\n",
       "4        6       21903            0.666667"
      ]
     },
     "execution_count": 43,
     "metadata": {},
     "output_type": "execute_result"
    }
   ],
   "source": [
    "user_product_ratio = user_product_ratio.drop(['times_bought','total_orders','first_order','order_range'], axis = 1)\n",
    "user_product_ratio.head(5)"
   ]
  },
  {
   "cell_type": "code",
   "execution_count": 44,
   "id": "1095fd99",
   "metadata": {
    "execution": {
     "iopub.execute_input": "2022-11-20T05:55:51.921755Z",
     "iopub.status.busy": "2022-11-20T05:55:51.921176Z",
     "iopub.status.idle": "2022-11-20T05:55:51.927300Z",
     "shell.execute_reply": "2022-11-20T05:55:51.925971Z"
    },
    "papermill": {
     "duration": 0.067874,
     "end_time": "2022-11-20T05:55:51.929724",
     "exception": false,
     "start_time": "2022-11-20T05:55:51.861850",
     "status": "completed"
    },
    "tags": []
   },
   "outputs": [],
   "source": [
    "del [times_bought, first_order, span] # remove temporary dataframes"
   ]
  },
  {
   "cell_type": "code",
   "execution_count": 45,
   "id": "78b6f452",
   "metadata": {
    "execution": {
     "iopub.execute_input": "2022-11-20T05:55:52.049942Z",
     "iopub.status.busy": "2022-11-20T05:55:52.049538Z",
     "iopub.status.idle": "2022-11-20T05:55:54.358011Z",
     "shell.execute_reply": "2022-11-20T05:55:54.356479Z"
    },
    "papermill": {
     "duration": 2.37244,
     "end_time": "2022-11-20T05:55:54.361574",
     "exception": false,
     "start_time": "2022-11-20T05:55:51.989134",
     "status": "completed"
    },
    "tags": []
   },
   "outputs": [],
   "source": [
    "# new feature is merged with user_product dataframe which keeps all the features based on combination of user-products\n",
    "# left join to keep all user-products created\n",
    "user_product = user_product.merge(user_product_ratio, on = ['user_id','product_id'], how = 'left')"
   ]
  },
  {
   "cell_type": "code",
   "execution_count": 46,
   "id": "cd85c1da",
   "metadata": {
    "execution": {
     "iopub.execute_input": "2022-11-20T05:55:54.475563Z",
     "iopub.status.busy": "2022-11-20T05:55:54.475065Z",
     "iopub.status.idle": "2022-11-20T05:55:54.479971Z",
     "shell.execute_reply": "2022-11-20T05:55:54.478811Z"
    },
    "papermill": {
     "duration": 0.06426,
     "end_time": "2022-11-20T05:55:54.482552",
     "exception": false,
     "start_time": "2022-11-20T05:55:54.418292",
     "status": "completed"
    },
    "tags": []
   },
   "outputs": [],
   "source": [
    "del user_product_ratio"
   ]
  },
  {
   "cell_type": "code",
   "execution_count": 47,
   "id": "5419b4b1",
   "metadata": {
    "execution": {
     "iopub.execute_input": "2022-11-20T05:55:54.593408Z",
     "iopub.status.busy": "2022-11-20T05:55:54.592816Z",
     "iopub.status.idle": "2022-11-20T05:55:54.605491Z",
     "shell.execute_reply": "2022-11-20T05:55:54.604214Z"
    },
    "papermill": {
     "duration": 0.070762,
     "end_time": "2022-11-20T05:55:54.607794",
     "exception": false,
     "start_time": "2022-11-20T05:55:54.537032",
     "status": "completed"
    },
    "tags": []
   },
   "outputs": [
    {
     "data": {
      "text/html": [
       "<div>\n",
       "<style scoped>\n",
       "    .dataframe tbody tr th:only-of-type {\n",
       "        vertical-align: middle;\n",
       "    }\n",
       "\n",
       "    .dataframe tbody tr th {\n",
       "        vertical-align: top;\n",
       "    }\n",
       "\n",
       "    .dataframe thead th {\n",
       "        text-align: right;\n",
       "    }\n",
       "</style>\n",
       "<table border=\"1\" class=\"dataframe\">\n",
       "  <thead>\n",
       "    <tr style=\"text-align: right;\">\n",
       "      <th></th>\n",
       "      <th>user_id</th>\n",
       "      <th>product_id</th>\n",
       "      <th>user_product_total</th>\n",
       "      <th>user_reorder_ratio</th>\n",
       "    </tr>\n",
       "  </thead>\n",
       "  <tbody>\n",
       "    <tr>\n",
       "      <th>0</th>\n",
       "      <td>6</td>\n",
       "      <td>8424</td>\n",
       "      <td>1</td>\n",
       "      <td>1.000000</td>\n",
       "    </tr>\n",
       "    <tr>\n",
       "      <th>1</th>\n",
       "      <td>6</td>\n",
       "      <td>10644</td>\n",
       "      <td>1</td>\n",
       "      <td>0.500000</td>\n",
       "    </tr>\n",
       "    <tr>\n",
       "      <th>2</th>\n",
       "      <td>6</td>\n",
       "      <td>11068</td>\n",
       "      <td>1</td>\n",
       "      <td>0.500000</td>\n",
       "    </tr>\n",
       "    <tr>\n",
       "      <th>3</th>\n",
       "      <td>6</td>\n",
       "      <td>20323</td>\n",
       "      <td>1</td>\n",
       "      <td>0.500000</td>\n",
       "    </tr>\n",
       "    <tr>\n",
       "      <th>4</th>\n",
       "      <td>6</td>\n",
       "      <td>21903</td>\n",
       "      <td>2</td>\n",
       "      <td>0.666667</td>\n",
       "    </tr>\n",
       "  </tbody>\n",
       "</table>\n",
       "</div>"
      ],
      "text/plain": [
       "   user_id  product_id  user_product_total  user_reorder_ratio\n",
       "0        6        8424                   1            1.000000\n",
       "1        6       10644                   1            0.500000\n",
       "2        6       11068                   1            0.500000\n",
       "3        6       20323                   1            0.500000\n",
       "4        6       21903                   2            0.666667"
      ]
     },
     "execution_count": 47,
     "metadata": {},
     "output_type": "execute_result"
    }
   ],
   "source": [
    "user_product.head(5)"
   ]
  },
  {
   "cell_type": "markdown",
   "id": "e2c06a96",
   "metadata": {
    "papermill": {
     "duration": 0.054449,
     "end_time": "2022-11-20T05:55:54.718586",
     "exception": false,
     "start_time": "2022-11-20T05:55:54.664137",
     "status": "completed"
    },
    "tags": []
   },
   "source": [
    "Number of times a customer bought a product on their last 5 orders\n",
    "* ratio of number of times a user bought a product on their last five orders / five orders"
   ]
  },
  {
   "cell_type": "code",
   "execution_count": 48,
   "id": "2aec8c87",
   "metadata": {
    "execution": {
     "iopub.execute_input": "2022-11-20T05:55:54.834101Z",
     "iopub.status.busy": "2022-11-20T05:55:54.833669Z",
     "iopub.status.idle": "2022-11-20T05:55:55.208772Z",
     "shell.execute_reply": "2022-11-20T05:55:55.207569Z"
    },
    "papermill": {
     "duration": 0.435641,
     "end_time": "2022-11-20T05:55:55.211582",
     "exception": false,
     "start_time": "2022-11-20T05:55:54.775941",
     "status": "completed"
    },
    "tags": []
   },
   "outputs": [
    {
     "data": {
      "text/html": [
       "<div>\n",
       "<style scoped>\n",
       "    .dataframe tbody tr th:only-of-type {\n",
       "        vertical-align: middle;\n",
       "    }\n",
       "\n",
       "    .dataframe tbody tr th {\n",
       "        vertical-align: top;\n",
       "    }\n",
       "\n",
       "    .dataframe thead th {\n",
       "        text-align: right;\n",
       "    }\n",
       "</style>\n",
       "<table border=\"1\" class=\"dataframe\">\n",
       "  <thead>\n",
       "    <tr style=\"text-align: right;\">\n",
       "      <th></th>\n",
       "      <th>order_id</th>\n",
       "      <th>user_id</th>\n",
       "      <th>eval_set</th>\n",
       "      <th>order_number</th>\n",
       "      <th>order_dow</th>\n",
       "      <th>order_hour_of_day</th>\n",
       "      <th>days_since_prior_order</th>\n",
       "      <th>product_id</th>\n",
       "      <th>add_to_cart_order</th>\n",
       "      <th>reordered</th>\n",
       "      <th>order_number_back</th>\n",
       "    </tr>\n",
       "  </thead>\n",
       "  <tbody>\n",
       "    <tr>\n",
       "      <th>0</th>\n",
       "      <td>2086598</td>\n",
       "      <td>6</td>\n",
       "      <td>prior</td>\n",
       "      <td>1</td>\n",
       "      <td>5</td>\n",
       "      <td>18</td>\n",
       "      <td>NaN</td>\n",
       "      <td>27521</td>\n",
       "      <td>1</td>\n",
       "      <td>0</td>\n",
       "      <td>3</td>\n",
       "    </tr>\n",
       "    <tr>\n",
       "      <th>1</th>\n",
       "      <td>2086598</td>\n",
       "      <td>6</td>\n",
       "      <td>prior</td>\n",
       "      <td>1</td>\n",
       "      <td>5</td>\n",
       "      <td>18</td>\n",
       "      <td>NaN</td>\n",
       "      <td>38293</td>\n",
       "      <td>2</td>\n",
       "      <td>0</td>\n",
       "      <td>3</td>\n",
       "    </tr>\n",
       "    <tr>\n",
       "      <th>2</th>\n",
       "      <td>2086598</td>\n",
       "      <td>6</td>\n",
       "      <td>prior</td>\n",
       "      <td>1</td>\n",
       "      <td>5</td>\n",
       "      <td>18</td>\n",
       "      <td>NaN</td>\n",
       "      <td>21903</td>\n",
       "      <td>3</td>\n",
       "      <td>0</td>\n",
       "      <td>3</td>\n",
       "    </tr>\n",
       "    <tr>\n",
       "      <th>3</th>\n",
       "      <td>2086598</td>\n",
       "      <td>6</td>\n",
       "      <td>prior</td>\n",
       "      <td>1</td>\n",
       "      <td>5</td>\n",
       "      <td>18</td>\n",
       "      <td>NaN</td>\n",
       "      <td>48679</td>\n",
       "      <td>4</td>\n",
       "      <td>0</td>\n",
       "      <td>3</td>\n",
       "    </tr>\n",
       "    <tr>\n",
       "      <th>4</th>\n",
       "      <td>298250</td>\n",
       "      <td>6</td>\n",
       "      <td>prior</td>\n",
       "      <td>2</td>\n",
       "      <td>4</td>\n",
       "      <td>16</td>\n",
       "      <td>6.0</td>\n",
       "      <td>38293</td>\n",
       "      <td>1</td>\n",
       "      <td>1</td>\n",
       "      <td>2</td>\n",
       "    </tr>\n",
       "    <tr>\n",
       "      <th>5</th>\n",
       "      <td>298250</td>\n",
       "      <td>6</td>\n",
       "      <td>prior</td>\n",
       "      <td>2</td>\n",
       "      <td>4</td>\n",
       "      <td>16</td>\n",
       "      <td>6.0</td>\n",
       "      <td>20323</td>\n",
       "      <td>2</td>\n",
       "      <td>0</td>\n",
       "      <td>2</td>\n",
       "    </tr>\n",
       "    <tr>\n",
       "      <th>6</th>\n",
       "      <td>298250</td>\n",
       "      <td>6</td>\n",
       "      <td>prior</td>\n",
       "      <td>2</td>\n",
       "      <td>4</td>\n",
       "      <td>16</td>\n",
       "      <td>6.0</td>\n",
       "      <td>40992</td>\n",
       "      <td>3</td>\n",
       "      <td>0</td>\n",
       "      <td>2</td>\n",
       "    </tr>\n",
       "    <tr>\n",
       "      <th>7</th>\n",
       "      <td>298250</td>\n",
       "      <td>6</td>\n",
       "      <td>prior</td>\n",
       "      <td>2</td>\n",
       "      <td>4</td>\n",
       "      <td>16</td>\n",
       "      <td>6.0</td>\n",
       "      <td>21903</td>\n",
       "      <td>4</td>\n",
       "      <td>1</td>\n",
       "      <td>2</td>\n",
       "    </tr>\n",
       "    <tr>\n",
       "      <th>8</th>\n",
       "      <td>298250</td>\n",
       "      <td>6</td>\n",
       "      <td>prior</td>\n",
       "      <td>2</td>\n",
       "      <td>4</td>\n",
       "      <td>16</td>\n",
       "      <td>6.0</td>\n",
       "      <td>45007</td>\n",
       "      <td>5</td>\n",
       "      <td>0</td>\n",
       "      <td>2</td>\n",
       "    </tr>\n",
       "    <tr>\n",
       "      <th>9</th>\n",
       "      <td>298250</td>\n",
       "      <td>6</td>\n",
       "      <td>prior</td>\n",
       "      <td>2</td>\n",
       "      <td>4</td>\n",
       "      <td>16</td>\n",
       "      <td>6.0</td>\n",
       "      <td>11068</td>\n",
       "      <td>6</td>\n",
       "      <td>0</td>\n",
       "      <td>2</td>\n",
       "    </tr>\n",
       "    <tr>\n",
       "      <th>10</th>\n",
       "      <td>298250</td>\n",
       "      <td>6</td>\n",
       "      <td>prior</td>\n",
       "      <td>2</td>\n",
       "      <td>4</td>\n",
       "      <td>16</td>\n",
       "      <td>6.0</td>\n",
       "      <td>10644</td>\n",
       "      <td>7</td>\n",
       "      <td>0</td>\n",
       "      <td>2</td>\n",
       "    </tr>\n",
       "    <tr>\n",
       "      <th>11</th>\n",
       "      <td>998866</td>\n",
       "      <td>6</td>\n",
       "      <td>prior</td>\n",
       "      <td>3</td>\n",
       "      <td>2</td>\n",
       "      <td>18</td>\n",
       "      <td>12.0</td>\n",
       "      <td>49401</td>\n",
       "      <td>1</td>\n",
       "      <td>0</td>\n",
       "      <td>1</td>\n",
       "    </tr>\n",
       "    <tr>\n",
       "      <th>12</th>\n",
       "      <td>998866</td>\n",
       "      <td>6</td>\n",
       "      <td>prior</td>\n",
       "      <td>3</td>\n",
       "      <td>2</td>\n",
       "      <td>18</td>\n",
       "      <td>12.0</td>\n",
       "      <td>25659</td>\n",
       "      <td>2</td>\n",
       "      <td>0</td>\n",
       "      <td>1</td>\n",
       "    </tr>\n",
       "    <tr>\n",
       "      <th>13</th>\n",
       "      <td>998866</td>\n",
       "      <td>6</td>\n",
       "      <td>prior</td>\n",
       "      <td>3</td>\n",
       "      <td>2</td>\n",
       "      <td>18</td>\n",
       "      <td>12.0</td>\n",
       "      <td>8424</td>\n",
       "      <td>3</td>\n",
       "      <td>0</td>\n",
       "      <td>1</td>\n",
       "    </tr>\n",
       "    <tr>\n",
       "      <th>14</th>\n",
       "      <td>1224907</td>\n",
       "      <td>10</td>\n",
       "      <td>prior</td>\n",
       "      <td>1</td>\n",
       "      <td>2</td>\n",
       "      <td>14</td>\n",
       "      <td>NaN</td>\n",
       "      <td>46979</td>\n",
       "      <td>1</td>\n",
       "      <td>0</td>\n",
       "      <td>5</td>\n",
       "    </tr>\n",
       "    <tr>\n",
       "      <th>15</th>\n",
       "      <td>1224907</td>\n",
       "      <td>10</td>\n",
       "      <td>prior</td>\n",
       "      <td>1</td>\n",
       "      <td>2</td>\n",
       "      <td>14</td>\n",
       "      <td>NaN</td>\n",
       "      <td>24852</td>\n",
       "      <td>2</td>\n",
       "      <td>0</td>\n",
       "      <td>5</td>\n",
       "    </tr>\n",
       "    <tr>\n",
       "      <th>16</th>\n",
       "      <td>1224907</td>\n",
       "      <td>10</td>\n",
       "      <td>prior</td>\n",
       "      <td>1</td>\n",
       "      <td>2</td>\n",
       "      <td>14</td>\n",
       "      <td>NaN</td>\n",
       "      <td>27104</td>\n",
       "      <td>3</td>\n",
       "      <td>0</td>\n",
       "      <td>5</td>\n",
       "    </tr>\n",
       "    <tr>\n",
       "      <th>17</th>\n",
       "      <td>1224907</td>\n",
       "      <td>10</td>\n",
       "      <td>prior</td>\n",
       "      <td>1</td>\n",
       "      <td>2</td>\n",
       "      <td>14</td>\n",
       "      <td>NaN</td>\n",
       "      <td>16797</td>\n",
       "      <td>4</td>\n",
       "      <td>0</td>\n",
       "      <td>5</td>\n",
       "    </tr>\n",
       "    <tr>\n",
       "      <th>18</th>\n",
       "      <td>1224907</td>\n",
       "      <td>10</td>\n",
       "      <td>prior</td>\n",
       "      <td>1</td>\n",
       "      <td>2</td>\n",
       "      <td>14</td>\n",
       "      <td>NaN</td>\n",
       "      <td>31717</td>\n",
       "      <td>5</td>\n",
       "      <td>0</td>\n",
       "      <td>5</td>\n",
       "    </tr>\n",
       "    <tr>\n",
       "      <th>19</th>\n",
       "      <td>68288</td>\n",
       "      <td>10</td>\n",
       "      <td>prior</td>\n",
       "      <td>2</td>\n",
       "      <td>5</td>\n",
       "      <td>15</td>\n",
       "      <td>30.0</td>\n",
       "      <td>46979</td>\n",
       "      <td>1</td>\n",
       "      <td>1</td>\n",
       "      <td>4</td>\n",
       "    </tr>\n",
       "  </tbody>\n",
       "</table>\n",
       "</div>"
      ],
      "text/plain": [
       "    order_id  user_id eval_set  order_number  order_dow  order_hour_of_day  \\\n",
       "0    2086598        6    prior             1          5                 18   \n",
       "1    2086598        6    prior             1          5                 18   \n",
       "2    2086598        6    prior             1          5                 18   \n",
       "3    2086598        6    prior             1          5                 18   \n",
       "4     298250        6    prior             2          4                 16   \n",
       "5     298250        6    prior             2          4                 16   \n",
       "6     298250        6    prior             2          4                 16   \n",
       "7     298250        6    prior             2          4                 16   \n",
       "8     298250        6    prior             2          4                 16   \n",
       "9     298250        6    prior             2          4                 16   \n",
       "10    298250        6    prior             2          4                 16   \n",
       "11    998866        6    prior             3          2                 18   \n",
       "12    998866        6    prior             3          2                 18   \n",
       "13    998866        6    prior             3          2                 18   \n",
       "14   1224907       10    prior             1          2                 14   \n",
       "15   1224907       10    prior             1          2                 14   \n",
       "16   1224907       10    prior             1          2                 14   \n",
       "17   1224907       10    prior             1          2                 14   \n",
       "18   1224907       10    prior             1          2                 14   \n",
       "19     68288       10    prior             2          5                 15   \n",
       "\n",
       "    days_since_prior_order  product_id  add_to_cart_order  reordered  \\\n",
       "0                      NaN       27521                  1          0   \n",
       "1                      NaN       38293                  2          0   \n",
       "2                      NaN       21903                  3          0   \n",
       "3                      NaN       48679                  4          0   \n",
       "4                      6.0       38293                  1          1   \n",
       "5                      6.0       20323                  2          0   \n",
       "6                      6.0       40992                  3          0   \n",
       "7                      6.0       21903                  4          1   \n",
       "8                      6.0       45007                  5          0   \n",
       "9                      6.0       11068                  6          0   \n",
       "10                     6.0       10644                  7          0   \n",
       "11                    12.0       49401                  1          0   \n",
       "12                    12.0       25659                  2          0   \n",
       "13                    12.0        8424                  3          0   \n",
       "14                     NaN       46979                  1          0   \n",
       "15                     NaN       24852                  2          0   \n",
       "16                     NaN       27104                  3          0   \n",
       "17                     NaN       16797                  4          0   \n",
       "18                     NaN       31717                  5          0   \n",
       "19                    30.0       46979                  1          1   \n",
       "\n",
       "    order_number_back  \n",
       "0                   3  \n",
       "1                   3  \n",
       "2                   3  \n",
       "3                   3  \n",
       "4                   2  \n",
       "5                   2  \n",
       "6                   2  \n",
       "7                   2  \n",
       "8                   2  \n",
       "9                   2  \n",
       "10                  2  \n",
       "11                  1  \n",
       "12                  1  \n",
       "13                  1  \n",
       "14                  5  \n",
       "15                  5  \n",
       "16                  5  \n",
       "17                  5  \n",
       "18                  5  \n",
       "19                  4  "
      ]
     },
     "execution_count": 48,
     "metadata": {},
     "output_type": "execute_result"
    }
   ],
   "source": [
    "# variable(column) order_number_back keeps the order_number for each order in reverse order\n",
    "# groupby() on users and products to get how many times each customer bought a product\n",
    "# .transform(max) gets the highest number of the column order_number for each group & with minus (-) order_prior.order_number we substract the order_number of each row\n",
    "# + 1 is done to include fisrt order where the product has been purchased\n",
    "order_prior['order_number_back'] = order_prior.groupby('user_id')['order_number'].transform(max) - order_prior.order_number + 1\n",
    "order_prior.head(20)"
   ]
  },
  {
   "cell_type": "code",
   "execution_count": 49,
   "id": "966e033c",
   "metadata": {
    "execution": {
     "iopub.execute_input": "2022-11-20T05:55:55.326842Z",
     "iopub.status.busy": "2022-11-20T05:55:55.326041Z",
     "iopub.status.idle": "2022-11-20T05:55:56.077636Z",
     "shell.execute_reply": "2022-11-20T05:55:56.076434Z"
    },
    "papermill": {
     "duration": 0.811565,
     "end_time": "2022-11-20T05:55:56.080435",
     "exception": false,
     "start_time": "2022-11-20T05:55:55.268870",
     "status": "completed"
    },
    "tags": []
   },
   "outputs": [
    {
     "data": {
      "text/html": [
       "<div>\n",
       "<style scoped>\n",
       "    .dataframe tbody tr th:only-of-type {\n",
       "        vertical-align: middle;\n",
       "    }\n",
       "\n",
       "    .dataframe tbody tr th {\n",
       "        vertical-align: top;\n",
       "    }\n",
       "\n",
       "    .dataframe thead th {\n",
       "        text-align: right;\n",
       "    }\n",
       "</style>\n",
       "<table border=\"1\" class=\"dataframe\">\n",
       "  <thead>\n",
       "    <tr style=\"text-align: right;\">\n",
       "      <th></th>\n",
       "      <th>order_id</th>\n",
       "      <th>user_id</th>\n",
       "      <th>eval_set</th>\n",
       "      <th>order_number</th>\n",
       "      <th>order_dow</th>\n",
       "      <th>order_hour_of_day</th>\n",
       "      <th>days_since_prior_order</th>\n",
       "      <th>product_id</th>\n",
       "      <th>add_to_cart_order</th>\n",
       "      <th>reordered</th>\n",
       "      <th>order_number_back</th>\n",
       "    </tr>\n",
       "  </thead>\n",
       "  <tbody>\n",
       "    <tr>\n",
       "      <th>14</th>\n",
       "      <td>1224907</td>\n",
       "      <td>10</td>\n",
       "      <td>prior</td>\n",
       "      <td>1</td>\n",
       "      <td>2</td>\n",
       "      <td>14</td>\n",
       "      <td>NaN</td>\n",
       "      <td>46979</td>\n",
       "      <td>1</td>\n",
       "      <td>0</td>\n",
       "      <td>5</td>\n",
       "    </tr>\n",
       "    <tr>\n",
       "      <th>15</th>\n",
       "      <td>1224907</td>\n",
       "      <td>10</td>\n",
       "      <td>prior</td>\n",
       "      <td>1</td>\n",
       "      <td>2</td>\n",
       "      <td>14</td>\n",
       "      <td>NaN</td>\n",
       "      <td>24852</td>\n",
       "      <td>2</td>\n",
       "      <td>0</td>\n",
       "      <td>5</td>\n",
       "    </tr>\n",
       "    <tr>\n",
       "      <th>16</th>\n",
       "      <td>1224907</td>\n",
       "      <td>10</td>\n",
       "      <td>prior</td>\n",
       "      <td>1</td>\n",
       "      <td>2</td>\n",
       "      <td>14</td>\n",
       "      <td>NaN</td>\n",
       "      <td>27104</td>\n",
       "      <td>3</td>\n",
       "      <td>0</td>\n",
       "      <td>5</td>\n",
       "    </tr>\n",
       "    <tr>\n",
       "      <th>17</th>\n",
       "      <td>1224907</td>\n",
       "      <td>10</td>\n",
       "      <td>prior</td>\n",
       "      <td>1</td>\n",
       "      <td>2</td>\n",
       "      <td>14</td>\n",
       "      <td>NaN</td>\n",
       "      <td>16797</td>\n",
       "      <td>4</td>\n",
       "      <td>0</td>\n",
       "      <td>5</td>\n",
       "    </tr>\n",
       "    <tr>\n",
       "      <th>18</th>\n",
       "      <td>1224907</td>\n",
       "      <td>10</td>\n",
       "      <td>prior</td>\n",
       "      <td>1</td>\n",
       "      <td>2</td>\n",
       "      <td>14</td>\n",
       "      <td>NaN</td>\n",
       "      <td>31717</td>\n",
       "      <td>5</td>\n",
       "      <td>0</td>\n",
       "      <td>5</td>\n",
       "    </tr>\n",
       "    <tr>\n",
       "      <th>19</th>\n",
       "      <td>68288</td>\n",
       "      <td>10</td>\n",
       "      <td>prior</td>\n",
       "      <td>2</td>\n",
       "      <td>5</td>\n",
       "      <td>15</td>\n",
       "      <td>30.0</td>\n",
       "      <td>46979</td>\n",
       "      <td>1</td>\n",
       "      <td>1</td>\n",
       "      <td>4</td>\n",
       "    </tr>\n",
       "    <tr>\n",
       "      <th>20</th>\n",
       "      <td>68288</td>\n",
       "      <td>10</td>\n",
       "      <td>prior</td>\n",
       "      <td>2</td>\n",
       "      <td>5</td>\n",
       "      <td>15</td>\n",
       "      <td>30.0</td>\n",
       "      <td>47380</td>\n",
       "      <td>2</td>\n",
       "      <td>0</td>\n",
       "      <td>4</td>\n",
       "    </tr>\n",
       "    <tr>\n",
       "      <th>21</th>\n",
       "      <td>68288</td>\n",
       "      <td>10</td>\n",
       "      <td>prior</td>\n",
       "      <td>2</td>\n",
       "      <td>5</td>\n",
       "      <td>15</td>\n",
       "      <td>30.0</td>\n",
       "      <td>20995</td>\n",
       "      <td>3</td>\n",
       "      <td>0</td>\n",
       "      <td>4</td>\n",
       "    </tr>\n",
       "    <tr>\n",
       "      <th>22</th>\n",
       "      <td>68288</td>\n",
       "      <td>10</td>\n",
       "      <td>prior</td>\n",
       "      <td>2</td>\n",
       "      <td>5</td>\n",
       "      <td>15</td>\n",
       "      <td>30.0</td>\n",
       "      <td>43014</td>\n",
       "      <td>4</td>\n",
       "      <td>0</td>\n",
       "      <td>4</td>\n",
       "    </tr>\n",
       "    <tr>\n",
       "      <th>23</th>\n",
       "      <td>68288</td>\n",
       "      <td>10</td>\n",
       "      <td>prior</td>\n",
       "      <td>2</td>\n",
       "      <td>5</td>\n",
       "      <td>15</td>\n",
       "      <td>30.0</td>\n",
       "      <td>15011</td>\n",
       "      <td>5</td>\n",
       "      <td>0</td>\n",
       "      <td>4</td>\n",
       "    </tr>\n",
       "  </tbody>\n",
       "</table>\n",
       "</div>"
      ],
      "text/plain": [
       "    order_id  user_id eval_set  order_number  order_dow  order_hour_of_day  \\\n",
       "14   1224907       10    prior             1          2                 14   \n",
       "15   1224907       10    prior             1          2                 14   \n",
       "16   1224907       10    prior             1          2                 14   \n",
       "17   1224907       10    prior             1          2                 14   \n",
       "18   1224907       10    prior             1          2                 14   \n",
       "19     68288       10    prior             2          5                 15   \n",
       "20     68288       10    prior             2          5                 15   \n",
       "21     68288       10    prior             2          5                 15   \n",
       "22     68288       10    prior             2          5                 15   \n",
       "23     68288       10    prior             2          5                 15   \n",
       "\n",
       "    days_since_prior_order  product_id  add_to_cart_order  reordered  \\\n",
       "14                     NaN       46979                  1          0   \n",
       "15                     NaN       24852                  2          0   \n",
       "16                     NaN       27104                  3          0   \n",
       "17                     NaN       16797                  4          0   \n",
       "18                     NaN       31717                  5          0   \n",
       "19                    30.0       46979                  1          1   \n",
       "20                    30.0       47380                  2          0   \n",
       "21                    30.0       20995                  3          0   \n",
       "22                    30.0       43014                  4          0   \n",
       "23                    30.0       15011                  5          0   \n",
       "\n",
       "    order_number_back  \n",
       "14                  5  \n",
       "15                  5  \n",
       "16                  5  \n",
       "17                  5  \n",
       "18                  5  \n",
       "19                  4  \n",
       "20                  4  \n",
       "21                  4  \n",
       "22                  4  \n",
       "23                  4  "
      ]
     },
     "execution_count": 49,
     "metadata": {},
     "output_type": "execute_result"
    }
   ],
   "source": [
    "order_prior[order_prior.user_id == 10].head(10)"
   ]
  },
  {
   "cell_type": "code",
   "execution_count": 50,
   "id": "e0fcd811",
   "metadata": {
    "execution": {
     "iopub.execute_input": "2022-11-20T05:55:56.198559Z",
     "iopub.status.busy": "2022-11-20T05:55:56.197363Z",
     "iopub.status.idle": "2022-11-20T05:55:56.439824Z",
     "shell.execute_reply": "2022-11-20T05:55:56.438604Z"
    },
    "papermill": {
     "duration": 0.3044,
     "end_time": "2022-11-20T05:55:56.442662",
     "exception": false,
     "start_time": "2022-11-20T05:55:56.138262",
     "status": "completed"
    },
    "tags": []
   },
   "outputs": [
    {
     "data": {
      "text/html": [
       "<div>\n",
       "<style scoped>\n",
       "    .dataframe tbody tr th:only-of-type {\n",
       "        vertical-align: middle;\n",
       "    }\n",
       "\n",
       "    .dataframe tbody tr th {\n",
       "        vertical-align: top;\n",
       "    }\n",
       "\n",
       "    .dataframe thead th {\n",
       "        text-align: right;\n",
       "    }\n",
       "</style>\n",
       "<table border=\"1\" class=\"dataframe\">\n",
       "  <thead>\n",
       "    <tr style=\"text-align: right;\">\n",
       "      <th></th>\n",
       "      <th>order_id</th>\n",
       "      <th>user_id</th>\n",
       "      <th>eval_set</th>\n",
       "      <th>order_number</th>\n",
       "      <th>order_dow</th>\n",
       "      <th>order_hour_of_day</th>\n",
       "      <th>days_since_prior_order</th>\n",
       "      <th>product_id</th>\n",
       "      <th>add_to_cart_order</th>\n",
       "      <th>reordered</th>\n",
       "      <th>order_number_back</th>\n",
       "    </tr>\n",
       "  </thead>\n",
       "  <tbody>\n",
       "    <tr>\n",
       "      <th>0</th>\n",
       "      <td>2086598</td>\n",
       "      <td>6</td>\n",
       "      <td>prior</td>\n",
       "      <td>1</td>\n",
       "      <td>5</td>\n",
       "      <td>18</td>\n",
       "      <td>NaN</td>\n",
       "      <td>27521</td>\n",
       "      <td>1</td>\n",
       "      <td>0</td>\n",
       "      <td>3</td>\n",
       "    </tr>\n",
       "    <tr>\n",
       "      <th>1</th>\n",
       "      <td>2086598</td>\n",
       "      <td>6</td>\n",
       "      <td>prior</td>\n",
       "      <td>1</td>\n",
       "      <td>5</td>\n",
       "      <td>18</td>\n",
       "      <td>NaN</td>\n",
       "      <td>38293</td>\n",
       "      <td>2</td>\n",
       "      <td>0</td>\n",
       "      <td>3</td>\n",
       "    </tr>\n",
       "    <tr>\n",
       "      <th>2</th>\n",
       "      <td>2086598</td>\n",
       "      <td>6</td>\n",
       "      <td>prior</td>\n",
       "      <td>1</td>\n",
       "      <td>5</td>\n",
       "      <td>18</td>\n",
       "      <td>NaN</td>\n",
       "      <td>21903</td>\n",
       "      <td>3</td>\n",
       "      <td>0</td>\n",
       "      <td>3</td>\n",
       "    </tr>\n",
       "    <tr>\n",
       "      <th>3</th>\n",
       "      <td>2086598</td>\n",
       "      <td>6</td>\n",
       "      <td>prior</td>\n",
       "      <td>1</td>\n",
       "      <td>5</td>\n",
       "      <td>18</td>\n",
       "      <td>NaN</td>\n",
       "      <td>48679</td>\n",
       "      <td>4</td>\n",
       "      <td>0</td>\n",
       "      <td>3</td>\n",
       "    </tr>\n",
       "    <tr>\n",
       "      <th>4</th>\n",
       "      <td>298250</td>\n",
       "      <td>6</td>\n",
       "      <td>prior</td>\n",
       "      <td>2</td>\n",
       "      <td>4</td>\n",
       "      <td>16</td>\n",
       "      <td>6.0</td>\n",
       "      <td>38293</td>\n",
       "      <td>1</td>\n",
       "      <td>1</td>\n",
       "      <td>2</td>\n",
       "    </tr>\n",
       "    <tr>\n",
       "      <th>5</th>\n",
       "      <td>298250</td>\n",
       "      <td>6</td>\n",
       "      <td>prior</td>\n",
       "      <td>2</td>\n",
       "      <td>4</td>\n",
       "      <td>16</td>\n",
       "      <td>6.0</td>\n",
       "      <td>20323</td>\n",
       "      <td>2</td>\n",
       "      <td>0</td>\n",
       "      <td>2</td>\n",
       "    </tr>\n",
       "    <tr>\n",
       "      <th>6</th>\n",
       "      <td>298250</td>\n",
       "      <td>6</td>\n",
       "      <td>prior</td>\n",
       "      <td>2</td>\n",
       "      <td>4</td>\n",
       "      <td>16</td>\n",
       "      <td>6.0</td>\n",
       "      <td>40992</td>\n",
       "      <td>3</td>\n",
       "      <td>0</td>\n",
       "      <td>2</td>\n",
       "    </tr>\n",
       "    <tr>\n",
       "      <th>7</th>\n",
       "      <td>298250</td>\n",
       "      <td>6</td>\n",
       "      <td>prior</td>\n",
       "      <td>2</td>\n",
       "      <td>4</td>\n",
       "      <td>16</td>\n",
       "      <td>6.0</td>\n",
       "      <td>21903</td>\n",
       "      <td>4</td>\n",
       "      <td>1</td>\n",
       "      <td>2</td>\n",
       "    </tr>\n",
       "    <tr>\n",
       "      <th>8</th>\n",
       "      <td>298250</td>\n",
       "      <td>6</td>\n",
       "      <td>prior</td>\n",
       "      <td>2</td>\n",
       "      <td>4</td>\n",
       "      <td>16</td>\n",
       "      <td>6.0</td>\n",
       "      <td>45007</td>\n",
       "      <td>5</td>\n",
       "      <td>0</td>\n",
       "      <td>2</td>\n",
       "    </tr>\n",
       "    <tr>\n",
       "      <th>9</th>\n",
       "      <td>298250</td>\n",
       "      <td>6</td>\n",
       "      <td>prior</td>\n",
       "      <td>2</td>\n",
       "      <td>4</td>\n",
       "      <td>16</td>\n",
       "      <td>6.0</td>\n",
       "      <td>11068</td>\n",
       "      <td>6</td>\n",
       "      <td>0</td>\n",
       "      <td>2</td>\n",
       "    </tr>\n",
       "  </tbody>\n",
       "</table>\n",
       "</div>"
      ],
      "text/plain": [
       "   order_id  user_id eval_set  order_number  order_dow  order_hour_of_day  \\\n",
       "0   2086598        6    prior             1          5                 18   \n",
       "1   2086598        6    prior             1          5                 18   \n",
       "2   2086598        6    prior             1          5                 18   \n",
       "3   2086598        6    prior             1          5                 18   \n",
       "4    298250        6    prior             2          4                 16   \n",
       "5    298250        6    prior             2          4                 16   \n",
       "6    298250        6    prior             2          4                 16   \n",
       "7    298250        6    prior             2          4                 16   \n",
       "8    298250        6    prior             2          4                 16   \n",
       "9    298250        6    prior             2          4                 16   \n",
       "\n",
       "   days_since_prior_order  product_id  add_to_cart_order  reordered  \\\n",
       "0                     NaN       27521                  1          0   \n",
       "1                     NaN       38293                  2          0   \n",
       "2                     NaN       21903                  3          0   \n",
       "3                     NaN       48679                  4          0   \n",
       "4                     6.0       38293                  1          1   \n",
       "5                     6.0       20323                  2          0   \n",
       "6                     6.0       40992                  3          0   \n",
       "7                     6.0       21903                  4          1   \n",
       "8                     6.0       45007                  5          0   \n",
       "9                     6.0       11068                  6          0   \n",
       "\n",
       "   order_number_back  \n",
       "0                  3  \n",
       "1                  3  \n",
       "2                  3  \n",
       "3                  3  \n",
       "4                  2  \n",
       "5                  2  \n",
       "6                  2  \n",
       "7                  2  \n",
       "8                  2  \n",
       "9                  2  "
      ]
     },
     "execution_count": 50,
     "metadata": {},
     "output_type": "execute_result"
    }
   ],
   "source": [
    "# keep only the last five orders of each customer\n",
    "order_prior_5 = order_prior[order_prior.order_number_back <= 5]\n",
    "order_prior_5.head(10)"
   ]
  },
  {
   "cell_type": "markdown",
   "id": "32794ded",
   "metadata": {
    "papermill": {
     "duration": 0.057096,
     "end_time": "2022-11-20T05:55:56.556368",
     "exception": false,
     "start_time": "2022-11-20T05:55:56.499272",
     "status": "completed"
    },
    "tags": []
   },
   "source": [
    "Calculating how many times each customer bought every product"
   ]
  },
  {
   "cell_type": "code",
   "execution_count": 51,
   "id": "4b62d14e",
   "metadata": {
    "execution": {
     "iopub.execute_input": "2022-11-20T05:55:56.729234Z",
     "iopub.status.busy": "2022-11-20T05:55:56.728540Z",
     "iopub.status.idle": "2022-11-20T05:55:57.504913Z",
     "shell.execute_reply": "2022-11-20T05:55:57.503649Z"
    },
    "papermill": {
     "duration": 0.837411,
     "end_time": "2022-11-20T05:55:57.507905",
     "exception": false,
     "start_time": "2022-11-20T05:55:56.670494",
     "status": "completed"
    },
    "tags": []
   },
   "outputs": [],
   "source": [
    "# we perform a .groupby() on user_id & product_id to get how many times each customer bought every product\n",
    "# .count() shows how many times each customer bought a product\n",
    "prev_five = order_prior_5.groupby(['user_id', 'product_id'])[['order_id']].count()"
   ]
  },
  {
   "cell_type": "code",
   "execution_count": 52,
   "id": "d5f0c63b",
   "metadata": {
    "execution": {
     "iopub.execute_input": "2022-11-20T05:55:57.623231Z",
     "iopub.status.busy": "2022-11-20T05:55:57.622471Z",
     "iopub.status.idle": "2022-11-20T05:55:57.632249Z",
     "shell.execute_reply": "2022-11-20T05:55:57.631453Z"
    },
    "papermill": {
     "duration": 0.070584,
     "end_time": "2022-11-20T05:55:57.634438",
     "exception": false,
     "start_time": "2022-11-20T05:55:57.563854",
     "status": "completed"
    },
    "tags": []
   },
   "outputs": [
    {
     "data": {
      "text/html": [
       "<div>\n",
       "<style scoped>\n",
       "    .dataframe tbody tr th:only-of-type {\n",
       "        vertical-align: middle;\n",
       "    }\n",
       "\n",
       "    .dataframe tbody tr th {\n",
       "        vertical-align: top;\n",
       "    }\n",
       "\n",
       "    .dataframe thead th {\n",
       "        text-align: right;\n",
       "    }\n",
       "</style>\n",
       "<table border=\"1\" class=\"dataframe\">\n",
       "  <thead>\n",
       "    <tr style=\"text-align: right;\">\n",
       "      <th></th>\n",
       "      <th></th>\n",
       "      <th>times_last_5</th>\n",
       "    </tr>\n",
       "    <tr>\n",
       "      <th>user_id</th>\n",
       "      <th>product_id</th>\n",
       "      <th></th>\n",
       "    </tr>\n",
       "  </thead>\n",
       "  <tbody>\n",
       "    <tr>\n",
       "      <th rowspan=\"5\" valign=\"top\">6</th>\n",
       "      <th>8424</th>\n",
       "      <td>1</td>\n",
       "    </tr>\n",
       "    <tr>\n",
       "      <th>10644</th>\n",
       "      <td>1</td>\n",
       "    </tr>\n",
       "    <tr>\n",
       "      <th>11068</th>\n",
       "      <td>1</td>\n",
       "    </tr>\n",
       "    <tr>\n",
       "      <th>20323</th>\n",
       "      <td>1</td>\n",
       "    </tr>\n",
       "    <tr>\n",
       "      <th>21903</th>\n",
       "      <td>2</td>\n",
       "    </tr>\n",
       "  </tbody>\n",
       "</table>\n",
       "</div>"
      ],
      "text/plain": [
       "                    times_last_5\n",
       "user_id product_id              \n",
       "6       8424                   1\n",
       "        10644                  1\n",
       "        11068                  1\n",
       "        20323                  1\n",
       "        21903                  2"
      ]
     },
     "execution_count": 52,
     "metadata": {},
     "output_type": "execute_result"
    }
   ],
   "source": [
    "prev_five.columns = ['times_last_5']\n",
    "prev_five.head(5)"
   ]
  },
  {
   "cell_type": "code",
   "execution_count": 53,
   "id": "394ae3ad",
   "metadata": {
    "execution": {
     "iopub.execute_input": "2022-11-20T05:55:57.750019Z",
     "iopub.status.busy": "2022-11-20T05:55:57.748766Z",
     "iopub.status.idle": "2022-11-20T05:55:59.643826Z",
     "shell.execute_reply": "2022-11-20T05:55:59.642553Z"
    },
    "papermill": {
     "duration": 1.955581,
     "end_time": "2022-11-20T05:55:59.647205",
     "exception": false,
     "start_time": "2022-11-20T05:55:57.691624",
     "status": "completed"
    },
    "tags": []
   },
   "outputs": [],
   "source": [
    "# merge the new feature with user-product dataframe\n",
    "user_product = user_product.merge(prev_five, on = ['user_id','product_id'], how = 'left')"
   ]
  },
  {
   "cell_type": "code",
   "execution_count": 54,
   "id": "19363c4d",
   "metadata": {
    "execution": {
     "iopub.execute_input": "2022-11-20T05:55:59.762543Z",
     "iopub.status.busy": "2022-11-20T05:55:59.762098Z",
     "iopub.status.idle": "2022-11-20T05:55:59.767178Z",
     "shell.execute_reply": "2022-11-20T05:55:59.766354Z"
    },
    "papermill": {
     "duration": 0.064776,
     "end_time": "2022-11-20T05:55:59.769320",
     "exception": false,
     "start_time": "2022-11-20T05:55:59.704544",
     "status": "completed"
    },
    "tags": []
   },
   "outputs": [],
   "source": [
    "del [order_prior_5, prev_five]"
   ]
  },
  {
   "cell_type": "code",
   "execution_count": 55,
   "id": "8e54c3f4",
   "metadata": {
    "execution": {
     "iopub.execute_input": "2022-11-20T05:55:59.884075Z",
     "iopub.status.busy": "2022-11-20T05:55:59.883285Z",
     "iopub.status.idle": "2022-11-20T05:55:59.896374Z",
     "shell.execute_reply": "2022-11-20T05:55:59.895174Z"
    },
    "papermill": {
     "duration": 0.073272,
     "end_time": "2022-11-20T05:55:59.899060",
     "exception": false,
     "start_time": "2022-11-20T05:55:59.825788",
     "status": "completed"
    },
    "tags": []
   },
   "outputs": [
    {
     "data": {
      "text/html": [
       "<div>\n",
       "<style scoped>\n",
       "    .dataframe tbody tr th:only-of-type {\n",
       "        vertical-align: middle;\n",
       "    }\n",
       "\n",
       "    .dataframe tbody tr th {\n",
       "        vertical-align: top;\n",
       "    }\n",
       "\n",
       "    .dataframe thead th {\n",
       "        text-align: right;\n",
       "    }\n",
       "</style>\n",
       "<table border=\"1\" class=\"dataframe\">\n",
       "  <thead>\n",
       "    <tr style=\"text-align: right;\">\n",
       "      <th></th>\n",
       "      <th>user_id</th>\n",
       "      <th>product_id</th>\n",
       "      <th>user_product_total</th>\n",
       "      <th>user_reorder_ratio</th>\n",
       "      <th>times_last_5</th>\n",
       "    </tr>\n",
       "  </thead>\n",
       "  <tbody>\n",
       "    <tr>\n",
       "      <th>0</th>\n",
       "      <td>6</td>\n",
       "      <td>8424</td>\n",
       "      <td>1</td>\n",
       "      <td>1.000000</td>\n",
       "      <td>1.0</td>\n",
       "    </tr>\n",
       "    <tr>\n",
       "      <th>1</th>\n",
       "      <td>6</td>\n",
       "      <td>10644</td>\n",
       "      <td>1</td>\n",
       "      <td>0.500000</td>\n",
       "      <td>1.0</td>\n",
       "    </tr>\n",
       "    <tr>\n",
       "      <th>2</th>\n",
       "      <td>6</td>\n",
       "      <td>11068</td>\n",
       "      <td>1</td>\n",
       "      <td>0.500000</td>\n",
       "      <td>1.0</td>\n",
       "    </tr>\n",
       "    <tr>\n",
       "      <th>3</th>\n",
       "      <td>6</td>\n",
       "      <td>20323</td>\n",
       "      <td>1</td>\n",
       "      <td>0.500000</td>\n",
       "      <td>1.0</td>\n",
       "    </tr>\n",
       "    <tr>\n",
       "      <th>4</th>\n",
       "      <td>6</td>\n",
       "      <td>21903</td>\n",
       "      <td>2</td>\n",
       "      <td>0.666667</td>\n",
       "      <td>2.0</td>\n",
       "    </tr>\n",
       "    <tr>\n",
       "      <th>5</th>\n",
       "      <td>6</td>\n",
       "      <td>25659</td>\n",
       "      <td>1</td>\n",
       "      <td>1.000000</td>\n",
       "      <td>1.0</td>\n",
       "    </tr>\n",
       "    <tr>\n",
       "      <th>6</th>\n",
       "      <td>6</td>\n",
       "      <td>27521</td>\n",
       "      <td>1</td>\n",
       "      <td>0.333333</td>\n",
       "      <td>1.0</td>\n",
       "    </tr>\n",
       "    <tr>\n",
       "      <th>7</th>\n",
       "      <td>6</td>\n",
       "      <td>38293</td>\n",
       "      <td>2</td>\n",
       "      <td>0.666667</td>\n",
       "      <td>2.0</td>\n",
       "    </tr>\n",
       "    <tr>\n",
       "      <th>8</th>\n",
       "      <td>6</td>\n",
       "      <td>40992</td>\n",
       "      <td>1</td>\n",
       "      <td>0.500000</td>\n",
       "      <td>1.0</td>\n",
       "    </tr>\n",
       "    <tr>\n",
       "      <th>9</th>\n",
       "      <td>6</td>\n",
       "      <td>45007</td>\n",
       "      <td>1</td>\n",
       "      <td>0.500000</td>\n",
       "      <td>1.0</td>\n",
       "    </tr>\n",
       "  </tbody>\n",
       "</table>\n",
       "</div>"
      ],
      "text/plain": [
       "   user_id  product_id  user_product_total  user_reorder_ratio  times_last_5\n",
       "0        6        8424                   1            1.000000           1.0\n",
       "1        6       10644                   1            0.500000           1.0\n",
       "2        6       11068                   1            0.500000           1.0\n",
       "3        6       20323                   1            0.500000           1.0\n",
       "4        6       21903                   2            0.666667           2.0\n",
       "5        6       25659                   1            1.000000           1.0\n",
       "6        6       27521                   1            0.333333           1.0\n",
       "7        6       38293                   2            0.666667           2.0\n",
       "8        6       40992                   1            0.500000           1.0\n",
       "9        6       45007                   1            0.500000           1.0"
      ]
     },
     "execution_count": 55,
     "metadata": {},
     "output_type": "execute_result"
    }
   ],
   "source": [
    "user_product.head(10)"
   ]
  },
  {
   "cell_type": "code",
   "execution_count": 56,
   "id": "6f0edd8e",
   "metadata": {
    "execution": {
     "iopub.execute_input": "2022-11-20T05:56:00.015002Z",
     "iopub.status.busy": "2022-11-20T05:56:00.014565Z",
     "iopub.status.idle": "2022-11-20T05:56:00.255699Z",
     "shell.execute_reply": "2022-11-20T05:56:00.254509Z"
    },
    "papermill": {
     "duration": 0.303176,
     "end_time": "2022-11-20T05:56:00.258535",
     "exception": false,
     "start_time": "2022-11-20T05:55:59.955359",
     "status": "completed"
    },
    "tags": []
   },
   "outputs": [
    {
     "data": {
      "text/html": [
       "<div>\n",
       "<style scoped>\n",
       "    .dataframe tbody tr th:only-of-type {\n",
       "        vertical-align: middle;\n",
       "    }\n",
       "\n",
       "    .dataframe tbody tr th {\n",
       "        vertical-align: top;\n",
       "    }\n",
       "\n",
       "    .dataframe thead th {\n",
       "        text-align: right;\n",
       "    }\n",
       "</style>\n",
       "<table border=\"1\" class=\"dataframe\">\n",
       "  <thead>\n",
       "    <tr style=\"text-align: right;\">\n",
       "      <th></th>\n",
       "      <th>user_id</th>\n",
       "      <th>product_id</th>\n",
       "      <th>user_product_total</th>\n",
       "      <th>user_reorder_ratio</th>\n",
       "      <th>times_last_5</th>\n",
       "    </tr>\n",
       "  </thead>\n",
       "  <tbody>\n",
       "    <tr>\n",
       "      <th>0</th>\n",
       "      <td>6</td>\n",
       "      <td>8424</td>\n",
       "      <td>1</td>\n",
       "      <td>1.000000</td>\n",
       "      <td>1.0</td>\n",
       "    </tr>\n",
       "    <tr>\n",
       "      <th>1</th>\n",
       "      <td>6</td>\n",
       "      <td>10644</td>\n",
       "      <td>1</td>\n",
       "      <td>0.500000</td>\n",
       "      <td>1.0</td>\n",
       "    </tr>\n",
       "    <tr>\n",
       "      <th>2</th>\n",
       "      <td>6</td>\n",
       "      <td>11068</td>\n",
       "      <td>1</td>\n",
       "      <td>0.500000</td>\n",
       "      <td>1.0</td>\n",
       "    </tr>\n",
       "    <tr>\n",
       "      <th>3</th>\n",
       "      <td>6</td>\n",
       "      <td>20323</td>\n",
       "      <td>1</td>\n",
       "      <td>0.500000</td>\n",
       "      <td>1.0</td>\n",
       "    </tr>\n",
       "    <tr>\n",
       "      <th>4</th>\n",
       "      <td>6</td>\n",
       "      <td>21903</td>\n",
       "      <td>2</td>\n",
       "      <td>0.666667</td>\n",
       "      <td>2.0</td>\n",
       "    </tr>\n",
       "    <tr>\n",
       "      <th>5</th>\n",
       "      <td>6</td>\n",
       "      <td>25659</td>\n",
       "      <td>1</td>\n",
       "      <td>1.000000</td>\n",
       "      <td>1.0</td>\n",
       "    </tr>\n",
       "    <tr>\n",
       "      <th>6</th>\n",
       "      <td>6</td>\n",
       "      <td>27521</td>\n",
       "      <td>1</td>\n",
       "      <td>0.333333</td>\n",
       "      <td>1.0</td>\n",
       "    </tr>\n",
       "    <tr>\n",
       "      <th>7</th>\n",
       "      <td>6</td>\n",
       "      <td>38293</td>\n",
       "      <td>2</td>\n",
       "      <td>0.666667</td>\n",
       "      <td>2.0</td>\n",
       "    </tr>\n",
       "    <tr>\n",
       "      <th>8</th>\n",
       "      <td>6</td>\n",
       "      <td>40992</td>\n",
       "      <td>1</td>\n",
       "      <td>0.500000</td>\n",
       "      <td>1.0</td>\n",
       "    </tr>\n",
       "    <tr>\n",
       "      <th>9</th>\n",
       "      <td>6</td>\n",
       "      <td>45007</td>\n",
       "      <td>1</td>\n",
       "      <td>0.500000</td>\n",
       "      <td>1.0</td>\n",
       "    </tr>\n",
       "  </tbody>\n",
       "</table>\n",
       "</div>"
      ],
      "text/plain": [
       "   user_id  product_id  user_product_total  user_reorder_ratio  times_last_5\n",
       "0        6        8424                   1            1.000000           1.0\n",
       "1        6       10644                   1            0.500000           1.0\n",
       "2        6       11068                   1            0.500000           1.0\n",
       "3        6       20323                   1            0.500000           1.0\n",
       "4        6       21903                   2            0.666667           2.0\n",
       "5        6       25659                   1            1.000000           1.0\n",
       "6        6       27521                   1            0.333333           1.0\n",
       "7        6       38293                   2            0.666667           2.0\n",
       "8        6       40992                   1            0.500000           1.0\n",
       "9        6       45007                   1            0.500000           1.0"
      ]
     },
     "execution_count": 56,
     "metadata": {},
     "output_type": "execute_result"
    }
   ],
   "source": [
    "user_product = user_product.fillna(0)\n",
    "user_product.head(10)"
   ]
  },
  {
   "cell_type": "markdown",
   "id": "5ad4d3d5",
   "metadata": {
    "papermill": {
     "duration": 0.057816,
     "end_time": "2022-11-20T05:56:00.375393",
     "exception": false,
     "start_time": "2022-11-20T05:56:00.317577",
     "status": "completed"
    },
    "tags": []
   },
   "source": [
    "# Merging all Features\n",
    "#### Merge the DataFrames with the three types of predictors created (i.e., for the users, the products and the combinations of users and products)"
   ]
  },
  {
   "cell_type": "code",
   "execution_count": 57,
   "id": "a2f62004",
   "metadata": {
    "execution": {
     "iopub.execute_input": "2022-11-20T05:56:00.491696Z",
     "iopub.status.busy": "2022-11-20T05:56:00.490623Z",
     "iopub.status.idle": "2022-11-20T05:56:01.016693Z",
     "shell.execute_reply": "2022-11-20T05:56:01.015770Z"
    },
    "papermill": {
     "duration": 0.587251,
     "end_time": "2022-11-20T05:56:01.019306",
     "exception": false,
     "start_time": "2022-11-20T05:56:00.432055",
     "status": "completed"
    },
    "tags": []
   },
   "outputs": [],
   "source": [
    "# left join ensures that the new dataframe will have all observations of the user-product dataframe and matching observations based on  matching user_id key\n",
    "data = user_product.merge(user_order, on  = 'user_id', how = 'left')"
   ]
  },
  {
   "cell_type": "code",
   "execution_count": 58,
   "id": "d58f9005",
   "metadata": {
    "execution": {
     "iopub.execute_input": "2022-11-20T05:56:01.139176Z",
     "iopub.status.busy": "2022-11-20T05:56:01.138495Z",
     "iopub.status.idle": "2022-11-20T05:56:01.153155Z",
     "shell.execute_reply": "2022-11-20T05:56:01.151881Z"
    },
    "papermill": {
     "duration": 0.077313,
     "end_time": "2022-11-20T05:56:01.155710",
     "exception": false,
     "start_time": "2022-11-20T05:56:01.078397",
     "status": "completed"
    },
    "tags": []
   },
   "outputs": [
    {
     "data": {
      "text/html": [
       "<div>\n",
       "<style scoped>\n",
       "    .dataframe tbody tr th:only-of-type {\n",
       "        vertical-align: middle;\n",
       "    }\n",
       "\n",
       "    .dataframe tbody tr th {\n",
       "        vertical-align: top;\n",
       "    }\n",
       "\n",
       "    .dataframe thead th {\n",
       "        text-align: right;\n",
       "    }\n",
       "</style>\n",
       "<table border=\"1\" class=\"dataframe\">\n",
       "  <thead>\n",
       "    <tr style=\"text-align: right;\">\n",
       "      <th></th>\n",
       "      <th>user_id</th>\n",
       "      <th>product_id</th>\n",
       "      <th>user_product_total</th>\n",
       "      <th>user_reorder_ratio</th>\n",
       "      <th>times_last_5</th>\n",
       "      <th>user_total_orders</th>\n",
       "      <th>user_reordered_ratio</th>\n",
       "    </tr>\n",
       "  </thead>\n",
       "  <tbody>\n",
       "    <tr>\n",
       "      <th>0</th>\n",
       "      <td>6</td>\n",
       "      <td>8424</td>\n",
       "      <td>1</td>\n",
       "      <td>1.000000</td>\n",
       "      <td>1.0</td>\n",
       "      <td>3</td>\n",
       "      <td>0.142857</td>\n",
       "    </tr>\n",
       "    <tr>\n",
       "      <th>1</th>\n",
       "      <td>6</td>\n",
       "      <td>10644</td>\n",
       "      <td>1</td>\n",
       "      <td>0.500000</td>\n",
       "      <td>1.0</td>\n",
       "      <td>3</td>\n",
       "      <td>0.142857</td>\n",
       "    </tr>\n",
       "    <tr>\n",
       "      <th>2</th>\n",
       "      <td>6</td>\n",
       "      <td>11068</td>\n",
       "      <td>1</td>\n",
       "      <td>0.500000</td>\n",
       "      <td>1.0</td>\n",
       "      <td>3</td>\n",
       "      <td>0.142857</td>\n",
       "    </tr>\n",
       "    <tr>\n",
       "      <th>3</th>\n",
       "      <td>6</td>\n",
       "      <td>20323</td>\n",
       "      <td>1</td>\n",
       "      <td>0.500000</td>\n",
       "      <td>1.0</td>\n",
       "      <td>3</td>\n",
       "      <td>0.142857</td>\n",
       "    </tr>\n",
       "    <tr>\n",
       "      <th>4</th>\n",
       "      <td>6</td>\n",
       "      <td>21903</td>\n",
       "      <td>2</td>\n",
       "      <td>0.666667</td>\n",
       "      <td>2.0</td>\n",
       "      <td>3</td>\n",
       "      <td>0.142857</td>\n",
       "    </tr>\n",
       "  </tbody>\n",
       "</table>\n",
       "</div>"
      ],
      "text/plain": [
       "   user_id  product_id  user_product_total  user_reorder_ratio  times_last_5  \\\n",
       "0        6        8424                   1            1.000000           1.0   \n",
       "1        6       10644                   1            0.500000           1.0   \n",
       "2        6       11068                   1            0.500000           1.0   \n",
       "3        6       20323                   1            0.500000           1.0   \n",
       "4        6       21903                   2            0.666667           2.0   \n",
       "\n",
       "   user_total_orders  user_reordered_ratio  \n",
       "0                  3              0.142857  \n",
       "1                  3              0.142857  \n",
       "2                  3              0.142857  \n",
       "3                  3              0.142857  \n",
       "4                  3              0.142857  "
      ]
     },
     "execution_count": 58,
     "metadata": {},
     "output_type": "execute_result"
    }
   ],
   "source": [
    "data.head(5)"
   ]
  },
  {
   "cell_type": "code",
   "execution_count": 59,
   "id": "04be8ce9",
   "metadata": {
    "execution": {
     "iopub.execute_input": "2022-11-20T05:56:01.276879Z",
     "iopub.status.busy": "2022-11-20T05:56:01.275870Z",
     "iopub.status.idle": "2022-11-20T05:56:02.009486Z",
     "shell.execute_reply": "2022-11-20T05:56:02.008078Z"
    },
    "papermill": {
     "duration": 0.797799,
     "end_time": "2022-11-20T05:56:02.012348",
     "exception": false,
     "start_time": "2022-11-20T05:56:01.214549",
     "status": "completed"
    },
    "tags": []
   },
   "outputs": [
    {
     "data": {
      "text/html": [
       "<div>\n",
       "<style scoped>\n",
       "    .dataframe tbody tr th:only-of-type {\n",
       "        vertical-align: middle;\n",
       "    }\n",
       "\n",
       "    .dataframe tbody tr th {\n",
       "        vertical-align: top;\n",
       "    }\n",
       "\n",
       "    .dataframe thead th {\n",
       "        text-align: right;\n",
       "    }\n",
       "</style>\n",
       "<table border=\"1\" class=\"dataframe\">\n",
       "  <thead>\n",
       "    <tr style=\"text-align: right;\">\n",
       "      <th></th>\n",
       "      <th>user_id</th>\n",
       "      <th>product_id</th>\n",
       "      <th>user_product_total</th>\n",
       "      <th>user_reorder_ratio</th>\n",
       "      <th>times_last_5</th>\n",
       "      <th>user_total_orders</th>\n",
       "      <th>user_reordered_ratio</th>\n",
       "      <th>product_total_purchase</th>\n",
       "      <th>product_reorder_ratio</th>\n",
       "    </tr>\n",
       "  </thead>\n",
       "  <tbody>\n",
       "    <tr>\n",
       "      <th>0</th>\n",
       "      <td>6</td>\n",
       "      <td>8424</td>\n",
       "      <td>1</td>\n",
       "      <td>1.000000</td>\n",
       "      <td>1.0</td>\n",
       "      <td>3</td>\n",
       "      <td>0.142857</td>\n",
       "      <td>12292</td>\n",
       "      <td>0.650504</td>\n",
       "    </tr>\n",
       "    <tr>\n",
       "      <th>1</th>\n",
       "      <td>6</td>\n",
       "      <td>10644</td>\n",
       "      <td>1</td>\n",
       "      <td>0.500000</td>\n",
       "      <td>1.0</td>\n",
       "      <td>3</td>\n",
       "      <td>0.142857</td>\n",
       "      <td>3631</td>\n",
       "      <td>0.416690</td>\n",
       "    </tr>\n",
       "    <tr>\n",
       "      <th>2</th>\n",
       "      <td>6</td>\n",
       "      <td>11068</td>\n",
       "      <td>1</td>\n",
       "      <td>0.500000</td>\n",
       "      <td>1.0</td>\n",
       "      <td>3</td>\n",
       "      <td>0.142857</td>\n",
       "      <td>3069</td>\n",
       "      <td>0.584881</td>\n",
       "    </tr>\n",
       "    <tr>\n",
       "      <th>3</th>\n",
       "      <td>6</td>\n",
       "      <td>20323</td>\n",
       "      <td>1</td>\n",
       "      <td>0.500000</td>\n",
       "      <td>1.0</td>\n",
       "      <td>3</td>\n",
       "      <td>0.142857</td>\n",
       "      <td>695</td>\n",
       "      <td>0.532374</td>\n",
       "    </tr>\n",
       "    <tr>\n",
       "      <th>4</th>\n",
       "      <td>6</td>\n",
       "      <td>21903</td>\n",
       "      <td>2</td>\n",
       "      <td>0.666667</td>\n",
       "      <td>2.0</td>\n",
       "      <td>3</td>\n",
       "      <td>0.142857</td>\n",
       "      <td>73243</td>\n",
       "      <td>0.773808</td>\n",
       "    </tr>\n",
       "  </tbody>\n",
       "</table>\n",
       "</div>"
      ],
      "text/plain": [
       "   user_id  product_id  user_product_total  user_reorder_ratio  times_last_5  \\\n",
       "0        6        8424                   1            1.000000           1.0   \n",
       "1        6       10644                   1            0.500000           1.0   \n",
       "2        6       11068                   1            0.500000           1.0   \n",
       "3        6       20323                   1            0.500000           1.0   \n",
       "4        6       21903                   2            0.666667           2.0   \n",
       "\n",
       "   user_total_orders  user_reordered_ratio  product_total_purchase  \\\n",
       "0                  3              0.142857                   12292   \n",
       "1                  3              0.142857                    3631   \n",
       "2                  3              0.142857                    3069   \n",
       "3                  3              0.142857                     695   \n",
       "4                  3              0.142857                   73243   \n",
       "\n",
       "   product_reorder_ratio  \n",
       "0               0.650504  \n",
       "1               0.416690  \n",
       "2               0.584881  \n",
       "3               0.532374  \n",
       "4               0.773808  "
      ]
     },
     "execution_count": 59,
     "metadata": {},
     "output_type": "execute_result"
    }
   ],
   "source": [
    "#left join ensures that the new dataframe will have all observations of the product dataframe and matching observations based on matching product_id key\n",
    "data = data.merge(product_purchase, on = 'product_id', how = 'left')\n",
    "data.head(5)"
   ]
  },
  {
   "cell_type": "code",
   "execution_count": 60,
   "id": "488bbbe5",
   "metadata": {
    "execution": {
     "iopub.execute_input": "2022-11-20T05:56:02.130271Z",
     "iopub.status.busy": "2022-11-20T05:56:02.129467Z",
     "iopub.status.idle": "2022-11-20T05:56:02.246171Z",
     "shell.execute_reply": "2022-11-20T05:56:02.245019Z"
    },
    "papermill": {
     "duration": 0.178186,
     "end_time": "2022-11-20T05:56:02.248859",
     "exception": false,
     "start_time": "2022-11-20T05:56:02.070673",
     "status": "completed"
    },
    "tags": []
   },
   "outputs": [
    {
     "data": {
      "text/plain": [
       "210"
      ]
     },
     "execution_count": 60,
     "metadata": {},
     "output_type": "execute_result"
    }
   ],
   "source": [
    "del order_prior, user_order, product_purchase, user_product\n",
    "gc.collect()"
   ]
  },
  {
   "cell_type": "markdown",
   "id": "e5b92fbc",
   "metadata": {
    "papermill": {
     "duration": 0.058458,
     "end_time": "2022-11-20T05:56:02.366062",
     "exception": false,
     "start_time": "2022-11-20T05:56:02.307604",
     "status": "completed"
    },
    "tags": []
   },
   "source": [
    "# Creating Train and Test Dataframes"
   ]
  },
  {
   "cell_type": "code",
   "execution_count": 61,
   "id": "b440e3e2",
   "metadata": {
    "execution": {
     "iopub.execute_input": "2022-11-20T05:56:02.485592Z",
     "iopub.status.busy": "2022-11-20T05:56:02.485100Z",
     "iopub.status.idle": "2022-11-20T05:56:02.501992Z",
     "shell.execute_reply": "2022-11-20T05:56:02.500440Z"
    },
    "papermill": {
     "duration": 0.078536,
     "end_time": "2022-11-20T05:56:02.504909",
     "exception": false,
     "start_time": "2022-11-20T05:56:02.426373",
     "status": "completed"
    },
    "tags": []
   },
   "outputs": [],
   "source": [
    "# keep only the future orders from all customers: train & test\n",
    "orders_future = orders[((orders.eval_set == 'train') | (orders.eval_set == 'test'))]"
   ]
  },
  {
   "cell_type": "code",
   "execution_count": 62,
   "id": "33777000",
   "metadata": {
    "execution": {
     "iopub.execute_input": "2022-11-20T05:56:02.622499Z",
     "iopub.status.busy": "2022-11-20T05:56:02.622016Z",
     "iopub.status.idle": "2022-11-20T05:56:02.634954Z",
     "shell.execute_reply": "2022-11-20T05:56:02.634052Z"
    },
    "papermill": {
     "duration": 0.074294,
     "end_time": "2022-11-20T05:56:02.637489",
     "exception": false,
     "start_time": "2022-11-20T05:56:02.563195",
     "status": "completed"
    },
    "tags": []
   },
   "outputs": [
    {
     "data": {
      "text/html": [
       "<div>\n",
       "<style scoped>\n",
       "    .dataframe tbody tr th:only-of-type {\n",
       "        vertical-align: middle;\n",
       "    }\n",
       "\n",
       "    .dataframe tbody tr th {\n",
       "        vertical-align: top;\n",
       "    }\n",
       "\n",
       "    .dataframe thead th {\n",
       "        text-align: right;\n",
       "    }\n",
       "</style>\n",
       "<table border=\"1\" class=\"dataframe\">\n",
       "  <thead>\n",
       "    <tr style=\"text-align: right;\">\n",
       "      <th></th>\n",
       "      <th>user_id</th>\n",
       "      <th>eval_set</th>\n",
       "      <th>order_id</th>\n",
       "    </tr>\n",
       "  </thead>\n",
       "  <tbody>\n",
       "    <tr>\n",
       "      <th>53</th>\n",
       "      <td>6</td>\n",
       "      <td>test</td>\n",
       "      <td>1528013</td>\n",
       "    </tr>\n",
       "    <tr>\n",
       "      <th>88</th>\n",
       "      <td>10</td>\n",
       "      <td>train</td>\n",
       "      <td>1822501</td>\n",
       "    </tr>\n",
       "    <tr>\n",
       "      <th>200</th>\n",
       "      <td>17</td>\n",
       "      <td>train</td>\n",
       "      <td>2180313</td>\n",
       "    </tr>\n",
       "    <tr>\n",
       "      <th>217</th>\n",
       "      <td>19</td>\n",
       "      <td>test</td>\n",
       "      <td>1735923</td>\n",
       "    </tr>\n",
       "    <tr>\n",
       "      <th>300</th>\n",
       "      <td>25</td>\n",
       "      <td>test</td>\n",
       "      <td>1411408</td>\n",
       "    </tr>\n",
       "    <tr>\n",
       "      <th>395</th>\n",
       "      <td>27</td>\n",
       "      <td>train</td>\n",
       "      <td>2614670</td>\n",
       "    </tr>\n",
       "    <tr>\n",
       "      <th>495</th>\n",
       "      <td>35</td>\n",
       "      <td>test</td>\n",
       "      <td>707453</td>\n",
       "    </tr>\n",
       "    <tr>\n",
       "      <th>588</th>\n",
       "      <td>40</td>\n",
       "      <td>test</td>\n",
       "      <td>2431024</td>\n",
       "    </tr>\n",
       "    <tr>\n",
       "      <th>652</th>\n",
       "      <td>46</td>\n",
       "      <td>train</td>\n",
       "      <td>1947848</td>\n",
       "    </tr>\n",
       "    <tr>\n",
       "      <th>669</th>\n",
       "      <td>48</td>\n",
       "      <td>train</td>\n",
       "      <td>2924697</td>\n",
       "    </tr>\n",
       "  </tbody>\n",
       "</table>\n",
       "</div>"
      ],
      "text/plain": [
       "     user_id eval_set  order_id\n",
       "53         6     test   1528013\n",
       "88        10    train   1822501\n",
       "200       17    train   2180313\n",
       "217       19     test   1735923\n",
       "300       25     test   1411408\n",
       "395       27    train   2614670\n",
       "495       35     test    707453\n",
       "588       40     test   2431024\n",
       "652       46    train   1947848\n",
       "669       48    train   2924697"
      ]
     },
     "execution_count": 62,
     "metadata": {},
     "output_type": "execute_result"
    }
   ],
   "source": [
    "orders_future = orders_future[['user_id','eval_set','order_id']]\n",
    "orders_future.head(10)"
   ]
  },
  {
   "cell_type": "code",
   "execution_count": 63,
   "id": "d3e56e89",
   "metadata": {
    "execution": {
     "iopub.execute_input": "2022-11-20T05:56:02.761003Z",
     "iopub.status.busy": "2022-11-20T05:56:02.760254Z",
     "iopub.status.idle": "2022-11-20T05:56:03.375975Z",
     "shell.execute_reply": "2022-11-20T05:56:03.375077Z"
    },
    "papermill": {
     "duration": 0.681183,
     "end_time": "2022-11-20T05:56:03.378285",
     "exception": false,
     "start_time": "2022-11-20T05:56:02.697102",
     "status": "completed"
    },
    "tags": []
   },
   "outputs": [
    {
     "data": {
      "text/html": [
       "<div>\n",
       "<style scoped>\n",
       "    .dataframe tbody tr th:only-of-type {\n",
       "        vertical-align: middle;\n",
       "    }\n",
       "\n",
       "    .dataframe tbody tr th {\n",
       "        vertical-align: top;\n",
       "    }\n",
       "\n",
       "    .dataframe thead th {\n",
       "        text-align: right;\n",
       "    }\n",
       "</style>\n",
       "<table border=\"1\" class=\"dataframe\">\n",
       "  <thead>\n",
       "    <tr style=\"text-align: right;\">\n",
       "      <th></th>\n",
       "      <th>user_id</th>\n",
       "      <th>product_id</th>\n",
       "      <th>user_product_total</th>\n",
       "      <th>user_reorder_ratio</th>\n",
       "      <th>times_last_5</th>\n",
       "      <th>user_total_orders</th>\n",
       "      <th>user_reordered_ratio</th>\n",
       "      <th>product_total_purchase</th>\n",
       "      <th>product_reorder_ratio</th>\n",
       "      <th>eval_set</th>\n",
       "      <th>order_id</th>\n",
       "    </tr>\n",
       "  </thead>\n",
       "  <tbody>\n",
       "    <tr>\n",
       "      <th>0</th>\n",
       "      <td>6</td>\n",
       "      <td>8424</td>\n",
       "      <td>1</td>\n",
       "      <td>1.000000</td>\n",
       "      <td>1.0</td>\n",
       "      <td>3</td>\n",
       "      <td>0.142857</td>\n",
       "      <td>12292</td>\n",
       "      <td>0.650504</td>\n",
       "      <td>test</td>\n",
       "      <td>1528013</td>\n",
       "    </tr>\n",
       "    <tr>\n",
       "      <th>1</th>\n",
       "      <td>6</td>\n",
       "      <td>10644</td>\n",
       "      <td>1</td>\n",
       "      <td>0.500000</td>\n",
       "      <td>1.0</td>\n",
       "      <td>3</td>\n",
       "      <td>0.142857</td>\n",
       "      <td>3631</td>\n",
       "      <td>0.416690</td>\n",
       "      <td>test</td>\n",
       "      <td>1528013</td>\n",
       "    </tr>\n",
       "    <tr>\n",
       "      <th>2</th>\n",
       "      <td>6</td>\n",
       "      <td>11068</td>\n",
       "      <td>1</td>\n",
       "      <td>0.500000</td>\n",
       "      <td>1.0</td>\n",
       "      <td>3</td>\n",
       "      <td>0.142857</td>\n",
       "      <td>3069</td>\n",
       "      <td>0.584881</td>\n",
       "      <td>test</td>\n",
       "      <td>1528013</td>\n",
       "    </tr>\n",
       "    <tr>\n",
       "      <th>3</th>\n",
       "      <td>6</td>\n",
       "      <td>20323</td>\n",
       "      <td>1</td>\n",
       "      <td>0.500000</td>\n",
       "      <td>1.0</td>\n",
       "      <td>3</td>\n",
       "      <td>0.142857</td>\n",
       "      <td>695</td>\n",
       "      <td>0.532374</td>\n",
       "      <td>test</td>\n",
       "      <td>1528013</td>\n",
       "    </tr>\n",
       "    <tr>\n",
       "      <th>4</th>\n",
       "      <td>6</td>\n",
       "      <td>21903</td>\n",
       "      <td>2</td>\n",
       "      <td>0.666667</td>\n",
       "      <td>2.0</td>\n",
       "      <td>3</td>\n",
       "      <td>0.142857</td>\n",
       "      <td>73243</td>\n",
       "      <td>0.773808</td>\n",
       "      <td>test</td>\n",
       "      <td>1528013</td>\n",
       "    </tr>\n",
       "    <tr>\n",
       "      <th>5</th>\n",
       "      <td>6</td>\n",
       "      <td>25659</td>\n",
       "      <td>1</td>\n",
       "      <td>1.000000</td>\n",
       "      <td>1.0</td>\n",
       "      <td>3</td>\n",
       "      <td>0.142857</td>\n",
       "      <td>7940</td>\n",
       "      <td>0.521537</td>\n",
       "      <td>test</td>\n",
       "      <td>1528013</td>\n",
       "    </tr>\n",
       "    <tr>\n",
       "      <th>6</th>\n",
       "      <td>6</td>\n",
       "      <td>27521</td>\n",
       "      <td>1</td>\n",
       "      <td>0.333333</td>\n",
       "      <td>1.0</td>\n",
       "      <td>3</td>\n",
       "      <td>0.142857</td>\n",
       "      <td>13068</td>\n",
       "      <td>0.696434</td>\n",
       "      <td>test</td>\n",
       "      <td>1528013</td>\n",
       "    </tr>\n",
       "    <tr>\n",
       "      <th>7</th>\n",
       "      <td>6</td>\n",
       "      <td>38293</td>\n",
       "      <td>2</td>\n",
       "      <td>0.666667</td>\n",
       "      <td>2.0</td>\n",
       "      <td>3</td>\n",
       "      <td>0.142857</td>\n",
       "      <td>8088</td>\n",
       "      <td>0.646390</td>\n",
       "      <td>test</td>\n",
       "      <td>1528013</td>\n",
       "    </tr>\n",
       "    <tr>\n",
       "      <th>8</th>\n",
       "      <td>6</td>\n",
       "      <td>40992</td>\n",
       "      <td>1</td>\n",
       "      <td>0.500000</td>\n",
       "      <td>1.0</td>\n",
       "      <td>3</td>\n",
       "      <td>0.142857</td>\n",
       "      <td>1312</td>\n",
       "      <td>0.487805</td>\n",
       "      <td>test</td>\n",
       "      <td>1528013</td>\n",
       "    </tr>\n",
       "    <tr>\n",
       "      <th>9</th>\n",
       "      <td>6</td>\n",
       "      <td>45007</td>\n",
       "      <td>1</td>\n",
       "      <td>0.500000</td>\n",
       "      <td>1.0</td>\n",
       "      <td>3</td>\n",
       "      <td>0.142857</td>\n",
       "      <td>31596</td>\n",
       "      <td>0.693157</td>\n",
       "      <td>test</td>\n",
       "      <td>1528013</td>\n",
       "    </tr>\n",
       "  </tbody>\n",
       "</table>\n",
       "</div>"
      ],
      "text/plain": [
       "   user_id  product_id  user_product_total  user_reorder_ratio  times_last_5  \\\n",
       "0        6        8424                   1            1.000000           1.0   \n",
       "1        6       10644                   1            0.500000           1.0   \n",
       "2        6       11068                   1            0.500000           1.0   \n",
       "3        6       20323                   1            0.500000           1.0   \n",
       "4        6       21903                   2            0.666667           2.0   \n",
       "5        6       25659                   1            1.000000           1.0   \n",
       "6        6       27521                   1            0.333333           1.0   \n",
       "7        6       38293                   2            0.666667           2.0   \n",
       "8        6       40992                   1            0.500000           1.0   \n",
       "9        6       45007                   1            0.500000           1.0   \n",
       "\n",
       "   user_total_orders  user_reordered_ratio  product_total_purchase  \\\n",
       "0                  3              0.142857                   12292   \n",
       "1                  3              0.142857                    3631   \n",
       "2                  3              0.142857                    3069   \n",
       "3                  3              0.142857                     695   \n",
       "4                  3              0.142857                   73243   \n",
       "5                  3              0.142857                    7940   \n",
       "6                  3              0.142857                   13068   \n",
       "7                  3              0.142857                    8088   \n",
       "8                  3              0.142857                    1312   \n",
       "9                  3              0.142857                   31596   \n",
       "\n",
       "   product_reorder_ratio eval_set  order_id  \n",
       "0               0.650504     test   1528013  \n",
       "1               0.416690     test   1528013  \n",
       "2               0.584881     test   1528013  \n",
       "3               0.532374     test   1528013  \n",
       "4               0.773808     test   1528013  \n",
       "5               0.521537     test   1528013  \n",
       "6               0.696434     test   1528013  \n",
       "7               0.646390     test   1528013  \n",
       "8               0.487805     test   1528013  \n",
       "9               0.693157     test   1528013  "
      ]
     },
     "execution_count": 63,
     "metadata": {},
     "output_type": "execute_result"
    }
   ],
   "source": [
    "# bring the info of the future orders to data DF\n",
    "data = data.merge(orders_future, on  = 'user_id', how = 'left')\n",
    "data.head(10)"
   ]
  },
  {
   "cell_type": "markdown",
   "id": "09e0c36a",
   "metadata": {
    "papermill": {
     "duration": 0.057642,
     "end_time": "2022-11-20T05:56:03.493822",
     "exception": false,
     "start_time": "2022-11-20T05:56:03.436180",
     "status": "completed"
    },
    "tags": []
   },
   "source": [
    "### Preparing Training Set"
   ]
  },
  {
   "cell_type": "code",
   "execution_count": 64,
   "id": "df76d474",
   "metadata": {
    "execution": {
     "iopub.execute_input": "2022-11-20T05:56:03.611387Z",
     "iopub.status.busy": "2022-11-20T05:56:03.610932Z",
     "iopub.status.idle": "2022-11-20T05:56:04.068388Z",
     "shell.execute_reply": "2022-11-20T05:56:04.067165Z"
    },
    "papermill": {
     "duration": 0.519445,
     "end_time": "2022-11-20T05:56:04.071079",
     "exception": false,
     "start_time": "2022-11-20T05:56:03.551634",
     "status": "completed"
    },
    "tags": []
   },
   "outputs": [
    {
     "data": {
      "text/html": [
       "<div>\n",
       "<style scoped>\n",
       "    .dataframe tbody tr th:only-of-type {\n",
       "        vertical-align: middle;\n",
       "    }\n",
       "\n",
       "    .dataframe tbody tr th {\n",
       "        vertical-align: top;\n",
       "    }\n",
       "\n",
       "    .dataframe thead th {\n",
       "        text-align: right;\n",
       "    }\n",
       "</style>\n",
       "<table border=\"1\" class=\"dataframe\">\n",
       "  <thead>\n",
       "    <tr style=\"text-align: right;\">\n",
       "      <th></th>\n",
       "      <th>user_id</th>\n",
       "      <th>product_id</th>\n",
       "      <th>user_product_total</th>\n",
       "      <th>user_reorder_ratio</th>\n",
       "      <th>times_last_5</th>\n",
       "      <th>user_total_orders</th>\n",
       "      <th>user_reordered_ratio</th>\n",
       "      <th>product_total_purchase</th>\n",
       "      <th>product_reorder_ratio</th>\n",
       "      <th>eval_set</th>\n",
       "      <th>order_id</th>\n",
       "    </tr>\n",
       "  </thead>\n",
       "  <tbody>\n",
       "    <tr>\n",
       "      <th>12</th>\n",
       "      <td>10</td>\n",
       "      <td>260</td>\n",
       "      <td>2</td>\n",
       "      <td>1.000000</td>\n",
       "      <td>2.0</td>\n",
       "      <td>5</td>\n",
       "      <td>0.342657</td>\n",
       "      <td>7360</td>\n",
       "      <td>0.637636</td>\n",
       "      <td>train</td>\n",
       "      <td>1822501</td>\n",
       "    </tr>\n",
       "    <tr>\n",
       "      <th>13</th>\n",
       "      <td>10</td>\n",
       "      <td>1529</td>\n",
       "      <td>3</td>\n",
       "      <td>0.750000</td>\n",
       "      <td>3.0</td>\n",
       "      <td>5</td>\n",
       "      <td>0.342657</td>\n",
       "      <td>2602</td>\n",
       "      <td>0.439277</td>\n",
       "      <td>train</td>\n",
       "      <td>1822501</td>\n",
       "    </tr>\n",
       "    <tr>\n",
       "      <th>14</th>\n",
       "      <td>10</td>\n",
       "      <td>4920</td>\n",
       "      <td>1</td>\n",
       "      <td>0.333333</td>\n",
       "      <td>1.0</td>\n",
       "      <td>5</td>\n",
       "      <td>0.342657</td>\n",
       "      <td>25055</td>\n",
       "      <td>0.669966</td>\n",
       "      <td>train</td>\n",
       "      <td>1822501</td>\n",
       "    </tr>\n",
       "    <tr>\n",
       "      <th>15</th>\n",
       "      <td>10</td>\n",
       "      <td>5450</td>\n",
       "      <td>1</td>\n",
       "      <td>0.333333</td>\n",
       "      <td>1.0</td>\n",
       "      <td>5</td>\n",
       "      <td>0.342657</td>\n",
       "      <td>14684</td>\n",
       "      <td>0.669572</td>\n",
       "      <td>train</td>\n",
       "      <td>1822501</td>\n",
       "    </tr>\n",
       "    <tr>\n",
       "      <th>16</th>\n",
       "      <td>10</td>\n",
       "      <td>5646</td>\n",
       "      <td>1</td>\n",
       "      <td>0.250000</td>\n",
       "      <td>1.0</td>\n",
       "      <td>5</td>\n",
       "      <td>0.342657</td>\n",
       "      <td>4579</td>\n",
       "      <td>0.645993</td>\n",
       "      <td>train</td>\n",
       "      <td>1822501</td>\n",
       "    </tr>\n",
       "    <tr>\n",
       "      <th>17</th>\n",
       "      <td>10</td>\n",
       "      <td>5769</td>\n",
       "      <td>1</td>\n",
       "      <td>0.333333</td>\n",
       "      <td>1.0</td>\n",
       "      <td>5</td>\n",
       "      <td>0.342657</td>\n",
       "      <td>3198</td>\n",
       "      <td>0.460600</td>\n",
       "      <td>train</td>\n",
       "      <td>1822501</td>\n",
       "    </tr>\n",
       "    <tr>\n",
       "      <th>18</th>\n",
       "      <td>10</td>\n",
       "      <td>5818</td>\n",
       "      <td>1</td>\n",
       "      <td>0.250000</td>\n",
       "      <td>1.0</td>\n",
       "      <td>5</td>\n",
       "      <td>0.342657</td>\n",
       "      <td>4844</td>\n",
       "      <td>0.549546</td>\n",
       "      <td>train</td>\n",
       "      <td>1822501</td>\n",
       "    </tr>\n",
       "    <tr>\n",
       "      <th>19</th>\n",
       "      <td>10</td>\n",
       "      <td>7632</td>\n",
       "      <td>1</td>\n",
       "      <td>0.250000</td>\n",
       "      <td>1.0</td>\n",
       "      <td>5</td>\n",
       "      <td>0.342657</td>\n",
       "      <td>872</td>\n",
       "      <td>0.174312</td>\n",
       "      <td>train</td>\n",
       "      <td>1822501</td>\n",
       "    </tr>\n",
       "    <tr>\n",
       "      <th>20</th>\n",
       "      <td>10</td>\n",
       "      <td>7746</td>\n",
       "      <td>1</td>\n",
       "      <td>0.250000</td>\n",
       "      <td>1.0</td>\n",
       "      <td>5</td>\n",
       "      <td>0.342657</td>\n",
       "      <td>1622</td>\n",
       "      <td>0.159679</td>\n",
       "      <td>train</td>\n",
       "      <td>1822501</td>\n",
       "    </tr>\n",
       "    <tr>\n",
       "      <th>21</th>\n",
       "      <td>10</td>\n",
       "      <td>8988</td>\n",
       "      <td>1</td>\n",
       "      <td>0.250000</td>\n",
       "      <td>1.0</td>\n",
       "      <td>5</td>\n",
       "      <td>0.342657</td>\n",
       "      <td>965</td>\n",
       "      <td>0.172021</td>\n",
       "      <td>train</td>\n",
       "      <td>1822501</td>\n",
       "    </tr>\n",
       "  </tbody>\n",
       "</table>\n",
       "</div>"
      ],
      "text/plain": [
       "    user_id  product_id  user_product_total  user_reorder_ratio  times_last_5  \\\n",
       "12       10         260                   2            1.000000           2.0   \n",
       "13       10        1529                   3            0.750000           3.0   \n",
       "14       10        4920                   1            0.333333           1.0   \n",
       "15       10        5450                   1            0.333333           1.0   \n",
       "16       10        5646                   1            0.250000           1.0   \n",
       "17       10        5769                   1            0.333333           1.0   \n",
       "18       10        5818                   1            0.250000           1.0   \n",
       "19       10        7632                   1            0.250000           1.0   \n",
       "20       10        7746                   1            0.250000           1.0   \n",
       "21       10        8988                   1            0.250000           1.0   \n",
       "\n",
       "    user_total_orders  user_reordered_ratio  product_total_purchase  \\\n",
       "12                  5              0.342657                    7360   \n",
       "13                  5              0.342657                    2602   \n",
       "14                  5              0.342657                   25055   \n",
       "15                  5              0.342657                   14684   \n",
       "16                  5              0.342657                    4579   \n",
       "17                  5              0.342657                    3198   \n",
       "18                  5              0.342657                    4844   \n",
       "19                  5              0.342657                     872   \n",
       "20                  5              0.342657                    1622   \n",
       "21                  5              0.342657                     965   \n",
       "\n",
       "    product_reorder_ratio eval_set  order_id  \n",
       "12               0.637636    train   1822501  \n",
       "13               0.439277    train   1822501  \n",
       "14               0.669966    train   1822501  \n",
       "15               0.669572    train   1822501  \n",
       "16               0.645993    train   1822501  \n",
       "17               0.460600    train   1822501  \n",
       "18               0.549546    train   1822501  \n",
       "19               0.174312    train   1822501  \n",
       "20               0.159679    train   1822501  \n",
       "21               0.172021    train   1822501  "
      ]
     },
     "execution_count": 64,
     "metadata": {},
     "output_type": "execute_result"
    }
   ],
   "source": [
    "# keep only the customers who we know what they bought in their future order\n",
    "data_train = data[data.eval_set == 'train']\n",
    "data_train.head(10)"
   ]
  },
  {
   "cell_type": "code",
   "execution_count": 65,
   "id": "20a4e486",
   "metadata": {
    "execution": {
     "iopub.execute_input": "2022-11-20T05:56:04.193360Z",
     "iopub.status.busy": "2022-11-20T05:56:04.192887Z",
     "iopub.status.idle": "2022-11-20T05:56:06.082210Z",
     "shell.execute_reply": "2022-11-20T05:56:06.080953Z"
    },
    "papermill": {
     "duration": 1.952736,
     "end_time": "2022-11-20T05:56:06.085738",
     "exception": false,
     "start_time": "2022-11-20T05:56:04.133002",
     "status": "completed"
    },
    "tags": []
   },
   "outputs": [],
   "source": [
    "# get from order_products_train all the products that the train users bought bought in their future order by joining the two dataframes\n",
    "data_train = data_train.merge(order_products_train[['product_id','order_id','reordered']], on = ['product_id','order_id'], how = 'left')"
   ]
  },
  {
   "cell_type": "code",
   "execution_count": 66,
   "id": "4008957d",
   "metadata": {
    "execution": {
     "iopub.execute_input": "2022-11-20T05:56:06.206319Z",
     "iopub.status.busy": "2022-11-20T05:56:06.205912Z",
     "iopub.status.idle": "2022-11-20T05:56:06.227271Z",
     "shell.execute_reply": "2022-11-20T05:56:06.225861Z"
    },
    "papermill": {
     "duration": 0.084999,
     "end_time": "2022-11-20T05:56:06.230309",
     "exception": false,
     "start_time": "2022-11-20T05:56:06.145310",
     "status": "completed"
    },
    "tags": []
   },
   "outputs": [
    {
     "data": {
      "text/html": [
       "<div>\n",
       "<style scoped>\n",
       "    .dataframe tbody tr th:only-of-type {\n",
       "        vertical-align: middle;\n",
       "    }\n",
       "\n",
       "    .dataframe tbody tr th {\n",
       "        vertical-align: top;\n",
       "    }\n",
       "\n",
       "    .dataframe thead th {\n",
       "        text-align: right;\n",
       "    }\n",
       "</style>\n",
       "<table border=\"1\" class=\"dataframe\">\n",
       "  <thead>\n",
       "    <tr style=\"text-align: right;\">\n",
       "      <th></th>\n",
       "      <th>user_id</th>\n",
       "      <th>product_id</th>\n",
       "      <th>user_product_total</th>\n",
       "      <th>user_reorder_ratio</th>\n",
       "      <th>times_last_5</th>\n",
       "      <th>user_total_orders</th>\n",
       "      <th>user_reordered_ratio</th>\n",
       "      <th>product_total_purchase</th>\n",
       "      <th>product_reorder_ratio</th>\n",
       "      <th>eval_set</th>\n",
       "      <th>order_id</th>\n",
       "      <th>reordered</th>\n",
       "    </tr>\n",
       "  </thead>\n",
       "  <tbody>\n",
       "    <tr>\n",
       "      <th>0</th>\n",
       "      <td>10</td>\n",
       "      <td>260</td>\n",
       "      <td>2</td>\n",
       "      <td>1.000000</td>\n",
       "      <td>2.0</td>\n",
       "      <td>5</td>\n",
       "      <td>0.342657</td>\n",
       "      <td>7360</td>\n",
       "      <td>0.637636</td>\n",
       "      <td>train</td>\n",
       "      <td>1822501</td>\n",
       "      <td>NaN</td>\n",
       "    </tr>\n",
       "    <tr>\n",
       "      <th>1</th>\n",
       "      <td>10</td>\n",
       "      <td>1529</td>\n",
       "      <td>3</td>\n",
       "      <td>0.750000</td>\n",
       "      <td>3.0</td>\n",
       "      <td>5</td>\n",
       "      <td>0.342657</td>\n",
       "      <td>2602</td>\n",
       "      <td>0.439277</td>\n",
       "      <td>train</td>\n",
       "      <td>1822501</td>\n",
       "      <td>NaN</td>\n",
       "    </tr>\n",
       "    <tr>\n",
       "      <th>2</th>\n",
       "      <td>10</td>\n",
       "      <td>4920</td>\n",
       "      <td>1</td>\n",
       "      <td>0.333333</td>\n",
       "      <td>1.0</td>\n",
       "      <td>5</td>\n",
       "      <td>0.342657</td>\n",
       "      <td>25055</td>\n",
       "      <td>0.669966</td>\n",
       "      <td>train</td>\n",
       "      <td>1822501</td>\n",
       "      <td>NaN</td>\n",
       "    </tr>\n",
       "    <tr>\n",
       "      <th>3</th>\n",
       "      <td>10</td>\n",
       "      <td>5450</td>\n",
       "      <td>1</td>\n",
       "      <td>0.333333</td>\n",
       "      <td>1.0</td>\n",
       "      <td>5</td>\n",
       "      <td>0.342657</td>\n",
       "      <td>14684</td>\n",
       "      <td>0.669572</td>\n",
       "      <td>train</td>\n",
       "      <td>1822501</td>\n",
       "      <td>NaN</td>\n",
       "    </tr>\n",
       "    <tr>\n",
       "      <th>4</th>\n",
       "      <td>10</td>\n",
       "      <td>5646</td>\n",
       "      <td>1</td>\n",
       "      <td>0.250000</td>\n",
       "      <td>1.0</td>\n",
       "      <td>5</td>\n",
       "      <td>0.342657</td>\n",
       "      <td>4579</td>\n",
       "      <td>0.645993</td>\n",
       "      <td>train</td>\n",
       "      <td>1822501</td>\n",
       "      <td>NaN</td>\n",
       "    </tr>\n",
       "    <tr>\n",
       "      <th>5</th>\n",
       "      <td>10</td>\n",
       "      <td>5769</td>\n",
       "      <td>1</td>\n",
       "      <td>0.333333</td>\n",
       "      <td>1.0</td>\n",
       "      <td>5</td>\n",
       "      <td>0.342657</td>\n",
       "      <td>3198</td>\n",
       "      <td>0.460600</td>\n",
       "      <td>train</td>\n",
       "      <td>1822501</td>\n",
       "      <td>NaN</td>\n",
       "    </tr>\n",
       "    <tr>\n",
       "      <th>6</th>\n",
       "      <td>10</td>\n",
       "      <td>5818</td>\n",
       "      <td>1</td>\n",
       "      <td>0.250000</td>\n",
       "      <td>1.0</td>\n",
       "      <td>5</td>\n",
       "      <td>0.342657</td>\n",
       "      <td>4844</td>\n",
       "      <td>0.549546</td>\n",
       "      <td>train</td>\n",
       "      <td>1822501</td>\n",
       "      <td>NaN</td>\n",
       "    </tr>\n",
       "    <tr>\n",
       "      <th>7</th>\n",
       "      <td>10</td>\n",
       "      <td>7632</td>\n",
       "      <td>1</td>\n",
       "      <td>0.250000</td>\n",
       "      <td>1.0</td>\n",
       "      <td>5</td>\n",
       "      <td>0.342657</td>\n",
       "      <td>872</td>\n",
       "      <td>0.174312</td>\n",
       "      <td>train</td>\n",
       "      <td>1822501</td>\n",
       "      <td>NaN</td>\n",
       "    </tr>\n",
       "    <tr>\n",
       "      <th>8</th>\n",
       "      <td>10</td>\n",
       "      <td>7746</td>\n",
       "      <td>1</td>\n",
       "      <td>0.250000</td>\n",
       "      <td>1.0</td>\n",
       "      <td>5</td>\n",
       "      <td>0.342657</td>\n",
       "      <td>1622</td>\n",
       "      <td>0.159679</td>\n",
       "      <td>train</td>\n",
       "      <td>1822501</td>\n",
       "      <td>NaN</td>\n",
       "    </tr>\n",
       "    <tr>\n",
       "      <th>9</th>\n",
       "      <td>10</td>\n",
       "      <td>8988</td>\n",
       "      <td>1</td>\n",
       "      <td>0.250000</td>\n",
       "      <td>1.0</td>\n",
       "      <td>5</td>\n",
       "      <td>0.342657</td>\n",
       "      <td>965</td>\n",
       "      <td>0.172021</td>\n",
       "      <td>train</td>\n",
       "      <td>1822501</td>\n",
       "      <td>NaN</td>\n",
       "    </tr>\n",
       "  </tbody>\n",
       "</table>\n",
       "</div>"
      ],
      "text/plain": [
       "   user_id  product_id  user_product_total  user_reorder_ratio  times_last_5  \\\n",
       "0       10         260                   2            1.000000           2.0   \n",
       "1       10        1529                   3            0.750000           3.0   \n",
       "2       10        4920                   1            0.333333           1.0   \n",
       "3       10        5450                   1            0.333333           1.0   \n",
       "4       10        5646                   1            0.250000           1.0   \n",
       "5       10        5769                   1            0.333333           1.0   \n",
       "6       10        5818                   1            0.250000           1.0   \n",
       "7       10        7632                   1            0.250000           1.0   \n",
       "8       10        7746                   1            0.250000           1.0   \n",
       "9       10        8988                   1            0.250000           1.0   \n",
       "\n",
       "   user_total_orders  user_reordered_ratio  product_total_purchase  \\\n",
       "0                  5              0.342657                    7360   \n",
       "1                  5              0.342657                    2602   \n",
       "2                  5              0.342657                   25055   \n",
       "3                  5              0.342657                   14684   \n",
       "4                  5              0.342657                    4579   \n",
       "5                  5              0.342657                    3198   \n",
       "6                  5              0.342657                    4844   \n",
       "7                  5              0.342657                     872   \n",
       "8                  5              0.342657                    1622   \n",
       "9                  5              0.342657                     965   \n",
       "\n",
       "   product_reorder_ratio eval_set  order_id  reordered  \n",
       "0               0.637636    train   1822501        NaN  \n",
       "1               0.439277    train   1822501        NaN  \n",
       "2               0.669966    train   1822501        NaN  \n",
       "3               0.669572    train   1822501        NaN  \n",
       "4               0.645993    train   1822501        NaN  \n",
       "5               0.460600    train   1822501        NaN  \n",
       "6               0.549546    train   1822501        NaN  \n",
       "7               0.174312    train   1822501        NaN  \n",
       "8               0.159679    train   1822501        NaN  \n",
       "9               0.172021    train   1822501        NaN  "
      ]
     },
     "execution_count": 66,
     "metadata": {},
     "output_type": "execute_result"
    }
   ],
   "source": [
    "data_train.head(10)"
   ]
  },
  {
   "cell_type": "code",
   "execution_count": 67,
   "id": "e7a900c5",
   "metadata": {
    "execution": {
     "iopub.execute_input": "2022-11-20T05:56:06.362163Z",
     "iopub.status.busy": "2022-11-20T05:56:06.361206Z",
     "iopub.status.idle": "2022-11-20T05:56:06.403582Z",
     "shell.execute_reply": "2022-11-20T05:56:06.402376Z"
    },
    "papermill": {
     "duration": 0.112189,
     "end_time": "2022-11-20T05:56:06.406388",
     "exception": false,
     "start_time": "2022-11-20T05:56:06.294199",
     "status": "completed"
    },
    "tags": []
   },
   "outputs": [
    {
     "data": {
      "text/html": [
       "<div>\n",
       "<style scoped>\n",
       "    .dataframe tbody tr th:only-of-type {\n",
       "        vertical-align: middle;\n",
       "    }\n",
       "\n",
       "    .dataframe tbody tr th {\n",
       "        vertical-align: top;\n",
       "    }\n",
       "\n",
       "    .dataframe thead th {\n",
       "        text-align: right;\n",
       "    }\n",
       "</style>\n",
       "<table border=\"1\" class=\"dataframe\">\n",
       "  <thead>\n",
       "    <tr style=\"text-align: right;\">\n",
       "      <th></th>\n",
       "      <th>user_id</th>\n",
       "      <th>product_id</th>\n",
       "      <th>user_product_total</th>\n",
       "      <th>user_reorder_ratio</th>\n",
       "      <th>times_last_5</th>\n",
       "      <th>user_total_orders</th>\n",
       "      <th>user_reordered_ratio</th>\n",
       "      <th>product_total_purchase</th>\n",
       "      <th>product_reorder_ratio</th>\n",
       "      <th>eval_set</th>\n",
       "      <th>order_id</th>\n",
       "      <th>reordered</th>\n",
       "    </tr>\n",
       "  </thead>\n",
       "  <tbody>\n",
       "    <tr>\n",
       "      <th>0</th>\n",
       "      <td>10</td>\n",
       "      <td>260</td>\n",
       "      <td>2</td>\n",
       "      <td>1.000000</td>\n",
       "      <td>2.0</td>\n",
       "      <td>5</td>\n",
       "      <td>0.342657</td>\n",
       "      <td>7360</td>\n",
       "      <td>0.637636</td>\n",
       "      <td>train</td>\n",
       "      <td>1822501</td>\n",
       "      <td>0.0</td>\n",
       "    </tr>\n",
       "    <tr>\n",
       "      <th>1</th>\n",
       "      <td>10</td>\n",
       "      <td>1529</td>\n",
       "      <td>3</td>\n",
       "      <td>0.750000</td>\n",
       "      <td>3.0</td>\n",
       "      <td>5</td>\n",
       "      <td>0.342657</td>\n",
       "      <td>2602</td>\n",
       "      <td>0.439277</td>\n",
       "      <td>train</td>\n",
       "      <td>1822501</td>\n",
       "      <td>0.0</td>\n",
       "    </tr>\n",
       "    <tr>\n",
       "      <th>2</th>\n",
       "      <td>10</td>\n",
       "      <td>4920</td>\n",
       "      <td>1</td>\n",
       "      <td>0.333333</td>\n",
       "      <td>1.0</td>\n",
       "      <td>5</td>\n",
       "      <td>0.342657</td>\n",
       "      <td>25055</td>\n",
       "      <td>0.669966</td>\n",
       "      <td>train</td>\n",
       "      <td>1822501</td>\n",
       "      <td>0.0</td>\n",
       "    </tr>\n",
       "    <tr>\n",
       "      <th>3</th>\n",
       "      <td>10</td>\n",
       "      <td>5450</td>\n",
       "      <td>1</td>\n",
       "      <td>0.333333</td>\n",
       "      <td>1.0</td>\n",
       "      <td>5</td>\n",
       "      <td>0.342657</td>\n",
       "      <td>14684</td>\n",
       "      <td>0.669572</td>\n",
       "      <td>train</td>\n",
       "      <td>1822501</td>\n",
       "      <td>0.0</td>\n",
       "    </tr>\n",
       "    <tr>\n",
       "      <th>4</th>\n",
       "      <td>10</td>\n",
       "      <td>5646</td>\n",
       "      <td>1</td>\n",
       "      <td>0.250000</td>\n",
       "      <td>1.0</td>\n",
       "      <td>5</td>\n",
       "      <td>0.342657</td>\n",
       "      <td>4579</td>\n",
       "      <td>0.645993</td>\n",
       "      <td>train</td>\n",
       "      <td>1822501</td>\n",
       "      <td>0.0</td>\n",
       "    </tr>\n",
       "    <tr>\n",
       "      <th>5</th>\n",
       "      <td>10</td>\n",
       "      <td>5769</td>\n",
       "      <td>1</td>\n",
       "      <td>0.333333</td>\n",
       "      <td>1.0</td>\n",
       "      <td>5</td>\n",
       "      <td>0.342657</td>\n",
       "      <td>3198</td>\n",
       "      <td>0.460600</td>\n",
       "      <td>train</td>\n",
       "      <td>1822501</td>\n",
       "      <td>0.0</td>\n",
       "    </tr>\n",
       "    <tr>\n",
       "      <th>6</th>\n",
       "      <td>10</td>\n",
       "      <td>5818</td>\n",
       "      <td>1</td>\n",
       "      <td>0.250000</td>\n",
       "      <td>1.0</td>\n",
       "      <td>5</td>\n",
       "      <td>0.342657</td>\n",
       "      <td>4844</td>\n",
       "      <td>0.549546</td>\n",
       "      <td>train</td>\n",
       "      <td>1822501</td>\n",
       "      <td>0.0</td>\n",
       "    </tr>\n",
       "    <tr>\n",
       "      <th>7</th>\n",
       "      <td>10</td>\n",
       "      <td>7632</td>\n",
       "      <td>1</td>\n",
       "      <td>0.250000</td>\n",
       "      <td>1.0</td>\n",
       "      <td>5</td>\n",
       "      <td>0.342657</td>\n",
       "      <td>872</td>\n",
       "      <td>0.174312</td>\n",
       "      <td>train</td>\n",
       "      <td>1822501</td>\n",
       "      <td>0.0</td>\n",
       "    </tr>\n",
       "    <tr>\n",
       "      <th>8</th>\n",
       "      <td>10</td>\n",
       "      <td>7746</td>\n",
       "      <td>1</td>\n",
       "      <td>0.250000</td>\n",
       "      <td>1.0</td>\n",
       "      <td>5</td>\n",
       "      <td>0.342657</td>\n",
       "      <td>1622</td>\n",
       "      <td>0.159679</td>\n",
       "      <td>train</td>\n",
       "      <td>1822501</td>\n",
       "      <td>0.0</td>\n",
       "    </tr>\n",
       "    <tr>\n",
       "      <th>9</th>\n",
       "      <td>10</td>\n",
       "      <td>8988</td>\n",
       "      <td>1</td>\n",
       "      <td>0.250000</td>\n",
       "      <td>1.0</td>\n",
       "      <td>5</td>\n",
       "      <td>0.342657</td>\n",
       "      <td>965</td>\n",
       "      <td>0.172021</td>\n",
       "      <td>train</td>\n",
       "      <td>1822501</td>\n",
       "      <td>0.0</td>\n",
       "    </tr>\n",
       "  </tbody>\n",
       "</table>\n",
       "</div>"
      ],
      "text/plain": [
       "   user_id  product_id  user_product_total  user_reorder_ratio  times_last_5  \\\n",
       "0       10         260                   2            1.000000           2.0   \n",
       "1       10        1529                   3            0.750000           3.0   \n",
       "2       10        4920                   1            0.333333           1.0   \n",
       "3       10        5450                   1            0.333333           1.0   \n",
       "4       10        5646                   1            0.250000           1.0   \n",
       "5       10        5769                   1            0.333333           1.0   \n",
       "6       10        5818                   1            0.250000           1.0   \n",
       "7       10        7632                   1            0.250000           1.0   \n",
       "8       10        7746                   1            0.250000           1.0   \n",
       "9       10        8988                   1            0.250000           1.0   \n",
       "\n",
       "   user_total_orders  user_reordered_ratio  product_total_purchase  \\\n",
       "0                  5              0.342657                    7360   \n",
       "1                  5              0.342657                    2602   \n",
       "2                  5              0.342657                   25055   \n",
       "3                  5              0.342657                   14684   \n",
       "4                  5              0.342657                    4579   \n",
       "5                  5              0.342657                    3198   \n",
       "6                  5              0.342657                    4844   \n",
       "7                  5              0.342657                     872   \n",
       "8                  5              0.342657                    1622   \n",
       "9                  5              0.342657                     965   \n",
       "\n",
       "   product_reorder_ratio eval_set  order_id  reordered  \n",
       "0               0.637636    train   1822501        0.0  \n",
       "1               0.439277    train   1822501        0.0  \n",
       "2               0.669966    train   1822501        0.0  \n",
       "3               0.669572    train   1822501        0.0  \n",
       "4               0.645993    train   1822501        0.0  \n",
       "5               0.460600    train   1822501        0.0  \n",
       "6               0.549546    train   1822501        0.0  \n",
       "7               0.174312    train   1822501        0.0  \n",
       "8               0.159679    train   1822501        0.0  \n",
       "9               0.172021    train   1822501        0.0  "
      ]
     },
     "execution_count": 67,
     "metadata": {},
     "output_type": "execute_result"
    }
   ],
   "source": [
    "data_train['reordered'] = data_train['reordered'].fillna(0)\n",
    "data_train.head(10)"
   ]
  },
  {
   "cell_type": "code",
   "execution_count": 68,
   "id": "a2327dec",
   "metadata": {
    "execution": {
     "iopub.execute_input": "2022-11-20T05:56:06.530381Z",
     "iopub.status.busy": "2022-11-20T05:56:06.529885Z",
     "iopub.status.idle": "2022-11-20T05:56:07.003405Z",
     "shell.execute_reply": "2022-11-20T05:56:07.001803Z"
    },
    "papermill": {
     "duration": 0.537685,
     "end_time": "2022-11-20T05:56:07.006145",
     "exception": false,
     "start_time": "2022-11-20T05:56:06.468460",
     "status": "completed"
    },
    "tags": []
   },
   "outputs": [
    {
     "data": {
      "text/html": [
       "<div>\n",
       "<style scoped>\n",
       "    .dataframe tbody tr th:only-of-type {\n",
       "        vertical-align: middle;\n",
       "    }\n",
       "\n",
       "    .dataframe tbody tr th {\n",
       "        vertical-align: top;\n",
       "    }\n",
       "\n",
       "    .dataframe thead th {\n",
       "        text-align: right;\n",
       "    }\n",
       "</style>\n",
       "<table border=\"1\" class=\"dataframe\">\n",
       "  <thead>\n",
       "    <tr style=\"text-align: right;\">\n",
       "      <th></th>\n",
       "      <th></th>\n",
       "      <th>user_product_total</th>\n",
       "      <th>user_reorder_ratio</th>\n",
       "      <th>times_last_5</th>\n",
       "      <th>user_total_orders</th>\n",
       "      <th>user_reordered_ratio</th>\n",
       "      <th>product_total_purchase</th>\n",
       "      <th>product_reorder_ratio</th>\n",
       "      <th>eval_set</th>\n",
       "      <th>order_id</th>\n",
       "      <th>reordered</th>\n",
       "    </tr>\n",
       "    <tr>\n",
       "      <th>user_id</th>\n",
       "      <th>product_id</th>\n",
       "      <th></th>\n",
       "      <th></th>\n",
       "      <th></th>\n",
       "      <th></th>\n",
       "      <th></th>\n",
       "      <th></th>\n",
       "      <th></th>\n",
       "      <th></th>\n",
       "      <th></th>\n",
       "      <th></th>\n",
       "    </tr>\n",
       "  </thead>\n",
       "  <tbody>\n",
       "    <tr>\n",
       "      <th rowspan=\"10\" valign=\"top\">10</th>\n",
       "      <th>260</th>\n",
       "      <td>2</td>\n",
       "      <td>1.000000</td>\n",
       "      <td>2.0</td>\n",
       "      <td>5</td>\n",
       "      <td>0.342657</td>\n",
       "      <td>7360</td>\n",
       "      <td>0.637636</td>\n",
       "      <td>train</td>\n",
       "      <td>1822501</td>\n",
       "      <td>0.0</td>\n",
       "    </tr>\n",
       "    <tr>\n",
       "      <th>1529</th>\n",
       "      <td>3</td>\n",
       "      <td>0.750000</td>\n",
       "      <td>3.0</td>\n",
       "      <td>5</td>\n",
       "      <td>0.342657</td>\n",
       "      <td>2602</td>\n",
       "      <td>0.439277</td>\n",
       "      <td>train</td>\n",
       "      <td>1822501</td>\n",
       "      <td>0.0</td>\n",
       "    </tr>\n",
       "    <tr>\n",
       "      <th>4920</th>\n",
       "      <td>1</td>\n",
       "      <td>0.333333</td>\n",
       "      <td>1.0</td>\n",
       "      <td>5</td>\n",
       "      <td>0.342657</td>\n",
       "      <td>25055</td>\n",
       "      <td>0.669966</td>\n",
       "      <td>train</td>\n",
       "      <td>1822501</td>\n",
       "      <td>0.0</td>\n",
       "    </tr>\n",
       "    <tr>\n",
       "      <th>5450</th>\n",
       "      <td>1</td>\n",
       "      <td>0.333333</td>\n",
       "      <td>1.0</td>\n",
       "      <td>5</td>\n",
       "      <td>0.342657</td>\n",
       "      <td>14684</td>\n",
       "      <td>0.669572</td>\n",
       "      <td>train</td>\n",
       "      <td>1822501</td>\n",
       "      <td>0.0</td>\n",
       "    </tr>\n",
       "    <tr>\n",
       "      <th>5646</th>\n",
       "      <td>1</td>\n",
       "      <td>0.250000</td>\n",
       "      <td>1.0</td>\n",
       "      <td>5</td>\n",
       "      <td>0.342657</td>\n",
       "      <td>4579</td>\n",
       "      <td>0.645993</td>\n",
       "      <td>train</td>\n",
       "      <td>1822501</td>\n",
       "      <td>0.0</td>\n",
       "    </tr>\n",
       "    <tr>\n",
       "      <th>5769</th>\n",
       "      <td>1</td>\n",
       "      <td>0.333333</td>\n",
       "      <td>1.0</td>\n",
       "      <td>5</td>\n",
       "      <td>0.342657</td>\n",
       "      <td>3198</td>\n",
       "      <td>0.460600</td>\n",
       "      <td>train</td>\n",
       "      <td>1822501</td>\n",
       "      <td>0.0</td>\n",
       "    </tr>\n",
       "    <tr>\n",
       "      <th>5818</th>\n",
       "      <td>1</td>\n",
       "      <td>0.250000</td>\n",
       "      <td>1.0</td>\n",
       "      <td>5</td>\n",
       "      <td>0.342657</td>\n",
       "      <td>4844</td>\n",
       "      <td>0.549546</td>\n",
       "      <td>train</td>\n",
       "      <td>1822501</td>\n",
       "      <td>0.0</td>\n",
       "    </tr>\n",
       "    <tr>\n",
       "      <th>7632</th>\n",
       "      <td>1</td>\n",
       "      <td>0.250000</td>\n",
       "      <td>1.0</td>\n",
       "      <td>5</td>\n",
       "      <td>0.342657</td>\n",
       "      <td>872</td>\n",
       "      <td>0.174312</td>\n",
       "      <td>train</td>\n",
       "      <td>1822501</td>\n",
       "      <td>0.0</td>\n",
       "    </tr>\n",
       "    <tr>\n",
       "      <th>7746</th>\n",
       "      <td>1</td>\n",
       "      <td>0.250000</td>\n",
       "      <td>1.0</td>\n",
       "      <td>5</td>\n",
       "      <td>0.342657</td>\n",
       "      <td>1622</td>\n",
       "      <td>0.159679</td>\n",
       "      <td>train</td>\n",
       "      <td>1822501</td>\n",
       "      <td>0.0</td>\n",
       "    </tr>\n",
       "    <tr>\n",
       "      <th>8988</th>\n",
       "      <td>1</td>\n",
       "      <td>0.250000</td>\n",
       "      <td>1.0</td>\n",
       "      <td>5</td>\n",
       "      <td>0.342657</td>\n",
       "      <td>965</td>\n",
       "      <td>0.172021</td>\n",
       "      <td>train</td>\n",
       "      <td>1822501</td>\n",
       "      <td>0.0</td>\n",
       "    </tr>\n",
       "  </tbody>\n",
       "</table>\n",
       "</div>"
      ],
      "text/plain": [
       "                    user_product_total  user_reorder_ratio  times_last_5  \\\n",
       "user_id product_id                                                         \n",
       "10      260                          2            1.000000           2.0   \n",
       "        1529                         3            0.750000           3.0   \n",
       "        4920                         1            0.333333           1.0   \n",
       "        5450                         1            0.333333           1.0   \n",
       "        5646                         1            0.250000           1.0   \n",
       "        5769                         1            0.333333           1.0   \n",
       "        5818                         1            0.250000           1.0   \n",
       "        7632                         1            0.250000           1.0   \n",
       "        7746                         1            0.250000           1.0   \n",
       "        8988                         1            0.250000           1.0   \n",
       "\n",
       "                    user_total_orders  user_reordered_ratio  \\\n",
       "user_id product_id                                            \n",
       "10      260                         5              0.342657   \n",
       "        1529                        5              0.342657   \n",
       "        4920                        5              0.342657   \n",
       "        5450                        5              0.342657   \n",
       "        5646                        5              0.342657   \n",
       "        5769                        5              0.342657   \n",
       "        5818                        5              0.342657   \n",
       "        7632                        5              0.342657   \n",
       "        7746                        5              0.342657   \n",
       "        8988                        5              0.342657   \n",
       "\n",
       "                    product_total_purchase  product_reorder_ratio eval_set  \\\n",
       "user_id product_id                                                           \n",
       "10      260                           7360               0.637636    train   \n",
       "        1529                          2602               0.439277    train   \n",
       "        4920                         25055               0.669966    train   \n",
       "        5450                         14684               0.669572    train   \n",
       "        5646                          4579               0.645993    train   \n",
       "        5769                          3198               0.460600    train   \n",
       "        5818                          4844               0.549546    train   \n",
       "        7632                           872               0.174312    train   \n",
       "        7746                          1622               0.159679    train   \n",
       "        8988                           965               0.172021    train   \n",
       "\n",
       "                    order_id  reordered  \n",
       "user_id product_id                       \n",
       "10      260          1822501        0.0  \n",
       "        1529         1822501        0.0  \n",
       "        4920         1822501        0.0  \n",
       "        5450         1822501        0.0  \n",
       "        5646         1822501        0.0  \n",
       "        5769         1822501        0.0  \n",
       "        5818         1822501        0.0  \n",
       "        7632         1822501        0.0  \n",
       "        7746         1822501        0.0  \n",
       "        8988         1822501        0.0  "
      ]
     },
     "execution_count": 68,
     "metadata": {},
     "output_type": "execute_result"
    }
   ],
   "source": [
    "# set user_id and product_id as the index of the DF to uniquely describe each row\n",
    "data_train = data_train.set_index(['user_id','product_id'])\n",
    "data_train.head(10)"
   ]
  },
  {
   "cell_type": "code",
   "execution_count": 69,
   "id": "a3ca46fe",
   "metadata": {
    "execution": {
     "iopub.execute_input": "2022-11-20T05:56:07.128850Z",
     "iopub.status.busy": "2022-11-20T05:56:07.128451Z",
     "iopub.status.idle": "2022-11-20T05:56:07.342642Z",
     "shell.execute_reply": "2022-11-20T05:56:07.341539Z"
    },
    "papermill": {
     "duration": 0.278759,
     "end_time": "2022-11-20T05:56:07.345606",
     "exception": false,
     "start_time": "2022-11-20T05:56:07.066847",
     "status": "completed"
    },
    "tags": []
   },
   "outputs": [
    {
     "data": {
      "text/html": [
       "<div>\n",
       "<style scoped>\n",
       "    .dataframe tbody tr th:only-of-type {\n",
       "        vertical-align: middle;\n",
       "    }\n",
       "\n",
       "    .dataframe tbody tr th {\n",
       "        vertical-align: top;\n",
       "    }\n",
       "\n",
       "    .dataframe thead th {\n",
       "        text-align: right;\n",
       "    }\n",
       "</style>\n",
       "<table border=\"1\" class=\"dataframe\">\n",
       "  <thead>\n",
       "    <tr style=\"text-align: right;\">\n",
       "      <th></th>\n",
       "      <th></th>\n",
       "      <th>user_product_total</th>\n",
       "      <th>user_reorder_ratio</th>\n",
       "      <th>times_last_5</th>\n",
       "      <th>user_total_orders</th>\n",
       "      <th>user_reordered_ratio</th>\n",
       "      <th>product_total_purchase</th>\n",
       "      <th>product_reorder_ratio</th>\n",
       "      <th>reordered</th>\n",
       "    </tr>\n",
       "    <tr>\n",
       "      <th>user_id</th>\n",
       "      <th>product_id</th>\n",
       "      <th></th>\n",
       "      <th></th>\n",
       "      <th></th>\n",
       "      <th></th>\n",
       "      <th></th>\n",
       "      <th></th>\n",
       "      <th></th>\n",
       "      <th></th>\n",
       "    </tr>\n",
       "  </thead>\n",
       "  <tbody>\n",
       "    <tr>\n",
       "      <th rowspan=\"10\" valign=\"top\">10</th>\n",
       "      <th>260</th>\n",
       "      <td>2</td>\n",
       "      <td>1.000000</td>\n",
       "      <td>2.0</td>\n",
       "      <td>5</td>\n",
       "      <td>0.342657</td>\n",
       "      <td>7360</td>\n",
       "      <td>0.637636</td>\n",
       "      <td>0.0</td>\n",
       "    </tr>\n",
       "    <tr>\n",
       "      <th>1529</th>\n",
       "      <td>3</td>\n",
       "      <td>0.750000</td>\n",
       "      <td>3.0</td>\n",
       "      <td>5</td>\n",
       "      <td>0.342657</td>\n",
       "      <td>2602</td>\n",
       "      <td>0.439277</td>\n",
       "      <td>0.0</td>\n",
       "    </tr>\n",
       "    <tr>\n",
       "      <th>4920</th>\n",
       "      <td>1</td>\n",
       "      <td>0.333333</td>\n",
       "      <td>1.0</td>\n",
       "      <td>5</td>\n",
       "      <td>0.342657</td>\n",
       "      <td>25055</td>\n",
       "      <td>0.669966</td>\n",
       "      <td>0.0</td>\n",
       "    </tr>\n",
       "    <tr>\n",
       "      <th>5450</th>\n",
       "      <td>1</td>\n",
       "      <td>0.333333</td>\n",
       "      <td>1.0</td>\n",
       "      <td>5</td>\n",
       "      <td>0.342657</td>\n",
       "      <td>14684</td>\n",
       "      <td>0.669572</td>\n",
       "      <td>0.0</td>\n",
       "    </tr>\n",
       "    <tr>\n",
       "      <th>5646</th>\n",
       "      <td>1</td>\n",
       "      <td>0.250000</td>\n",
       "      <td>1.0</td>\n",
       "      <td>5</td>\n",
       "      <td>0.342657</td>\n",
       "      <td>4579</td>\n",
       "      <td>0.645993</td>\n",
       "      <td>0.0</td>\n",
       "    </tr>\n",
       "    <tr>\n",
       "      <th>5769</th>\n",
       "      <td>1</td>\n",
       "      <td>0.333333</td>\n",
       "      <td>1.0</td>\n",
       "      <td>5</td>\n",
       "      <td>0.342657</td>\n",
       "      <td>3198</td>\n",
       "      <td>0.460600</td>\n",
       "      <td>0.0</td>\n",
       "    </tr>\n",
       "    <tr>\n",
       "      <th>5818</th>\n",
       "      <td>1</td>\n",
       "      <td>0.250000</td>\n",
       "      <td>1.0</td>\n",
       "      <td>5</td>\n",
       "      <td>0.342657</td>\n",
       "      <td>4844</td>\n",
       "      <td>0.549546</td>\n",
       "      <td>0.0</td>\n",
       "    </tr>\n",
       "    <tr>\n",
       "      <th>7632</th>\n",
       "      <td>1</td>\n",
       "      <td>0.250000</td>\n",
       "      <td>1.0</td>\n",
       "      <td>5</td>\n",
       "      <td>0.342657</td>\n",
       "      <td>872</td>\n",
       "      <td>0.174312</td>\n",
       "      <td>0.0</td>\n",
       "    </tr>\n",
       "    <tr>\n",
       "      <th>7746</th>\n",
       "      <td>1</td>\n",
       "      <td>0.250000</td>\n",
       "      <td>1.0</td>\n",
       "      <td>5</td>\n",
       "      <td>0.342657</td>\n",
       "      <td>1622</td>\n",
       "      <td>0.159679</td>\n",
       "      <td>0.0</td>\n",
       "    </tr>\n",
       "    <tr>\n",
       "      <th>8988</th>\n",
       "      <td>1</td>\n",
       "      <td>0.250000</td>\n",
       "      <td>1.0</td>\n",
       "      <td>5</td>\n",
       "      <td>0.342657</td>\n",
       "      <td>965</td>\n",
       "      <td>0.172021</td>\n",
       "      <td>0.0</td>\n",
       "    </tr>\n",
       "  </tbody>\n",
       "</table>\n",
       "</div>"
      ],
      "text/plain": [
       "                    user_product_total  user_reorder_ratio  times_last_5  \\\n",
       "user_id product_id                                                         \n",
       "10      260                          2            1.000000           2.0   \n",
       "        1529                         3            0.750000           3.0   \n",
       "        4920                         1            0.333333           1.0   \n",
       "        5450                         1            0.333333           1.0   \n",
       "        5646                         1            0.250000           1.0   \n",
       "        5769                         1            0.333333           1.0   \n",
       "        5818                         1            0.250000           1.0   \n",
       "        7632                         1            0.250000           1.0   \n",
       "        7746                         1            0.250000           1.0   \n",
       "        8988                         1            0.250000           1.0   \n",
       "\n",
       "                    user_total_orders  user_reordered_ratio  \\\n",
       "user_id product_id                                            \n",
       "10      260                         5              0.342657   \n",
       "        1529                        5              0.342657   \n",
       "        4920                        5              0.342657   \n",
       "        5450                        5              0.342657   \n",
       "        5646                        5              0.342657   \n",
       "        5769                        5              0.342657   \n",
       "        5818                        5              0.342657   \n",
       "        7632                        5              0.342657   \n",
       "        7746                        5              0.342657   \n",
       "        8988                        5              0.342657   \n",
       "\n",
       "                    product_total_purchase  product_reorder_ratio  reordered  \n",
       "user_id product_id                                                            \n",
       "10      260                           7360               0.637636        0.0  \n",
       "        1529                          2602               0.439277        0.0  \n",
       "        4920                         25055               0.669966        0.0  \n",
       "        5450                         14684               0.669572        0.0  \n",
       "        5646                          4579               0.645993        0.0  \n",
       "        5769                          3198               0.460600        0.0  \n",
       "        5818                          4844               0.549546        0.0  \n",
       "        7632                           872               0.174312        0.0  \n",
       "        7746                          1622               0.159679        0.0  \n",
       "        8988                           965               0.172021        0.0  "
      ]
     },
     "execution_count": 69,
     "metadata": {},
     "output_type": "execute_result"
    }
   ],
   "source": [
    "# remove all non-predictor variables\n",
    "data_train = data_train.drop(['eval_set','order_id'], axis = 1)\n",
    "data_train.head(10)"
   ]
  },
  {
   "cell_type": "markdown",
   "id": "d903b3e4",
   "metadata": {
    "papermill": {
     "duration": 0.061807,
     "end_time": "2022-11-20T05:56:07.472622",
     "exception": false,
     "start_time": "2022-11-20T05:56:07.410815",
     "status": "completed"
    },
    "tags": []
   },
   "source": [
    "### Preparing Test Set"
   ]
  },
  {
   "cell_type": "code",
   "execution_count": 70,
   "id": "8e58e902",
   "metadata": {
    "execution": {
     "iopub.execute_input": "2022-11-20T05:56:07.594917Z",
     "iopub.status.busy": "2022-11-20T05:56:07.594471Z",
     "iopub.status.idle": "2022-11-20T05:56:07.706153Z",
     "shell.execute_reply": "2022-11-20T05:56:07.704898Z"
    },
    "papermill": {
     "duration": 0.175904,
     "end_time": "2022-11-20T05:56:07.709036",
     "exception": false,
     "start_time": "2022-11-20T05:56:07.533132",
     "status": "completed"
    },
    "tags": []
   },
   "outputs": [],
   "source": [
    "# keep only the future orders from customers who are labelled as test\n",
    "data_test = data[data.eval_set == 'test']"
   ]
  },
  {
   "cell_type": "code",
   "execution_count": 71,
   "id": "4a51d847",
   "metadata": {
    "execution": {
     "iopub.execute_input": "2022-11-20T05:56:07.832780Z",
     "iopub.status.busy": "2022-11-20T05:56:07.832346Z",
     "iopub.status.idle": "2022-11-20T05:56:07.853850Z",
     "shell.execute_reply": "2022-11-20T05:56:07.852955Z"
    },
    "papermill": {
     "duration": 0.087175,
     "end_time": "2022-11-20T05:56:07.856673",
     "exception": false,
     "start_time": "2022-11-20T05:56:07.769498",
     "status": "completed"
    },
    "tags": []
   },
   "outputs": [
    {
     "data": {
      "text/html": [
       "<div>\n",
       "<style scoped>\n",
       "    .dataframe tbody tr th:only-of-type {\n",
       "        vertical-align: middle;\n",
       "    }\n",
       "\n",
       "    .dataframe tbody tr th {\n",
       "        vertical-align: top;\n",
       "    }\n",
       "\n",
       "    .dataframe thead th {\n",
       "        text-align: right;\n",
       "    }\n",
       "</style>\n",
       "<table border=\"1\" class=\"dataframe\">\n",
       "  <thead>\n",
       "    <tr style=\"text-align: right;\">\n",
       "      <th></th>\n",
       "      <th>user_id</th>\n",
       "      <th>product_id</th>\n",
       "      <th>user_product_total</th>\n",
       "      <th>user_reorder_ratio</th>\n",
       "      <th>times_last_5</th>\n",
       "      <th>user_total_orders</th>\n",
       "      <th>user_reordered_ratio</th>\n",
       "      <th>product_total_purchase</th>\n",
       "      <th>product_reorder_ratio</th>\n",
       "      <th>eval_set</th>\n",
       "      <th>order_id</th>\n",
       "    </tr>\n",
       "  </thead>\n",
       "  <tbody>\n",
       "    <tr>\n",
       "      <th>0</th>\n",
       "      <td>6</td>\n",
       "      <td>8424</td>\n",
       "      <td>1</td>\n",
       "      <td>1.000000</td>\n",
       "      <td>1.0</td>\n",
       "      <td>3</td>\n",
       "      <td>0.142857</td>\n",
       "      <td>12292</td>\n",
       "      <td>0.650504</td>\n",
       "      <td>test</td>\n",
       "      <td>1528013</td>\n",
       "    </tr>\n",
       "    <tr>\n",
       "      <th>1</th>\n",
       "      <td>6</td>\n",
       "      <td>10644</td>\n",
       "      <td>1</td>\n",
       "      <td>0.500000</td>\n",
       "      <td>1.0</td>\n",
       "      <td>3</td>\n",
       "      <td>0.142857</td>\n",
       "      <td>3631</td>\n",
       "      <td>0.416690</td>\n",
       "      <td>test</td>\n",
       "      <td>1528013</td>\n",
       "    </tr>\n",
       "    <tr>\n",
       "      <th>2</th>\n",
       "      <td>6</td>\n",
       "      <td>11068</td>\n",
       "      <td>1</td>\n",
       "      <td>0.500000</td>\n",
       "      <td>1.0</td>\n",
       "      <td>3</td>\n",
       "      <td>0.142857</td>\n",
       "      <td>3069</td>\n",
       "      <td>0.584881</td>\n",
       "      <td>test</td>\n",
       "      <td>1528013</td>\n",
       "    </tr>\n",
       "    <tr>\n",
       "      <th>3</th>\n",
       "      <td>6</td>\n",
       "      <td>20323</td>\n",
       "      <td>1</td>\n",
       "      <td>0.500000</td>\n",
       "      <td>1.0</td>\n",
       "      <td>3</td>\n",
       "      <td>0.142857</td>\n",
       "      <td>695</td>\n",
       "      <td>0.532374</td>\n",
       "      <td>test</td>\n",
       "      <td>1528013</td>\n",
       "    </tr>\n",
       "    <tr>\n",
       "      <th>4</th>\n",
       "      <td>6</td>\n",
       "      <td>21903</td>\n",
       "      <td>2</td>\n",
       "      <td>0.666667</td>\n",
       "      <td>2.0</td>\n",
       "      <td>3</td>\n",
       "      <td>0.142857</td>\n",
       "      <td>73243</td>\n",
       "      <td>0.773808</td>\n",
       "      <td>test</td>\n",
       "      <td>1528013</td>\n",
       "    </tr>\n",
       "    <tr>\n",
       "      <th>5</th>\n",
       "      <td>6</td>\n",
       "      <td>25659</td>\n",
       "      <td>1</td>\n",
       "      <td>1.000000</td>\n",
       "      <td>1.0</td>\n",
       "      <td>3</td>\n",
       "      <td>0.142857</td>\n",
       "      <td>7940</td>\n",
       "      <td>0.521537</td>\n",
       "      <td>test</td>\n",
       "      <td>1528013</td>\n",
       "    </tr>\n",
       "    <tr>\n",
       "      <th>6</th>\n",
       "      <td>6</td>\n",
       "      <td>27521</td>\n",
       "      <td>1</td>\n",
       "      <td>0.333333</td>\n",
       "      <td>1.0</td>\n",
       "      <td>3</td>\n",
       "      <td>0.142857</td>\n",
       "      <td>13068</td>\n",
       "      <td>0.696434</td>\n",
       "      <td>test</td>\n",
       "      <td>1528013</td>\n",
       "    </tr>\n",
       "    <tr>\n",
       "      <th>7</th>\n",
       "      <td>6</td>\n",
       "      <td>38293</td>\n",
       "      <td>2</td>\n",
       "      <td>0.666667</td>\n",
       "      <td>2.0</td>\n",
       "      <td>3</td>\n",
       "      <td>0.142857</td>\n",
       "      <td>8088</td>\n",
       "      <td>0.646390</td>\n",
       "      <td>test</td>\n",
       "      <td>1528013</td>\n",
       "    </tr>\n",
       "    <tr>\n",
       "      <th>8</th>\n",
       "      <td>6</td>\n",
       "      <td>40992</td>\n",
       "      <td>1</td>\n",
       "      <td>0.500000</td>\n",
       "      <td>1.0</td>\n",
       "      <td>3</td>\n",
       "      <td>0.142857</td>\n",
       "      <td>1312</td>\n",
       "      <td>0.487805</td>\n",
       "      <td>test</td>\n",
       "      <td>1528013</td>\n",
       "    </tr>\n",
       "    <tr>\n",
       "      <th>9</th>\n",
       "      <td>6</td>\n",
       "      <td>45007</td>\n",
       "      <td>1</td>\n",
       "      <td>0.500000</td>\n",
       "      <td>1.0</td>\n",
       "      <td>3</td>\n",
       "      <td>0.142857</td>\n",
       "      <td>31596</td>\n",
       "      <td>0.693157</td>\n",
       "      <td>test</td>\n",
       "      <td>1528013</td>\n",
       "    </tr>\n",
       "  </tbody>\n",
       "</table>\n",
       "</div>"
      ],
      "text/plain": [
       "   user_id  product_id  user_product_total  user_reorder_ratio  times_last_5  \\\n",
       "0        6        8424                   1            1.000000           1.0   \n",
       "1        6       10644                   1            0.500000           1.0   \n",
       "2        6       11068                   1            0.500000           1.0   \n",
       "3        6       20323                   1            0.500000           1.0   \n",
       "4        6       21903                   2            0.666667           2.0   \n",
       "5        6       25659                   1            1.000000           1.0   \n",
       "6        6       27521                   1            0.333333           1.0   \n",
       "7        6       38293                   2            0.666667           2.0   \n",
       "8        6       40992                   1            0.500000           1.0   \n",
       "9        6       45007                   1            0.500000           1.0   \n",
       "\n",
       "   user_total_orders  user_reordered_ratio  product_total_purchase  \\\n",
       "0                  3              0.142857                   12292   \n",
       "1                  3              0.142857                    3631   \n",
       "2                  3              0.142857                    3069   \n",
       "3                  3              0.142857                     695   \n",
       "4                  3              0.142857                   73243   \n",
       "5                  3              0.142857                    7940   \n",
       "6                  3              0.142857                   13068   \n",
       "7                  3              0.142857                    8088   \n",
       "8                  3              0.142857                    1312   \n",
       "9                  3              0.142857                   31596   \n",
       "\n",
       "   product_reorder_ratio eval_set  order_id  \n",
       "0               0.650504     test   1528013  \n",
       "1               0.416690     test   1528013  \n",
       "2               0.584881     test   1528013  \n",
       "3               0.532374     test   1528013  \n",
       "4               0.773808     test   1528013  \n",
       "5               0.521537     test   1528013  \n",
       "6               0.696434     test   1528013  \n",
       "7               0.646390     test   1528013  \n",
       "8               0.487805     test   1528013  \n",
       "9               0.693157     test   1528013  "
      ]
     },
     "execution_count": 71,
     "metadata": {},
     "output_type": "execute_result"
    }
   ],
   "source": [
    "data_test.head(10)"
   ]
  },
  {
   "cell_type": "code",
   "execution_count": 72,
   "id": "5bee88ef",
   "metadata": {
    "execution": {
     "iopub.execute_input": "2022-11-20T05:56:07.980598Z",
     "iopub.status.busy": "2022-11-20T05:56:07.980100Z",
     "iopub.status.idle": "2022-11-20T05:56:08.128392Z",
     "shell.execute_reply": "2022-11-20T05:56:08.127135Z"
    },
    "papermill": {
     "duration": 0.213572,
     "end_time": "2022-11-20T05:56:08.131376",
     "exception": false,
     "start_time": "2022-11-20T05:56:07.917804",
     "status": "completed"
    },
    "tags": []
   },
   "outputs": [],
   "source": [
    "# set user_id and product_id as the index of the DF\n",
    "data_test = data_test = data_test.set_index(['user_id','product_id'])"
   ]
  },
  {
   "cell_type": "code",
   "execution_count": 73,
   "id": "01ac7e86",
   "metadata": {
    "execution": {
     "iopub.execute_input": "2022-11-20T05:56:08.254751Z",
     "iopub.status.busy": "2022-11-20T05:56:08.254343Z",
     "iopub.status.idle": "2022-11-20T05:56:08.275250Z",
     "shell.execute_reply": "2022-11-20T05:56:08.274420Z"
    },
    "papermill": {
     "duration": 0.085618,
     "end_time": "2022-11-20T05:56:08.277558",
     "exception": false,
     "start_time": "2022-11-20T05:56:08.191940",
     "status": "completed"
    },
    "tags": []
   },
   "outputs": [
    {
     "data": {
      "text/html": [
       "<div>\n",
       "<style scoped>\n",
       "    .dataframe tbody tr th:only-of-type {\n",
       "        vertical-align: middle;\n",
       "    }\n",
       "\n",
       "    .dataframe tbody tr th {\n",
       "        vertical-align: top;\n",
       "    }\n",
       "\n",
       "    .dataframe thead th {\n",
       "        text-align: right;\n",
       "    }\n",
       "</style>\n",
       "<table border=\"1\" class=\"dataframe\">\n",
       "  <thead>\n",
       "    <tr style=\"text-align: right;\">\n",
       "      <th></th>\n",
       "      <th></th>\n",
       "      <th>user_product_total</th>\n",
       "      <th>user_reorder_ratio</th>\n",
       "      <th>times_last_5</th>\n",
       "      <th>user_total_orders</th>\n",
       "      <th>user_reordered_ratio</th>\n",
       "      <th>product_total_purchase</th>\n",
       "      <th>product_reorder_ratio</th>\n",
       "      <th>eval_set</th>\n",
       "      <th>order_id</th>\n",
       "    </tr>\n",
       "    <tr>\n",
       "      <th>user_id</th>\n",
       "      <th>product_id</th>\n",
       "      <th></th>\n",
       "      <th></th>\n",
       "      <th></th>\n",
       "      <th></th>\n",
       "      <th></th>\n",
       "      <th></th>\n",
       "      <th></th>\n",
       "      <th></th>\n",
       "      <th></th>\n",
       "    </tr>\n",
       "  </thead>\n",
       "  <tbody>\n",
       "    <tr>\n",
       "      <th rowspan=\"10\" valign=\"top\">6</th>\n",
       "      <th>8424</th>\n",
       "      <td>1</td>\n",
       "      <td>1.000000</td>\n",
       "      <td>1.0</td>\n",
       "      <td>3</td>\n",
       "      <td>0.142857</td>\n",
       "      <td>12292</td>\n",
       "      <td>0.650504</td>\n",
       "      <td>test</td>\n",
       "      <td>1528013</td>\n",
       "    </tr>\n",
       "    <tr>\n",
       "      <th>10644</th>\n",
       "      <td>1</td>\n",
       "      <td>0.500000</td>\n",
       "      <td>1.0</td>\n",
       "      <td>3</td>\n",
       "      <td>0.142857</td>\n",
       "      <td>3631</td>\n",
       "      <td>0.416690</td>\n",
       "      <td>test</td>\n",
       "      <td>1528013</td>\n",
       "    </tr>\n",
       "    <tr>\n",
       "      <th>11068</th>\n",
       "      <td>1</td>\n",
       "      <td>0.500000</td>\n",
       "      <td>1.0</td>\n",
       "      <td>3</td>\n",
       "      <td>0.142857</td>\n",
       "      <td>3069</td>\n",
       "      <td>0.584881</td>\n",
       "      <td>test</td>\n",
       "      <td>1528013</td>\n",
       "    </tr>\n",
       "    <tr>\n",
       "      <th>20323</th>\n",
       "      <td>1</td>\n",
       "      <td>0.500000</td>\n",
       "      <td>1.0</td>\n",
       "      <td>3</td>\n",
       "      <td>0.142857</td>\n",
       "      <td>695</td>\n",
       "      <td>0.532374</td>\n",
       "      <td>test</td>\n",
       "      <td>1528013</td>\n",
       "    </tr>\n",
       "    <tr>\n",
       "      <th>21903</th>\n",
       "      <td>2</td>\n",
       "      <td>0.666667</td>\n",
       "      <td>2.0</td>\n",
       "      <td>3</td>\n",
       "      <td>0.142857</td>\n",
       "      <td>73243</td>\n",
       "      <td>0.773808</td>\n",
       "      <td>test</td>\n",
       "      <td>1528013</td>\n",
       "    </tr>\n",
       "    <tr>\n",
       "      <th>25659</th>\n",
       "      <td>1</td>\n",
       "      <td>1.000000</td>\n",
       "      <td>1.0</td>\n",
       "      <td>3</td>\n",
       "      <td>0.142857</td>\n",
       "      <td>7940</td>\n",
       "      <td>0.521537</td>\n",
       "      <td>test</td>\n",
       "      <td>1528013</td>\n",
       "    </tr>\n",
       "    <tr>\n",
       "      <th>27521</th>\n",
       "      <td>1</td>\n",
       "      <td>0.333333</td>\n",
       "      <td>1.0</td>\n",
       "      <td>3</td>\n",
       "      <td>0.142857</td>\n",
       "      <td>13068</td>\n",
       "      <td>0.696434</td>\n",
       "      <td>test</td>\n",
       "      <td>1528013</td>\n",
       "    </tr>\n",
       "    <tr>\n",
       "      <th>38293</th>\n",
       "      <td>2</td>\n",
       "      <td>0.666667</td>\n",
       "      <td>2.0</td>\n",
       "      <td>3</td>\n",
       "      <td>0.142857</td>\n",
       "      <td>8088</td>\n",
       "      <td>0.646390</td>\n",
       "      <td>test</td>\n",
       "      <td>1528013</td>\n",
       "    </tr>\n",
       "    <tr>\n",
       "      <th>40992</th>\n",
       "      <td>1</td>\n",
       "      <td>0.500000</td>\n",
       "      <td>1.0</td>\n",
       "      <td>3</td>\n",
       "      <td>0.142857</td>\n",
       "      <td>1312</td>\n",
       "      <td>0.487805</td>\n",
       "      <td>test</td>\n",
       "      <td>1528013</td>\n",
       "    </tr>\n",
       "    <tr>\n",
       "      <th>45007</th>\n",
       "      <td>1</td>\n",
       "      <td>0.500000</td>\n",
       "      <td>1.0</td>\n",
       "      <td>3</td>\n",
       "      <td>0.142857</td>\n",
       "      <td>31596</td>\n",
       "      <td>0.693157</td>\n",
       "      <td>test</td>\n",
       "      <td>1528013</td>\n",
       "    </tr>\n",
       "  </tbody>\n",
       "</table>\n",
       "</div>"
      ],
      "text/plain": [
       "                    user_product_total  user_reorder_ratio  times_last_5  \\\n",
       "user_id product_id                                                         \n",
       "6       8424                         1            1.000000           1.0   \n",
       "        10644                        1            0.500000           1.0   \n",
       "        11068                        1            0.500000           1.0   \n",
       "        20323                        1            0.500000           1.0   \n",
       "        21903                        2            0.666667           2.0   \n",
       "        25659                        1            1.000000           1.0   \n",
       "        27521                        1            0.333333           1.0   \n",
       "        38293                        2            0.666667           2.0   \n",
       "        40992                        1            0.500000           1.0   \n",
       "        45007                        1            0.500000           1.0   \n",
       "\n",
       "                    user_total_orders  user_reordered_ratio  \\\n",
       "user_id product_id                                            \n",
       "6       8424                        3              0.142857   \n",
       "        10644                       3              0.142857   \n",
       "        11068                       3              0.142857   \n",
       "        20323                       3              0.142857   \n",
       "        21903                       3              0.142857   \n",
       "        25659                       3              0.142857   \n",
       "        27521                       3              0.142857   \n",
       "        38293                       3              0.142857   \n",
       "        40992                       3              0.142857   \n",
       "        45007                       3              0.142857   \n",
       "\n",
       "                    product_total_purchase  product_reorder_ratio eval_set  \\\n",
       "user_id product_id                                                           \n",
       "6       8424                         12292               0.650504     test   \n",
       "        10644                         3631               0.416690     test   \n",
       "        11068                         3069               0.584881     test   \n",
       "        20323                          695               0.532374     test   \n",
       "        21903                        73243               0.773808     test   \n",
       "        25659                         7940               0.521537     test   \n",
       "        27521                        13068               0.696434     test   \n",
       "        38293                         8088               0.646390     test   \n",
       "        40992                         1312               0.487805     test   \n",
       "        45007                        31596               0.693157     test   \n",
       "\n",
       "                    order_id  \n",
       "user_id product_id            \n",
       "6       8424         1528013  \n",
       "        10644        1528013  \n",
       "        11068        1528013  \n",
       "        20323        1528013  \n",
       "        21903        1528013  \n",
       "        25659        1528013  \n",
       "        27521        1528013  \n",
       "        38293        1528013  \n",
       "        40992        1528013  \n",
       "        45007        1528013  "
      ]
     },
     "execution_count": 73,
     "metadata": {},
     "output_type": "execute_result"
    }
   ],
   "source": [
    "data_test.head(10)"
   ]
  },
  {
   "cell_type": "code",
   "execution_count": 74,
   "id": "b5b064e6",
   "metadata": {
    "execution": {
     "iopub.execute_input": "2022-11-20T05:56:08.404569Z",
     "iopub.status.busy": "2022-11-20T05:56:08.404137Z",
     "iopub.status.idle": "2022-11-20T05:56:08.520594Z",
     "shell.execute_reply": "2022-11-20T05:56:08.519194Z"
    },
    "papermill": {
     "duration": 0.18392,
     "end_time": "2022-11-20T05:56:08.523158",
     "exception": false,
     "start_time": "2022-11-20T05:56:08.339238",
     "status": "completed"
    },
    "tags": []
   },
   "outputs": [
    {
     "data": {
      "text/html": [
       "<div>\n",
       "<style scoped>\n",
       "    .dataframe tbody tr th:only-of-type {\n",
       "        vertical-align: middle;\n",
       "    }\n",
       "\n",
       "    .dataframe tbody tr th {\n",
       "        vertical-align: top;\n",
       "    }\n",
       "\n",
       "    .dataframe thead th {\n",
       "        text-align: right;\n",
       "    }\n",
       "</style>\n",
       "<table border=\"1\" class=\"dataframe\">\n",
       "  <thead>\n",
       "    <tr style=\"text-align: right;\">\n",
       "      <th></th>\n",
       "      <th></th>\n",
       "      <th>user_product_total</th>\n",
       "      <th>user_reorder_ratio</th>\n",
       "      <th>times_last_5</th>\n",
       "      <th>user_total_orders</th>\n",
       "      <th>user_reordered_ratio</th>\n",
       "      <th>product_total_purchase</th>\n",
       "      <th>product_reorder_ratio</th>\n",
       "    </tr>\n",
       "    <tr>\n",
       "      <th>user_id</th>\n",
       "      <th>product_id</th>\n",
       "      <th></th>\n",
       "      <th></th>\n",
       "      <th></th>\n",
       "      <th></th>\n",
       "      <th></th>\n",
       "      <th></th>\n",
       "      <th></th>\n",
       "    </tr>\n",
       "  </thead>\n",
       "  <tbody>\n",
       "    <tr>\n",
       "      <th rowspan=\"5\" valign=\"top\">6</th>\n",
       "      <th>8424</th>\n",
       "      <td>1</td>\n",
       "      <td>1.000000</td>\n",
       "      <td>1.0</td>\n",
       "      <td>3</td>\n",
       "      <td>0.142857</td>\n",
       "      <td>12292</td>\n",
       "      <td>0.650504</td>\n",
       "    </tr>\n",
       "    <tr>\n",
       "      <th>10644</th>\n",
       "      <td>1</td>\n",
       "      <td>0.500000</td>\n",
       "      <td>1.0</td>\n",
       "      <td>3</td>\n",
       "      <td>0.142857</td>\n",
       "      <td>3631</td>\n",
       "      <td>0.416690</td>\n",
       "    </tr>\n",
       "    <tr>\n",
       "      <th>11068</th>\n",
       "      <td>1</td>\n",
       "      <td>0.500000</td>\n",
       "      <td>1.0</td>\n",
       "      <td>3</td>\n",
       "      <td>0.142857</td>\n",
       "      <td>3069</td>\n",
       "      <td>0.584881</td>\n",
       "    </tr>\n",
       "    <tr>\n",
       "      <th>20323</th>\n",
       "      <td>1</td>\n",
       "      <td>0.500000</td>\n",
       "      <td>1.0</td>\n",
       "      <td>3</td>\n",
       "      <td>0.142857</td>\n",
       "      <td>695</td>\n",
       "      <td>0.532374</td>\n",
       "    </tr>\n",
       "    <tr>\n",
       "      <th>21903</th>\n",
       "      <td>2</td>\n",
       "      <td>0.666667</td>\n",
       "      <td>2.0</td>\n",
       "      <td>3</td>\n",
       "      <td>0.142857</td>\n",
       "      <td>73243</td>\n",
       "      <td>0.773808</td>\n",
       "    </tr>\n",
       "  </tbody>\n",
       "</table>\n",
       "</div>"
      ],
      "text/plain": [
       "                    user_product_total  user_reorder_ratio  times_last_5  \\\n",
       "user_id product_id                                                         \n",
       "6       8424                         1            1.000000           1.0   \n",
       "        10644                        1            0.500000           1.0   \n",
       "        11068                        1            0.500000           1.0   \n",
       "        20323                        1            0.500000           1.0   \n",
       "        21903                        2            0.666667           2.0   \n",
       "\n",
       "                    user_total_orders  user_reordered_ratio  \\\n",
       "user_id product_id                                            \n",
       "6       8424                        3              0.142857   \n",
       "        10644                       3              0.142857   \n",
       "        11068                       3              0.142857   \n",
       "        20323                       3              0.142857   \n",
       "        21903                       3              0.142857   \n",
       "\n",
       "                    product_total_purchase  product_reorder_ratio  \n",
       "user_id product_id                                                 \n",
       "6       8424                         12292               0.650504  \n",
       "        10644                         3631               0.416690  \n",
       "        11068                         3069               0.584881  \n",
       "        20323                          695               0.532374  \n",
       "        21903                        73243               0.773808  "
      ]
     },
     "execution_count": 74,
     "metadata": {},
     "output_type": "execute_result"
    }
   ],
   "source": [
    "# remove all non-predictor variables\n",
    "data_test = data_test.drop(['eval_set','order_id'], axis = 1)\n",
    "data_test.head(5)"
   ]
  },
  {
   "cell_type": "markdown",
   "id": "00c97cf3",
   "metadata": {
    "papermill": {
     "duration": 0.063669,
     "end_time": "2022-11-20T05:56:08.649142",
     "exception": false,
     "start_time": "2022-11-20T05:56:08.585473",
     "status": "completed"
    },
    "tags": []
   },
   "source": [
    "# XGBoost "
   ]
  },
  {
   "cell_type": "code",
   "execution_count": 75,
   "id": "2a545982",
   "metadata": {
    "execution": {
     "iopub.execute_input": "2022-11-20T05:56:08.773584Z",
     "iopub.status.busy": "2022-11-20T05:56:08.773179Z",
     "iopub.status.idle": "2022-11-20T05:56:09.905659Z",
     "shell.execute_reply": "2022-11-20T05:56:09.904428Z"
    },
    "papermill": {
     "duration": 1.197949,
     "end_time": "2022-11-20T05:56:09.908586",
     "exception": false,
     "start_time": "2022-11-20T05:56:08.710637",
     "status": "completed"
    },
    "tags": []
   },
   "outputs": [],
   "source": [
    "import xgboost as xgb\n",
    "import warnings\n",
    "warnings.filterwarnings('ignore')"
   ]
  },
  {
   "cell_type": "code",
   "execution_count": 76,
   "id": "e4f7cfe2",
   "metadata": {
    "execution": {
     "iopub.execute_input": "2022-11-20T05:56:10.033400Z",
     "iopub.status.busy": "2022-11-20T05:56:10.032200Z",
     "iopub.status.idle": "2022-11-20T05:56:10.096834Z",
     "shell.execute_reply": "2022-11-20T05:56:10.095641Z"
    },
    "papermill": {
     "duration": 0.129311,
     "end_time": "2022-11-20T05:56:10.099561",
     "exception": false,
     "start_time": "2022-11-20T05:56:09.970250",
     "status": "completed"
    },
    "tags": []
   },
   "outputs": [],
   "source": [
    "# split dataframe into X_train and y_train\n",
    "X_train, y_train = data_train.drop('reordered', axis = 1), data_train.reordered"
   ]
  },
  {
   "cell_type": "code",
   "execution_count": 77,
   "id": "ce7f8dca",
   "metadata": {
    "execution": {
     "iopub.execute_input": "2022-11-20T05:56:10.223415Z",
     "iopub.status.busy": "2022-11-20T05:56:10.222851Z",
     "iopub.status.idle": "2022-11-20T05:56:10.228800Z",
     "shell.execute_reply": "2022-11-20T05:56:10.227289Z"
    },
    "papermill": {
     "duration": 0.071287,
     "end_time": "2022-11-20T05:56:10.231831",
     "exception": false,
     "start_time": "2022-11-20T05:56:10.160544",
     "status": "completed"
    },
    "tags": []
   },
   "outputs": [],
   "source": [
    "# hyperparameters\n",
    "parameters = {'eval_metric':'logloss',   # evaluation metrics for validation data\n",
    "             'max_depth':'5',            # maximum depth of the tree\n",
    "             'colsample_bytree':'0.4',   # fraction of columns to be randomly samples for each tree\n",
    "             'subsample':'0.75'}         # fraction of observations to be randomly samples for each tree "
   ]
  },
  {
   "cell_type": "code",
   "execution_count": 78,
   "id": "513af6eb",
   "metadata": {
    "execution": {
     "iopub.execute_input": "2022-11-20T05:56:10.356080Z",
     "iopub.status.busy": "2022-11-20T05:56:10.354696Z",
     "iopub.status.idle": "2022-11-20T05:56:10.361326Z",
     "shell.execute_reply": "2022-11-20T05:56:10.360320Z"
    },
    "papermill": {
     "duration": 0.071074,
     "end_time": "2022-11-20T05:56:10.364081",
     "exception": false,
     "start_time": "2022-11-20T05:56:10.293007",
     "status": "completed"
    },
    "tags": []
   },
   "outputs": [],
   "source": [
    "xgbc = xgb.XGBClassifier(objective='binary:logistic', parameter=parameters, num_boost_round = 10)"
   ]
  },
  {
   "cell_type": "code",
   "execution_count": 79,
   "id": "5f2ff1d2",
   "metadata": {
    "execution": {
     "iopub.execute_input": "2022-11-20T05:56:10.546569Z",
     "iopub.status.busy": "2022-11-20T05:56:10.545339Z",
     "iopub.status.idle": "2022-11-20T05:58:23.541485Z",
     "shell.execute_reply": "2022-11-20T05:58:23.540121Z"
    },
    "papermill": {
     "duration": 133.061225,
     "end_time": "2022-11-20T05:58:23.544696",
     "exception": false,
     "start_time": "2022-11-20T05:56:10.483471",
     "status": "completed"
    },
    "tags": []
   },
   "outputs": [
    {
     "name": "stdout",
     "output_type": "stream",
     "text": [
      "[05:56:11] WARNING: ../src/learner.cc:627: \n",
      "Parameters: { \"num_boost_round\", \"parameter\" } might not be used.\n",
      "\n",
      "  This could be a false alarm, with some parameters getting used by language bindings but\n",
      "  then being mistakenly passed down to XGBoost core, or some parameter actually being used\n",
      "  but getting flagged wrongly here. Please open an issue if you find any such cases.\n",
      "\n",
      "\n"
     ]
    }
   ],
   "source": [
    "# rain model\n",
    "model = xgbc.fit(X_train, y_train)"
   ]
  },
  {
   "cell_type": "code",
   "execution_count": 80,
   "id": "8fb55257",
   "metadata": {
    "execution": {
     "iopub.execute_input": "2022-11-20T05:58:23.681122Z",
     "iopub.status.busy": "2022-11-20T05:58:23.680263Z",
     "iopub.status.idle": "2022-11-20T05:58:23.686100Z",
     "shell.execute_reply": "2022-11-20T05:58:23.684860Z"
    },
    "papermill": {
     "duration": 0.076659,
     "end_time": "2022-11-20T05:58:23.689064",
     "exception": false,
     "start_time": "2022-11-20T05:58:23.612405",
     "status": "completed"
    },
    "tags": []
   },
   "outputs": [],
   "source": [
    "import matplotlib.pyplot as plt"
   ]
  },
  {
   "cell_type": "code",
   "execution_count": 81,
   "id": "e7c082e7",
   "metadata": {
    "execution": {
     "iopub.execute_input": "2022-11-20T05:58:23.824553Z",
     "iopub.status.busy": "2022-11-20T05:58:23.824154Z",
     "iopub.status.idle": "2022-11-20T05:58:24.153293Z",
     "shell.execute_reply": "2022-11-20T05:58:24.151874Z"
    },
    "papermill": {
     "duration": 0.400546,
     "end_time": "2022-11-20T05:58:24.156080",
     "exception": false,
     "start_time": "2022-11-20T05:58:23.755534",
     "status": "completed"
    },
    "tags": []
   },
   "outputs": [
    {
     "data": {
      "text/plain": [
       "<AxesSubplot:title={'center':'Feature importance'}, xlabel='F score', ylabel='Features'>"
      ]
     },
     "execution_count": 81,
     "metadata": {},
     "output_type": "execute_result"
    },
    {
     "data": {
      "image/png": "[encoded data removed]",
      "text/plain": [
       "<Figure size 432x288 with 1 Axes>"
      ]
     },
     "metadata": {
      "needs_background": "light"
     },
     "output_type": "display_data"
    }
   ],
   "source": [
    "# feature importance as graph\n",
    "xgb.plot_importance(model)"
   ]
  },
  {
   "cell_type": "code",
   "execution_count": 82,
   "id": "df83c324",
   "metadata": {
    "execution": {
     "iopub.execute_input": "2022-11-20T05:58:24.289186Z",
     "iopub.status.busy": "2022-11-20T05:58:24.288715Z",
     "iopub.status.idle": "2022-11-20T05:58:24.299329Z",
     "shell.execute_reply": "2022-11-20T05:58:24.298147Z"
    },
    "papermill": {
     "duration": 0.077564,
     "end_time": "2022-11-20T05:58:24.301763",
     "exception": false,
     "start_time": "2022-11-20T05:58:24.224199",
     "status": "completed"
    },
    "tags": []
   },
   "outputs": [
    {
     "data": {
      "text/plain": [
       "{'objective': 'binary:logistic',\n",
       " 'base_score': 0.5,\n",
       " 'booster': 'gbtree',\n",
       " 'colsample_bylevel': 1,\n",
       " 'colsample_bynode': 1,\n",
       " 'colsample_bytree': 1,\n",
       " 'eval_metric': None,\n",
       " 'gamma': 0,\n",
       " 'gpu_id': -1,\n",
       " 'grow_policy': 'depthwise',\n",
       " 'interaction_constraints': '',\n",
       " 'learning_rate': 0.300000012,\n",
       " 'max_bin': 256,\n",
       " 'max_cat_to_onehot': 4,\n",
       " 'max_delta_step': 0,\n",
       " 'max_depth': 6,\n",
       " 'max_leaves': 0,\n",
       " 'min_child_weight': 1,\n",
       " 'monotone_constraints': '()',\n",
       " 'n_jobs': 0,\n",
       " 'num_parallel_tree': 1,\n",
       " 'predictor': 'auto',\n",
       " 'random_state': 0,\n",
       " 'reg_alpha': 0,\n",
       " 'reg_lambda': 1,\n",
       " 'sampling_method': 'uniform',\n",
       " 'scale_pos_weight': 1,\n",
       " 'subsample': 1,\n",
       " 'tree_method': 'exact',\n",
       " 'validate_parameters': 1,\n",
       " 'verbosity': None,\n",
       " 'parameter': {'eval_metric': 'logloss',\n",
       "  'max_depth': '5',\n",
       "  'colsample_bytree': '0.4',\n",
       "  'subsample': '0.75'},\n",
       " 'num_boost_round': 10}"
      ]
     },
     "execution_count": 82,
     "metadata": {},
     "output_type": "execute_result"
    }
   ],
   "source": [
    "# with method .get_params() we retrieve the parameters of our fitting model to finetune our model\n",
    "model.get_xgb_params()"
   ]
  },
  {
   "cell_type": "markdown",
   "id": "d4d38b9c",
   "metadata": {
    "papermill": {
     "duration": 0.065365,
     "end_time": "2022-11-20T05:58:24.431783",
     "exception": false,
     "start_time": "2022-11-20T05:58:24.366418",
     "status": "completed"
    },
    "tags": []
   },
   "source": [
    "# Hyperparameter Tuning for XGBoost "
   ]
  },
  {
   "cell_type": "markdown",
   "id": "2372948e",
   "metadata": {
    "papermill": {
     "duration": 0.065725,
     "end_time": "2022-11-20T05:58:24.562775",
     "exception": false,
     "start_time": "2022-11-20T05:58:24.497050",
     "status": "completed"
    },
    "tags": []
   },
   "source": [
    "These parameters do not necessarily create the best fitting model (in terms of prediction score). The method GridSearchCV() can make several trials to define the best parameters for our fitting model."
   ]
  },
  {
   "cell_type": "code",
   "execution_count": 83,
   "id": "3c852e32",
   "metadata": {
    "execution": {
     "iopub.execute_input": "2022-11-20T05:58:24.688753Z",
     "iopub.status.busy": "2022-11-20T05:58:24.688319Z",
     "iopub.status.idle": "2022-11-20T05:58:24.693364Z",
     "shell.execute_reply": "2022-11-20T05:58:24.692172Z"
    },
    "papermill": {
     "duration": 0.071324,
     "end_time": "2022-11-20T05:58:24.696085",
     "exception": false,
     "start_time": "2022-11-20T05:58:24.624761",
     "status": "completed"
    },
    "tags": []
   },
   "outputs": [],
   "source": [
    "from sklearn.model_selection import GridSearchCV"
   ]
  },
  {
   "cell_type": "code",
   "execution_count": 84,
   "id": "2933a647",
   "metadata": {
    "execution": {
     "iopub.execute_input": "2022-11-20T05:58:24.824533Z",
     "iopub.status.busy": "2022-11-20T05:58:24.824071Z",
     "iopub.status.idle": "2022-11-20T05:58:24.829638Z",
     "shell.execute_reply": "2022-11-20T05:58:24.828336Z"
    },
    "papermill": {
     "duration": 0.071859,
     "end_time": "2022-11-20T05:58:24.832212",
     "exception": false,
     "start_time": "2022-11-20T05:58:24.760353",
     "status": "completed"
    },
    "tags": []
   },
   "outputs": [],
   "source": [
    "# set booster's range of parameters\n",
    "# more parameters means that GridSearch will create and evaluate more models\n",
    "paramGrid = {'max_depth':[5,10],\n",
    "            'colsample_bytree':[0.3,0.4]}"
   ]
  },
  {
   "cell_type": "code",
   "execution_count": 85,
   "id": "e0b233b6",
   "metadata": {
    "execution": {
     "iopub.execute_input": "2022-11-20T05:58:24.959706Z",
     "iopub.status.busy": "2022-11-20T05:58:24.958550Z",
     "iopub.status.idle": "2022-11-20T05:58:24.964835Z",
     "shell.execute_reply": "2022-11-20T05:58:24.963552Z"
    },
    "papermill": {
     "duration": 0.071693,
     "end_time": "2022-11-20T05:58:24.967507",
     "exception": false,
     "start_time": "2022-11-20T05:58:24.895814",
     "status": "completed"
    },
    "tags": []
   },
   "outputs": [],
   "source": [
    "xgbc = xgb.XGBClassifier(objective='binary:logistic', eval_metric = 'logloss', num_boost_round = 10)"
   ]
  },
  {
   "cell_type": "code",
   "execution_count": 86,
   "id": "157a4ea1",
   "metadata": {
    "execution": {
     "iopub.execute_input": "2022-11-20T05:58:25.094381Z",
     "iopub.status.busy": "2022-11-20T05:58:25.093605Z",
     "iopub.status.idle": "2022-11-20T05:58:25.098621Z",
     "shell.execute_reply": "2022-11-20T05:58:25.097655Z"
    },
    "papermill": {
     "duration": 0.071412,
     "end_time": "2022-11-20T05:58:25.101077",
     "exception": false,
     "start_time": "2022-11-20T05:58:25.029665",
     "status": "completed"
    },
    "tags": []
   },
   "outputs": [],
   "source": [
    "# define how to train the models\n",
    "gridsearch = GridSearchCV(xgbc, paramGrid, cv = 3, verbose = 2, n_jobs = 1)"
   ]
  },
  {
   "cell_type": "code",
   "execution_count": 87,
   "id": "a1bbd6cf",
   "metadata": {
    "execution": {
     "iopub.execute_input": "2022-11-20T05:58:25.228987Z",
     "iopub.status.busy": "2022-11-20T05:58:25.227852Z",
     "iopub.status.idle": "2022-11-20T06:12:52.501389Z",
     "shell.execute_reply": "2022-11-20T06:12:52.500336Z"
    },
    "papermill": {
     "duration": 867.339248,
     "end_time": "2022-11-20T06:12:52.504161",
     "exception": false,
     "start_time": "2022-11-20T05:58:25.164913",
     "status": "completed"
    },
    "tags": []
   },
   "outputs": [
    {
     "name": "stdout",
     "output_type": "stream",
     "text": [
      "Fitting 3 folds for each of 4 candidates, totalling 12 fits\n",
      "[05:58:26] WARNING: ../src/learner.cc:627: \n",
      "Parameters: { \"num_boost_round\" } might not be used.\n",
      "\n",
      "  This could be a false alarm, with some parameters getting used by language bindings but\n",
      "  then being mistakenly passed down to XGBoost core, or some parameter actually being used\n",
      "  but getting flagged wrongly here. Please open an issue if you find any such cases.\n",
      "\n",
      "\n",
      "[CV] END ..................colsample_bytree=0.3, max_depth=5; total time=  43.9s\n",
      "[05:59:10] WARNING: ../src/learner.cc:627: \n",
      "Parameters: { \"num_boost_round\" } might not be used.\n",
      "\n",
      "  This could be a false alarm, with some parameters getting used by language bindings but\n",
      "  then being mistakenly passed down to XGBoost core, or some parameter actually being used\n",
      "  but getting flagged wrongly here. Please open an issue if you find any such cases.\n",
      "\n",
      "\n",
      "[CV] END ..................colsample_bytree=0.3, max_depth=5; total time=  45.6s\n",
      "[05:59:55] WARNING: ../src/learner.cc:627: \n",
      "Parameters: { \"num_boost_round\" } might not be used.\n",
      "\n",
      "  This could be a false alarm, with some parameters getting used by language bindings but\n",
      "  then being mistakenly passed down to XGBoost core, or some parameter actually being used\n",
      "  but getting flagged wrongly here. Please open an issue if you find any such cases.\n",
      "\n",
      "\n",
      "[CV] END ..................colsample_bytree=0.3, max_depth=5; total time=  45.3s\n",
      "[06:00:41] WARNING: ../src/learner.cc:627: \n",
      "Parameters: { \"num_boost_round\" } might not be used.\n",
      "\n",
      "  This could be a false alarm, with some parameters getting used by language bindings but\n",
      "  then being mistakenly passed down to XGBoost core, or some parameter actually being used\n",
      "  but getting flagged wrongly here. Please open an issue if you find any such cases.\n",
      "\n",
      "\n",
      "[CV] END .................colsample_bytree=0.3, max_depth=10; total time= 1.5min\n",
      "[06:02:08] WARNING: ../src/learner.cc:627: \n",
      "Parameters: { \"num_boost_round\" } might not be used.\n",
      "\n",
      "  This could be a false alarm, with some parameters getting used by language bindings but\n",
      "  then being mistakenly passed down to XGBoost core, or some parameter actually being used\n",
      "  but getting flagged wrongly here. Please open an issue if you find any such cases.\n",
      "\n",
      "\n",
      "[CV] END .................colsample_bytree=0.3, max_depth=10; total time= 1.5min\n",
      "[06:03:37] WARNING: ../src/learner.cc:627: \n",
      "Parameters: { \"num_boost_round\" } might not be used.\n",
      "\n",
      "  This could be a false alarm, with some parameters getting used by language bindings but\n",
      "  then being mistakenly passed down to XGBoost core, or some parameter actually being used\n",
      "  but getting flagged wrongly here. Please open an issue if you find any such cases.\n",
      "\n",
      "\n",
      "[CV] END .................colsample_bytree=0.3, max_depth=10; total time= 1.4min\n",
      "[06:05:03] WARNING: ../src/learner.cc:627: \n",
      "Parameters: { \"num_boost_round\" } might not be used.\n",
      "\n",
      "  This could be a false alarm, with some parameters getting used by language bindings but\n",
      "  then being mistakenly passed down to XGBoost core, or some parameter actually being used\n",
      "  but getting flagged wrongly here. Please open an issue if you find any such cases.\n",
      "\n",
      "\n",
      "[CV] END ..................colsample_bytree=0.4, max_depth=5; total time=  44.7s\n",
      "[06:05:48] WARNING: ../src/learner.cc:627: \n",
      "Parameters: { \"num_boost_round\" } might not be used.\n",
      "\n",
      "  This could be a false alarm, with some parameters getting used by language bindings but\n",
      "  then being mistakenly passed down to XGBoost core, or some parameter actually being used\n",
      "  but getting flagged wrongly here. Please open an issue if you find any such cases.\n",
      "\n",
      "\n",
      "[CV] END ..................colsample_bytree=0.4, max_depth=5; total time=  44.4s\n",
      "[06:06:32] WARNING: ../src/learner.cc:627: \n",
      "Parameters: { \"num_boost_round\" } might not be used.\n",
      "\n",
      "  This could be a false alarm, with some parameters getting used by language bindings but\n",
      "  then being mistakenly passed down to XGBoost core, or some parameter actually being used\n",
      "  but getting flagged wrongly here. Please open an issue if you find any such cases.\n",
      "\n",
      "\n",
      "[CV] END ..................colsample_bytree=0.4, max_depth=5; total time=  44.5s\n",
      "[06:07:17] WARNING: ../src/learner.cc:627: \n",
      "Parameters: { \"num_boost_round\" } might not be used.\n",
      "\n",
      "  This could be a false alarm, with some parameters getting used by language bindings but\n",
      "  then being mistakenly passed down to XGBoost core, or some parameter actually being used\n",
      "  but getting flagged wrongly here. Please open an issue if you find any such cases.\n",
      "\n",
      "\n",
      "[CV] END .................colsample_bytree=0.4, max_depth=10; total time= 1.5min\n",
      "[06:08:44] WARNING: ../src/learner.cc:627: \n",
      "Parameters: { \"num_boost_round\" } might not be used.\n",
      "\n",
      "  This could be a false alarm, with some parameters getting used by language bindings but\n",
      "  then being mistakenly passed down to XGBoost core, or some parameter actually being used\n",
      "  but getting flagged wrongly here. Please open an issue if you find any such cases.\n",
      "\n",
      "\n",
      "[CV] END .................colsample_bytree=0.4, max_depth=10; total time= 1.5min\n",
      "[06:10:13] WARNING: ../src/learner.cc:627: \n",
      "Parameters: { \"num_boost_round\" } might not be used.\n",
      "\n",
      "  This could be a false alarm, with some parameters getting used by language bindings but\n",
      "  then being mistakenly passed down to XGBoost core, or some parameter actually being used\n",
      "  but getting flagged wrongly here. Please open an issue if you find any such cases.\n",
      "\n",
      "\n",
      "[CV] END .................colsample_bytree=0.4, max_depth=10; total time= 1.5min\n",
      "[06:11:42] WARNING: ../src/learner.cc:627: \n",
      "Parameters: { \"num_boost_round\" } might not be used.\n",
      "\n",
      "  This could be a false alarm, with some parameters getting used by language bindings but\n",
      "  then being mistakenly passed down to XGBoost core, or some parameter actually being used\n",
      "  but getting flagged wrongly here. Please open an issue if you find any such cases.\n",
      "\n",
      "\n"
     ]
    }
   ],
   "source": [
    "#train the models with the combination of different parameters\n",
    "#execution if GridSearch\n",
    "model = gridsearch.fit(X_train, y_train)"
   ]
  },
  {
   "cell_type": "code",
   "execution_count": 88,
   "id": "8f05c735",
   "metadata": {
    "execution": {
     "iopub.execute_input": "2022-11-20T06:12:52.634831Z",
     "iopub.status.busy": "2022-11-20T06:12:52.634399Z",
     "iopub.status.idle": "2022-11-20T06:12:52.641474Z",
     "shell.execute_reply": "2022-11-20T06:12:52.639966Z"
    },
    "papermill": {
     "duration": 0.075648,
     "end_time": "2022-11-20T06:12:52.644176",
     "exception": false,
     "start_time": "2022-11-20T06:12:52.568528",
     "status": "completed"
    },
    "tags": []
   },
   "outputs": [
    {
     "name": "stdout",
     "output_type": "stream",
     "text": [
      "The best parameters are: /n {'colsample_bytree': 0.3, 'max_depth': 5}\n"
     ]
    }
   ],
   "source": [
    "print(\"The best parameters are: /n\",  gridsearch.best_params_)"
   ]
  },
  {
   "cell_type": "code",
   "execution_count": 89,
   "id": "ed60cde4",
   "metadata": {
    "execution": {
     "iopub.execute_input": "2022-11-20T06:12:52.791887Z",
     "iopub.status.busy": "2022-11-20T06:12:52.791333Z",
     "iopub.status.idle": "2022-11-20T06:12:52.796978Z",
     "shell.execute_reply": "2022-11-20T06:12:52.795563Z"
    },
    "papermill": {
     "duration": 0.090659,
     "end_time": "2022-11-20T06:12:52.799642",
     "exception": false,
     "start_time": "2022-11-20T06:12:52.708983",
     "status": "completed"
    },
    "tags": []
   },
   "outputs": [],
   "source": [
    "#store the model for prediction\n",
    "model = gridsearch.best_estimator_"
   ]
  },
  {
   "cell_type": "code",
   "execution_count": 90,
   "id": "0e628eca",
   "metadata": {
    "execution": {
     "iopub.execute_input": "2022-11-20T06:12:52.937400Z",
     "iopub.status.busy": "2022-11-20T06:12:52.935979Z",
     "iopub.status.idle": "2022-11-20T06:12:52.950182Z",
     "shell.execute_reply": "2022-11-20T06:12:52.948989Z"
    },
    "papermill": {
     "duration": 0.082978,
     "end_time": "2022-11-20T06:12:52.952713",
     "exception": false,
     "start_time": "2022-11-20T06:12:52.869735",
     "status": "completed"
    },
    "tags": []
   },
   "outputs": [
    {
     "data": {
      "text/plain": [
       "{'objective': 'binary:logistic',\n",
       " 'use_label_encoder': False,\n",
       " 'base_score': 0.5,\n",
       " 'booster': 'gbtree',\n",
       " 'callbacks': None,\n",
       " 'colsample_bylevel': 1,\n",
       " 'colsample_bynode': 1,\n",
       " 'colsample_bytree': 0.3,\n",
       " 'early_stopping_rounds': None,\n",
       " 'enable_categorical': False,\n",
       " 'eval_metric': 'logloss',\n",
       " 'gamma': 0,\n",
       " 'gpu_id': -1,\n",
       " 'grow_policy': 'depthwise',\n",
       " 'importance_type': None,\n",
       " 'interaction_constraints': '',\n",
       " 'learning_rate': 0.300000012,\n",
       " 'max_bin': 256,\n",
       " 'max_cat_to_onehot': 4,\n",
       " 'max_delta_step': 0,\n",
       " 'max_depth': 5,\n",
       " 'max_leaves': 0,\n",
       " 'min_child_weight': 1,\n",
       " 'missing': nan,\n",
       " 'monotone_constraints': '()',\n",
       " 'n_estimators': 100,\n",
       " 'n_jobs': 0,\n",
       " 'num_parallel_tree': 1,\n",
       " 'predictor': 'auto',\n",
       " 'random_state': 0,\n",
       " 'reg_alpha': 0,\n",
       " 'reg_lambda': 1,\n",
       " 'sampling_method': 'uniform',\n",
       " 'scale_pos_weight': 1,\n",
       " 'subsample': 1,\n",
       " 'tree_method': 'exact',\n",
       " 'validate_parameters': 1,\n",
       " 'verbosity': None,\n",
       " 'num_boost_round': 10}"
      ]
     },
     "execution_count": 90,
     "metadata": {},
     "output_type": "execute_result"
    }
   ],
   "source": [
    "model.get_params()"
   ]
  },
  {
   "cell_type": "code",
   "execution_count": 91,
   "id": "c2d68ad9",
   "metadata": {
    "execution": {
     "iopub.execute_input": "2022-11-20T06:12:53.095297Z",
     "iopub.status.busy": "2022-11-20T06:12:53.094814Z",
     "iopub.status.idle": "2022-11-20T06:12:53.100378Z",
     "shell.execute_reply": "2022-11-20T06:12:53.099205Z"
    },
    "papermill": {
     "duration": 0.076909,
     "end_time": "2022-11-20T06:12:53.104331",
     "exception": false,
     "start_time": "2022-11-20T06:12:53.027422",
     "status": "completed"
    },
    "tags": []
   },
   "outputs": [],
   "source": [
    "from sklearn.model_selection import train_test_split\n",
    "from sklearn.metrics import f1_score,classification_report, confusion_matrix"
   ]
  },
  {
   "cell_type": "code",
   "execution_count": 92,
   "id": "d3e180d3",
   "metadata": {
    "execution": {
     "iopub.execute_input": "2022-11-20T06:12:53.252620Z",
     "iopub.status.busy": "2022-11-20T06:12:53.250982Z",
     "iopub.status.idle": "2022-11-20T06:12:54.068411Z",
     "shell.execute_reply": "2022-11-20T06:12:54.066979Z"
    },
    "papermill": {
     "duration": 0.887588,
     "end_time": "2022-11-20T06:12:54.071242",
     "exception": false,
     "start_time": "2022-11-20T06:12:53.183654",
     "status": "completed"
    },
    "tags": []
   },
   "outputs": [],
   "source": [
    "X_train, X_val, y_train, y_val = train_test_split(data_train.drop('reordered', axis=1), data_train.reordered, test_size=0.8, random_state=42)"
   ]
  },
  {
   "cell_type": "markdown",
   "id": "3c67f2a1",
   "metadata": {
    "papermill": {
     "duration": 0.063676,
     "end_time": "2022-11-20T06:12:54.199750",
     "exception": false,
     "start_time": "2022-11-20T06:12:54.136074",
     "status": "completed"
    },
    "tags": []
   },
   "source": [
    "# Apply predictive model for XGBoost"
   ]
  },
  {
   "cell_type": "code",
   "execution_count": 93,
   "id": "015cb8d0",
   "metadata": {
    "execution": {
     "iopub.execute_input": "2022-11-20T06:12:54.329986Z",
     "iopub.status.busy": "2022-11-20T06:12:54.329578Z",
     "iopub.status.idle": "2022-11-20T06:12:55.542957Z",
     "shell.execute_reply": "2022-11-20T06:12:55.541873Z"
    },
    "papermill": {
     "duration": 1.281762,
     "end_time": "2022-11-20T06:12:55.546016",
     "exception": false,
     "start_time": "2022-11-20T06:12:54.264254",
     "status": "completed"
    },
    "tags": []
   },
   "outputs": [
    {
     "data": {
      "text/plain": [
       "array([0, 0, 0, 0, 1, 0, 0, 1, 0, 0, 0, 0, 1, 0, 0, 0, 0, 0, 0, 0])"
      ]
     },
     "execution_count": 93,
     "metadata": {},
     "output_type": "execute_result"
    }
   ],
   "source": [
    "# custom threshold prediction probability as 0.21 yields the best prediction (from grid search)\n",
    "test_pred = (model.predict_proba(data_test)[:,1] >= 0.21).astype(int)\n",
    "test_pred[0:20]"
   ]
  },
  {
   "cell_type": "code",
   "execution_count": 94,
   "id": "b4f7b891",
   "metadata": {
    "execution": {
     "iopub.execute_input": "2022-11-20T06:12:55.676368Z",
     "iopub.status.busy": "2022-11-20T06:12:55.675940Z",
     "iopub.status.idle": "2022-11-20T06:12:55.684123Z",
     "shell.execute_reply": "2022-11-20T06:12:55.683255Z"
    },
    "papermill": {
     "duration": 0.0762,
     "end_time": "2022-11-20T06:12:55.686528",
     "exception": false,
     "start_time": "2022-11-20T06:12:55.610328",
     "status": "completed"
    },
    "tags": []
   },
   "outputs": [],
   "source": [
    "#Save the prediction on a new column in the data_test DF\n",
    "data_test['prediction'] = test_pred"
   ]
  },
  {
   "cell_type": "code",
   "execution_count": 95,
   "id": "760ac93e",
   "metadata": {
    "execution": {
     "iopub.execute_input": "2022-11-20T06:12:55.818832Z",
     "iopub.status.busy": "2022-11-20T06:12:55.818142Z",
     "iopub.status.idle": "2022-11-20T06:12:55.836602Z",
     "shell.execute_reply": "2022-11-20T06:12:55.835287Z"
    },
    "papermill": {
     "duration": 0.088653,
     "end_time": "2022-11-20T06:12:55.839658",
     "exception": false,
     "start_time": "2022-11-20T06:12:55.751005",
     "status": "completed"
    },
    "tags": []
   },
   "outputs": [
    {
     "data": {
      "text/html": [
       "<div>\n",
       "<style scoped>\n",
       "    .dataframe tbody tr th:only-of-type {\n",
       "        vertical-align: middle;\n",
       "    }\n",
       "\n",
       "    .dataframe tbody tr th {\n",
       "        vertical-align: top;\n",
       "    }\n",
       "\n",
       "    .dataframe thead th {\n",
       "        text-align: right;\n",
       "    }\n",
       "</style>\n",
       "<table border=\"1\" class=\"dataframe\">\n",
       "  <thead>\n",
       "    <tr style=\"text-align: right;\">\n",
       "      <th></th>\n",
       "      <th></th>\n",
       "      <th>user_product_total</th>\n",
       "      <th>user_reorder_ratio</th>\n",
       "      <th>times_last_5</th>\n",
       "      <th>user_total_orders</th>\n",
       "      <th>user_reordered_ratio</th>\n",
       "      <th>product_total_purchase</th>\n",
       "      <th>product_reorder_ratio</th>\n",
       "      <th>prediction</th>\n",
       "    </tr>\n",
       "    <tr>\n",
       "      <th>user_id</th>\n",
       "      <th>product_id</th>\n",
       "      <th></th>\n",
       "      <th></th>\n",
       "      <th></th>\n",
       "      <th></th>\n",
       "      <th></th>\n",
       "      <th></th>\n",
       "      <th></th>\n",
       "      <th></th>\n",
       "    </tr>\n",
       "  </thead>\n",
       "  <tbody>\n",
       "    <tr>\n",
       "      <th rowspan=\"10\" valign=\"top\">6</th>\n",
       "      <th>8424</th>\n",
       "      <td>1</td>\n",
       "      <td>1.000000</td>\n",
       "      <td>1.0</td>\n",
       "      <td>3</td>\n",
       "      <td>0.142857</td>\n",
       "      <td>12292</td>\n",
       "      <td>0.650504</td>\n",
       "      <td>0</td>\n",
       "    </tr>\n",
       "    <tr>\n",
       "      <th>10644</th>\n",
       "      <td>1</td>\n",
       "      <td>0.500000</td>\n",
       "      <td>1.0</td>\n",
       "      <td>3</td>\n",
       "      <td>0.142857</td>\n",
       "      <td>3631</td>\n",
       "      <td>0.416690</td>\n",
       "      <td>0</td>\n",
       "    </tr>\n",
       "    <tr>\n",
       "      <th>11068</th>\n",
       "      <td>1</td>\n",
       "      <td>0.500000</td>\n",
       "      <td>1.0</td>\n",
       "      <td>3</td>\n",
       "      <td>0.142857</td>\n",
       "      <td>3069</td>\n",
       "      <td>0.584881</td>\n",
       "      <td>0</td>\n",
       "    </tr>\n",
       "    <tr>\n",
       "      <th>20323</th>\n",
       "      <td>1</td>\n",
       "      <td>0.500000</td>\n",
       "      <td>1.0</td>\n",
       "      <td>3</td>\n",
       "      <td>0.142857</td>\n",
       "      <td>695</td>\n",
       "      <td>0.532374</td>\n",
       "      <td>0</td>\n",
       "    </tr>\n",
       "    <tr>\n",
       "      <th>21903</th>\n",
       "      <td>2</td>\n",
       "      <td>0.666667</td>\n",
       "      <td>2.0</td>\n",
       "      <td>3</td>\n",
       "      <td>0.142857</td>\n",
       "      <td>73243</td>\n",
       "      <td>0.773808</td>\n",
       "      <td>1</td>\n",
       "    </tr>\n",
       "    <tr>\n",
       "      <th>25659</th>\n",
       "      <td>1</td>\n",
       "      <td>1.000000</td>\n",
       "      <td>1.0</td>\n",
       "      <td>3</td>\n",
       "      <td>0.142857</td>\n",
       "      <td>7940</td>\n",
       "      <td>0.521537</td>\n",
       "      <td>0</td>\n",
       "    </tr>\n",
       "    <tr>\n",
       "      <th>27521</th>\n",
       "      <td>1</td>\n",
       "      <td>0.333333</td>\n",
       "      <td>1.0</td>\n",
       "      <td>3</td>\n",
       "      <td>0.142857</td>\n",
       "      <td>13068</td>\n",
       "      <td>0.696434</td>\n",
       "      <td>0</td>\n",
       "    </tr>\n",
       "    <tr>\n",
       "      <th>38293</th>\n",
       "      <td>2</td>\n",
       "      <td>0.666667</td>\n",
       "      <td>2.0</td>\n",
       "      <td>3</td>\n",
       "      <td>0.142857</td>\n",
       "      <td>8088</td>\n",
       "      <td>0.646390</td>\n",
       "      <td>1</td>\n",
       "    </tr>\n",
       "    <tr>\n",
       "      <th>40992</th>\n",
       "      <td>1</td>\n",
       "      <td>0.500000</td>\n",
       "      <td>1.0</td>\n",
       "      <td>3</td>\n",
       "      <td>0.142857</td>\n",
       "      <td>1312</td>\n",
       "      <td>0.487805</td>\n",
       "      <td>0</td>\n",
       "    </tr>\n",
       "    <tr>\n",
       "      <th>45007</th>\n",
       "      <td>1</td>\n",
       "      <td>0.500000</td>\n",
       "      <td>1.0</td>\n",
       "      <td>3</td>\n",
       "      <td>0.142857</td>\n",
       "      <td>31596</td>\n",
       "      <td>0.693157</td>\n",
       "      <td>0</td>\n",
       "    </tr>\n",
       "  </tbody>\n",
       "</table>\n",
       "</div>"
      ],
      "text/plain": [
       "                    user_product_total  user_reorder_ratio  times_last_5  \\\n",
       "user_id product_id                                                         \n",
       "6       8424                         1            1.000000           1.0   \n",
       "        10644                        1            0.500000           1.0   \n",
       "        11068                        1            0.500000           1.0   \n",
       "        20323                        1            0.500000           1.0   \n",
       "        21903                        2            0.666667           2.0   \n",
       "        25659                        1            1.000000           1.0   \n",
       "        27521                        1            0.333333           1.0   \n",
       "        38293                        2            0.666667           2.0   \n",
       "        40992                        1            0.500000           1.0   \n",
       "        45007                        1            0.500000           1.0   \n",
       "\n",
       "                    user_total_orders  user_reordered_ratio  \\\n",
       "user_id product_id                                            \n",
       "6       8424                        3              0.142857   \n",
       "        10644                       3              0.142857   \n",
       "        11068                       3              0.142857   \n",
       "        20323                       3              0.142857   \n",
       "        21903                       3              0.142857   \n",
       "        25659                       3              0.142857   \n",
       "        27521                       3              0.142857   \n",
       "        38293                       3              0.142857   \n",
       "        40992                       3              0.142857   \n",
       "        45007                       3              0.142857   \n",
       "\n",
       "                    product_total_purchase  product_reorder_ratio  prediction  \n",
       "user_id product_id                                                             \n",
       "6       8424                         12292               0.650504           0  \n",
       "        10644                         3631               0.416690           0  \n",
       "        11068                         3069               0.584881           0  \n",
       "        20323                          695               0.532374           0  \n",
       "        21903                        73243               0.773808           1  \n",
       "        25659                         7940               0.521537           0  \n",
       "        27521                        13068               0.696434           0  \n",
       "        38293                         8088               0.646390           1  \n",
       "        40992                         1312               0.487805           0  \n",
       "        45007                        31596               0.693157           0  "
      ]
     },
     "execution_count": 95,
     "metadata": {},
     "output_type": "execute_result"
    }
   ],
   "source": [
    "data_test.head(10)"
   ]
  },
  {
   "cell_type": "code",
   "execution_count": 96,
   "id": "6a2d9dbe",
   "metadata": {
    "execution": {
     "iopub.execute_input": "2022-11-20T06:12:55.974457Z",
     "iopub.status.busy": "2022-11-20T06:12:55.973738Z",
     "iopub.status.idle": "2022-11-20T06:12:56.073669Z",
     "shell.execute_reply": "2022-11-20T06:12:56.072221Z"
    },
    "papermill": {
     "duration": 0.171149,
     "end_time": "2022-11-20T06:12:56.076720",
     "exception": false,
     "start_time": "2022-11-20T06:12:55.905571",
     "status": "completed"
    },
    "tags": []
   },
   "outputs": [],
   "source": [
    "final = data_test.reset_index()"
   ]
  },
  {
   "cell_type": "code",
   "execution_count": 97,
   "id": "1a4ff466",
   "metadata": {
    "execution": {
     "iopub.execute_input": "2022-11-20T06:12:56.208701Z",
     "iopub.status.busy": "2022-11-20T06:12:56.207924Z",
     "iopub.status.idle": "2022-11-20T06:12:56.283139Z",
     "shell.execute_reply": "2022-11-20T06:12:56.281516Z"
    },
    "papermill": {
     "duration": 0.144811,
     "end_time": "2022-11-20T06:12:56.286170",
     "exception": false,
     "start_time": "2022-11-20T06:12:56.141359",
     "status": "completed"
    },
    "tags": []
   },
   "outputs": [],
   "source": [
    "#Keep only the required columns\n",
    "final = final[['product_id', 'user_id', 'prediction']]"
   ]
  },
  {
   "cell_type": "code",
   "execution_count": 98,
   "id": "f4e17eac",
   "metadata": {
    "execution": {
     "iopub.execute_input": "2022-11-20T06:12:56.451398Z",
     "iopub.status.busy": "2022-11-20T06:12:56.450962Z",
     "iopub.status.idle": "2022-11-20T06:12:56.587327Z",
     "shell.execute_reply": "2022-11-20T06:12:56.586128Z"
    },
    "papermill": {
     "duration": 0.213439,
     "end_time": "2022-11-20T06:12:56.589957",
     "exception": false,
     "start_time": "2022-11-20T06:12:56.376518",
     "status": "completed"
    },
    "tags": []
   },
   "outputs": [
    {
     "data": {
      "text/plain": [
       "346"
      ]
     },
     "execution_count": 98,
     "metadata": {},
     "output_type": "execute_result"
    }
   ],
   "source": [
    "gc.collect()"
   ]
  },
  {
   "cell_type": "code",
   "execution_count": 99,
   "id": "85f0026a",
   "metadata": {
    "execution": {
     "iopub.execute_input": "2022-11-20T06:12:56.784277Z",
     "iopub.status.busy": "2022-11-20T06:12:56.783490Z",
     "iopub.status.idle": "2022-11-20T06:12:56.796759Z",
     "shell.execute_reply": "2022-11-20T06:12:56.795129Z"
    },
    "papermill": {
     "duration": 0.14441,
     "end_time": "2022-11-20T06:12:56.799585",
     "exception": false,
     "start_time": "2022-11-20T06:12:56.655175",
     "status": "completed"
    },
    "tags": []
   },
   "outputs": [
    {
     "data": {
      "text/html": [
       "<div>\n",
       "<style scoped>\n",
       "    .dataframe tbody tr th:only-of-type {\n",
       "        vertical-align: middle;\n",
       "    }\n",
       "\n",
       "    .dataframe tbody tr th {\n",
       "        vertical-align: top;\n",
       "    }\n",
       "\n",
       "    .dataframe thead th {\n",
       "        text-align: right;\n",
       "    }\n",
       "</style>\n",
       "<table border=\"1\" class=\"dataframe\">\n",
       "  <thead>\n",
       "    <tr style=\"text-align: right;\">\n",
       "      <th></th>\n",
       "      <th>product_id</th>\n",
       "      <th>user_id</th>\n",
       "      <th>prediction</th>\n",
       "    </tr>\n",
       "  </thead>\n",
       "  <tbody>\n",
       "    <tr>\n",
       "      <th>0</th>\n",
       "      <td>8424</td>\n",
       "      <td>6</td>\n",
       "      <td>0</td>\n",
       "    </tr>\n",
       "    <tr>\n",
       "      <th>1</th>\n",
       "      <td>10644</td>\n",
       "      <td>6</td>\n",
       "      <td>0</td>\n",
       "    </tr>\n",
       "    <tr>\n",
       "      <th>2</th>\n",
       "      <td>11068</td>\n",
       "      <td>6</td>\n",
       "      <td>0</td>\n",
       "    </tr>\n",
       "    <tr>\n",
       "      <th>3</th>\n",
       "      <td>20323</td>\n",
       "      <td>6</td>\n",
       "      <td>0</td>\n",
       "    </tr>\n",
       "    <tr>\n",
       "      <th>4</th>\n",
       "      <td>21903</td>\n",
       "      <td>6</td>\n",
       "      <td>1</td>\n",
       "    </tr>\n",
       "    <tr>\n",
       "      <th>5</th>\n",
       "      <td>25659</td>\n",
       "      <td>6</td>\n",
       "      <td>0</td>\n",
       "    </tr>\n",
       "    <tr>\n",
       "      <th>6</th>\n",
       "      <td>27521</td>\n",
       "      <td>6</td>\n",
       "      <td>0</td>\n",
       "    </tr>\n",
       "    <tr>\n",
       "      <th>7</th>\n",
       "      <td>38293</td>\n",
       "      <td>6</td>\n",
       "      <td>1</td>\n",
       "    </tr>\n",
       "    <tr>\n",
       "      <th>8</th>\n",
       "      <td>40992</td>\n",
       "      <td>6</td>\n",
       "      <td>0</td>\n",
       "    </tr>\n",
       "    <tr>\n",
       "      <th>9</th>\n",
       "      <td>45007</td>\n",
       "      <td>6</td>\n",
       "      <td>0</td>\n",
       "    </tr>\n",
       "    <tr>\n",
       "      <th>10</th>\n",
       "      <td>48679</td>\n",
       "      <td>6</td>\n",
       "      <td>0</td>\n",
       "    </tr>\n",
       "    <tr>\n",
       "      <th>11</th>\n",
       "      <td>49401</td>\n",
       "      <td>6</td>\n",
       "      <td>0</td>\n",
       "    </tr>\n",
       "    <tr>\n",
       "      <th>12</th>\n",
       "      <td>196</td>\n",
       "      <td>19</td>\n",
       "      <td>1</td>\n",
       "    </tr>\n",
       "    <tr>\n",
       "      <th>13</th>\n",
       "      <td>1241</td>\n",
       "      <td>19</td>\n",
       "      <td>0</td>\n",
       "    </tr>\n",
       "    <tr>\n",
       "      <th>14</th>\n",
       "      <td>1832</td>\n",
       "      <td>19</td>\n",
       "      <td>0</td>\n",
       "    </tr>\n",
       "    <tr>\n",
       "      <th>15</th>\n",
       "      <td>2192</td>\n",
       "      <td>19</td>\n",
       "      <td>0</td>\n",
       "    </tr>\n",
       "    <tr>\n",
       "      <th>16</th>\n",
       "      <td>2848</td>\n",
       "      <td>19</td>\n",
       "      <td>0</td>\n",
       "    </tr>\n",
       "    <tr>\n",
       "      <th>17</th>\n",
       "      <td>3110</td>\n",
       "      <td>19</td>\n",
       "      <td>0</td>\n",
       "    </tr>\n",
       "    <tr>\n",
       "      <th>18</th>\n",
       "      <td>3334</td>\n",
       "      <td>19</td>\n",
       "      <td>0</td>\n",
       "    </tr>\n",
       "    <tr>\n",
       "      <th>19</th>\n",
       "      <td>3364</td>\n",
       "      <td>19</td>\n",
       "      <td>0</td>\n",
       "    </tr>\n",
       "  </tbody>\n",
       "</table>\n",
       "</div>"
      ],
      "text/plain": [
       "    product_id  user_id  prediction\n",
       "0         8424        6           0\n",
       "1        10644        6           0\n",
       "2        11068        6           0\n",
       "3        20323        6           0\n",
       "4        21903        6           1\n",
       "5        25659        6           0\n",
       "6        27521        6           0\n",
       "7        38293        6           1\n",
       "8        40992        6           0\n",
       "9        45007        6           0\n",
       "10       48679        6           0\n",
       "11       49401        6           0\n",
       "12         196       19           1\n",
       "13        1241       19           0\n",
       "14        1832       19           0\n",
       "15        2192       19           0\n",
       "16        2848       19           0\n",
       "17        3110       19           0\n",
       "18        3334       19           0\n",
       "19        3364       19           0"
      ]
     },
     "execution_count": 99,
     "metadata": {},
     "output_type": "execute_result"
    }
   ],
   "source": [
    "final.head(20)"
   ]
  },
  {
   "cell_type": "code",
   "execution_count": 100,
   "id": "8dba9921",
   "metadata": {
    "execution": {
     "iopub.execute_input": "2022-11-20T06:12:56.932105Z",
     "iopub.status.busy": "2022-11-20T06:12:56.931643Z",
     "iopub.status.idle": "2022-11-20T06:12:57.137981Z",
     "shell.execute_reply": "2022-11-20T06:12:57.136632Z"
    },
    "papermill": {
     "duration": 0.275761,
     "end_time": "2022-11-20T06:12:57.141042",
     "exception": false,
     "start_time": "2022-11-20T06:12:56.865281",
     "status": "completed"
    },
    "tags": []
   },
   "outputs": [],
   "source": [
    "# merging the final dataframe with products\n",
    "final = final.merge(products, on = ['product_id'], how = 'inner')"
   ]
  },
  {
   "cell_type": "code",
   "execution_count": 101,
   "id": "b8e71c40",
   "metadata": {
    "execution": {
     "iopub.execute_input": "2022-11-20T06:12:57.274819Z",
     "iopub.status.busy": "2022-11-20T06:12:57.274370Z",
     "iopub.status.idle": "2022-11-20T06:12:57.328058Z",
     "shell.execute_reply": "2022-11-20T06:12:57.326828Z"
    },
    "papermill": {
     "duration": 0.123488,
     "end_time": "2022-11-20T06:12:57.330867",
     "exception": false,
     "start_time": "2022-11-20T06:12:57.207379",
     "status": "completed"
    },
    "tags": []
   },
   "outputs": [
    {
     "data": {
      "text/html": [
       "<div>\n",
       "<style scoped>\n",
       "    .dataframe tbody tr th:only-of-type {\n",
       "        vertical-align: middle;\n",
       "    }\n",
       "\n",
       "    .dataframe tbody tr th {\n",
       "        vertical-align: top;\n",
       "    }\n",
       "\n",
       "    .dataframe thead th {\n",
       "        text-align: right;\n",
       "    }\n",
       "</style>\n",
       "<table border=\"1\" class=\"dataframe\">\n",
       "  <thead>\n",
       "    <tr style=\"text-align: right;\">\n",
       "      <th></th>\n",
       "      <th>product_id</th>\n",
       "      <th>user_id</th>\n",
       "      <th>prediction</th>\n",
       "      <th>product_name</th>\n",
       "      <th>aisle_id</th>\n",
       "      <th>department_id</th>\n",
       "    </tr>\n",
       "  </thead>\n",
       "  <tbody>\n",
       "    <tr>\n",
       "      <th>0</th>\n",
       "      <td>8424</td>\n",
       "      <td>6</td>\n",
       "      <td>0</td>\n",
       "      <td>Broccoli Crown</td>\n",
       "      <td>83</td>\n",
       "      <td>4</td>\n",
       "    </tr>\n",
       "    <tr>\n",
       "      <th>1</th>\n",
       "      <td>8424</td>\n",
       "      <td>94</td>\n",
       "      <td>0</td>\n",
       "      <td>Broccoli Crown</td>\n",
       "      <td>83</td>\n",
       "      <td>4</td>\n",
       "    </tr>\n",
       "    <tr>\n",
       "      <th>2</th>\n",
       "      <td>8424</td>\n",
       "      <td>381</td>\n",
       "      <td>0</td>\n",
       "      <td>Broccoli Crown</td>\n",
       "      <td>83</td>\n",
       "      <td>4</td>\n",
       "    </tr>\n",
       "    <tr>\n",
       "      <th>3</th>\n",
       "      <td>8424</td>\n",
       "      <td>450</td>\n",
       "      <td>0</td>\n",
       "      <td>Broccoli Crown</td>\n",
       "      <td>83</td>\n",
       "      <td>4</td>\n",
       "    </tr>\n",
       "    <tr>\n",
       "      <th>4</th>\n",
       "      <td>8424</td>\n",
       "      <td>463</td>\n",
       "      <td>0</td>\n",
       "      <td>Broccoli Crown</td>\n",
       "      <td>83</td>\n",
       "      <td>4</td>\n",
       "    </tr>\n",
       "    <tr>\n",
       "      <th>...</th>\n",
       "      <td>...</td>\n",
       "      <td>...</td>\n",
       "      <td>...</td>\n",
       "      <td>...</td>\n",
       "      <td>...</td>\n",
       "      <td>...</td>\n",
       "    </tr>\n",
       "    <tr>\n",
       "      <th>1460946</th>\n",
       "      <td>43684</td>\n",
       "      <td>206182</td>\n",
       "      <td>0</td>\n",
       "      <td>Triple Berry Layer Fruit Snack</td>\n",
       "      <td>50</td>\n",
       "      <td>19</td>\n",
       "    </tr>\n",
       "    <tr>\n",
       "      <th>1460947</th>\n",
       "      <td>16315</td>\n",
       "      <td>206201</td>\n",
       "      <td>0</td>\n",
       "      <td>Nature's Way Long Grain &amp; Wild Rice Rice Mix</td>\n",
       "      <td>4</td>\n",
       "      <td>9</td>\n",
       "    </tr>\n",
       "    <tr>\n",
       "      <th>1460948</th>\n",
       "      <td>24110</td>\n",
       "      <td>206201</td>\n",
       "      <td>0</td>\n",
       "      <td>Blasted Chocolatey Chip Marshmallow Rice Krisp...</td>\n",
       "      <td>45</td>\n",
       "      <td>19</td>\n",
       "    </tr>\n",
       "    <tr>\n",
       "      <th>1460949</th>\n",
       "      <td>33935</td>\n",
       "      <td>206201</td>\n",
       "      <td>0</td>\n",
       "      <td>Double Stuf Chocolate/Chocolate Variety Pack S...</td>\n",
       "      <td>100</td>\n",
       "      <td>21</td>\n",
       "    </tr>\n",
       "    <tr>\n",
       "      <th>1460950</th>\n",
       "      <td>46640</td>\n",
       "      <td>206201</td>\n",
       "      <td>0</td>\n",
       "      <td>Grain Free Soft Dog Food</td>\n",
       "      <td>40</td>\n",
       "      <td>8</td>\n",
       "    </tr>\n",
       "  </tbody>\n",
       "</table>\n",
       "<p>1460951 rows × 6 columns</p>\n",
       "</div>"
      ],
      "text/plain": [
       "         product_id  user_id  prediction  \\\n",
       "0              8424        6           0   \n",
       "1              8424       94           0   \n",
       "2              8424      381           0   \n",
       "3              8424      450           0   \n",
       "4              8424      463           0   \n",
       "...             ...      ...         ...   \n",
       "1460946       43684   206182           0   \n",
       "1460947       16315   206201           0   \n",
       "1460948       24110   206201           0   \n",
       "1460949       33935   206201           0   \n",
       "1460950       46640   206201           0   \n",
       "\n",
       "                                              product_name  aisle_id  \\\n",
       "0                                           Broccoli Crown        83   \n",
       "1                                           Broccoli Crown        83   \n",
       "2                                           Broccoli Crown        83   \n",
       "3                                           Broccoli Crown        83   \n",
       "4                                           Broccoli Crown        83   \n",
       "...                                                    ...       ...   \n",
       "1460946                     Triple Berry Layer Fruit Snack        50   \n",
       "1460947       Nature's Way Long Grain & Wild Rice Rice Mix         4   \n",
       "1460948  Blasted Chocolatey Chip Marshmallow Rice Krisp...        45   \n",
       "1460949  Double Stuf Chocolate/Chocolate Variety Pack S...       100   \n",
       "1460950                           Grain Free Soft Dog Food        40   \n",
       "\n",
       "         department_id  \n",
       "0                    4  \n",
       "1                    4  \n",
       "2                    4  \n",
       "3                    4  \n",
       "4                    4  \n",
       "...                ...  \n",
       "1460946             19  \n",
       "1460947              9  \n",
       "1460948             19  \n",
       "1460949             21  \n",
       "1460950              8  \n",
       "\n",
       "[1460951 rows x 6 columns]"
      ]
     },
     "execution_count": 101,
     "metadata": {},
     "output_type": "execute_result"
    }
   ],
   "source": [
    "final"
   ]
  },
  {
   "cell_type": "code",
   "execution_count": 102,
   "id": "2051107d",
   "metadata": {
    "execution": {
     "iopub.execute_input": "2022-11-20T06:12:57.465470Z",
     "iopub.status.busy": "2022-11-20T06:12:57.465012Z",
     "iopub.status.idle": "2022-11-20T06:12:57.488449Z",
     "shell.execute_reply": "2022-11-20T06:12:57.487027Z"
    },
    "papermill": {
     "duration": 0.094116,
     "end_time": "2022-11-20T06:12:57.491200",
     "exception": false,
     "start_time": "2022-11-20T06:12:57.397084",
     "status": "completed"
    },
    "tags": []
   },
   "outputs": [
    {
     "data": {
      "text/html": [
       "<div>\n",
       "<style scoped>\n",
       "    .dataframe tbody tr th:only-of-type {\n",
       "        vertical-align: middle;\n",
       "    }\n",
       "\n",
       "    .dataframe tbody tr th {\n",
       "        vertical-align: top;\n",
       "    }\n",
       "\n",
       "    .dataframe thead th {\n",
       "        text-align: right;\n",
       "    }\n",
       "</style>\n",
       "<table border=\"1\" class=\"dataframe\">\n",
       "  <thead>\n",
       "    <tr style=\"text-align: right;\">\n",
       "      <th></th>\n",
       "      <th>user_id</th>\n",
       "      <th>order_id</th>\n",
       "    </tr>\n",
       "  </thead>\n",
       "  <tbody>\n",
       "    <tr>\n",
       "      <th>53</th>\n",
       "      <td>6</td>\n",
       "      <td>1528013</td>\n",
       "    </tr>\n",
       "    <tr>\n",
       "      <th>217</th>\n",
       "      <td>19</td>\n",
       "      <td>1735923</td>\n",
       "    </tr>\n",
       "    <tr>\n",
       "      <th>300</th>\n",
       "      <td>25</td>\n",
       "      <td>1411408</td>\n",
       "    </tr>\n",
       "    <tr>\n",
       "      <th>495</th>\n",
       "      <td>35</td>\n",
       "      <td>707453</td>\n",
       "    </tr>\n",
       "    <tr>\n",
       "      <th>588</th>\n",
       "      <td>40</td>\n",
       "      <td>2431024</td>\n",
       "    </tr>\n",
       "  </tbody>\n",
       "</table>\n",
       "</div>"
      ],
      "text/plain": [
       "     user_id  order_id\n",
       "53         6   1528013\n",
       "217       19   1735923\n",
       "300       25   1411408\n",
       "495       35    707453\n",
       "588       40   2431024"
      ]
     },
     "execution_count": 102,
     "metadata": {},
     "output_type": "execute_result"
    }
   ],
   "source": [
    "# obtain order_id for each user_id for every test user\n",
    "order_test = orders.loc[orders.eval_set == 'test', ('user_id', 'order_id')]\n",
    "order_test.head()"
   ]
  },
  {
   "cell_type": "code",
   "execution_count": 103,
   "id": "f0ef5284",
   "metadata": {
    "execution": {
     "iopub.execute_input": "2022-11-20T06:12:57.625744Z",
     "iopub.status.busy": "2022-11-20T06:12:57.625222Z",
     "iopub.status.idle": "2022-11-20T06:12:57.900819Z",
     "shell.execute_reply": "2022-11-20T06:12:57.899562Z"
    },
    "papermill": {
     "duration": 0.346168,
     "end_time": "2022-11-20T06:12:57.903418",
     "exception": false,
     "start_time": "2022-11-20T06:12:57.557250",
     "status": "completed"
    },
    "tags": []
   },
   "outputs": [
    {
     "data": {
      "text/html": [
       "<div>\n",
       "<style scoped>\n",
       "    .dataframe tbody tr th:only-of-type {\n",
       "        vertical-align: middle;\n",
       "    }\n",
       "\n",
       "    .dataframe tbody tr th {\n",
       "        vertical-align: top;\n",
       "    }\n",
       "\n",
       "    .dataframe thead th {\n",
       "        text-align: right;\n",
       "    }\n",
       "</style>\n",
       "<table border=\"1\" class=\"dataframe\">\n",
       "  <thead>\n",
       "    <tr style=\"text-align: right;\">\n",
       "      <th></th>\n",
       "      <th>product_id</th>\n",
       "      <th>user_id</th>\n",
       "      <th>prediction</th>\n",
       "      <th>product_name</th>\n",
       "      <th>aisle_id</th>\n",
       "      <th>department_id</th>\n",
       "      <th>order_id</th>\n",
       "    </tr>\n",
       "  </thead>\n",
       "  <tbody>\n",
       "    <tr>\n",
       "      <th>0</th>\n",
       "      <td>8424</td>\n",
       "      <td>6</td>\n",
       "      <td>0</td>\n",
       "      <td>Broccoli Crown</td>\n",
       "      <td>83</td>\n",
       "      <td>4</td>\n",
       "      <td>1528013</td>\n",
       "    </tr>\n",
       "    <tr>\n",
       "      <th>1</th>\n",
       "      <td>8424</td>\n",
       "      <td>94</td>\n",
       "      <td>0</td>\n",
       "      <td>Broccoli Crown</td>\n",
       "      <td>83</td>\n",
       "      <td>4</td>\n",
       "      <td>622677</td>\n",
       "    </tr>\n",
       "    <tr>\n",
       "      <th>2</th>\n",
       "      <td>8424</td>\n",
       "      <td>381</td>\n",
       "      <td>0</td>\n",
       "      <td>Broccoli Crown</td>\n",
       "      <td>83</td>\n",
       "      <td>4</td>\n",
       "      <td>1185710</td>\n",
       "    </tr>\n",
       "    <tr>\n",
       "      <th>3</th>\n",
       "      <td>8424</td>\n",
       "      <td>450</td>\n",
       "      <td>0</td>\n",
       "      <td>Broccoli Crown</td>\n",
       "      <td>83</td>\n",
       "      <td>4</td>\n",
       "      <td>2730481</td>\n",
       "    </tr>\n",
       "    <tr>\n",
       "      <th>4</th>\n",
       "      <td>8424</td>\n",
       "      <td>463</td>\n",
       "      <td>0</td>\n",
       "      <td>Broccoli Crown</td>\n",
       "      <td>83</td>\n",
       "      <td>4</td>\n",
       "      <td>1493300</td>\n",
       "    </tr>\n",
       "  </tbody>\n",
       "</table>\n",
       "</div>"
      ],
      "text/plain": [
       "   product_id  user_id  prediction    product_name  aisle_id  department_id  \\\n",
       "0        8424        6           0  Broccoli Crown        83              4   \n",
       "1        8424       94           0  Broccoli Crown        83              4   \n",
       "2        8424      381           0  Broccoli Crown        83              4   \n",
       "3        8424      450           0  Broccoli Crown        83              4   \n",
       "4        8424      463           0  Broccoli Crown        83              4   \n",
       "\n",
       "   order_id  \n",
       "0   1528013  \n",
       "1    622677  \n",
       "2   1185710  \n",
       "3   2730481  \n",
       "4   1493300  "
      ]
     },
     "execution_count": 103,
     "metadata": {},
     "output_type": "execute_result"
    }
   ],
   "source": [
    "# merge the predictions \n",
    "final = final.merge(order_test, on  = 'user_id', how = 'left')\n",
    "final.head()"
   ]
  },
  {
   "cell_type": "code",
   "execution_count": 104,
   "id": "90ecbc2f",
   "metadata": {
    "execution": {
     "iopub.execute_input": "2022-11-20T06:12:58.039124Z",
     "iopub.status.busy": "2022-11-20T06:12:58.038713Z",
     "iopub.status.idle": "2022-11-20T06:12:58.135603Z",
     "shell.execute_reply": "2022-11-20T06:12:58.134500Z"
    },
    "papermill": {
     "duration": 0.169421,
     "end_time": "2022-11-20T06:12:58.138559",
     "exception": false,
     "start_time": "2022-11-20T06:12:57.969138",
     "status": "completed"
    },
    "tags": []
   },
   "outputs": [],
   "source": [
    "#remove undesired columns\n",
    "final = final.drop(['user_id', 'aisle_id', 'department_id'], axis = 1)"
   ]
  },
  {
   "cell_type": "code",
   "execution_count": 105,
   "id": "a42bb3a5",
   "metadata": {
    "execution": {
     "iopub.execute_input": "2022-11-20T06:12:58.273704Z",
     "iopub.status.busy": "2022-11-20T06:12:58.273250Z",
     "iopub.status.idle": "2022-11-20T06:12:58.286893Z",
     "shell.execute_reply": "2022-11-20T06:12:58.285528Z"
    },
    "papermill": {
     "duration": 0.084473,
     "end_time": "2022-11-20T06:12:58.289751",
     "exception": false,
     "start_time": "2022-11-20T06:12:58.205278",
     "status": "completed"
    },
    "tags": []
   },
   "outputs": [],
   "source": [
    "final['product_id'] = final.product_id.astype(int)"
   ]
  },
  {
   "cell_type": "code",
   "execution_count": 106,
   "id": "9456264d",
   "metadata": {
    "execution": {
     "iopub.execute_input": "2022-11-20T06:12:58.425390Z",
     "iopub.status.busy": "2022-11-20T06:12:58.424944Z",
     "iopub.status.idle": "2022-11-20T06:12:58.430783Z",
     "shell.execute_reply": "2022-11-20T06:12:58.429461Z"
    },
    "papermill": {
     "duration": 0.077046,
     "end_time": "2022-11-20T06:12:58.433510",
     "exception": false,
     "start_time": "2022-11-20T06:12:58.356464",
     "status": "completed"
    },
    "tags": []
   },
   "outputs": [],
   "source": [
    "del order_test"
   ]
  },
  {
   "cell_type": "code",
   "execution_count": 107,
   "id": "f053382a",
   "metadata": {
    "execution": {
     "iopub.execute_input": "2022-11-20T06:12:58.567777Z",
     "iopub.status.busy": "2022-11-20T06:12:58.567343Z",
     "iopub.status.idle": "2022-11-20T06:12:58.696624Z",
     "shell.execute_reply": "2022-11-20T06:12:58.695320Z"
    },
    "papermill": {
     "duration": 0.200211,
     "end_time": "2022-11-20T06:12:58.699555",
     "exception": false,
     "start_time": "2022-11-20T06:12:58.499344",
     "status": "completed"
    },
    "tags": []
   },
   "outputs": [
    {
     "data": {
      "text/plain": [
       "84"
      ]
     },
     "execution_count": 107,
     "metadata": {},
     "output_type": "execute_result"
    }
   ],
   "source": [
    "gc.collect()"
   ]
  },
  {
   "cell_type": "code",
   "execution_count": 108,
   "id": "45e91d71",
   "metadata": {
    "execution": {
     "iopub.execute_input": "2022-11-20T06:12:58.836749Z",
     "iopub.status.busy": "2022-11-20T06:12:58.836349Z",
     "iopub.status.idle": "2022-11-20T06:12:58.848660Z",
     "shell.execute_reply": "2022-11-20T06:12:58.847425Z"
    },
    "papermill": {
     "duration": 0.084356,
     "end_time": "2022-11-20T06:12:58.851211",
     "exception": false,
     "start_time": "2022-11-20T06:12:58.766855",
     "status": "completed"
    },
    "tags": []
   },
   "outputs": [
    {
     "data": {
      "text/html": [
       "<div>\n",
       "<style scoped>\n",
       "    .dataframe tbody tr th:only-of-type {\n",
       "        vertical-align: middle;\n",
       "    }\n",
       "\n",
       "    .dataframe tbody tr th {\n",
       "        vertical-align: top;\n",
       "    }\n",
       "\n",
       "    .dataframe thead th {\n",
       "        text-align: right;\n",
       "    }\n",
       "</style>\n",
       "<table border=\"1\" class=\"dataframe\">\n",
       "  <thead>\n",
       "    <tr style=\"text-align: right;\">\n",
       "      <th></th>\n",
       "      <th>product_id</th>\n",
       "      <th>prediction</th>\n",
       "      <th>product_name</th>\n",
       "      <th>order_id</th>\n",
       "    </tr>\n",
       "  </thead>\n",
       "  <tbody>\n",
       "    <tr>\n",
       "      <th>0</th>\n",
       "      <td>8424</td>\n",
       "      <td>0</td>\n",
       "      <td>Broccoli Crown</td>\n",
       "      <td>1528013</td>\n",
       "    </tr>\n",
       "    <tr>\n",
       "      <th>1</th>\n",
       "      <td>8424</td>\n",
       "      <td>0</td>\n",
       "      <td>Broccoli Crown</td>\n",
       "      <td>622677</td>\n",
       "    </tr>\n",
       "    <tr>\n",
       "      <th>2</th>\n",
       "      <td>8424</td>\n",
       "      <td>0</td>\n",
       "      <td>Broccoli Crown</td>\n",
       "      <td>1185710</td>\n",
       "    </tr>\n",
       "    <tr>\n",
       "      <th>3</th>\n",
       "      <td>8424</td>\n",
       "      <td>0</td>\n",
       "      <td>Broccoli Crown</td>\n",
       "      <td>2730481</td>\n",
       "    </tr>\n",
       "    <tr>\n",
       "      <th>4</th>\n",
       "      <td>8424</td>\n",
       "      <td>0</td>\n",
       "      <td>Broccoli Crown</td>\n",
       "      <td>1493300</td>\n",
       "    </tr>\n",
       "  </tbody>\n",
       "</table>\n",
       "</div>"
      ],
      "text/plain": [
       "   product_id  prediction    product_name  order_id\n",
       "0        8424           0  Broccoli Crown   1528013\n",
       "1        8424           0  Broccoli Crown    622677\n",
       "2        8424           0  Broccoli Crown   1185710\n",
       "3        8424           0  Broccoli Crown   2730481\n",
       "4        8424           0  Broccoli Crown   1493300"
      ]
     },
     "execution_count": 108,
     "metadata": {},
     "output_type": "execute_result"
    }
   ],
   "source": [
    "final.head()"
   ]
  },
  {
   "cell_type": "code",
   "execution_count": 109,
   "id": "3c812f5b",
   "metadata": {
    "execution": {
     "iopub.execute_input": "2022-11-20T06:12:58.986325Z",
     "iopub.status.busy": "2022-11-20T06:12:58.985868Z",
     "iopub.status.idle": "2022-11-20T06:13:01.391323Z",
     "shell.execute_reply": "2022-11-20T06:13:01.389806Z"
    },
    "papermill": {
     "duration": 2.477122,
     "end_time": "2022-11-20T06:13:01.394480",
     "exception": false,
     "start_time": "2022-11-20T06:12:58.917358",
     "status": "completed"
    },
    "tags": []
   },
   "outputs": [],
   "source": [
    "# In this dictionary we will place the order_id as index and as values all the product name and id that the order will have\n",
    "d = dict()\n",
    "for row in final.itertuples():\n",
    "    if row.prediction == 1:\n",
    "        try:\n",
    "            d[row.order_id] += ' ' + str(row.product_id) + ' ' +  str(row.product_name)\n",
    "        except:\n",
    "            d[row.order_id] = str(row.product_id) + ' ' + str(row.product_name)\n",
    "\n",
    "for order in final.order_id:\n",
    "    if order not in d:\n",
    "        d[order] = 'None'"
   ]
  },
  {
   "cell_type": "code",
   "execution_count": 110,
   "id": "4b0a5294",
   "metadata": {
    "execution": {
     "iopub.execute_input": "2022-11-20T06:13:01.530667Z",
     "iopub.status.busy": "2022-11-20T06:13:01.530280Z",
     "iopub.status.idle": "2022-11-20T06:13:01.660057Z",
     "shell.execute_reply": "2022-11-20T06:13:01.658712Z"
    },
    "papermill": {
     "duration": 0.200867,
     "end_time": "2022-11-20T06:13:01.662940",
     "exception": false,
     "start_time": "2022-11-20T06:13:01.462073",
     "status": "completed"
    },
    "tags": []
   },
   "outputs": [
    {
     "data": {
      "text/plain": [
       "63"
      ]
     },
     "execution_count": 110,
     "metadata": {},
     "output_type": "execute_result"
    }
   ],
   "source": [
    "gc.collect()"
   ]
  },
  {
   "cell_type": "code",
   "execution_count": 111,
   "id": "6ba5376a",
   "metadata": {
    "execution": {
     "iopub.execute_input": "2022-11-20T06:13:01.798466Z",
     "iopub.status.busy": "2022-11-20T06:13:01.797749Z",
     "iopub.status.idle": "2022-11-20T06:13:01.811509Z",
     "shell.execute_reply": "2022-11-20T06:13:01.810079Z"
    },
    "papermill": {
     "duration": 0.08431,
     "end_time": "2022-11-20T06:13:01.814296",
     "exception": false,
     "start_time": "2022-11-20T06:13:01.729986",
     "status": "completed"
    },
    "tags": []
   },
   "outputs": [
    {
     "name": "stdout",
     "output_type": "stream",
     "text": [
      "[(1176544,\n",
      "  '8424 Broccoli Crown 34969 Red Vine Tomato 20842 Total 0% Greek Yogurt 11494 '\n",
      "  'Cookie Dough Ice Cream Chocolate Chip 7035 Peanut Butter Ice Cream Cup '\n",
      "  \"16710 Non Dairy Coffee Caramel Fudge 36029 S'mores Ice Cream\"),\n",
      " (1543051,\n",
      "  '8424 Broccoli Crown 13176 Bag of Organic Bananas 19678 Organic Russet '\n",
      "  'Potato 33198 Sparkling Natural Mineral Water 16589 Plantain Chips 11784 '\n",
      "  'Duck Eggs'),\n",
      " (334377,\n",
      "  '8424 Broccoli Crown 8518 Organic Red Onion 21137 Organic Strawberries 39275 '\n",
      "  'Organic Blueberries 45066 Honeycrisp Apple 47766 Organic Avocado 13176 Bag '\n",
      "  'of Organic Bananas 47626 Large Lemon 35221 Lime Sparkling Water 42265 '\n",
      "  'Organic Baby Carrots 7781 Organic Sticks Low Moisture Part Skim Mozzarella '\n",
      "  'String Cheese 19505 Sliced Mushrooms 26346 Organic Skim Milk'),\n",
      " (2362483,\n",
      "  '8424 Broccoli Crown 48679 Organic Garnet Sweet Potato (Yam) 43772 Cherubs '\n",
      "  'Heavenly Salad Tomatoes 21137 Organic Strawberries 11520 Large Alfresco '\n",
      "  'Eggs 27864 Butter Croissant 30391 Organic Cucumber 46979 Asparagus 36746 '\n",
      "  'Authentic French Brioche Rolls 5077 100% Whole Wheat Bread 40174 2% Reduced '\n",
      "  'Fat Organic Milk 27966 Organic Raspberries 24838 Unsweetened Almondmilk '\n",
      "  '27104 Fresh Cauliflower 37067 Organic Banana 9689 Whole Hearts of Palm '\n",
      "  '33120 Organic Egg Whites 5120 Organic Vanilla Soymilk 48857 Authentic '\n",
      "  'French Brioche 42579 Organic Pitted Prunes'),\n",
      " (1005664,\n",
      "  '8424 Broccoli Crown 21903 Organic Baby Spinach 21137 Organic Strawberries '\n",
      "  '13176 Bag of Organic Bananas 21386 Smartwater 14870 Icelandic Style Fat '\n",
      "  'Free Plain Yogurt')]\n"
     ]
    }
   ],
   "source": [
    "from pprint import pprint\n",
    "k = list(d.items())[:5]\n",
    "pprint(k)"
   ]
  },
  {
   "cell_type": "code",
   "execution_count": 112,
   "id": "900bbb47",
   "metadata": {
    "execution": {
     "iopub.execute_input": "2022-11-20T06:13:01.949582Z",
     "iopub.status.busy": "2022-11-20T06:13:01.949079Z",
     "iopub.status.idle": "2022-11-20T06:13:01.968408Z",
     "shell.execute_reply": "2022-11-20T06:13:01.967088Z"
    },
    "papermill": {
     "duration": 0.090375,
     "end_time": "2022-11-20T06:13:01.971272",
     "exception": false,
     "start_time": "2022-11-20T06:13:01.880897",
     "status": "completed"
    },
    "tags": []
   },
   "outputs": [],
   "source": [
    "sub = pd.DataFrame.from_dict(d, orient = 'index')\n",
    "sub.reset_index(inplace = True)"
   ]
  },
  {
   "cell_type": "code",
   "execution_count": 113,
   "id": "a0dc408b",
   "metadata": {
    "execution": {
     "iopub.execute_input": "2022-11-20T06:13:02.108614Z",
     "iopub.status.busy": "2022-11-20T06:13:02.107874Z",
     "iopub.status.idle": "2022-11-20T06:13:02.114091Z",
     "shell.execute_reply": "2022-11-20T06:13:02.112498Z"
    },
    "papermill": {
     "duration": 0.077416,
     "end_time": "2022-11-20T06:13:02.116669",
     "exception": false,
     "start_time": "2022-11-20T06:13:02.039253",
     "status": "completed"
    },
    "tags": []
   },
   "outputs": [],
   "source": [
    "sub.columns = ['order_id', 'product']"
   ]
  },
  {
   "cell_type": "code",
   "execution_count": 114,
   "id": "af83f3f0",
   "metadata": {
    "execution": {
     "iopub.execute_input": "2022-11-20T06:13:02.254976Z",
     "iopub.status.busy": "2022-11-20T06:13:02.254457Z",
     "iopub.status.idle": "2022-11-20T06:13:02.266341Z",
     "shell.execute_reply": "2022-11-20T06:13:02.264895Z"
    },
    "papermill": {
     "duration": 0.082604,
     "end_time": "2022-11-20T06:13:02.268774",
     "exception": false,
     "start_time": "2022-11-20T06:13:02.186170",
     "status": "completed"
    },
    "tags": []
   },
   "outputs": [
    {
     "data": {
      "text/html": [
       "<div>\n",
       "<style scoped>\n",
       "    .dataframe tbody tr th:only-of-type {\n",
       "        vertical-align: middle;\n",
       "    }\n",
       "\n",
       "    .dataframe tbody tr th {\n",
       "        vertical-align: top;\n",
       "    }\n",
       "\n",
       "    .dataframe thead th {\n",
       "        text-align: right;\n",
       "    }\n",
       "</style>\n",
       "<table border=\"1\" class=\"dataframe\">\n",
       "  <thead>\n",
       "    <tr style=\"text-align: right;\">\n",
       "      <th></th>\n",
       "      <th>order_id</th>\n",
       "      <th>product</th>\n",
       "    </tr>\n",
       "  </thead>\n",
       "  <tbody>\n",
       "    <tr>\n",
       "      <th>0</th>\n",
       "      <td>1176544</td>\n",
       "      <td>8424 Broccoli Crown 34969 Red Vine Tomato 2084...</td>\n",
       "    </tr>\n",
       "    <tr>\n",
       "      <th>1</th>\n",
       "      <td>1543051</td>\n",
       "      <td>8424 Broccoli Crown 13176 Bag of Organic Banan...</td>\n",
       "    </tr>\n",
       "    <tr>\n",
       "      <th>2</th>\n",
       "      <td>334377</td>\n",
       "      <td>8424 Broccoli Crown 8518 Organic Red Onion 211...</td>\n",
       "    </tr>\n",
       "    <tr>\n",
       "      <th>3</th>\n",
       "      <td>2362483</td>\n",
       "      <td>8424 Broccoli Crown 48679 Organic Garnet Sweet...</td>\n",
       "    </tr>\n",
       "    <tr>\n",
       "      <th>4</th>\n",
       "      <td>1005664</td>\n",
       "      <td>8424 Broccoli Crown 21903 Organic Baby Spinach...</td>\n",
       "    </tr>\n",
       "  </tbody>\n",
       "</table>\n",
       "</div>"
      ],
      "text/plain": [
       "   order_id                                            product\n",
       "0   1176544  8424 Broccoli Crown 34969 Red Vine Tomato 2084...\n",
       "1   1543051  8424 Broccoli Crown 13176 Bag of Organic Banan...\n",
       "2    334377  8424 Broccoli Crown 8518 Organic Red Onion 211...\n",
       "3   2362483  8424 Broccoli Crown 48679 Organic Garnet Sweet...\n",
       "4   1005664  8424 Broccoli Crown 21903 Organic Baby Spinach..."
      ]
     },
     "execution_count": 114,
     "metadata": {},
     "output_type": "execute_result"
    }
   ],
   "source": [
    "#final prediction dataframe\n",
    "sub.head()"
   ]
  },
  {
   "cell_type": "code",
   "execution_count": 115,
   "id": "f3aebc8c",
   "metadata": {
    "execution": {
     "iopub.execute_input": "2022-11-20T06:13:02.403996Z",
     "iopub.status.busy": "2022-11-20T06:13:02.403544Z",
     "iopub.status.idle": "2022-11-20T06:13:02.487943Z",
     "shell.execute_reply": "2022-11-20T06:13:02.486652Z"
    },
    "papermill": {
     "duration": 0.155742,
     "end_time": "2022-11-20T06:13:02.490816",
     "exception": false,
     "start_time": "2022-11-20T06:13:02.335074",
     "status": "completed"
    },
    "tags": []
   },
   "outputs": [],
   "source": [
    "from sklearn.datasets import make_classification\n",
    "from sklearn.model_selection import train_test_split\n",
    "from sklearn.metrics import accuracy_score\n",
    "from matplotlib import pyplot"
   ]
  },
  {
   "cell_type": "markdown",
   "id": "2b83bf1d",
   "metadata": {
    "papermill": {
     "duration": 0.067347,
     "end_time": "2022-11-20T06:13:02.625281",
     "exception": false,
     "start_time": "2022-11-20T06:13:02.557934",
     "status": "completed"
    },
    "tags": []
   },
   "source": [
    "# Plotting curve for Overfitting/Underfitting for XGBoost"
   ]
  },
  {
   "cell_type": "code",
   "execution_count": 116,
   "id": "57cba135",
   "metadata": {
    "execution": {
     "iopub.execute_input": "2022-11-20T06:13:02.763712Z",
     "iopub.status.busy": "2022-11-20T06:13:02.763319Z",
     "iopub.status.idle": "2022-11-20T06:13:03.701338Z",
     "shell.execute_reply": "2022-11-20T06:13:03.699600Z"
    },
    "papermill": {
     "duration": 1.008536,
     "end_time": "2022-11-20T06:13:03.704061",
     "exception": false,
     "start_time": "2022-11-20T06:13:02.695525",
     "status": "completed"
    },
    "tags": []
   },
   "outputs": [],
   "source": [
    "X_train, X_test, y_train, y_test = train_test_split(data_train.drop('reordered', axis=1), data_train.reordered, test_size=0.8, random_state=42)"
   ]
  },
  {
   "cell_type": "code",
   "execution_count": 117,
   "id": "da1c9a17",
   "metadata": {
    "execution": {
     "iopub.execute_input": "2022-11-20T06:13:03.840296Z",
     "iopub.status.busy": "2022-11-20T06:13:03.838837Z",
     "iopub.status.idle": "2022-11-20T06:13:03.844963Z",
     "shell.execute_reply": "2022-11-20T06:13:03.843779Z"
    },
    "papermill": {
     "duration": 0.076694,
     "end_time": "2022-11-20T06:13:03.847746",
     "exception": false,
     "start_time": "2022-11-20T06:13:03.771052",
     "status": "completed"
    },
    "tags": []
   },
   "outputs": [],
   "source": [
    "train_scores, test_scores = list(), list()"
   ]
  },
  {
   "cell_type": "code",
   "execution_count": 118,
   "id": "ee41ca41",
   "metadata": {
    "execution": {
     "iopub.execute_input": "2022-11-20T06:13:03.983794Z",
     "iopub.status.busy": "2022-11-20T06:13:03.983385Z",
     "iopub.status.idle": "2022-11-20T06:23:46.809424Z",
     "shell.execute_reply": "2022-11-20T06:23:46.807925Z"
    },
    "papermill": {
     "duration": 642.964169,
     "end_time": "2022-11-20T06:23:46.878885",
     "exception": false,
     "start_time": "2022-11-20T06:13:03.914716",
     "status": "completed"
    },
    "tags": []
   },
   "outputs": [
    {
     "name": "stdout",
     "output_type": "stream",
     "text": [
      ">1, train: 0.909, test: 0.909\n",
      ">2, train: 0.909, test: 0.909\n",
      ">3, train: 0.909, test: 0.909\n",
      ">4, train: 0.909, test: 0.909\n",
      ">5, train: 0.910, test: 0.909\n",
      ">6, train: 0.911, test: 0.909\n",
      ">7, train: 0.912, test: 0.909\n",
      ">8, train: 0.913, test: 0.909\n",
      ">9, train: 0.915, test: 0.908\n",
      ">10, train: 0.917, test: 0.908\n",
      ">11, train: 0.919, test: 0.908\n",
      ">12, train: 0.921, test: 0.907\n",
      ">13, train: 0.923, test: 0.907\n",
      ">14, train: 0.927, test: 0.907\n",
      ">15, train: 0.929, test: 0.906\n",
      ">16, train: 0.933, test: 0.906\n",
      ">17, train: 0.936, test: 0.906\n",
      ">18, train: 0.939, test: 0.905\n",
      ">19, train: 0.942, test: 0.905\n",
      ">20, train: 0.946, test: 0.904\n"
     ]
    }
   ],
   "source": [
    "# Checking for over/under fitting\n",
    "values = [i for i in range(1, 21)]\n",
    "\n",
    "for i in values:\n",
    "\tmodel = xgb.XGBClassifier(max_depth=i, colsample_bytree = 0.3)\n",
    "\tmodel.fit(X_train, y_train)\n",
    "\ttrain_yhat = model.predict(X_train)\n",
    "\ttrain_acc = accuracy_score(y_train, train_yhat)\n",
    "\ttrain_scores.append(train_acc)\n",
    "\ttest_yhat = model.predict(X_test)\n",
    "\ttest_acc = accuracy_score(y_test, test_yhat)\n",
    "\ttest_scores.append(test_acc)\n",
    "\tprint('>%d, train: %.3f, test: %.3f' % (i, train_acc, test_acc))"
   ]
  },
  {
   "cell_type": "code",
   "execution_count": 119,
   "id": "7673da40",
   "metadata": {
    "execution": {
     "iopub.execute_input": "2022-11-20T06:23:47.018723Z",
     "iopub.status.busy": "2022-11-20T06:23:47.017986Z",
     "iopub.status.idle": "2022-11-20T06:23:47.234637Z",
     "shell.execute_reply": "2022-11-20T06:23:47.233187Z"
    },
    "papermill": {
     "duration": 0.288679,
     "end_time": "2022-11-20T06:23:47.237511",
     "exception": false,
     "start_time": "2022-11-20T06:23:46.948832",
     "status": "completed"
    },
    "tags": []
   },
   "outputs": [
    {
     "data": {
      "image/png": "[encoded data removed]",
      "text/plain": [
       "<Figure size 432x288 with 1 Axes>"
      ]
     },
     "metadata": {
      "needs_background": "light"
     },
     "output_type": "display_data"
    }
   ],
   "source": [
    "# plotting the graph between train and test dataframes\n",
    "pyplot.plot(values, train_scores, '-o', label='Train')\n",
    "pyplot.plot(values, test_scores, '-o', label='Test')\n",
    "pyplot.legend()\n",
    "pyplot.show()"
   ]
  },
  {
   "cell_type": "markdown",
   "id": "ab842c25",
   "metadata": {
    "papermill": {
     "duration": 0.070833,
     "end_time": "2022-11-20T06:23:47.378355",
     "exception": false,
     "start_time": "2022-11-20T06:23:47.307522",
     "status": "completed"
    },
    "tags": []
   },
   "source": [
    "The plot clearly shows that increasing the tree depth in the early stages results in a corresponding improvement in both train and test sets\n",
    "\n",
    "This continues until a depth of around 10 levels, after which the model is shown to overfit the training dataset at the cost of performance of test dataset"
   ]
  },
  {
   "cell_type": "markdown",
   "id": "646dcfd2",
   "metadata": {
    "papermill": {
     "duration": 0.070379,
     "end_time": "2022-11-20T06:23:47.517713",
     "exception": false,
     "start_time": "2022-11-20T06:23:47.447334",
     "status": "completed"
    },
    "tags": []
   },
   "source": [
    "# Random Forest Classifier"
   ]
  },
  {
   "cell_type": "code",
   "execution_count": 120,
   "id": "d8b47817",
   "metadata": {
    "execution": {
     "iopub.execute_input": "2022-11-20T06:23:47.658081Z",
     "iopub.status.busy": "2022-11-20T06:23:47.657658Z",
     "iopub.status.idle": "2022-11-20T06:23:47.883926Z",
     "shell.execute_reply": "2022-11-20T06:23:47.882678Z"
    },
    "papermill": {
     "duration": 0.299508,
     "end_time": "2022-11-20T06:23:47.886834",
     "exception": false,
     "start_time": "2022-11-20T06:23:47.587326",
     "status": "completed"
    },
    "tags": []
   },
   "outputs": [],
   "source": [
    "from sklearn.ensemble import RandomForestClassifier\n",
    "from sklearn.model_selection import train_test_split\n",
    "from sklearn.metrics import f1_score, classification_report, confusion_matrix"
   ]
  },
  {
   "cell_type": "code",
   "execution_count": 121,
   "id": "b1e5294d",
   "metadata": {
    "execution": {
     "iopub.execute_input": "2022-11-20T06:23:48.029578Z",
     "iopub.status.busy": "2022-11-20T06:23:48.029139Z",
     "iopub.status.idle": "2022-11-20T06:23:48.903973Z",
     "shell.execute_reply": "2022-11-20T06:23:48.902594Z"
    },
    "papermill": {
     "duration": 0.948999,
     "end_time": "2022-11-20T06:23:48.906945",
     "exception": false,
     "start_time": "2022-11-20T06:23:47.957946",
     "status": "completed"
    },
    "tags": []
   },
   "outputs": [],
   "source": [
    "# split dataframe using train_test_split\n",
    "X_train, X_val, y_train, y_val = train_test_split(data_train.drop('reordered', axis=1), data_train.reordered, test_size=0.8, random_state=42)"
   ]
  },
  {
   "cell_type": "code",
   "execution_count": 122,
   "id": "141b0dbb",
   "metadata": {
    "execution": {
     "iopub.execute_input": "2022-11-20T06:23:49.048163Z",
     "iopub.status.busy": "2022-11-20T06:23:49.047707Z",
     "iopub.status.idle": "2022-11-20T06:23:49.052423Z",
     "shell.execute_reply": "2022-11-20T06:23:49.051595Z"
    },
    "papermill": {
     "duration": 0.078536,
     "end_time": "2022-11-20T06:23:49.054755",
     "exception": false,
     "start_time": "2022-11-20T06:23:48.976219",
     "status": "completed"
    },
    "tags": []
   },
   "outputs": [],
   "source": [
    "rfc = RandomForestClassifier(n_estimators=10, n_jobs=-1 ,random_state=101)"
   ]
  },
  {
   "cell_type": "code",
   "execution_count": 123,
   "id": "559937e7",
   "metadata": {
    "execution": {
     "iopub.execute_input": "2022-11-20T06:23:49.194522Z",
     "iopub.status.busy": "2022-11-20T06:23:49.193328Z",
     "iopub.status.idle": "2022-11-20T06:23:56.187793Z",
     "shell.execute_reply": "2022-11-20T06:23:56.186494Z"
    },
    "papermill": {
     "duration": 7.067299,
     "end_time": "2022-11-20T06:23:56.190838",
     "exception": false,
     "start_time": "2022-11-20T06:23:49.123539",
     "status": "completed"
    },
    "tags": []
   },
   "outputs": [],
   "source": [
    "#train model\n",
    "model2 = rfc.fit(X_train, y_train)"
   ]
  },
  {
   "cell_type": "code",
   "execution_count": 124,
   "id": "7758fcf6",
   "metadata": {
    "execution": {
     "iopub.execute_input": "2022-11-20T06:23:56.422317Z",
     "iopub.status.busy": "2022-11-20T06:23:56.421870Z",
     "iopub.status.idle": "2022-11-20T06:23:56.431837Z",
     "shell.execute_reply": "2022-11-20T06:23:56.430418Z"
    },
    "papermill": {
     "duration": 0.102546,
     "end_time": "2022-11-20T06:23:56.434327",
     "exception": false,
     "start_time": "2022-11-20T06:23:56.331781",
     "status": "completed"
    },
    "tags": []
   },
   "outputs": [
    {
     "data": {
      "text/plain": [
       "<bound method BaseEstimator.get_params of RandomForestClassifier(n_estimators=10, n_jobs=-1, random_state=101)>"
      ]
     },
     "execution_count": 124,
     "metadata": {},
     "output_type": "execute_result"
    }
   ],
   "source": [
    "model2.get_params"
   ]
  },
  {
   "cell_type": "code",
   "execution_count": 125,
   "id": "deafbbad",
   "metadata": {
    "execution": {
     "iopub.execute_input": "2022-11-20T06:23:56.572969Z",
     "iopub.status.busy": "2022-11-20T06:23:56.572503Z",
     "iopub.status.idle": "2022-11-20T06:23:56.685448Z",
     "shell.execute_reply": "2022-11-20T06:23:56.683535Z"
    },
    "papermill": {
     "duration": 0.185254,
     "end_time": "2022-11-20T06:23:56.687971",
     "exception": false,
     "start_time": "2022-11-20T06:23:56.502717",
     "status": "completed"
    },
    "tags": []
   },
   "outputs": [
    {
     "name": "stdout",
     "output_type": "stream",
     "text": [
      "                        importance\n",
      "user_reordered_ratio      0.249899\n",
      "product_reorder_ratio     0.196334\n",
      "product_total_purchase    0.195569\n",
      "user_total_orders         0.107731\n",
      "times_last_5              0.101743\n",
      "user_reorder_ratio        0.095425\n",
      "user_product_total        0.053299\n"
     ]
    }
   ],
   "source": [
    "# feature importance as dataframe\n",
    "feature_importances_df = pd.DataFrame(model2.feature_importances_, index = X_train.columns, columns=['importance']).sort_values('importance',ascending=False)\n",
    "print(feature_importances_df)"
   ]
  },
  {
   "cell_type": "code",
   "execution_count": 126,
   "id": "fef052f0",
   "metadata": {
    "execution": {
     "iopub.execute_input": "2022-11-20T06:23:56.828652Z",
     "iopub.status.busy": "2022-11-20T06:23:56.828183Z",
     "iopub.status.idle": "2022-11-20T06:23:57.182517Z",
     "shell.execute_reply": "2022-11-20T06:23:57.181600Z"
    },
    "papermill": {
     "duration": 0.427712,
     "end_time": "2022-11-20T06:23:57.185203",
     "exception": false,
     "start_time": "2022-11-20T06:23:56.757491",
     "status": "completed"
    },
    "tags": []
   },
   "outputs": [
    {
     "data": {
      "text/plain": [
       "<AxesSubplot:>"
      ]
     },
     "execution_count": 126,
     "metadata": {},
     "output_type": "execute_result"
    },
    {
     "data": {
      "image/png": "[encoded data removed]",
      "text/plain": [
       "<Figure size 432x288 with 1 Axes>"
      ]
     },
     "metadata": {
      "needs_background": "light"
     },
     "output_type": "display_data"
    }
   ],
   "source": [
    "feat_importances = pd.Series(model2.feature_importances_, index=X_train.columns).sort_values()\n",
    "feat_importances.plot(kind='barh')"
   ]
  },
  {
   "cell_type": "markdown",
   "id": "e8432199",
   "metadata": {
    "papermill": {
     "duration": 0.068944,
     "end_time": "2022-11-20T06:23:57.325095",
     "exception": false,
     "start_time": "2022-11-20T06:23:57.256151",
     "status": "completed"
    },
    "tags": []
   },
   "source": [
    "# Hyperparameter Tuning for RandomForestClassifier"
   ]
  },
  {
   "cell_type": "code",
   "execution_count": 127,
   "id": "a0c26218",
   "metadata": {
    "execution": {
     "iopub.execute_input": "2022-11-20T06:23:57.468966Z",
     "iopub.status.busy": "2022-11-20T06:23:57.468178Z",
     "iopub.status.idle": "2022-11-20T06:23:57.474329Z",
     "shell.execute_reply": "2022-11-20T06:23:57.472958Z"
    },
    "papermill": {
     "duration": 0.080369,
     "end_time": "2022-11-20T06:23:57.477272",
     "exception": false,
     "start_time": "2022-11-20T06:23:57.396903",
     "status": "completed"
    },
    "tags": []
   },
   "outputs": [],
   "source": [
    "# set booster's range of parameters\n",
    "# more parameters means that GridSearch will create and evaluate more models\n",
    "forest_params = [{'max_depth': list(range(5, 8)), 'max_features': list(range(1,5)), 'n_estimators': list(range(10, 30, 5))}]"
   ]
  },
  {
   "cell_type": "code",
   "execution_count": 128,
   "id": "c95664a8",
   "metadata": {
    "execution": {
     "iopub.execute_input": "2022-11-20T06:23:57.619632Z",
     "iopub.status.busy": "2022-11-20T06:23:57.619221Z",
     "iopub.status.idle": "2022-11-20T06:23:57.624700Z",
     "shell.execute_reply": "2022-11-20T06:23:57.623181Z"
    },
    "papermill": {
     "duration": 0.079076,
     "end_time": "2022-11-20T06:23:57.627224",
     "exception": false,
     "start_time": "2022-11-20T06:23:57.548148",
     "status": "completed"
    },
    "tags": []
   },
   "outputs": [],
   "source": [
    "rfc = RandomForestClassifier(n_jobs=-1 ,random_state=101)"
   ]
  },
  {
   "cell_type": "code",
   "execution_count": 129,
   "id": "9d7a406b",
   "metadata": {
    "execution": {
     "iopub.execute_input": "2022-11-20T06:23:57.771028Z",
     "iopub.status.busy": "2022-11-20T06:23:57.770228Z",
     "iopub.status.idle": "2022-11-20T06:23:57.774976Z",
     "shell.execute_reply": "2022-11-20T06:23:57.774150Z"
    },
    "papermill": {
     "duration": 0.078061,
     "end_time": "2022-11-20T06:23:57.777240",
     "exception": false,
     "start_time": "2022-11-20T06:23:57.699179",
     "status": "completed"
    },
    "tags": []
   },
   "outputs": [],
   "source": [
    "grid = GridSearchCV(rfc,forest_params,cv = 2, verbose = 2, n_jobs = 1)"
   ]
  },
  {
   "cell_type": "code",
   "execution_count": 130,
   "id": "483cc635",
   "metadata": {
    "execution": {
     "iopub.execute_input": "2022-11-20T06:23:57.917771Z",
     "iopub.status.busy": "2022-11-20T06:23:57.916884Z",
     "iopub.status.idle": "2022-11-20T06:28:28.755865Z",
     "shell.execute_reply": "2022-11-20T06:28:28.754631Z"
    },
    "papermill": {
     "duration": 270.912831,
     "end_time": "2022-11-20T06:28:28.758736",
     "exception": false,
     "start_time": "2022-11-20T06:23:57.845905",
     "status": "completed"
    },
    "tags": []
   },
   "outputs": [
    {
     "name": "stdout",
     "output_type": "stream",
     "text": [
      "Fitting 2 folds for each of 48 candidates, totalling 96 fits\n",
      "[CV] END .......max_depth=5, max_features=1, n_estimators=10; total time=   2.4s\n",
      "[CV] END .......max_depth=5, max_features=1, n_estimators=10; total time=   1.1s\n",
      "[CV] END .......max_depth=5, max_features=1, n_estimators=15; total time=   1.5s\n",
      "[CV] END .......max_depth=5, max_features=1, n_estimators=15; total time=   1.5s\n",
      "[CV] END .......max_depth=5, max_features=1, n_estimators=20; total time=   1.8s\n",
      "[CV] END .......max_depth=5, max_features=1, n_estimators=20; total time=   2.0s\n",
      "[CV] END .......max_depth=5, max_features=1, n_estimators=25; total time=   2.2s\n",
      "[CV] END .......max_depth=5, max_features=1, n_estimators=25; total time=   2.2s\n",
      "[CV] END .......max_depth=5, max_features=2, n_estimators=10; total time=   1.3s\n",
      "[CV] END .......max_depth=5, max_features=2, n_estimators=10; total time=   1.3s\n",
      "[CV] END .......max_depth=5, max_features=2, n_estimators=15; total time=   2.0s\n",
      "[CV] END .......max_depth=5, max_features=2, n_estimators=15; total time=   2.0s\n",
      "[CV] END .......max_depth=5, max_features=2, n_estimators=20; total time=   2.5s\n",
      "[CV] END .......max_depth=5, max_features=2, n_estimators=20; total time=   2.5s\n",
      "[CV] END .......max_depth=5, max_features=2, n_estimators=25; total time=   3.0s\n",
      "[CV] END .......max_depth=5, max_features=2, n_estimators=25; total time=   3.0s\n",
      "[CV] END .......max_depth=5, max_features=3, n_estimators=10; total time=   1.8s\n",
      "[CV] END .......max_depth=5, max_features=3, n_estimators=10; total time=   1.8s\n",
      "[CV] END .......max_depth=5, max_features=3, n_estimators=15; total time=   2.4s\n",
      "[CV] END .......max_depth=5, max_features=3, n_estimators=15; total time=   2.4s\n",
      "[CV] END .......max_depth=5, max_features=3, n_estimators=20; total time=   3.0s\n",
      "[CV] END .......max_depth=5, max_features=3, n_estimators=20; total time=   2.9s\n",
      "[CV] END .......max_depth=5, max_features=3, n_estimators=25; total time=   3.7s\n",
      "[CV] END .......max_depth=5, max_features=3, n_estimators=25; total time=   3.8s\n",
      "[CV] END .......max_depth=5, max_features=4, n_estimators=10; total time=   2.4s\n",
      "[CV] END .......max_depth=5, max_features=4, n_estimators=10; total time=   2.0s\n",
      "[CV] END .......max_depth=5, max_features=4, n_estimators=15; total time=   2.9s\n",
      "[CV] END .......max_depth=5, max_features=4, n_estimators=15; total time=   2.9s\n",
      "[CV] END .......max_depth=5, max_features=4, n_estimators=20; total time=   3.6s\n",
      "[CV] END .......max_depth=5, max_features=4, n_estimators=20; total time=   3.5s\n",
      "[CV] END .......max_depth=5, max_features=4, n_estimators=25; total time=   4.6s\n",
      "[CV] END .......max_depth=5, max_features=4, n_estimators=25; total time=   4.5s\n",
      "[CV] END .......max_depth=6, max_features=1, n_estimators=10; total time=   1.2s\n",
      "[CV] END .......max_depth=6, max_features=1, n_estimators=10; total time=   1.2s\n",
      "[CV] END .......max_depth=6, max_features=1, n_estimators=15; total time=   1.7s\n",
      "[CV] END .......max_depth=6, max_features=1, n_estimators=15; total time=   1.8s\n",
      "[CV] END .......max_depth=6, max_features=1, n_estimators=20; total time=   2.3s\n",
      "[CV] END .......max_depth=6, max_features=1, n_estimators=20; total time=   2.0s\n",
      "[CV] END .......max_depth=6, max_features=1, n_estimators=25; total time=   2.5s\n",
      "[CV] END .......max_depth=6, max_features=1, n_estimators=25; total time=   2.5s\n",
      "[CV] END .......max_depth=6, max_features=2, n_estimators=10; total time=   1.6s\n",
      "[CV] END .......max_depth=6, max_features=2, n_estimators=10; total time=   1.6s\n",
      "[CV] END .......max_depth=6, max_features=2, n_estimators=15; total time=   2.1s\n",
      "[CV] END .......max_depth=6, max_features=2, n_estimators=15; total time=   2.1s\n",
      "[CV] END .......max_depth=6, max_features=2, n_estimators=20; total time=   2.6s\n",
      "[CV] END .......max_depth=6, max_features=2, n_estimators=20; total time=   2.6s\n",
      "[CV] END .......max_depth=6, max_features=2, n_estimators=25; total time=   3.3s\n",
      "[CV] END .......max_depth=6, max_features=2, n_estimators=25; total time=   3.3s\n",
      "[CV] END .......max_depth=6, max_features=3, n_estimators=10; total time=   1.9s\n",
      "[CV] END .......max_depth=6, max_features=3, n_estimators=10; total time=   2.2s\n",
      "[CV] END .......max_depth=6, max_features=3, n_estimators=15; total time=   2.7s\n",
      "[CV] END .......max_depth=6, max_features=3, n_estimators=15; total time=   2.6s\n",
      "[CV] END .......max_depth=6, max_features=3, n_estimators=20; total time=   3.2s\n",
      "[CV] END .......max_depth=6, max_features=3, n_estimators=20; total time=   3.4s\n",
      "[CV] END .......max_depth=6, max_features=3, n_estimators=25; total time=   4.1s\n",
      "[CV] END .......max_depth=6, max_features=3, n_estimators=25; total time=   4.2s\n",
      "[CV] END .......max_depth=6, max_features=4, n_estimators=10; total time=   2.3s\n",
      "[CV] END .......max_depth=6, max_features=4, n_estimators=10; total time=   2.2s\n",
      "[CV] END .......max_depth=6, max_features=4, n_estimators=15; total time=   3.1s\n",
      "[CV] END .......max_depth=6, max_features=4, n_estimators=15; total time=   3.3s\n",
      "[CV] END .......max_depth=6, max_features=4, n_estimators=20; total time=   4.0s\n",
      "[CV] END .......max_depth=6, max_features=4, n_estimators=20; total time=   3.8s\n",
      "[CV] END .......max_depth=6, max_features=4, n_estimators=25; total time=   4.8s\n",
      "[CV] END .......max_depth=6, max_features=4, n_estimators=25; total time=   4.9s\n",
      "[CV] END .......max_depth=7, max_features=1, n_estimators=10; total time=   1.3s\n",
      "[CV] END .......max_depth=7, max_features=1, n_estimators=10; total time=   1.2s\n",
      "[CV] END .......max_depth=7, max_features=1, n_estimators=15; total time=   1.7s\n",
      "[CV] END .......max_depth=7, max_features=1, n_estimators=15; total time=   1.7s\n",
      "[CV] END .......max_depth=7, max_features=1, n_estimators=20; total time=   2.1s\n",
      "[CV] END .......max_depth=7, max_features=1, n_estimators=20; total time=   2.1s\n",
      "[CV] END .......max_depth=7, max_features=1, n_estimators=25; total time=   2.6s\n",
      "[CV] END .......max_depth=7, max_features=1, n_estimators=25; total time=   2.9s\n",
      "[CV] END .......max_depth=7, max_features=2, n_estimators=10; total time=   1.6s\n",
      "[CV] END .......max_depth=7, max_features=2, n_estimators=10; total time=   1.6s\n",
      "[CV] END .......max_depth=7, max_features=2, n_estimators=15; total time=   2.2s\n",
      "[CV] END .......max_depth=7, max_features=2, n_estimators=15; total time=   2.2s\n",
      "[CV] END .......max_depth=7, max_features=2, n_estimators=20; total time=   2.7s\n",
      "[CV] END .......max_depth=7, max_features=2, n_estimators=20; total time=   2.7s\n",
      "[CV] END .......max_depth=7, max_features=2, n_estimators=25; total time=   3.6s\n",
      "[CV] END .......max_depth=7, max_features=2, n_estimators=25; total time=   3.5s\n",
      "[CV] END .......max_depth=7, max_features=3, n_estimators=10; total time=   2.0s\n",
      "[CV] END .......max_depth=7, max_features=3, n_estimators=10; total time=   2.1s\n",
      "[CV] END .......max_depth=7, max_features=3, n_estimators=15; total time=   2.9s\n",
      "[CV] END .......max_depth=7, max_features=3, n_estimators=15; total time=   3.0s\n",
      "[CV] END .......max_depth=7, max_features=3, n_estimators=20; total time=   3.5s\n",
      "[CV] END .......max_depth=7, max_features=3, n_estimators=20; total time=   3.5s\n",
      "[CV] END .......max_depth=7, max_features=3, n_estimators=25; total time=   4.5s\n",
      "[CV] END .......max_depth=7, max_features=3, n_estimators=25; total time=   4.5s\n",
      "[CV] END .......max_depth=7, max_features=4, n_estimators=10; total time=   2.4s\n",
      "[CV] END .......max_depth=7, max_features=4, n_estimators=10; total time=   2.3s\n",
      "[CV] END .......max_depth=7, max_features=4, n_estimators=15; total time=   3.4s\n",
      "[CV] END .......max_depth=7, max_features=4, n_estimators=15; total time=   3.4s\n",
      "[CV] END .......max_depth=7, max_features=4, n_estimators=20; total time=   4.6s\n",
      "[CV] END .......max_depth=7, max_features=4, n_estimators=20; total time=   4.2s\n",
      "[CV] END .......max_depth=7, max_features=4, n_estimators=25; total time=   5.5s\n",
      "[CV] END .......max_depth=7, max_features=4, n_estimators=25; total time=   5.5s\n"
     ]
    }
   ],
   "source": [
    "# train the models with the combination of different parameters\n",
    "# execution of GridSearch\n",
    "model2 = grid.fit(X_train,y_train)"
   ]
  },
  {
   "cell_type": "code",
   "execution_count": 131,
   "id": "cefa0a23",
   "metadata": {
    "execution": {
     "iopub.execute_input": "2022-11-20T06:28:28.910830Z",
     "iopub.status.busy": "2022-11-20T06:28:28.910397Z",
     "iopub.status.idle": "2022-11-20T06:28:28.916841Z",
     "shell.execute_reply": "2022-11-20T06:28:28.915606Z"
    },
    "papermill": {
     "duration": 0.086876,
     "end_time": "2022-11-20T06:28:28.920150",
     "exception": false,
     "start_time": "2022-11-20T06:28:28.833274",
     "status": "completed"
    },
    "tags": []
   },
   "outputs": [
    {
     "name": "stdout",
     "output_type": "stream",
     "text": [
      "The best parameters are:  {'max_depth': 7, 'max_features': 3, 'n_estimators': 25}\n"
     ]
    }
   ],
   "source": [
    "print(\"The best parameters are: \",  grid.best_params_)"
   ]
  },
  {
   "cell_type": "code",
   "execution_count": 132,
   "id": "c713912d",
   "metadata": {
    "execution": {
     "iopub.execute_input": "2022-11-20T06:28:29.073779Z",
     "iopub.status.busy": "2022-11-20T06:28:29.073327Z",
     "iopub.status.idle": "2022-11-20T06:28:29.078972Z",
     "shell.execute_reply": "2022-11-20T06:28:29.077794Z"
    },
    "papermill": {
     "duration": 0.085551,
     "end_time": "2022-11-20T06:28:29.081693",
     "exception": false,
     "start_time": "2022-11-20T06:28:28.996142",
     "status": "completed"
    },
    "tags": []
   },
   "outputs": [],
   "source": [
    "del [X_val, y_val]"
   ]
  },
  {
   "cell_type": "code",
   "execution_count": 133,
   "id": "402b80a8",
   "metadata": {
    "execution": {
     "iopub.execute_input": "2022-11-20T06:28:29.235770Z",
     "iopub.status.busy": "2022-11-20T06:28:29.235358Z",
     "iopub.status.idle": "2022-11-20T06:28:29.410626Z",
     "shell.execute_reply": "2022-11-20T06:28:29.409434Z"
    },
    "papermill": {
     "duration": 0.255167,
     "end_time": "2022-11-20T06:28:29.413238",
     "exception": false,
     "start_time": "2022-11-20T06:28:29.158071",
     "status": "completed"
    },
    "tags": []
   },
   "outputs": [
    {
     "data": {
      "text/plain": [
       "3862"
      ]
     },
     "execution_count": 133,
     "metadata": {},
     "output_type": "execute_result"
    }
   ],
   "source": [
    "gc.collect()"
   ]
  },
  {
   "cell_type": "code",
   "execution_count": 134,
   "id": "f7a7f507",
   "metadata": {
    "execution": {
     "iopub.execute_input": "2022-11-20T06:28:29.572052Z",
     "iopub.status.busy": "2022-11-20T06:28:29.571657Z",
     "iopub.status.idle": "2022-11-20T06:28:29.691610Z",
     "shell.execute_reply": "2022-11-20T06:28:29.690136Z"
    },
    "papermill": {
     "duration": 0.204194,
     "end_time": "2022-11-20T06:28:29.694869",
     "exception": false,
     "start_time": "2022-11-20T06:28:29.490675",
     "status": "completed"
    },
    "tags": []
   },
   "outputs": [],
   "source": [
    "data_test1 = data[data.eval_set == 'test']"
   ]
  },
  {
   "cell_type": "code",
   "execution_count": 135,
   "id": "b8c9919b",
   "metadata": {
    "execution": {
     "iopub.execute_input": "2022-11-20T06:28:29.848956Z",
     "iopub.status.busy": "2022-11-20T06:28:29.848532Z",
     "iopub.status.idle": "2022-11-20T06:28:29.865667Z",
     "shell.execute_reply": "2022-11-20T06:28:29.864427Z"
    },
    "papermill": {
     "duration": 0.096965,
     "end_time": "2022-11-20T06:28:29.868047",
     "exception": false,
     "start_time": "2022-11-20T06:28:29.771082",
     "status": "completed"
    },
    "tags": []
   },
   "outputs": [
    {
     "data": {
      "text/html": [
       "<div>\n",
       "<style scoped>\n",
       "    .dataframe tbody tr th:only-of-type {\n",
       "        vertical-align: middle;\n",
       "    }\n",
       "\n",
       "    .dataframe tbody tr th {\n",
       "        vertical-align: top;\n",
       "    }\n",
       "\n",
       "    .dataframe thead th {\n",
       "        text-align: right;\n",
       "    }\n",
       "</style>\n",
       "<table border=\"1\" class=\"dataframe\">\n",
       "  <thead>\n",
       "    <tr style=\"text-align: right;\">\n",
       "      <th></th>\n",
       "      <th>user_id</th>\n",
       "      <th>product_id</th>\n",
       "      <th>user_product_total</th>\n",
       "      <th>user_reorder_ratio</th>\n",
       "      <th>times_last_5</th>\n",
       "      <th>user_total_orders</th>\n",
       "      <th>user_reordered_ratio</th>\n",
       "      <th>product_total_purchase</th>\n",
       "      <th>product_reorder_ratio</th>\n",
       "      <th>eval_set</th>\n",
       "      <th>order_id</th>\n",
       "    </tr>\n",
       "  </thead>\n",
       "  <tbody>\n",
       "    <tr>\n",
       "      <th>0</th>\n",
       "      <td>6</td>\n",
       "      <td>8424</td>\n",
       "      <td>1</td>\n",
       "      <td>1.000000</td>\n",
       "      <td>1.0</td>\n",
       "      <td>3</td>\n",
       "      <td>0.142857</td>\n",
       "      <td>12292</td>\n",
       "      <td>0.650504</td>\n",
       "      <td>test</td>\n",
       "      <td>1528013</td>\n",
       "    </tr>\n",
       "    <tr>\n",
       "      <th>1</th>\n",
       "      <td>6</td>\n",
       "      <td>10644</td>\n",
       "      <td>1</td>\n",
       "      <td>0.500000</td>\n",
       "      <td>1.0</td>\n",
       "      <td>3</td>\n",
       "      <td>0.142857</td>\n",
       "      <td>3631</td>\n",
       "      <td>0.416690</td>\n",
       "      <td>test</td>\n",
       "      <td>1528013</td>\n",
       "    </tr>\n",
       "    <tr>\n",
       "      <th>2</th>\n",
       "      <td>6</td>\n",
       "      <td>11068</td>\n",
       "      <td>1</td>\n",
       "      <td>0.500000</td>\n",
       "      <td>1.0</td>\n",
       "      <td>3</td>\n",
       "      <td>0.142857</td>\n",
       "      <td>3069</td>\n",
       "      <td>0.584881</td>\n",
       "      <td>test</td>\n",
       "      <td>1528013</td>\n",
       "    </tr>\n",
       "    <tr>\n",
       "      <th>3</th>\n",
       "      <td>6</td>\n",
       "      <td>20323</td>\n",
       "      <td>1</td>\n",
       "      <td>0.500000</td>\n",
       "      <td>1.0</td>\n",
       "      <td>3</td>\n",
       "      <td>0.142857</td>\n",
       "      <td>695</td>\n",
       "      <td>0.532374</td>\n",
       "      <td>test</td>\n",
       "      <td>1528013</td>\n",
       "    </tr>\n",
       "    <tr>\n",
       "      <th>4</th>\n",
       "      <td>6</td>\n",
       "      <td>21903</td>\n",
       "      <td>2</td>\n",
       "      <td>0.666667</td>\n",
       "      <td>2.0</td>\n",
       "      <td>3</td>\n",
       "      <td>0.142857</td>\n",
       "      <td>73243</td>\n",
       "      <td>0.773808</td>\n",
       "      <td>test</td>\n",
       "      <td>1528013</td>\n",
       "    </tr>\n",
       "  </tbody>\n",
       "</table>\n",
       "</div>"
      ],
      "text/plain": [
       "   user_id  product_id  user_product_total  user_reorder_ratio  times_last_5  \\\n",
       "0        6        8424                   1            1.000000           1.0   \n",
       "1        6       10644                   1            0.500000           1.0   \n",
       "2        6       11068                   1            0.500000           1.0   \n",
       "3        6       20323                   1            0.500000           1.0   \n",
       "4        6       21903                   2            0.666667           2.0   \n",
       "\n",
       "   user_total_orders  user_reordered_ratio  product_total_purchase  \\\n",
       "0                  3              0.142857                   12292   \n",
       "1                  3              0.142857                    3631   \n",
       "2                  3              0.142857                    3069   \n",
       "3                  3              0.142857                     695   \n",
       "4                  3              0.142857                   73243   \n",
       "\n",
       "   product_reorder_ratio eval_set  order_id  \n",
       "0               0.650504     test   1528013  \n",
       "1               0.416690     test   1528013  \n",
       "2               0.584881     test   1528013  \n",
       "3               0.532374     test   1528013  \n",
       "4               0.773808     test   1528013  "
      ]
     },
     "execution_count": 135,
     "metadata": {},
     "output_type": "execute_result"
    }
   ],
   "source": [
    "data_test1.head()"
   ]
  },
  {
   "cell_type": "code",
   "execution_count": 136,
   "id": "75d0beec",
   "metadata": {
    "execution": {
     "iopub.execute_input": "2022-11-20T06:28:30.021719Z",
     "iopub.status.busy": "2022-11-20T06:28:30.021270Z",
     "iopub.status.idle": "2022-11-20T06:28:30.220388Z",
     "shell.execute_reply": "2022-11-20T06:28:30.219234Z"
    },
    "papermill": {
     "duration": 0.278766,
     "end_time": "2022-11-20T06:28:30.223054",
     "exception": false,
     "start_time": "2022-11-20T06:28:29.944288",
     "status": "completed"
    },
    "tags": []
   },
   "outputs": [
    {
     "data": {
      "text/html": [
       "<div>\n",
       "<style scoped>\n",
       "    .dataframe tbody tr th:only-of-type {\n",
       "        vertical-align: middle;\n",
       "    }\n",
       "\n",
       "    .dataframe tbody tr th {\n",
       "        vertical-align: top;\n",
       "    }\n",
       "\n",
       "    .dataframe thead th {\n",
       "        text-align: right;\n",
       "    }\n",
       "</style>\n",
       "<table border=\"1\" class=\"dataframe\">\n",
       "  <thead>\n",
       "    <tr style=\"text-align: right;\">\n",
       "      <th></th>\n",
       "      <th></th>\n",
       "      <th>user_product_total</th>\n",
       "      <th>user_reorder_ratio</th>\n",
       "      <th>times_last_5</th>\n",
       "      <th>user_total_orders</th>\n",
       "      <th>user_reordered_ratio</th>\n",
       "      <th>product_total_purchase</th>\n",
       "      <th>product_reorder_ratio</th>\n",
       "      <th>eval_set</th>\n",
       "      <th>order_id</th>\n",
       "    </tr>\n",
       "    <tr>\n",
       "      <th>user_id</th>\n",
       "      <th>product_id</th>\n",
       "      <th></th>\n",
       "      <th></th>\n",
       "      <th></th>\n",
       "      <th></th>\n",
       "      <th></th>\n",
       "      <th></th>\n",
       "      <th></th>\n",
       "      <th></th>\n",
       "      <th></th>\n",
       "    </tr>\n",
       "  </thead>\n",
       "  <tbody>\n",
       "    <tr>\n",
       "      <th rowspan=\"5\" valign=\"top\">6</th>\n",
       "      <th>8424</th>\n",
       "      <td>1</td>\n",
       "      <td>1.000000</td>\n",
       "      <td>1.0</td>\n",
       "      <td>3</td>\n",
       "      <td>0.142857</td>\n",
       "      <td>12292</td>\n",
       "      <td>0.650504</td>\n",
       "      <td>test</td>\n",
       "      <td>1528013</td>\n",
       "    </tr>\n",
       "    <tr>\n",
       "      <th>10644</th>\n",
       "      <td>1</td>\n",
       "      <td>0.500000</td>\n",
       "      <td>1.0</td>\n",
       "      <td>3</td>\n",
       "      <td>0.142857</td>\n",
       "      <td>3631</td>\n",
       "      <td>0.416690</td>\n",
       "      <td>test</td>\n",
       "      <td>1528013</td>\n",
       "    </tr>\n",
       "    <tr>\n",
       "      <th>11068</th>\n",
       "      <td>1</td>\n",
       "      <td>0.500000</td>\n",
       "      <td>1.0</td>\n",
       "      <td>3</td>\n",
       "      <td>0.142857</td>\n",
       "      <td>3069</td>\n",
       "      <td>0.584881</td>\n",
       "      <td>test</td>\n",
       "      <td>1528013</td>\n",
       "    </tr>\n",
       "    <tr>\n",
       "      <th>20323</th>\n",
       "      <td>1</td>\n",
       "      <td>0.500000</td>\n",
       "      <td>1.0</td>\n",
       "      <td>3</td>\n",
       "      <td>0.142857</td>\n",
       "      <td>695</td>\n",
       "      <td>0.532374</td>\n",
       "      <td>test</td>\n",
       "      <td>1528013</td>\n",
       "    </tr>\n",
       "    <tr>\n",
       "      <th>21903</th>\n",
       "      <td>2</td>\n",
       "      <td>0.666667</td>\n",
       "      <td>2.0</td>\n",
       "      <td>3</td>\n",
       "      <td>0.142857</td>\n",
       "      <td>73243</td>\n",
       "      <td>0.773808</td>\n",
       "      <td>test</td>\n",
       "      <td>1528013</td>\n",
       "    </tr>\n",
       "  </tbody>\n",
       "</table>\n",
       "</div>"
      ],
      "text/plain": [
       "                    user_product_total  user_reorder_ratio  times_last_5  \\\n",
       "user_id product_id                                                         \n",
       "6       8424                         1            1.000000           1.0   \n",
       "        10644                        1            0.500000           1.0   \n",
       "        11068                        1            0.500000           1.0   \n",
       "        20323                        1            0.500000           1.0   \n",
       "        21903                        2            0.666667           2.0   \n",
       "\n",
       "                    user_total_orders  user_reordered_ratio  \\\n",
       "user_id product_id                                            \n",
       "6       8424                        3              0.142857   \n",
       "        10644                       3              0.142857   \n",
       "        11068                       3              0.142857   \n",
       "        20323                       3              0.142857   \n",
       "        21903                       3              0.142857   \n",
       "\n",
       "                    product_total_purchase  product_reorder_ratio eval_set  \\\n",
       "user_id product_id                                                           \n",
       "6       8424                         12292               0.650504     test   \n",
       "        10644                         3631               0.416690     test   \n",
       "        11068                         3069               0.584881     test   \n",
       "        20323                          695               0.532374     test   \n",
       "        21903                        73243               0.773808     test   \n",
       "\n",
       "                    order_id  \n",
       "user_id product_id            \n",
       "6       8424         1528013  \n",
       "        10644        1528013  \n",
       "        11068        1528013  \n",
       "        20323        1528013  \n",
       "        21903        1528013  "
      ]
     },
     "execution_count": 136,
     "metadata": {},
     "output_type": "execute_result"
    }
   ],
   "source": [
    "data_test1 = data_test1.set_index(['user_id','product_id'])\n",
    "data_test1.head()"
   ]
  },
  {
   "cell_type": "code",
   "execution_count": 137,
   "id": "d32fe2b4",
   "metadata": {
    "execution": {
     "iopub.execute_input": "2022-11-20T06:28:30.381793Z",
     "iopub.status.busy": "2022-11-20T06:28:30.381353Z",
     "iopub.status.idle": "2022-11-20T06:28:30.529755Z",
     "shell.execute_reply": "2022-11-20T06:28:30.528550Z"
    },
    "papermill": {
     "duration": 0.229747,
     "end_time": "2022-11-20T06:28:30.533123",
     "exception": false,
     "start_time": "2022-11-20T06:28:30.303376",
     "status": "completed"
    },
    "tags": []
   },
   "outputs": [],
   "source": [
    "data_test1 = data_test1.drop(['eval_set','order_id'], axis=1)"
   ]
  },
  {
   "cell_type": "code",
   "execution_count": 138,
   "id": "ec8b487c",
   "metadata": {
    "execution": {
     "iopub.execute_input": "2022-11-20T06:28:30.690928Z",
     "iopub.status.busy": "2022-11-20T06:28:30.690533Z",
     "iopub.status.idle": "2022-11-20T06:28:30.705530Z",
     "shell.execute_reply": "2022-11-20T06:28:30.704334Z"
    },
    "papermill": {
     "duration": 0.096592,
     "end_time": "2022-11-20T06:28:30.708099",
     "exception": false,
     "start_time": "2022-11-20T06:28:30.611507",
     "status": "completed"
    },
    "tags": []
   },
   "outputs": [
    {
     "data": {
      "text/html": [
       "<div>\n",
       "<style scoped>\n",
       "    .dataframe tbody tr th:only-of-type {\n",
       "        vertical-align: middle;\n",
       "    }\n",
       "\n",
       "    .dataframe tbody tr th {\n",
       "        vertical-align: top;\n",
       "    }\n",
       "\n",
       "    .dataframe thead th {\n",
       "        text-align: right;\n",
       "    }\n",
       "</style>\n",
       "<table border=\"1\" class=\"dataframe\">\n",
       "  <thead>\n",
       "    <tr style=\"text-align: right;\">\n",
       "      <th></th>\n",
       "      <th></th>\n",
       "      <th>user_product_total</th>\n",
       "      <th>user_reorder_ratio</th>\n",
       "      <th>times_last_5</th>\n",
       "      <th>user_total_orders</th>\n",
       "      <th>user_reordered_ratio</th>\n",
       "      <th>product_total_purchase</th>\n",
       "      <th>product_reorder_ratio</th>\n",
       "    </tr>\n",
       "    <tr>\n",
       "      <th>user_id</th>\n",
       "      <th>product_id</th>\n",
       "      <th></th>\n",
       "      <th></th>\n",
       "      <th></th>\n",
       "      <th></th>\n",
       "      <th></th>\n",
       "      <th></th>\n",
       "      <th></th>\n",
       "    </tr>\n",
       "  </thead>\n",
       "  <tbody>\n",
       "    <tr>\n",
       "      <th rowspan=\"5\" valign=\"top\">6</th>\n",
       "      <th>8424</th>\n",
       "      <td>1</td>\n",
       "      <td>1.000000</td>\n",
       "      <td>1.0</td>\n",
       "      <td>3</td>\n",
       "      <td>0.142857</td>\n",
       "      <td>12292</td>\n",
       "      <td>0.650504</td>\n",
       "    </tr>\n",
       "    <tr>\n",
       "      <th>10644</th>\n",
       "      <td>1</td>\n",
       "      <td>0.500000</td>\n",
       "      <td>1.0</td>\n",
       "      <td>3</td>\n",
       "      <td>0.142857</td>\n",
       "      <td>3631</td>\n",
       "      <td>0.416690</td>\n",
       "    </tr>\n",
       "    <tr>\n",
       "      <th>11068</th>\n",
       "      <td>1</td>\n",
       "      <td>0.500000</td>\n",
       "      <td>1.0</td>\n",
       "      <td>3</td>\n",
       "      <td>0.142857</td>\n",
       "      <td>3069</td>\n",
       "      <td>0.584881</td>\n",
       "    </tr>\n",
       "    <tr>\n",
       "      <th>20323</th>\n",
       "      <td>1</td>\n",
       "      <td>0.500000</td>\n",
       "      <td>1.0</td>\n",
       "      <td>3</td>\n",
       "      <td>0.142857</td>\n",
       "      <td>695</td>\n",
       "      <td>0.532374</td>\n",
       "    </tr>\n",
       "    <tr>\n",
       "      <th>21903</th>\n",
       "      <td>2</td>\n",
       "      <td>0.666667</td>\n",
       "      <td>2.0</td>\n",
       "      <td>3</td>\n",
       "      <td>0.142857</td>\n",
       "      <td>73243</td>\n",
       "      <td>0.773808</td>\n",
       "    </tr>\n",
       "  </tbody>\n",
       "</table>\n",
       "</div>"
      ],
      "text/plain": [
       "                    user_product_total  user_reorder_ratio  times_last_5  \\\n",
       "user_id product_id                                                         \n",
       "6       8424                         1            1.000000           1.0   \n",
       "        10644                        1            0.500000           1.0   \n",
       "        11068                        1            0.500000           1.0   \n",
       "        20323                        1            0.500000           1.0   \n",
       "        21903                        2            0.666667           2.0   \n",
       "\n",
       "                    user_total_orders  user_reordered_ratio  \\\n",
       "user_id product_id                                            \n",
       "6       8424                        3              0.142857   \n",
       "        10644                       3              0.142857   \n",
       "        11068                       3              0.142857   \n",
       "        20323                       3              0.142857   \n",
       "        21903                       3              0.142857   \n",
       "\n",
       "                    product_total_purchase  product_reorder_ratio  \n",
       "user_id product_id                                                 \n",
       "6       8424                         12292               0.650504  \n",
       "        10644                         3631               0.416690  \n",
       "        11068                         3069               0.584881  \n",
       "        20323                          695               0.532374  \n",
       "        21903                        73243               0.773808  "
      ]
     },
     "execution_count": 138,
     "metadata": {},
     "output_type": "execute_result"
    }
   ],
   "source": [
    "data_test1.head()"
   ]
  },
  {
   "cell_type": "markdown",
   "id": "1192f79c",
   "metadata": {
    "papermill": {
     "duration": 0.076579,
     "end_time": "2022-11-20T06:28:30.860631",
     "exception": false,
     "start_time": "2022-11-20T06:28:30.784052",
     "status": "completed"
    },
    "tags": []
   },
   "source": [
    "# Applying Predictive Model for RandomForestClassifier"
   ]
  },
  {
   "cell_type": "code",
   "execution_count": 139,
   "id": "472153de",
   "metadata": {
    "execution": {
     "iopub.execute_input": "2022-11-20T06:28:31.016123Z",
     "iopub.status.busy": "2022-11-20T06:28:31.015717Z",
     "iopub.status.idle": "2022-11-20T06:28:32.440638Z",
     "shell.execute_reply": "2022-11-20T06:28:32.439558Z"
    },
    "papermill": {
     "duration": 1.505245,
     "end_time": "2022-11-20T06:28:32.443527",
     "exception": false,
     "start_time": "2022-11-20T06:28:30.938282",
     "status": "completed"
    },
    "tags": []
   },
   "outputs": [],
   "source": [
    "test_pred = model2.predict(data_test1).astype(int)"
   ]
  },
  {
   "cell_type": "code",
   "execution_count": 140,
   "id": "765dabc7",
   "metadata": {
    "execution": {
     "iopub.execute_input": "2022-11-20T06:28:32.598931Z",
     "iopub.status.busy": "2022-11-20T06:28:32.598550Z",
     "iopub.status.idle": "2022-11-20T06:28:32.605883Z",
     "shell.execute_reply": "2022-11-20T06:28:32.604558Z"
    },
    "papermill": {
     "duration": 0.088133,
     "end_time": "2022-11-20T06:28:32.608413",
     "exception": false,
     "start_time": "2022-11-20T06:28:32.520280",
     "status": "completed"
    },
    "tags": []
   },
   "outputs": [
    {
     "data": {
      "text/plain": [
       "array([0, 0, 0, 0, 0, 0, 0, 0, 0, 0, 0, 0, 0, 0, 0, 0, 0, 0, 0, 0])"
      ]
     },
     "execution_count": 140,
     "metadata": {},
     "output_type": "execute_result"
    }
   ],
   "source": [
    "test_pred[0:20] #display the first 20 predictions of the numpy array"
   ]
  },
  {
   "cell_type": "code",
   "execution_count": 141,
   "id": "ac73645b",
   "metadata": {
    "execution": {
     "iopub.execute_input": "2022-11-20T06:28:32.762854Z",
     "iopub.status.busy": "2022-11-20T06:28:32.762428Z",
     "iopub.status.idle": "2022-11-20T06:28:34.471841Z",
     "shell.execute_reply": "2022-11-20T06:28:34.470509Z"
    },
    "papermill": {
     "duration": 1.789364,
     "end_time": "2022-11-20T06:28:34.474652",
     "exception": false,
     "start_time": "2022-11-20T06:28:32.685288",
     "status": "completed"
    },
    "tags": []
   },
   "outputs": [
    {
     "data": {
      "text/plain": [
       "array([0, 0, 0, 0, 1, 0, 0, 1, 0, 0, 0, 0, 1, 0, 0, 1, 0, 0, 0, 0])"
      ]
     },
     "execution_count": 141,
     "metadata": {},
     "output_type": "execute_result"
    }
   ],
   "source": [
    "test_pred = (model2.predict_proba(data_test1)[:,1] >= 0.21).astype(int)   # custom threshold\n",
    "test_pred[0:20]"
   ]
  },
  {
   "cell_type": "code",
   "execution_count": 142,
   "id": "82d99808",
   "metadata": {
    "execution": {
     "iopub.execute_input": "2022-11-20T06:28:34.636895Z",
     "iopub.status.busy": "2022-11-20T06:28:34.636501Z",
     "iopub.status.idle": "2022-11-20T06:28:34.643816Z",
     "shell.execute_reply": "2022-11-20T06:28:34.642996Z"
    },
    "papermill": {
     "duration": 0.093667,
     "end_time": "2022-11-20T06:28:34.645954",
     "exception": false,
     "start_time": "2022-11-20T06:28:34.552287",
     "status": "completed"
    },
    "tags": []
   },
   "outputs": [],
   "source": [
    "data_test1['prediction'] = test_pred"
   ]
  },
  {
   "cell_type": "code",
   "execution_count": 143,
   "id": "9a2c4605",
   "metadata": {
    "execution": {
     "iopub.execute_input": "2022-11-20T06:28:34.800183Z",
     "iopub.status.busy": "2022-11-20T06:28:34.799735Z",
     "iopub.status.idle": "2022-11-20T06:28:34.816588Z",
     "shell.execute_reply": "2022-11-20T06:28:34.815463Z"
    },
    "papermill": {
     "duration": 0.096834,
     "end_time": "2022-11-20T06:28:34.818886",
     "exception": false,
     "start_time": "2022-11-20T06:28:34.722052",
     "status": "completed"
    },
    "tags": []
   },
   "outputs": [
    {
     "data": {
      "text/html": [
       "<div>\n",
       "<style scoped>\n",
       "    .dataframe tbody tr th:only-of-type {\n",
       "        vertical-align: middle;\n",
       "    }\n",
       "\n",
       "    .dataframe tbody tr th {\n",
       "        vertical-align: top;\n",
       "    }\n",
       "\n",
       "    .dataframe thead th {\n",
       "        text-align: right;\n",
       "    }\n",
       "</style>\n",
       "<table border=\"1\" class=\"dataframe\">\n",
       "  <thead>\n",
       "    <tr style=\"text-align: right;\">\n",
       "      <th></th>\n",
       "      <th></th>\n",
       "      <th>user_product_total</th>\n",
       "      <th>user_reorder_ratio</th>\n",
       "      <th>times_last_5</th>\n",
       "      <th>user_total_orders</th>\n",
       "      <th>user_reordered_ratio</th>\n",
       "      <th>product_total_purchase</th>\n",
       "      <th>product_reorder_ratio</th>\n",
       "      <th>prediction</th>\n",
       "    </tr>\n",
       "    <tr>\n",
       "      <th>user_id</th>\n",
       "      <th>product_id</th>\n",
       "      <th></th>\n",
       "      <th></th>\n",
       "      <th></th>\n",
       "      <th></th>\n",
       "      <th></th>\n",
       "      <th></th>\n",
       "      <th></th>\n",
       "      <th></th>\n",
       "    </tr>\n",
       "  </thead>\n",
       "  <tbody>\n",
       "    <tr>\n",
       "      <th rowspan=\"5\" valign=\"top\">6</th>\n",
       "      <th>8424</th>\n",
       "      <td>1</td>\n",
       "      <td>1.000000</td>\n",
       "      <td>1.0</td>\n",
       "      <td>3</td>\n",
       "      <td>0.142857</td>\n",
       "      <td>12292</td>\n",
       "      <td>0.650504</td>\n",
       "      <td>0</td>\n",
       "    </tr>\n",
       "    <tr>\n",
       "      <th>10644</th>\n",
       "      <td>1</td>\n",
       "      <td>0.500000</td>\n",
       "      <td>1.0</td>\n",
       "      <td>3</td>\n",
       "      <td>0.142857</td>\n",
       "      <td>3631</td>\n",
       "      <td>0.416690</td>\n",
       "      <td>0</td>\n",
       "    </tr>\n",
       "    <tr>\n",
       "      <th>11068</th>\n",
       "      <td>1</td>\n",
       "      <td>0.500000</td>\n",
       "      <td>1.0</td>\n",
       "      <td>3</td>\n",
       "      <td>0.142857</td>\n",
       "      <td>3069</td>\n",
       "      <td>0.584881</td>\n",
       "      <td>0</td>\n",
       "    </tr>\n",
       "    <tr>\n",
       "      <th>20323</th>\n",
       "      <td>1</td>\n",
       "      <td>0.500000</td>\n",
       "      <td>1.0</td>\n",
       "      <td>3</td>\n",
       "      <td>0.142857</td>\n",
       "      <td>695</td>\n",
       "      <td>0.532374</td>\n",
       "      <td>0</td>\n",
       "    </tr>\n",
       "    <tr>\n",
       "      <th>21903</th>\n",
       "      <td>2</td>\n",
       "      <td>0.666667</td>\n",
       "      <td>2.0</td>\n",
       "      <td>3</td>\n",
       "      <td>0.142857</td>\n",
       "      <td>73243</td>\n",
       "      <td>0.773808</td>\n",
       "      <td>1</td>\n",
       "    </tr>\n",
       "  </tbody>\n",
       "</table>\n",
       "</div>"
      ],
      "text/plain": [
       "                    user_product_total  user_reorder_ratio  times_last_5  \\\n",
       "user_id product_id                                                         \n",
       "6       8424                         1            1.000000           1.0   \n",
       "        10644                        1            0.500000           1.0   \n",
       "        11068                        1            0.500000           1.0   \n",
       "        20323                        1            0.500000           1.0   \n",
       "        21903                        2            0.666667           2.0   \n",
       "\n",
       "                    user_total_orders  user_reordered_ratio  \\\n",
       "user_id product_id                                            \n",
       "6       8424                        3              0.142857   \n",
       "        10644                       3              0.142857   \n",
       "        11068                       3              0.142857   \n",
       "        20323                       3              0.142857   \n",
       "        21903                       3              0.142857   \n",
       "\n",
       "                    product_total_purchase  product_reorder_ratio  prediction  \n",
       "user_id product_id                                                             \n",
       "6       8424                         12292               0.650504           0  \n",
       "        10644                         3631               0.416690           0  \n",
       "        11068                         3069               0.584881           0  \n",
       "        20323                          695               0.532374           0  \n",
       "        21903                        73243               0.773808           1  "
      ]
     },
     "execution_count": 143,
     "metadata": {},
     "output_type": "execute_result"
    }
   ],
   "source": [
    "data_test1.head()"
   ]
  },
  {
   "cell_type": "code",
   "execution_count": 144,
   "id": "513527d0",
   "metadata": {
    "execution": {
     "iopub.execute_input": "2022-11-20T06:28:34.975316Z",
     "iopub.status.busy": "2022-11-20T06:28:34.974860Z",
     "iopub.status.idle": "2022-11-20T06:28:35.156531Z",
     "shell.execute_reply": "2022-11-20T06:28:35.155449Z"
    },
    "papermill": {
     "duration": 0.263474,
     "end_time": "2022-11-20T06:28:35.159494",
     "exception": false,
     "start_time": "2022-11-20T06:28:34.896020",
     "status": "completed"
    },
    "tags": []
   },
   "outputs": [],
   "source": [
    "final1 = data_test1.reset_index()"
   ]
  },
  {
   "cell_type": "code",
   "execution_count": 145,
   "id": "fcd6d862",
   "metadata": {
    "execution": {
     "iopub.execute_input": "2022-11-20T06:28:35.313917Z",
     "iopub.status.busy": "2022-11-20T06:28:35.313496Z",
     "iopub.status.idle": "2022-11-20T06:28:35.435695Z",
     "shell.execute_reply": "2022-11-20T06:28:35.434564Z"
    },
    "papermill": {
     "duration": 0.203295,
     "end_time": "2022-11-20T06:28:35.438841",
     "exception": false,
     "start_time": "2022-11-20T06:28:35.235546",
     "status": "completed"
    },
    "tags": []
   },
   "outputs": [],
   "source": [
    "final1 = final1[['product_id', 'user_id', 'prediction']]"
   ]
  },
  {
   "cell_type": "code",
   "execution_count": 146,
   "id": "97a63ebc",
   "metadata": {
    "execution": {
     "iopub.execute_input": "2022-11-20T06:28:35.596005Z",
     "iopub.status.busy": "2022-11-20T06:28:35.595526Z",
     "iopub.status.idle": "2022-11-20T06:28:35.729619Z",
     "shell.execute_reply": "2022-11-20T06:28:35.728293Z"
    },
    "papermill": {
     "duration": 0.215137,
     "end_time": "2022-11-20T06:28:35.732531",
     "exception": false,
     "start_time": "2022-11-20T06:28:35.517394",
     "status": "completed"
    },
    "tags": []
   },
   "outputs": [
    {
     "data": {
      "text/plain": [
       "195"
      ]
     },
     "execution_count": 146,
     "metadata": {},
     "output_type": "execute_result"
    }
   ],
   "source": [
    "gc.collect()"
   ]
  },
  {
   "cell_type": "code",
   "execution_count": 147,
   "id": "75fe117c",
   "metadata": {
    "execution": {
     "iopub.execute_input": "2022-11-20T06:28:35.892667Z",
     "iopub.status.busy": "2022-11-20T06:28:35.892156Z",
     "iopub.status.idle": "2022-11-20T06:28:35.903477Z",
     "shell.execute_reply": "2022-11-20T06:28:35.902199Z"
    },
    "papermill": {
     "duration": 0.091892,
     "end_time": "2022-11-20T06:28:35.905955",
     "exception": false,
     "start_time": "2022-11-20T06:28:35.814063",
     "status": "completed"
    },
    "tags": []
   },
   "outputs": [
    {
     "data": {
      "text/html": [
       "<div>\n",
       "<style scoped>\n",
       "    .dataframe tbody tr th:only-of-type {\n",
       "        vertical-align: middle;\n",
       "    }\n",
       "\n",
       "    .dataframe tbody tr th {\n",
       "        vertical-align: top;\n",
       "    }\n",
       "\n",
       "    .dataframe thead th {\n",
       "        text-align: right;\n",
       "    }\n",
       "</style>\n",
       "<table border=\"1\" class=\"dataframe\">\n",
       "  <thead>\n",
       "    <tr style=\"text-align: right;\">\n",
       "      <th></th>\n",
       "      <th>product_id</th>\n",
       "      <th>user_id</th>\n",
       "      <th>prediction</th>\n",
       "    </tr>\n",
       "  </thead>\n",
       "  <tbody>\n",
       "    <tr>\n",
       "      <th>0</th>\n",
       "      <td>8424</td>\n",
       "      <td>6</td>\n",
       "      <td>0</td>\n",
       "    </tr>\n",
       "    <tr>\n",
       "      <th>1</th>\n",
       "      <td>10644</td>\n",
       "      <td>6</td>\n",
       "      <td>0</td>\n",
       "    </tr>\n",
       "    <tr>\n",
       "      <th>2</th>\n",
       "      <td>11068</td>\n",
       "      <td>6</td>\n",
       "      <td>0</td>\n",
       "    </tr>\n",
       "    <tr>\n",
       "      <th>3</th>\n",
       "      <td>20323</td>\n",
       "      <td>6</td>\n",
       "      <td>0</td>\n",
       "    </tr>\n",
       "    <tr>\n",
       "      <th>4</th>\n",
       "      <td>21903</td>\n",
       "      <td>6</td>\n",
       "      <td>1</td>\n",
       "    </tr>\n",
       "  </tbody>\n",
       "</table>\n",
       "</div>"
      ],
      "text/plain": [
       "   product_id  user_id  prediction\n",
       "0        8424        6           0\n",
       "1       10644        6           0\n",
       "2       11068        6           0\n",
       "3       20323        6           0\n",
       "4       21903        6           1"
      ]
     },
     "execution_count": 147,
     "metadata": {},
     "output_type": "execute_result"
    }
   ],
   "source": [
    "final1.head()"
   ]
  },
  {
   "cell_type": "code",
   "execution_count": 148,
   "id": "c744554d",
   "metadata": {
    "execution": {
     "iopub.execute_input": "2022-11-20T06:28:36.063155Z",
     "iopub.status.busy": "2022-11-20T06:28:36.062738Z",
     "iopub.status.idle": "2022-11-20T06:28:36.340245Z",
     "shell.execute_reply": "2022-11-20T06:28:36.338746Z"
    },
    "papermill": {
     "duration": 0.360343,
     "end_time": "2022-11-20T06:28:36.342873",
     "exception": false,
     "start_time": "2022-11-20T06:28:35.982530",
     "status": "completed"
    },
    "tags": []
   },
   "outputs": [],
   "source": [
    "final1 = final1.merge(products, on = ['product_id'], how = 'inner')"
   ]
  },
  {
   "cell_type": "code",
   "execution_count": 149,
   "id": "4a0e5937",
   "metadata": {
    "execution": {
     "iopub.execute_input": "2022-11-20T06:28:36.564267Z",
     "iopub.status.busy": "2022-11-20T06:28:36.563493Z",
     "iopub.status.idle": "2022-11-20T06:28:36.579383Z",
     "shell.execute_reply": "2022-11-20T06:28:36.578423Z"
    },
    "papermill": {
     "duration": 0.09717,
     "end_time": "2022-11-20T06:28:36.581751",
     "exception": false,
     "start_time": "2022-11-20T06:28:36.484581",
     "status": "completed"
    },
    "tags": []
   },
   "outputs": [
    {
     "data": {
      "text/html": [
       "<div>\n",
       "<style scoped>\n",
       "    .dataframe tbody tr th:only-of-type {\n",
       "        vertical-align: middle;\n",
       "    }\n",
       "\n",
       "    .dataframe tbody tr th {\n",
       "        vertical-align: top;\n",
       "    }\n",
       "\n",
       "    .dataframe thead th {\n",
       "        text-align: right;\n",
       "    }\n",
       "</style>\n",
       "<table border=\"1\" class=\"dataframe\">\n",
       "  <thead>\n",
       "    <tr style=\"text-align: right;\">\n",
       "      <th></th>\n",
       "      <th>product_id</th>\n",
       "      <th>user_id</th>\n",
       "      <th>prediction</th>\n",
       "      <th>product_name</th>\n",
       "      <th>aisle_id</th>\n",
       "      <th>department_id</th>\n",
       "    </tr>\n",
       "  </thead>\n",
       "  <tbody>\n",
       "    <tr>\n",
       "      <th>0</th>\n",
       "      <td>8424</td>\n",
       "      <td>6</td>\n",
       "      <td>0</td>\n",
       "      <td>Broccoli Crown</td>\n",
       "      <td>83</td>\n",
       "      <td>4</td>\n",
       "    </tr>\n",
       "    <tr>\n",
       "      <th>1</th>\n",
       "      <td>8424</td>\n",
       "      <td>94</td>\n",
       "      <td>0</td>\n",
       "      <td>Broccoli Crown</td>\n",
       "      <td>83</td>\n",
       "      <td>4</td>\n",
       "    </tr>\n",
       "    <tr>\n",
       "      <th>2</th>\n",
       "      <td>8424</td>\n",
       "      <td>381</td>\n",
       "      <td>0</td>\n",
       "      <td>Broccoli Crown</td>\n",
       "      <td>83</td>\n",
       "      <td>4</td>\n",
       "    </tr>\n",
       "    <tr>\n",
       "      <th>3</th>\n",
       "      <td>8424</td>\n",
       "      <td>450</td>\n",
       "      <td>0</td>\n",
       "      <td>Broccoli Crown</td>\n",
       "      <td>83</td>\n",
       "      <td>4</td>\n",
       "    </tr>\n",
       "    <tr>\n",
       "      <th>4</th>\n",
       "      <td>8424</td>\n",
       "      <td>463</td>\n",
       "      <td>0</td>\n",
       "      <td>Broccoli Crown</td>\n",
       "      <td>83</td>\n",
       "      <td>4</td>\n",
       "    </tr>\n",
       "    <tr>\n",
       "      <th>...</th>\n",
       "      <td>...</td>\n",
       "      <td>...</td>\n",
       "      <td>...</td>\n",
       "      <td>...</td>\n",
       "      <td>...</td>\n",
       "      <td>...</td>\n",
       "    </tr>\n",
       "    <tr>\n",
       "      <th>1460946</th>\n",
       "      <td>43684</td>\n",
       "      <td>206182</td>\n",
       "      <td>0</td>\n",
       "      <td>Triple Berry Layer Fruit Snack</td>\n",
       "      <td>50</td>\n",
       "      <td>19</td>\n",
       "    </tr>\n",
       "    <tr>\n",
       "      <th>1460947</th>\n",
       "      <td>16315</td>\n",
       "      <td>206201</td>\n",
       "      <td>0</td>\n",
       "      <td>Nature's Way Long Grain &amp; Wild Rice Rice Mix</td>\n",
       "      <td>4</td>\n",
       "      <td>9</td>\n",
       "    </tr>\n",
       "    <tr>\n",
       "      <th>1460948</th>\n",
       "      <td>24110</td>\n",
       "      <td>206201</td>\n",
       "      <td>0</td>\n",
       "      <td>Blasted Chocolatey Chip Marshmallow Rice Krisp...</td>\n",
       "      <td>45</td>\n",
       "      <td>19</td>\n",
       "    </tr>\n",
       "    <tr>\n",
       "      <th>1460949</th>\n",
       "      <td>33935</td>\n",
       "      <td>206201</td>\n",
       "      <td>0</td>\n",
       "      <td>Double Stuf Chocolate/Chocolate Variety Pack S...</td>\n",
       "      <td>100</td>\n",
       "      <td>21</td>\n",
       "    </tr>\n",
       "    <tr>\n",
       "      <th>1460950</th>\n",
       "      <td>46640</td>\n",
       "      <td>206201</td>\n",
       "      <td>0</td>\n",
       "      <td>Grain Free Soft Dog Food</td>\n",
       "      <td>40</td>\n",
       "      <td>8</td>\n",
       "    </tr>\n",
       "  </tbody>\n",
       "</table>\n",
       "<p>1460951 rows × 6 columns</p>\n",
       "</div>"
      ],
      "text/plain": [
       "         product_id  user_id  prediction  \\\n",
       "0              8424        6           0   \n",
       "1              8424       94           0   \n",
       "2              8424      381           0   \n",
       "3              8424      450           0   \n",
       "4              8424      463           0   \n",
       "...             ...      ...         ...   \n",
       "1460946       43684   206182           0   \n",
       "1460947       16315   206201           0   \n",
       "1460948       24110   206201           0   \n",
       "1460949       33935   206201           0   \n",
       "1460950       46640   206201           0   \n",
       "\n",
       "                                              product_name  aisle_id  \\\n",
       "0                                           Broccoli Crown        83   \n",
       "1                                           Broccoli Crown        83   \n",
       "2                                           Broccoli Crown        83   \n",
       "3                                           Broccoli Crown        83   \n",
       "4                                           Broccoli Crown        83   \n",
       "...                                                    ...       ...   \n",
       "1460946                     Triple Berry Layer Fruit Snack        50   \n",
       "1460947       Nature's Way Long Grain & Wild Rice Rice Mix         4   \n",
       "1460948  Blasted Chocolatey Chip Marshmallow Rice Krisp...        45   \n",
       "1460949  Double Stuf Chocolate/Chocolate Variety Pack S...       100   \n",
       "1460950                           Grain Free Soft Dog Food        40   \n",
       "\n",
       "         department_id  \n",
       "0                    4  \n",
       "1                    4  \n",
       "2                    4  \n",
       "3                    4  \n",
       "4                    4  \n",
       "...                ...  \n",
       "1460946             19  \n",
       "1460947              9  \n",
       "1460948             19  \n",
       "1460949             21  \n",
       "1460950              8  \n",
       "\n",
       "[1460951 rows x 6 columns]"
      ]
     },
     "execution_count": 149,
     "metadata": {},
     "output_type": "execute_result"
    }
   ],
   "source": [
    "final1"
   ]
  },
  {
   "cell_type": "code",
   "execution_count": 150,
   "id": "d4e21f54",
   "metadata": {
    "execution": {
     "iopub.execute_input": "2022-11-20T06:28:36.739358Z",
     "iopub.status.busy": "2022-11-20T06:28:36.738957Z",
     "iopub.status.idle": "2022-11-20T06:28:36.755977Z",
     "shell.execute_reply": "2022-11-20T06:28:36.754823Z"
    },
    "papermill": {
     "duration": 0.098335,
     "end_time": "2022-11-20T06:28:36.758679",
     "exception": false,
     "start_time": "2022-11-20T06:28:36.660344",
     "status": "completed"
    },
    "tags": []
   },
   "outputs": [
    {
     "data": {
      "text/html": [
       "<div>\n",
       "<style scoped>\n",
       "    .dataframe tbody tr th:only-of-type {\n",
       "        vertical-align: middle;\n",
       "    }\n",
       "\n",
       "    .dataframe tbody tr th {\n",
       "        vertical-align: top;\n",
       "    }\n",
       "\n",
       "    .dataframe thead th {\n",
       "        text-align: right;\n",
       "    }\n",
       "</style>\n",
       "<table border=\"1\" class=\"dataframe\">\n",
       "  <thead>\n",
       "    <tr style=\"text-align: right;\">\n",
       "      <th></th>\n",
       "      <th>user_id</th>\n",
       "      <th>order_id</th>\n",
       "    </tr>\n",
       "  </thead>\n",
       "  <tbody>\n",
       "    <tr>\n",
       "      <th>53</th>\n",
       "      <td>6</td>\n",
       "      <td>1528013</td>\n",
       "    </tr>\n",
       "    <tr>\n",
       "      <th>217</th>\n",
       "      <td>19</td>\n",
       "      <td>1735923</td>\n",
       "    </tr>\n",
       "    <tr>\n",
       "      <th>300</th>\n",
       "      <td>25</td>\n",
       "      <td>1411408</td>\n",
       "    </tr>\n",
       "    <tr>\n",
       "      <th>495</th>\n",
       "      <td>35</td>\n",
       "      <td>707453</td>\n",
       "    </tr>\n",
       "    <tr>\n",
       "      <th>588</th>\n",
       "      <td>40</td>\n",
       "      <td>2431024</td>\n",
       "    </tr>\n",
       "  </tbody>\n",
       "</table>\n",
       "</div>"
      ],
      "text/plain": [
       "     user_id  order_id\n",
       "53         6   1528013\n",
       "217       19   1735923\n",
       "300       25   1411408\n",
       "495       35    707453\n",
       "588       40   2431024"
      ]
     },
     "execution_count": 150,
     "metadata": {},
     "output_type": "execute_result"
    }
   ],
   "source": [
    "order_test = orders.loc[orders.eval_set == 'test', ('user_id', 'order_id')]\n",
    "order_test.head()"
   ]
  },
  {
   "cell_type": "code",
   "execution_count": 151,
   "id": "0ce93d50",
   "metadata": {
    "execution": {
     "iopub.execute_input": "2022-11-20T06:28:36.918937Z",
     "iopub.status.busy": "2022-11-20T06:28:36.917340Z",
     "iopub.status.idle": "2022-11-20T06:28:37.267428Z",
     "shell.execute_reply": "2022-11-20T06:28:37.265935Z"
    },
    "papermill": {
     "duration": 0.432934,
     "end_time": "2022-11-20T06:28:37.269954",
     "exception": false,
     "start_time": "2022-11-20T06:28:36.837020",
     "status": "completed"
    },
    "tags": []
   },
   "outputs": [
    {
     "data": {
      "text/html": [
       "<div>\n",
       "<style scoped>\n",
       "    .dataframe tbody tr th:only-of-type {\n",
       "        vertical-align: middle;\n",
       "    }\n",
       "\n",
       "    .dataframe tbody tr th {\n",
       "        vertical-align: top;\n",
       "    }\n",
       "\n",
       "    .dataframe thead th {\n",
       "        text-align: right;\n",
       "    }\n",
       "</style>\n",
       "<table border=\"1\" class=\"dataframe\">\n",
       "  <thead>\n",
       "    <tr style=\"text-align: right;\">\n",
       "      <th></th>\n",
       "      <th>product_id</th>\n",
       "      <th>user_id</th>\n",
       "      <th>prediction</th>\n",
       "      <th>product_name</th>\n",
       "      <th>aisle_id</th>\n",
       "      <th>department_id</th>\n",
       "      <th>order_id</th>\n",
       "    </tr>\n",
       "  </thead>\n",
       "  <tbody>\n",
       "    <tr>\n",
       "      <th>0</th>\n",
       "      <td>8424</td>\n",
       "      <td>6</td>\n",
       "      <td>0</td>\n",
       "      <td>Broccoli Crown</td>\n",
       "      <td>83</td>\n",
       "      <td>4</td>\n",
       "      <td>1528013</td>\n",
       "    </tr>\n",
       "    <tr>\n",
       "      <th>1</th>\n",
       "      <td>8424</td>\n",
       "      <td>94</td>\n",
       "      <td>0</td>\n",
       "      <td>Broccoli Crown</td>\n",
       "      <td>83</td>\n",
       "      <td>4</td>\n",
       "      <td>622677</td>\n",
       "    </tr>\n",
       "    <tr>\n",
       "      <th>2</th>\n",
       "      <td>8424</td>\n",
       "      <td>381</td>\n",
       "      <td>0</td>\n",
       "      <td>Broccoli Crown</td>\n",
       "      <td>83</td>\n",
       "      <td>4</td>\n",
       "      <td>1185710</td>\n",
       "    </tr>\n",
       "    <tr>\n",
       "      <th>3</th>\n",
       "      <td>8424</td>\n",
       "      <td>450</td>\n",
       "      <td>0</td>\n",
       "      <td>Broccoli Crown</td>\n",
       "      <td>83</td>\n",
       "      <td>4</td>\n",
       "      <td>2730481</td>\n",
       "    </tr>\n",
       "    <tr>\n",
       "      <th>4</th>\n",
       "      <td>8424</td>\n",
       "      <td>463</td>\n",
       "      <td>0</td>\n",
       "      <td>Broccoli Crown</td>\n",
       "      <td>83</td>\n",
       "      <td>4</td>\n",
       "      <td>1493300</td>\n",
       "    </tr>\n",
       "  </tbody>\n",
       "</table>\n",
       "</div>"
      ],
      "text/plain": [
       "   product_id  user_id  prediction    product_name  aisle_id  department_id  \\\n",
       "0        8424        6           0  Broccoli Crown        83              4   \n",
       "1        8424       94           0  Broccoli Crown        83              4   \n",
       "2        8424      381           0  Broccoli Crown        83              4   \n",
       "3        8424      450           0  Broccoli Crown        83              4   \n",
       "4        8424      463           0  Broccoli Crown        83              4   \n",
       "\n",
       "   order_id  \n",
       "0   1528013  \n",
       "1    622677  \n",
       "2   1185710  \n",
       "3   2730481  \n",
       "4   1493300  "
      ]
     },
     "execution_count": 151,
     "metadata": {},
     "output_type": "execute_result"
    }
   ],
   "source": [
    "final1 = final1.merge(order_test, on  = 'user_id', how = 'left')\n",
    "final1.head()"
   ]
  },
  {
   "cell_type": "code",
   "execution_count": 152,
   "id": "7e2be1f9",
   "metadata": {
    "execution": {
     "iopub.execute_input": "2022-11-20T06:28:37.427159Z",
     "iopub.status.busy": "2022-11-20T06:28:37.426664Z",
     "iopub.status.idle": "2022-11-20T06:28:37.565395Z",
     "shell.execute_reply": "2022-11-20T06:28:37.564044Z"
    },
    "papermill": {
     "duration": 0.220786,
     "end_time": "2022-11-20T06:28:37.568295",
     "exception": false,
     "start_time": "2022-11-20T06:28:37.347509",
     "status": "completed"
    },
    "tags": []
   },
   "outputs": [],
   "source": [
    "final1 = final1.drop(['user_id', 'aisle_id', 'department_id'], axis = 1)"
   ]
  },
  {
   "cell_type": "code",
   "execution_count": 153,
   "id": "c7a9a8f5",
   "metadata": {
    "execution": {
     "iopub.execute_input": "2022-11-20T06:28:37.726676Z",
     "iopub.status.busy": "2022-11-20T06:28:37.726249Z",
     "iopub.status.idle": "2022-11-20T06:28:37.738160Z",
     "shell.execute_reply": "2022-11-20T06:28:37.736694Z"
    },
    "papermill": {
     "duration": 0.093741,
     "end_time": "2022-11-20T06:28:37.741100",
     "exception": false,
     "start_time": "2022-11-20T06:28:37.647359",
     "status": "completed"
    },
    "tags": []
   },
   "outputs": [],
   "source": [
    "final1['product_id'] = final1.product_id.astype(int)"
   ]
  },
  {
   "cell_type": "code",
   "execution_count": 154,
   "id": "993f81d9",
   "metadata": {
    "execution": {
     "iopub.execute_input": "2022-11-20T06:28:37.897638Z",
     "iopub.status.busy": "2022-11-20T06:28:37.897237Z",
     "iopub.status.idle": "2022-11-20T06:28:37.902662Z",
     "shell.execute_reply": "2022-11-20T06:28:37.901432Z"
    },
    "papermill": {
     "duration": 0.086683,
     "end_time": "2022-11-20T06:28:37.904976",
     "exception": false,
     "start_time": "2022-11-20T06:28:37.818293",
     "status": "completed"
    },
    "tags": []
   },
   "outputs": [],
   "source": [
    "del order_test"
   ]
  },
  {
   "cell_type": "code",
   "execution_count": 155,
   "id": "6ba349f5",
   "metadata": {
    "execution": {
     "iopub.execute_input": "2022-11-20T06:28:38.064303Z",
     "iopub.status.busy": "2022-11-20T06:28:38.063469Z",
     "iopub.status.idle": "2022-11-20T06:28:38.194611Z",
     "shell.execute_reply": "2022-11-20T06:28:38.193413Z"
    },
    "papermill": {
     "duration": 0.212771,
     "end_time": "2022-11-20T06:28:38.197403",
     "exception": false,
     "start_time": "2022-11-20T06:28:37.984632",
     "status": "completed"
    },
    "tags": []
   },
   "outputs": [
    {
     "data": {
      "text/plain": [
       "189"
      ]
     },
     "execution_count": 155,
     "metadata": {},
     "output_type": "execute_result"
    }
   ],
   "source": [
    "gc.collect()"
   ]
  },
  {
   "cell_type": "code",
   "execution_count": 156,
   "id": "1b022228",
   "metadata": {
    "execution": {
     "iopub.execute_input": "2022-11-20T06:28:38.356147Z",
     "iopub.status.busy": "2022-11-20T06:28:38.355721Z",
     "iopub.status.idle": "2022-11-20T06:28:38.367903Z",
     "shell.execute_reply": "2022-11-20T06:28:38.366903Z"
    },
    "papermill": {
     "duration": 0.095321,
     "end_time": "2022-11-20T06:28:38.370312",
     "exception": false,
     "start_time": "2022-11-20T06:28:38.274991",
     "status": "completed"
    },
    "tags": []
   },
   "outputs": [
    {
     "data": {
      "text/html": [
       "<div>\n",
       "<style scoped>\n",
       "    .dataframe tbody tr th:only-of-type {\n",
       "        vertical-align: middle;\n",
       "    }\n",
       "\n",
       "    .dataframe tbody tr th {\n",
       "        vertical-align: top;\n",
       "    }\n",
       "\n",
       "    .dataframe thead th {\n",
       "        text-align: right;\n",
       "    }\n",
       "</style>\n",
       "<table border=\"1\" class=\"dataframe\">\n",
       "  <thead>\n",
       "    <tr style=\"text-align: right;\">\n",
       "      <th></th>\n",
       "      <th>product_id</th>\n",
       "      <th>prediction</th>\n",
       "      <th>product_name</th>\n",
       "      <th>order_id</th>\n",
       "    </tr>\n",
       "  </thead>\n",
       "  <tbody>\n",
       "    <tr>\n",
       "      <th>0</th>\n",
       "      <td>8424</td>\n",
       "      <td>0</td>\n",
       "      <td>Broccoli Crown</td>\n",
       "      <td>1528013</td>\n",
       "    </tr>\n",
       "    <tr>\n",
       "      <th>1</th>\n",
       "      <td>8424</td>\n",
       "      <td>0</td>\n",
       "      <td>Broccoli Crown</td>\n",
       "      <td>622677</td>\n",
       "    </tr>\n",
       "    <tr>\n",
       "      <th>2</th>\n",
       "      <td>8424</td>\n",
       "      <td>0</td>\n",
       "      <td>Broccoli Crown</td>\n",
       "      <td>1185710</td>\n",
       "    </tr>\n",
       "    <tr>\n",
       "      <th>3</th>\n",
       "      <td>8424</td>\n",
       "      <td>0</td>\n",
       "      <td>Broccoli Crown</td>\n",
       "      <td>2730481</td>\n",
       "    </tr>\n",
       "    <tr>\n",
       "      <th>4</th>\n",
       "      <td>8424</td>\n",
       "      <td>0</td>\n",
       "      <td>Broccoli Crown</td>\n",
       "      <td>1493300</td>\n",
       "    </tr>\n",
       "  </tbody>\n",
       "</table>\n",
       "</div>"
      ],
      "text/plain": [
       "   product_id  prediction    product_name  order_id\n",
       "0        8424           0  Broccoli Crown   1528013\n",
       "1        8424           0  Broccoli Crown    622677\n",
       "2        8424           0  Broccoli Crown   1185710\n",
       "3        8424           0  Broccoli Crown   2730481\n",
       "4        8424           0  Broccoli Crown   1493300"
      ]
     },
     "execution_count": 156,
     "metadata": {},
     "output_type": "execute_result"
    }
   ],
   "source": [
    "final1.head()"
   ]
  },
  {
   "cell_type": "code",
   "execution_count": 157,
   "id": "70ec6e4e",
   "metadata": {
    "execution": {
     "iopub.execute_input": "2022-11-20T06:28:38.530463Z",
     "iopub.status.busy": "2022-11-20T06:28:38.530038Z",
     "iopub.status.idle": "2022-11-20T06:28:40.977684Z",
     "shell.execute_reply": "2022-11-20T06:28:40.976650Z"
    },
    "papermill": {
     "duration": 2.532471,
     "end_time": "2022-11-20T06:28:40.980417",
     "exception": false,
     "start_time": "2022-11-20T06:28:38.447946",
     "status": "completed"
    },
    "tags": []
   },
   "outputs": [],
   "source": [
    "# In this dictionary we will place as index the order_id and as values all the product name and id that the order will have\n",
    "d = dict()\n",
    "for row in final1.itertuples():\n",
    "    if row.prediction == 1:\n",
    "        try:\n",
    "            d[row.order_id] += ' ' + str(row.product_id) + ' ' +  str(row.product_name)\n",
    "        except:\n",
    "            d[row.order_id] = str(row.product_id) + ' ' + str(row.product_name)\n",
    "\n",
    "for order in final1.order_id:\n",
    "    if order not in d:\n",
    "        d[order] = 'None'"
   ]
  },
  {
   "cell_type": "code",
   "execution_count": 158,
   "id": "b502ddc7",
   "metadata": {
    "execution": {
     "iopub.execute_input": "2022-11-20T06:28:41.141305Z",
     "iopub.status.busy": "2022-11-20T06:28:41.140502Z",
     "iopub.status.idle": "2022-11-20T06:28:41.270725Z",
     "shell.execute_reply": "2022-11-20T06:28:41.269875Z"
    },
    "papermill": {
     "duration": 0.21361,
     "end_time": "2022-11-20T06:28:41.273304",
     "exception": false,
     "start_time": "2022-11-20T06:28:41.059694",
     "status": "completed"
    },
    "tags": []
   },
   "outputs": [
    {
     "data": {
      "text/plain": [
       "88"
      ]
     },
     "execution_count": 158,
     "metadata": {},
     "output_type": "execute_result"
    }
   ],
   "source": [
    "gc.collect()"
   ]
  },
  {
   "cell_type": "code",
   "execution_count": 159,
   "id": "0ef8690e",
   "metadata": {
    "execution": {
     "iopub.execute_input": "2022-11-20T06:28:41.436078Z",
     "iopub.status.busy": "2022-11-20T06:28:41.435086Z",
     "iopub.status.idle": "2022-11-20T06:28:41.450429Z",
     "shell.execute_reply": "2022-11-20T06:28:41.448567Z"
    },
    "papermill": {
     "duration": 0.097767,
     "end_time": "2022-11-20T06:28:41.452921",
     "exception": false,
     "start_time": "2022-11-20T06:28:41.355154",
     "status": "completed"
    },
    "tags": []
   },
   "outputs": [
    {
     "name": "stdout",
     "output_type": "stream",
     "text": [
      "[(1176544,\n",
      "  '8424 Broccoli Crown 34969 Red Vine Tomato 20842 Total 0% Greek Yogurt 11494 '\n",
      "  'Cookie Dough Ice Cream Chocolate Chip 7035 Peanut Butter Ice Cream Cup '\n",
      "  '16710 Non Dairy Coffee Caramel Fudge 20285 Non Dairy Choc Fudge Brownie '\n",
      "  \"36029 S'mores Ice Cream\"),\n",
      " (1543051,\n",
      "  '8424 Broccoli Crown 13176 Bag of Organic Bananas 33198 Sparkling Natural '\n",
      "  'Mineral Water 16589 Plantain Chips 11784 Duck Eggs'),\n",
      " (2362483,\n",
      "  '8424 Broccoli Crown 48679 Organic Garnet Sweet Potato (Yam) 43772 Cherubs '\n",
      "  'Heavenly Salad Tomatoes 21137 Organic Strawberries 11520 Large Alfresco '\n",
      "  'Eggs 27864 Butter Croissant 30391 Organic Cucumber 46979 Asparagus 36746 '\n",
      "  'Authentic French Brioche Rolls 5077 100% Whole Wheat Bread 40174 2% Reduced '\n",
      "  'Fat Organic Milk 27966 Organic Raspberries 24838 Unsweetened Almondmilk '\n",
      "  '27104 Fresh Cauliflower 37067 Organic Banana 9689 Whole Hearts of Palm '\n",
      "  '33120 Organic Egg Whites 5120 Organic Vanilla Soymilk 48857 Authentic '\n",
      "  'French Brioche 42579 Organic Pitted Prunes'),\n",
      " (1005664,\n",
      "  '8424 Broccoli Crown 21903 Organic Baby Spinach 21137 Organic Strawberries '\n",
      "  '13176 Bag of Organic Bananas 21386 Smartwater 44303 Organic Shredded '\n",
      "  'Unsweetened Coconut 14870 Icelandic Style Fat Free Plain Yogurt'),\n",
      " (3312403,\n",
      "  '8424 Broccoli Crown 38293 Ground Turkey Breast 47766 Organic Avocado 5322 '\n",
      "  'Gluten Free Dark Chocolate Chunk Chewy with a Crunch Granola Bars 22935 '\n",
      "  'Organic Yellow Onion 28849 No Salt Added Black Beans 38273 Marinara Pasta '\n",
      "  'Sauce 39190 Vanilla Unsweetened Almond Milk 27104 Fresh Cauliflower 17461 '\n",
      "  'Air Chilled Organic Boneless Skinless Chicken Breasts 42244 Total 2% All '\n",
      "  'Natural Low Fat 2% Milkfat Greek Strained Yogurt 33352 Organic Kale Greens')]\n"
     ]
    }
   ],
   "source": [
    "from pprint import pprint\n",
    "k = list(d.items())[:5]\n",
    "pprint(k)"
   ]
  },
  {
   "cell_type": "code",
   "execution_count": 160,
   "id": "0b5c3779",
   "metadata": {
    "execution": {
     "iopub.execute_input": "2022-11-20T06:28:41.613990Z",
     "iopub.status.busy": "2022-11-20T06:28:41.613555Z",
     "iopub.status.idle": "2022-11-20T06:28:41.634330Z",
     "shell.execute_reply": "2022-11-20T06:28:41.633353Z"
    },
    "papermill": {
     "duration": 0.104874,
     "end_time": "2022-11-20T06:28:41.636872",
     "exception": false,
     "start_time": "2022-11-20T06:28:41.531998",
     "status": "completed"
    },
    "tags": []
   },
   "outputs": [],
   "source": [
    "sub = pd.DataFrame.from_dict(d, orient = 'index')\n",
    "sub.reset_index(inplace = True)"
   ]
  },
  {
   "cell_type": "code",
   "execution_count": 161,
   "id": "4174bf2d",
   "metadata": {
    "execution": {
     "iopub.execute_input": "2022-11-20T06:28:41.798457Z",
     "iopub.status.busy": "2022-11-20T06:28:41.798023Z",
     "iopub.status.idle": "2022-11-20T06:28:41.803276Z",
     "shell.execute_reply": "2022-11-20T06:28:41.801927Z"
    },
    "papermill": {
     "duration": 0.089482,
     "end_time": "2022-11-20T06:28:41.805654",
     "exception": false,
     "start_time": "2022-11-20T06:28:41.716172",
     "status": "completed"
    },
    "tags": []
   },
   "outputs": [],
   "source": [
    "sub.columns = ['order_id', 'product']"
   ]
  },
  {
   "cell_type": "code",
   "execution_count": 162,
   "id": "08df07ce",
   "metadata": {
    "execution": {
     "iopub.execute_input": "2022-11-20T06:28:41.963864Z",
     "iopub.status.busy": "2022-11-20T06:28:41.963474Z",
     "iopub.status.idle": "2022-11-20T06:28:41.973513Z",
     "shell.execute_reply": "2022-11-20T06:28:41.972594Z"
    },
    "papermill": {
     "duration": 0.09192,
     "end_time": "2022-11-20T06:28:41.975607",
     "exception": false,
     "start_time": "2022-11-20T06:28:41.883687",
     "status": "completed"
    },
    "tags": []
   },
   "outputs": [
    {
     "data": {
      "text/html": [
       "<div>\n",
       "<style scoped>\n",
       "    .dataframe tbody tr th:only-of-type {\n",
       "        vertical-align: middle;\n",
       "    }\n",
       "\n",
       "    .dataframe tbody tr th {\n",
       "        vertical-align: top;\n",
       "    }\n",
       "\n",
       "    .dataframe thead th {\n",
       "        text-align: right;\n",
       "    }\n",
       "</style>\n",
       "<table border=\"1\" class=\"dataframe\">\n",
       "  <thead>\n",
       "    <tr style=\"text-align: right;\">\n",
       "      <th></th>\n",
       "      <th>order_id</th>\n",
       "      <th>product</th>\n",
       "    </tr>\n",
       "  </thead>\n",
       "  <tbody>\n",
       "    <tr>\n",
       "      <th>0</th>\n",
       "      <td>1176544</td>\n",
       "      <td>8424 Broccoli Crown 34969 Red Vine Tomato 2084...</td>\n",
       "    </tr>\n",
       "    <tr>\n",
       "      <th>1</th>\n",
       "      <td>1543051</td>\n",
       "      <td>8424 Broccoli Crown 13176 Bag of Organic Banan...</td>\n",
       "    </tr>\n",
       "    <tr>\n",
       "      <th>2</th>\n",
       "      <td>2362483</td>\n",
       "      <td>8424 Broccoli Crown 48679 Organic Garnet Sweet...</td>\n",
       "    </tr>\n",
       "    <tr>\n",
       "      <th>3</th>\n",
       "      <td>1005664</td>\n",
       "      <td>8424 Broccoli Crown 21903 Organic Baby Spinach...</td>\n",
       "    </tr>\n",
       "    <tr>\n",
       "      <th>4</th>\n",
       "      <td>3312403</td>\n",
       "      <td>8424 Broccoli Crown 38293 Ground Turkey Breast...</td>\n",
       "    </tr>\n",
       "    <tr>\n",
       "      <th>5</th>\n",
       "      <td>2436525</td>\n",
       "      <td>8424 Broccoli Crown 45007 Organic Zucchini 107...</td>\n",
       "    </tr>\n",
       "    <tr>\n",
       "      <th>6</th>\n",
       "      <td>2867048</td>\n",
       "      <td>8424 Broccoli Crown 38293 Ground Turkey Breast...</td>\n",
       "    </tr>\n",
       "    <tr>\n",
       "      <th>7</th>\n",
       "      <td>3409639</td>\n",
       "      <td>8424 Broccoli Crown 21903 Organic Baby Spinach...</td>\n",
       "    </tr>\n",
       "    <tr>\n",
       "      <th>8</th>\n",
       "      <td>3367740</td>\n",
       "      <td>8424 Broccoli Crown 6287 Organic &amp; Raw Strawbe...</td>\n",
       "    </tr>\n",
       "    <tr>\n",
       "      <th>9</th>\n",
       "      <td>2935339</td>\n",
       "      <td>8424 Broccoli Crown 24852 Banana 26209 Limes 4...</td>\n",
       "    </tr>\n",
       "  </tbody>\n",
       "</table>\n",
       "</div>"
      ],
      "text/plain": [
       "   order_id                                            product\n",
       "0   1176544  8424 Broccoli Crown 34969 Red Vine Tomato 2084...\n",
       "1   1543051  8424 Broccoli Crown 13176 Bag of Organic Banan...\n",
       "2   2362483  8424 Broccoli Crown 48679 Organic Garnet Sweet...\n",
       "3   1005664  8424 Broccoli Crown 21903 Organic Baby Spinach...\n",
       "4   3312403  8424 Broccoli Crown 38293 Ground Turkey Breast...\n",
       "5   2436525  8424 Broccoli Crown 45007 Organic Zucchini 107...\n",
       "6   2867048  8424 Broccoli Crown 38293 Ground Turkey Breast...\n",
       "7   3409639  8424 Broccoli Crown 21903 Organic Baby Spinach...\n",
       "8   3367740  8424 Broccoli Crown 6287 Organic & Raw Strawbe...\n",
       "9   2935339  8424 Broccoli Crown 24852 Banana 26209 Limes 4..."
      ]
     },
     "execution_count": 162,
     "metadata": {},
     "output_type": "execute_result"
    }
   ],
   "source": [
    "sub.head(10)"
   ]
  },
  {
   "cell_type": "markdown",
   "id": "4085d7de",
   "metadata": {
    "papermill": {
     "duration": 0.079237,
     "end_time": "2022-11-20T06:28:42.133886",
     "exception": false,
     "start_time": "2022-11-20T06:28:42.054649",
     "status": "completed"
    },
    "tags": []
   },
   "source": [
    "# Plotting curve for Overfitting/Underfitting"
   ]
  },
  {
   "cell_type": "code",
   "execution_count": 163,
   "id": "f01c510a",
   "metadata": {
    "execution": {
     "iopub.execute_input": "2022-11-20T06:28:42.292754Z",
     "iopub.status.busy": "2022-11-20T06:28:42.291577Z",
     "iopub.status.idle": "2022-11-20T06:28:43.302037Z",
     "shell.execute_reply": "2022-11-20T06:28:43.300387Z"
    },
    "papermill": {
     "duration": 1.092511,
     "end_time": "2022-11-20T06:28:43.304805",
     "exception": false,
     "start_time": "2022-11-20T06:28:42.212294",
     "status": "completed"
    },
    "tags": []
   },
   "outputs": [],
   "source": [
    "X_train, X_test, y_train, y_test = train_test_split(data_train.drop('reordered', axis=1), data_train.reordered, test_size=0.75, random_state=101)\n",
    "train_scores, test_scores = list(), list()"
   ]
  },
  {
   "cell_type": "code",
   "execution_count": 164,
   "id": "ef015f74",
   "metadata": {
    "execution": {
     "iopub.execute_input": "2022-11-20T06:28:43.468657Z",
     "iopub.status.busy": "2022-11-20T06:28:43.467904Z",
     "iopub.status.idle": "2022-11-20T06:50:01.450159Z",
     "shell.execute_reply": "2022-11-20T06:50:01.448728Z"
    },
    "papermill": {
     "duration": 1278.149491,
     "end_time": "2022-11-20T06:50:01.536030",
     "exception": false,
     "start_time": "2022-11-20T06:28:43.386539",
     "status": "completed"
    },
    "tags": []
   },
   "outputs": [
    {
     "name": "stdout",
     "output_type": "stream",
     "text": [
      ">5, train: 0.9090, test: 0.9084\n",
      ">10, train: 0.9090, test: 0.9085\n",
      ">15, train: 0.9091, test: 0.9085\n",
      ">20, train: 0.9092, test: 0.9085\n",
      ">25, train: 0.9093, test: 0.9085\n",
      ">30, train: 0.9092, test: 0.9085\n",
      ">35, train: 0.9093, test: 0.9086\n",
      ">40, train: 0.9093, test: 0.9086\n",
      ">45, train: 0.9092, test: 0.9085\n",
      ">50, train: 0.9094, test: 0.9086\n",
      ">55, train: 0.9093, test: 0.9086\n",
      ">60, train: 0.9093, test: 0.9086\n",
      ">65, train: 0.9093, test: 0.9086\n",
      ">70, train: 0.9093, test: 0.9086\n",
      ">75, train: 0.9093, test: 0.9086\n",
      ">80, train: 0.9093, test: 0.9086\n",
      ">85, train: 0.9093, test: 0.9086\n",
      ">90, train: 0.9093, test: 0.9086\n",
      ">95, train: 0.9094, test: 0.9086\n"
     ]
    }
   ],
   "source": [
    "# Under/Over fitting\n",
    "\n",
    "values = [i for i in range(5, 100, 5)]\n",
    "\n",
    "for i in values:\n",
    "\tmodel = RandomForestClassifier(n_estimators=i, max_features = 2, max_depth = 7)\n",
    "\tmodel.fit(X_train, y_train)\n",
    "\ttrain_yhat = model.predict(X_train)\n",
    "\ttrain_acc = accuracy_score(y_train, train_yhat)\n",
    "\ttrain_scores.append(train_acc)\n",
    "\ttest_yhat = model.predict(X_test)\n",
    "\ttest_acc = accuracy_score(y_test, test_yhat)\n",
    "\ttest_scores.append(test_acc)\n",
    "\tprint('>%d, train: %.4f, test: %.4f' % (i, train_acc, test_acc))"
   ]
  },
  {
   "cell_type": "code",
   "execution_count": 165,
   "id": "0045ff0f",
   "metadata": {
    "execution": {
     "iopub.execute_input": "2022-11-20T06:50:01.767858Z",
     "iopub.status.busy": "2022-11-20T06:50:01.767461Z",
     "iopub.status.idle": "2022-11-20T06:50:01.980771Z",
     "shell.execute_reply": "2022-11-20T06:50:01.979834Z"
    },
    "papermill": {
     "duration": 0.297752,
     "end_time": "2022-11-20T06:50:01.983270",
     "exception": false,
     "start_time": "2022-11-20T06:50:01.685518",
     "status": "completed"
    },
    "tags": []
   },
   "outputs": [
    {
     "data": {
      "image/png": "[encoded data removed]",
      "text/plain": [
       "<Figure size 432x288 with 1 Axes>"
      ]
     },
     "metadata": {
      "needs_background": "light"
     },
     "output_type": "display_data"
    }
   ],
   "source": [
    "# plotting the graph between train and test dataframes\n",
    "pyplot.plot(values, train_scores, '-o', label='Train')\n",
    "pyplot.plot(values, test_scores, '-o', label='Test')\n",
    "pyplot.legend()\n",
    "pyplot.show()"
   ]
  },
  {
   "cell_type": "markdown",
   "id": "749f5acd",
   "metadata": {
    "papermill": {
     "duration": 0.080048,
     "end_time": "2022-11-20T06:50:02.142768",
     "exception": false,
     "start_time": "2022-11-20T06:50:02.062720",
     "status": "completed"
    },
    "tags": []
   },
   "source": [
    "The plot clearly shows that increasing the number of estimators in the early stages results in a corresponding improvement in both train and test sets.\n",
    "\n",
    "This continues until a depth of around 30 levels, after which the model is shown to underfit the training dataset "
   ]
  },
  {
   "cell_type": "markdown",
   "id": "b92dfae2",
   "metadata": {
    "papermill": {
     "duration": 0.080344,
     "end_time": "2022-11-20T06:50:02.303086",
     "exception": false,
     "start_time": "2022-11-20T06:50:02.222742",
     "status": "completed"
    },
    "tags": []
   },
   "source": [
    "# Logistic Regression"
   ]
  },
  {
   "cell_type": "code",
   "execution_count": 166,
   "id": "67e21e59",
   "metadata": {
    "execution": {
     "iopub.execute_input": "2022-11-20T06:50:02.465880Z",
     "iopub.status.busy": "2022-11-20T06:50:02.465394Z",
     "iopub.status.idle": "2022-11-20T06:50:02.470377Z",
     "shell.execute_reply": "2022-11-20T06:50:02.469056Z"
    },
    "papermill": {
     "duration": 0.088324,
     "end_time": "2022-11-20T06:50:02.472888",
     "exception": false,
     "start_time": "2022-11-20T06:50:02.384564",
     "status": "completed"
    },
    "tags": []
   },
   "outputs": [],
   "source": [
    "# scaling the data\n",
    "from sklearn.preprocessing import MinMaxScaler"
   ]
  },
  {
   "cell_type": "code",
   "execution_count": 167,
   "id": "45dd9f39",
   "metadata": {
    "execution": {
     "iopub.execute_input": "2022-11-20T06:50:02.634668Z",
     "iopub.status.busy": "2022-11-20T06:50:02.634233Z",
     "iopub.status.idle": "2022-11-20T06:50:02.639416Z",
     "shell.execute_reply": "2022-11-20T06:50:02.638005Z"
    },
    "papermill": {
     "duration": 0.089172,
     "end_time": "2022-11-20T06:50:02.642031",
     "exception": false,
     "start_time": "2022-11-20T06:50:02.552859",
     "status": "completed"
    },
    "tags": []
   },
   "outputs": [],
   "source": [
    "#Logistic Regression with cross-validation\n",
    "from sklearn.linear_model import LogisticRegressionCV"
   ]
  },
  {
   "cell_type": "code",
   "execution_count": 168,
   "id": "90fd3933",
   "metadata": {
    "execution": {
     "iopub.execute_input": "2022-11-20T06:50:02.812761Z",
     "iopub.status.busy": "2022-11-20T06:50:02.812293Z",
     "iopub.status.idle": "2022-11-20T06:50:03.773847Z",
     "shell.execute_reply": "2022-11-20T06:50:03.772835Z"
    },
    "papermill": {
     "duration": 1.049674,
     "end_time": "2022-11-20T06:50:03.776531",
     "exception": false,
     "start_time": "2022-11-20T06:50:02.726857",
     "status": "completed"
    },
    "tags": []
   },
   "outputs": [],
   "source": [
    "X_train, X_val, y_train, y_val = train_test_split(data_train.drop('reordered', axis=1), data_train.reordered, test_size=0.8, random_state=42)"
   ]
  },
  {
   "cell_type": "code",
   "execution_count": 169,
   "id": "dbee250b",
   "metadata": {
    "execution": {
     "iopub.execute_input": "2022-11-20T06:50:03.940158Z",
     "iopub.status.busy": "2022-11-20T06:50:03.939402Z",
     "iopub.status.idle": "2022-11-20T06:50:03.943807Z",
     "shell.execute_reply": "2022-11-20T06:50:03.942910Z"
    },
    "papermill": {
     "duration": 0.089189,
     "end_time": "2022-11-20T06:50:03.945991",
     "exception": false,
     "start_time": "2022-11-20T06:50:03.856802",
     "status": "completed"
    },
    "tags": []
   },
   "outputs": [],
   "source": [
    "scaler = MinMaxScaler()"
   ]
  },
  {
   "cell_type": "code",
   "execution_count": 170,
   "id": "96a2aa6f",
   "metadata": {
    "execution": {
     "iopub.execute_input": "2022-11-20T06:50:04.107726Z",
     "iopub.status.busy": "2022-11-20T06:50:04.106991Z",
     "iopub.status.idle": "2022-11-20T06:50:04.346618Z",
     "shell.execute_reply": "2022-11-20T06:50:04.345488Z"
    },
    "papermill": {
     "duration": 0.323693,
     "end_time": "2022-11-20T06:50:04.349283",
     "exception": false,
     "start_time": "2022-11-20T06:50:04.025590",
     "status": "completed"
    },
    "tags": []
   },
   "outputs": [],
   "source": [
    "# fit_transform the training set\n",
    "# transform the test set as we predict based on the test set\n",
    "scaled_X_train = scaler.fit_transform(X_train)\n",
    "scaled_X_test = scaler.transform(X_test)"
   ]
  },
  {
   "cell_type": "code",
   "execution_count": 171,
   "id": "27f648b8",
   "metadata": {
    "execution": {
     "iopub.execute_input": "2022-11-20T06:50:04.511242Z",
     "iopub.status.busy": "2022-11-20T06:50:04.510757Z",
     "iopub.status.idle": "2022-11-20T06:50:04.515761Z",
     "shell.execute_reply": "2022-11-20T06:50:04.514899Z"
    },
    "papermill": {
     "duration": 0.088574,
     "end_time": "2022-11-20T06:50:04.517766",
     "exception": false,
     "start_time": "2022-11-20T06:50:04.429192",
     "status": "completed"
    },
    "tags": []
   },
   "outputs": [],
   "source": [
    "log_model = LogisticRegressionCV(Cs = 10, cv = 3, random_state = 101)"
   ]
  },
  {
   "cell_type": "code",
   "execution_count": 172,
   "id": "348a2f1c",
   "metadata": {
    "execution": {
     "iopub.execute_input": "2022-11-20T06:50:04.683392Z",
     "iopub.status.busy": "2022-11-20T06:50:04.682956Z",
     "iopub.status.idle": "2022-11-20T06:50:27.046857Z",
     "shell.execute_reply": "2022-11-20T06:50:27.045179Z"
    },
    "papermill": {
     "duration": 22.451035,
     "end_time": "2022-11-20T06:50:27.050975",
     "exception": false,
     "start_time": "2022-11-20T06:50:04.599940",
     "status": "completed"
    },
    "tags": []
   },
   "outputs": [
    {
     "data": {
      "text/plain": [
       "LogisticRegressionCV(cv=3, random_state=101)"
      ]
     },
     "execution_count": 172,
     "metadata": {},
     "output_type": "execute_result"
    }
   ],
   "source": [
    "# fitting the model \n",
    "log_model.fit(scaled_X_train,y_train)"
   ]
  },
  {
   "cell_type": "code",
   "execution_count": 173,
   "id": "25f687ed",
   "metadata": {
    "execution": {
     "iopub.execute_input": "2022-11-20T06:50:27.281623Z",
     "iopub.status.busy": "2022-11-20T06:50:27.281170Z",
     "iopub.status.idle": "2022-11-20T06:50:27.425828Z",
     "shell.execute_reply": "2022-11-20T06:50:27.424750Z"
    },
    "papermill": {
     "duration": 0.228162,
     "end_time": "2022-11-20T06:50:27.427996",
     "exception": false,
     "start_time": "2022-11-20T06:50:27.199834",
     "status": "completed"
    },
    "tags": []
   },
   "outputs": [
    {
     "data": {
      "text/plain": [
       "3680"
      ]
     },
     "execution_count": 173,
     "metadata": {},
     "output_type": "execute_result"
    }
   ],
   "source": [
    "gc.collect()"
   ]
  },
  {
   "cell_type": "code",
   "execution_count": 174,
   "id": "0192251e",
   "metadata": {
    "execution": {
     "iopub.execute_input": "2022-11-20T06:50:27.593395Z",
     "iopub.status.busy": "2022-11-20T06:50:27.591956Z",
     "iopub.status.idle": "2022-11-20T06:50:27.709497Z",
     "shell.execute_reply": "2022-11-20T06:50:27.708359Z"
    },
    "papermill": {
     "duration": 0.203667,
     "end_time": "2022-11-20T06:50:27.712657",
     "exception": false,
     "start_time": "2022-11-20T06:50:27.508990",
     "status": "completed"
    },
    "tags": []
   },
   "outputs": [],
   "source": [
    "data_test2 = data[data.eval_set == 'test']"
   ]
  },
  {
   "cell_type": "code",
   "execution_count": 175,
   "id": "c40b2d34",
   "metadata": {
    "execution": {
     "iopub.execute_input": "2022-11-20T06:50:27.878356Z",
     "iopub.status.busy": "2022-11-20T06:50:27.877879Z",
     "iopub.status.idle": "2022-11-20T06:50:27.893471Z",
     "shell.execute_reply": "2022-11-20T06:50:27.892673Z"
    },
    "papermill": {
     "duration": 0.102811,
     "end_time": "2022-11-20T06:50:27.896121",
     "exception": false,
     "start_time": "2022-11-20T06:50:27.793310",
     "status": "completed"
    },
    "tags": []
   },
   "outputs": [
    {
     "data": {
      "text/html": [
       "<div>\n",
       "<style scoped>\n",
       "    .dataframe tbody tr th:only-of-type {\n",
       "        vertical-align: middle;\n",
       "    }\n",
       "\n",
       "    .dataframe tbody tr th {\n",
       "        vertical-align: top;\n",
       "    }\n",
       "\n",
       "    .dataframe thead th {\n",
       "        text-align: right;\n",
       "    }\n",
       "</style>\n",
       "<table border=\"1\" class=\"dataframe\">\n",
       "  <thead>\n",
       "    <tr style=\"text-align: right;\">\n",
       "      <th></th>\n",
       "      <th>user_id</th>\n",
       "      <th>product_id</th>\n",
       "      <th>user_product_total</th>\n",
       "      <th>user_reorder_ratio</th>\n",
       "      <th>times_last_5</th>\n",
       "      <th>user_total_orders</th>\n",
       "      <th>user_reordered_ratio</th>\n",
       "      <th>product_total_purchase</th>\n",
       "      <th>product_reorder_ratio</th>\n",
       "      <th>eval_set</th>\n",
       "      <th>order_id</th>\n",
       "    </tr>\n",
       "  </thead>\n",
       "  <tbody>\n",
       "    <tr>\n",
       "      <th>0</th>\n",
       "      <td>6</td>\n",
       "      <td>8424</td>\n",
       "      <td>1</td>\n",
       "      <td>1.000000</td>\n",
       "      <td>1.0</td>\n",
       "      <td>3</td>\n",
       "      <td>0.142857</td>\n",
       "      <td>12292</td>\n",
       "      <td>0.650504</td>\n",
       "      <td>test</td>\n",
       "      <td>1528013</td>\n",
       "    </tr>\n",
       "    <tr>\n",
       "      <th>1</th>\n",
       "      <td>6</td>\n",
       "      <td>10644</td>\n",
       "      <td>1</td>\n",
       "      <td>0.500000</td>\n",
       "      <td>1.0</td>\n",
       "      <td>3</td>\n",
       "      <td>0.142857</td>\n",
       "      <td>3631</td>\n",
       "      <td>0.416690</td>\n",
       "      <td>test</td>\n",
       "      <td>1528013</td>\n",
       "    </tr>\n",
       "    <tr>\n",
       "      <th>2</th>\n",
       "      <td>6</td>\n",
       "      <td>11068</td>\n",
       "      <td>1</td>\n",
       "      <td>0.500000</td>\n",
       "      <td>1.0</td>\n",
       "      <td>3</td>\n",
       "      <td>0.142857</td>\n",
       "      <td>3069</td>\n",
       "      <td>0.584881</td>\n",
       "      <td>test</td>\n",
       "      <td>1528013</td>\n",
       "    </tr>\n",
       "    <tr>\n",
       "      <th>3</th>\n",
       "      <td>6</td>\n",
       "      <td>20323</td>\n",
       "      <td>1</td>\n",
       "      <td>0.500000</td>\n",
       "      <td>1.0</td>\n",
       "      <td>3</td>\n",
       "      <td>0.142857</td>\n",
       "      <td>695</td>\n",
       "      <td>0.532374</td>\n",
       "      <td>test</td>\n",
       "      <td>1528013</td>\n",
       "    </tr>\n",
       "    <tr>\n",
       "      <th>4</th>\n",
       "      <td>6</td>\n",
       "      <td>21903</td>\n",
       "      <td>2</td>\n",
       "      <td>0.666667</td>\n",
       "      <td>2.0</td>\n",
       "      <td>3</td>\n",
       "      <td>0.142857</td>\n",
       "      <td>73243</td>\n",
       "      <td>0.773808</td>\n",
       "      <td>test</td>\n",
       "      <td>1528013</td>\n",
       "    </tr>\n",
       "  </tbody>\n",
       "</table>\n",
       "</div>"
      ],
      "text/plain": [
       "   user_id  product_id  user_product_total  user_reorder_ratio  times_last_5  \\\n",
       "0        6        8424                   1            1.000000           1.0   \n",
       "1        6       10644                   1            0.500000           1.0   \n",
       "2        6       11068                   1            0.500000           1.0   \n",
       "3        6       20323                   1            0.500000           1.0   \n",
       "4        6       21903                   2            0.666667           2.0   \n",
       "\n",
       "   user_total_orders  user_reordered_ratio  product_total_purchase  \\\n",
       "0                  3              0.142857                   12292   \n",
       "1                  3              0.142857                    3631   \n",
       "2                  3              0.142857                    3069   \n",
       "3                  3              0.142857                     695   \n",
       "4                  3              0.142857                   73243   \n",
       "\n",
       "   product_reorder_ratio eval_set  order_id  \n",
       "0               0.650504     test   1528013  \n",
       "1               0.416690     test   1528013  \n",
       "2               0.584881     test   1528013  \n",
       "3               0.532374     test   1528013  \n",
       "4               0.773808     test   1528013  "
      ]
     },
     "execution_count": 175,
     "metadata": {},
     "output_type": "execute_result"
    }
   ],
   "source": [
    "data_test2.head()"
   ]
  },
  {
   "cell_type": "code",
   "execution_count": 176,
   "id": "4f629c6a",
   "metadata": {
    "execution": {
     "iopub.execute_input": "2022-11-20T06:50:28.067700Z",
     "iopub.status.busy": "2022-11-20T06:50:28.066466Z",
     "iopub.status.idle": "2022-11-20T06:50:28.294635Z",
     "shell.execute_reply": "2022-11-20T06:50:28.293428Z"
    },
    "papermill": {
     "duration": 0.314212,
     "end_time": "2022-11-20T06:50:28.297227",
     "exception": false,
     "start_time": "2022-11-20T06:50:27.983015",
     "status": "completed"
    },
    "tags": []
   },
   "outputs": [
    {
     "data": {
      "text/html": [
       "<div>\n",
       "<style scoped>\n",
       "    .dataframe tbody tr th:only-of-type {\n",
       "        vertical-align: middle;\n",
       "    }\n",
       "\n",
       "    .dataframe tbody tr th {\n",
       "        vertical-align: top;\n",
       "    }\n",
       "\n",
       "    .dataframe thead th {\n",
       "        text-align: right;\n",
       "    }\n",
       "</style>\n",
       "<table border=\"1\" class=\"dataframe\">\n",
       "  <thead>\n",
       "    <tr style=\"text-align: right;\">\n",
       "      <th></th>\n",
       "      <th></th>\n",
       "      <th>user_product_total</th>\n",
       "      <th>user_reorder_ratio</th>\n",
       "      <th>times_last_5</th>\n",
       "      <th>user_total_orders</th>\n",
       "      <th>user_reordered_ratio</th>\n",
       "      <th>product_total_purchase</th>\n",
       "      <th>product_reorder_ratio</th>\n",
       "      <th>eval_set</th>\n",
       "      <th>order_id</th>\n",
       "    </tr>\n",
       "    <tr>\n",
       "      <th>user_id</th>\n",
       "      <th>product_id</th>\n",
       "      <th></th>\n",
       "      <th></th>\n",
       "      <th></th>\n",
       "      <th></th>\n",
       "      <th></th>\n",
       "      <th></th>\n",
       "      <th></th>\n",
       "      <th></th>\n",
       "      <th></th>\n",
       "    </tr>\n",
       "  </thead>\n",
       "  <tbody>\n",
       "    <tr>\n",
       "      <th rowspan=\"5\" valign=\"top\">6</th>\n",
       "      <th>8424</th>\n",
       "      <td>1</td>\n",
       "      <td>1.000000</td>\n",
       "      <td>1.0</td>\n",
       "      <td>3</td>\n",
       "      <td>0.142857</td>\n",
       "      <td>12292</td>\n",
       "      <td>0.650504</td>\n",
       "      <td>test</td>\n",
       "      <td>1528013</td>\n",
       "    </tr>\n",
       "    <tr>\n",
       "      <th>10644</th>\n",
       "      <td>1</td>\n",
       "      <td>0.500000</td>\n",
       "      <td>1.0</td>\n",
       "      <td>3</td>\n",
       "      <td>0.142857</td>\n",
       "      <td>3631</td>\n",
       "      <td>0.416690</td>\n",
       "      <td>test</td>\n",
       "      <td>1528013</td>\n",
       "    </tr>\n",
       "    <tr>\n",
       "      <th>11068</th>\n",
       "      <td>1</td>\n",
       "      <td>0.500000</td>\n",
       "      <td>1.0</td>\n",
       "      <td>3</td>\n",
       "      <td>0.142857</td>\n",
       "      <td>3069</td>\n",
       "      <td>0.584881</td>\n",
       "      <td>test</td>\n",
       "      <td>1528013</td>\n",
       "    </tr>\n",
       "    <tr>\n",
       "      <th>20323</th>\n",
       "      <td>1</td>\n",
       "      <td>0.500000</td>\n",
       "      <td>1.0</td>\n",
       "      <td>3</td>\n",
       "      <td>0.142857</td>\n",
       "      <td>695</td>\n",
       "      <td>0.532374</td>\n",
       "      <td>test</td>\n",
       "      <td>1528013</td>\n",
       "    </tr>\n",
       "    <tr>\n",
       "      <th>21903</th>\n",
       "      <td>2</td>\n",
       "      <td>0.666667</td>\n",
       "      <td>2.0</td>\n",
       "      <td>3</td>\n",
       "      <td>0.142857</td>\n",
       "      <td>73243</td>\n",
       "      <td>0.773808</td>\n",
       "      <td>test</td>\n",
       "      <td>1528013</td>\n",
       "    </tr>\n",
       "  </tbody>\n",
       "</table>\n",
       "</div>"
      ],
      "text/plain": [
       "                    user_product_total  user_reorder_ratio  times_last_5  \\\n",
       "user_id product_id                                                         \n",
       "6       8424                         1            1.000000           1.0   \n",
       "        10644                        1            0.500000           1.0   \n",
       "        11068                        1            0.500000           1.0   \n",
       "        20323                        1            0.500000           1.0   \n",
       "        21903                        2            0.666667           2.0   \n",
       "\n",
       "                    user_total_orders  user_reordered_ratio  \\\n",
       "user_id product_id                                            \n",
       "6       8424                        3              0.142857   \n",
       "        10644                       3              0.142857   \n",
       "        11068                       3              0.142857   \n",
       "        20323                       3              0.142857   \n",
       "        21903                       3              0.142857   \n",
       "\n",
       "                    product_total_purchase  product_reorder_ratio eval_set  \\\n",
       "user_id product_id                                                           \n",
       "6       8424                         12292               0.650504     test   \n",
       "        10644                         3631               0.416690     test   \n",
       "        11068                         3069               0.584881     test   \n",
       "        20323                          695               0.532374     test   \n",
       "        21903                        73243               0.773808     test   \n",
       "\n",
       "                    order_id  \n",
       "user_id product_id            \n",
       "6       8424         1528013  \n",
       "        10644        1528013  \n",
       "        11068        1528013  \n",
       "        20323        1528013  \n",
       "        21903        1528013  "
      ]
     },
     "execution_count": 176,
     "metadata": {},
     "output_type": "execute_result"
    }
   ],
   "source": [
    "data_test2 = data_test2.set_index(['user_id', 'product_id'])\n",
    "data_test2.head()"
   ]
  },
  {
   "cell_type": "code",
   "execution_count": 177,
   "id": "5b70694b",
   "metadata": {
    "execution": {
     "iopub.execute_input": "2022-11-20T06:50:28.462728Z",
     "iopub.status.busy": "2022-11-20T06:50:28.462325Z",
     "iopub.status.idle": "2022-11-20T06:50:28.608450Z",
     "shell.execute_reply": "2022-11-20T06:50:28.607081Z"
    },
    "papermill": {
     "duration": 0.232407,
     "end_time": "2022-11-20T06:50:28.611278",
     "exception": false,
     "start_time": "2022-11-20T06:50:28.378871",
     "status": "completed"
    },
    "tags": []
   },
   "outputs": [],
   "source": [
    "data_test2 = data_test2.drop(['eval_set', 'order_id'], axis = 1)"
   ]
  },
  {
   "cell_type": "code",
   "execution_count": 178,
   "id": "c9b3ef77",
   "metadata": {
    "execution": {
     "iopub.execute_input": "2022-11-20T06:50:28.775192Z",
     "iopub.status.busy": "2022-11-20T06:50:28.773933Z",
     "iopub.status.idle": "2022-11-20T06:50:28.788586Z",
     "shell.execute_reply": "2022-11-20T06:50:28.787750Z"
    },
    "papermill": {
     "duration": 0.098419,
     "end_time": "2022-11-20T06:50:28.790742",
     "exception": false,
     "start_time": "2022-11-20T06:50:28.692323",
     "status": "completed"
    },
    "tags": []
   },
   "outputs": [
    {
     "data": {
      "text/html": [
       "<div>\n",
       "<style scoped>\n",
       "    .dataframe tbody tr th:only-of-type {\n",
       "        vertical-align: middle;\n",
       "    }\n",
       "\n",
       "    .dataframe tbody tr th {\n",
       "        vertical-align: top;\n",
       "    }\n",
       "\n",
       "    .dataframe thead th {\n",
       "        text-align: right;\n",
       "    }\n",
       "</style>\n",
       "<table border=\"1\" class=\"dataframe\">\n",
       "  <thead>\n",
       "    <tr style=\"text-align: right;\">\n",
       "      <th></th>\n",
       "      <th></th>\n",
       "      <th>user_product_total</th>\n",
       "      <th>user_reorder_ratio</th>\n",
       "      <th>times_last_5</th>\n",
       "      <th>user_total_orders</th>\n",
       "      <th>user_reordered_ratio</th>\n",
       "      <th>product_total_purchase</th>\n",
       "      <th>product_reorder_ratio</th>\n",
       "    </tr>\n",
       "    <tr>\n",
       "      <th>user_id</th>\n",
       "      <th>product_id</th>\n",
       "      <th></th>\n",
       "      <th></th>\n",
       "      <th></th>\n",
       "      <th></th>\n",
       "      <th></th>\n",
       "      <th></th>\n",
       "      <th></th>\n",
       "    </tr>\n",
       "  </thead>\n",
       "  <tbody>\n",
       "    <tr>\n",
       "      <th rowspan=\"5\" valign=\"top\">6</th>\n",
       "      <th>8424</th>\n",
       "      <td>1</td>\n",
       "      <td>1.000000</td>\n",
       "      <td>1.0</td>\n",
       "      <td>3</td>\n",
       "      <td>0.142857</td>\n",
       "      <td>12292</td>\n",
       "      <td>0.650504</td>\n",
       "    </tr>\n",
       "    <tr>\n",
       "      <th>10644</th>\n",
       "      <td>1</td>\n",
       "      <td>0.500000</td>\n",
       "      <td>1.0</td>\n",
       "      <td>3</td>\n",
       "      <td>0.142857</td>\n",
       "      <td>3631</td>\n",
       "      <td>0.416690</td>\n",
       "    </tr>\n",
       "    <tr>\n",
       "      <th>11068</th>\n",
       "      <td>1</td>\n",
       "      <td>0.500000</td>\n",
       "      <td>1.0</td>\n",
       "      <td>3</td>\n",
       "      <td>0.142857</td>\n",
       "      <td>3069</td>\n",
       "      <td>0.584881</td>\n",
       "    </tr>\n",
       "    <tr>\n",
       "      <th>20323</th>\n",
       "      <td>1</td>\n",
       "      <td>0.500000</td>\n",
       "      <td>1.0</td>\n",
       "      <td>3</td>\n",
       "      <td>0.142857</td>\n",
       "      <td>695</td>\n",
       "      <td>0.532374</td>\n",
       "    </tr>\n",
       "    <tr>\n",
       "      <th>21903</th>\n",
       "      <td>2</td>\n",
       "      <td>0.666667</td>\n",
       "      <td>2.0</td>\n",
       "      <td>3</td>\n",
       "      <td>0.142857</td>\n",
       "      <td>73243</td>\n",
       "      <td>0.773808</td>\n",
       "    </tr>\n",
       "  </tbody>\n",
       "</table>\n",
       "</div>"
      ],
      "text/plain": [
       "                    user_product_total  user_reorder_ratio  times_last_5  \\\n",
       "user_id product_id                                                         \n",
       "6       8424                         1            1.000000           1.0   \n",
       "        10644                        1            0.500000           1.0   \n",
       "        11068                        1            0.500000           1.0   \n",
       "        20323                        1            0.500000           1.0   \n",
       "        21903                        2            0.666667           2.0   \n",
       "\n",
       "                    user_total_orders  user_reordered_ratio  \\\n",
       "user_id product_id                                            \n",
       "6       8424                        3              0.142857   \n",
       "        10644                       3              0.142857   \n",
       "        11068                       3              0.142857   \n",
       "        20323                       3              0.142857   \n",
       "        21903                       3              0.142857   \n",
       "\n",
       "                    product_total_purchase  product_reorder_ratio  \n",
       "user_id product_id                                                 \n",
       "6       8424                         12292               0.650504  \n",
       "        10644                         3631               0.416690  \n",
       "        11068                         3069               0.584881  \n",
       "        20323                          695               0.532374  \n",
       "        21903                        73243               0.773808  "
      ]
     },
     "execution_count": 178,
     "metadata": {},
     "output_type": "execute_result"
    }
   ],
   "source": [
    "data_test2.head()"
   ]
  },
  {
   "cell_type": "markdown",
   "id": "d955e1a5",
   "metadata": {
    "papermill": {
     "duration": 0.082346,
     "end_time": "2022-11-20T06:50:28.954442",
     "exception": false,
     "start_time": "2022-11-20T06:50:28.872096",
     "status": "completed"
    },
    "tags": []
   },
   "source": [
    "# Applying Predictive Model for LogisticRegressionCV"
   ]
  },
  {
   "cell_type": "code",
   "execution_count": 179,
   "id": "db64b2f3",
   "metadata": {
    "execution": {
     "iopub.execute_input": "2022-11-20T06:50:29.123795Z",
     "iopub.status.busy": "2022-11-20T06:50:29.122989Z",
     "iopub.status.idle": "2022-11-20T06:50:29.240736Z",
     "shell.execute_reply": "2022-11-20T06:50:29.239173Z"
    },
    "papermill": {
     "duration": 0.206784,
     "end_time": "2022-11-20T06:50:29.245146",
     "exception": false,
     "start_time": "2022-11-20T06:50:29.038362",
     "status": "completed"
    },
    "tags": []
   },
   "outputs": [
    {
     "data": {
      "text/plain": [
       "array([1, 1, 1, 1, 1, 1, 1, 1, 1, 1, 1, 1, 1, 1, 0, 1, 0, 0, 1, 0])"
      ]
     },
     "execution_count": 179,
     "metadata": {},
     "output_type": "execute_result"
    }
   ],
   "source": [
    "test_pred = log_model.predict(data_test2).astype(int)\n",
    "test_pred[0:20]"
   ]
  },
  {
   "cell_type": "code",
   "execution_count": 180,
   "id": "44ebdd63",
   "metadata": {
    "execution": {
     "iopub.execute_input": "2022-11-20T06:50:29.456924Z",
     "iopub.status.busy": "2022-11-20T06:50:29.456487Z",
     "iopub.status.idle": "2022-11-20T06:50:29.650737Z",
     "shell.execute_reply": "2022-11-20T06:50:29.648993Z"
    },
    "papermill": {
     "duration": 0.281309,
     "end_time": "2022-11-20T06:50:29.654297",
     "exception": false,
     "start_time": "2022-11-20T06:50:29.372988",
     "status": "completed"
    },
    "tags": []
   },
   "outputs": [
    {
     "data": {
      "text/plain": [
       "array([1, 1, 1, 1, 1, 1, 1, 1, 1, 1, 1, 1, 1, 1, 0, 1, 0, 0, 1, 0])"
      ]
     },
     "execution_count": 180,
     "metadata": {},
     "output_type": "execute_result"
    }
   ],
   "source": [
    "test_pred = (log_model.predict_proba(data_test2)[:,1] >= 0.21).astype(int)\n",
    "test_pred[0:20]"
   ]
  },
  {
   "cell_type": "code",
   "execution_count": 181,
   "id": "2fc10da7",
   "metadata": {
    "execution": {
     "iopub.execute_input": "2022-11-20T06:50:29.820438Z",
     "iopub.status.busy": "2022-11-20T06:50:29.819709Z",
     "iopub.status.idle": "2022-11-20T06:50:29.827819Z",
     "shell.execute_reply": "2022-11-20T06:50:29.826833Z"
    },
    "papermill": {
     "duration": 0.094432,
     "end_time": "2022-11-20T06:50:29.830499",
     "exception": false,
     "start_time": "2022-11-20T06:50:29.736067",
     "status": "completed"
    },
    "tags": []
   },
   "outputs": [],
   "source": [
    "data_test2['prediction'] = test_pred"
   ]
  },
  {
   "cell_type": "code",
   "execution_count": 182,
   "id": "b6e0b025",
   "metadata": {
    "execution": {
     "iopub.execute_input": "2022-11-20T06:50:29.994630Z",
     "iopub.status.busy": "2022-11-20T06:50:29.994165Z",
     "iopub.status.idle": "2022-11-20T06:50:30.010568Z",
     "shell.execute_reply": "2022-11-20T06:50:30.009320Z"
    },
    "papermill": {
     "duration": 0.101699,
     "end_time": "2022-11-20T06:50:30.013504",
     "exception": false,
     "start_time": "2022-11-20T06:50:29.911805",
     "status": "completed"
    },
    "tags": []
   },
   "outputs": [
    {
     "data": {
      "text/html": [
       "<div>\n",
       "<style scoped>\n",
       "    .dataframe tbody tr th:only-of-type {\n",
       "        vertical-align: middle;\n",
       "    }\n",
       "\n",
       "    .dataframe tbody tr th {\n",
       "        vertical-align: top;\n",
       "    }\n",
       "\n",
       "    .dataframe thead th {\n",
       "        text-align: right;\n",
       "    }\n",
       "</style>\n",
       "<table border=\"1\" class=\"dataframe\">\n",
       "  <thead>\n",
       "    <tr style=\"text-align: right;\">\n",
       "      <th></th>\n",
       "      <th></th>\n",
       "      <th>user_product_total</th>\n",
       "      <th>user_reorder_ratio</th>\n",
       "      <th>times_last_5</th>\n",
       "      <th>user_total_orders</th>\n",
       "      <th>user_reordered_ratio</th>\n",
       "      <th>product_total_purchase</th>\n",
       "      <th>product_reorder_ratio</th>\n",
       "      <th>prediction</th>\n",
       "    </tr>\n",
       "    <tr>\n",
       "      <th>user_id</th>\n",
       "      <th>product_id</th>\n",
       "      <th></th>\n",
       "      <th></th>\n",
       "      <th></th>\n",
       "      <th></th>\n",
       "      <th></th>\n",
       "      <th></th>\n",
       "      <th></th>\n",
       "      <th></th>\n",
       "    </tr>\n",
       "  </thead>\n",
       "  <tbody>\n",
       "    <tr>\n",
       "      <th rowspan=\"5\" valign=\"top\">6</th>\n",
       "      <th>8424</th>\n",
       "      <td>1</td>\n",
       "      <td>1.000000</td>\n",
       "      <td>1.0</td>\n",
       "      <td>3</td>\n",
       "      <td>0.142857</td>\n",
       "      <td>12292</td>\n",
       "      <td>0.650504</td>\n",
       "      <td>1</td>\n",
       "    </tr>\n",
       "    <tr>\n",
       "      <th>10644</th>\n",
       "      <td>1</td>\n",
       "      <td>0.500000</td>\n",
       "      <td>1.0</td>\n",
       "      <td>3</td>\n",
       "      <td>0.142857</td>\n",
       "      <td>3631</td>\n",
       "      <td>0.416690</td>\n",
       "      <td>1</td>\n",
       "    </tr>\n",
       "    <tr>\n",
       "      <th>11068</th>\n",
       "      <td>1</td>\n",
       "      <td>0.500000</td>\n",
       "      <td>1.0</td>\n",
       "      <td>3</td>\n",
       "      <td>0.142857</td>\n",
       "      <td>3069</td>\n",
       "      <td>0.584881</td>\n",
       "      <td>1</td>\n",
       "    </tr>\n",
       "    <tr>\n",
       "      <th>20323</th>\n",
       "      <td>1</td>\n",
       "      <td>0.500000</td>\n",
       "      <td>1.0</td>\n",
       "      <td>3</td>\n",
       "      <td>0.142857</td>\n",
       "      <td>695</td>\n",
       "      <td>0.532374</td>\n",
       "      <td>1</td>\n",
       "    </tr>\n",
       "    <tr>\n",
       "      <th>21903</th>\n",
       "      <td>2</td>\n",
       "      <td>0.666667</td>\n",
       "      <td>2.0</td>\n",
       "      <td>3</td>\n",
       "      <td>0.142857</td>\n",
       "      <td>73243</td>\n",
       "      <td>0.773808</td>\n",
       "      <td>1</td>\n",
       "    </tr>\n",
       "  </tbody>\n",
       "</table>\n",
       "</div>"
      ],
      "text/plain": [
       "                    user_product_total  user_reorder_ratio  times_last_5  \\\n",
       "user_id product_id                                                         \n",
       "6       8424                         1            1.000000           1.0   \n",
       "        10644                        1            0.500000           1.0   \n",
       "        11068                        1            0.500000           1.0   \n",
       "        20323                        1            0.500000           1.0   \n",
       "        21903                        2            0.666667           2.0   \n",
       "\n",
       "                    user_total_orders  user_reordered_ratio  \\\n",
       "user_id product_id                                            \n",
       "6       8424                        3              0.142857   \n",
       "        10644                       3              0.142857   \n",
       "        11068                       3              0.142857   \n",
       "        20323                       3              0.142857   \n",
       "        21903                       3              0.142857   \n",
       "\n",
       "                    product_total_purchase  product_reorder_ratio  prediction  \n",
       "user_id product_id                                                             \n",
       "6       8424                         12292               0.650504           1  \n",
       "        10644                         3631               0.416690           1  \n",
       "        11068                         3069               0.584881           1  \n",
       "        20323                          695               0.532374           1  \n",
       "        21903                        73243               0.773808           1  "
      ]
     },
     "execution_count": 182,
     "metadata": {},
     "output_type": "execute_result"
    }
   ],
   "source": [
    "data_test2.head()"
   ]
  },
  {
   "cell_type": "code",
   "execution_count": 183,
   "id": "9360fcbe",
   "metadata": {
    "execution": {
     "iopub.execute_input": "2022-11-20T06:50:30.184910Z",
     "iopub.status.busy": "2022-11-20T06:50:30.184450Z",
     "iopub.status.idle": "2022-11-20T06:50:30.360853Z",
     "shell.execute_reply": "2022-11-20T06:50:30.359137Z"
    },
    "papermill": {
     "duration": 0.267433,
     "end_time": "2022-11-20T06:50:30.364288",
     "exception": false,
     "start_time": "2022-11-20T06:50:30.096855",
     "status": "completed"
    },
    "tags": []
   },
   "outputs": [],
   "source": [
    "final2 = data_test2.reset_index()"
   ]
  },
  {
   "cell_type": "code",
   "execution_count": 184,
   "id": "a401eeda",
   "metadata": {
    "execution": {
     "iopub.execute_input": "2022-11-20T06:50:30.532155Z",
     "iopub.status.busy": "2022-11-20T06:50:30.531436Z",
     "iopub.status.idle": "2022-11-20T06:50:30.655195Z",
     "shell.execute_reply": "2022-11-20T06:50:30.653705Z"
    },
    "papermill": {
     "duration": 0.210228,
     "end_time": "2022-11-20T06:50:30.657909",
     "exception": false,
     "start_time": "2022-11-20T06:50:30.447681",
     "status": "completed"
    },
    "tags": []
   },
   "outputs": [],
   "source": [
    "final2 = final2[['product_id', 'user_id', 'prediction']]"
   ]
  },
  {
   "cell_type": "code",
   "execution_count": 185,
   "id": "ae006d38",
   "metadata": {
    "execution": {
     "iopub.execute_input": "2022-11-20T06:50:30.824080Z",
     "iopub.status.busy": "2022-11-20T06:50:30.823639Z",
     "iopub.status.idle": "2022-11-20T06:50:30.959353Z",
     "shell.execute_reply": "2022-11-20T06:50:30.958076Z"
    },
    "papermill": {
     "duration": 0.221842,
     "end_time": "2022-11-20T06:50:30.961589",
     "exception": false,
     "start_time": "2022-11-20T06:50:30.739747",
     "status": "completed"
    },
    "tags": []
   },
   "outputs": [
    {
     "data": {
      "text/plain": [
       "105"
      ]
     },
     "execution_count": 185,
     "metadata": {},
     "output_type": "execute_result"
    }
   ],
   "source": [
    "gc.collect()"
   ]
  },
  {
   "cell_type": "code",
   "execution_count": 186,
   "id": "6602987f",
   "metadata": {
    "execution": {
     "iopub.execute_input": "2022-11-20T06:50:31.131161Z",
     "iopub.status.busy": "2022-11-20T06:50:31.129808Z",
     "iopub.status.idle": "2022-11-20T06:50:31.141621Z",
     "shell.execute_reply": "2022-11-20T06:50:31.139991Z"
    },
    "papermill": {
     "duration": 0.10036,
     "end_time": "2022-11-20T06:50:31.144426",
     "exception": false,
     "start_time": "2022-11-20T06:50:31.044066",
     "status": "completed"
    },
    "tags": []
   },
   "outputs": [
    {
     "data": {
      "text/html": [
       "<div>\n",
       "<style scoped>\n",
       "    .dataframe tbody tr th:only-of-type {\n",
       "        vertical-align: middle;\n",
       "    }\n",
       "\n",
       "    .dataframe tbody tr th {\n",
       "        vertical-align: top;\n",
       "    }\n",
       "\n",
       "    .dataframe thead th {\n",
       "        text-align: right;\n",
       "    }\n",
       "</style>\n",
       "<table border=\"1\" class=\"dataframe\">\n",
       "  <thead>\n",
       "    <tr style=\"text-align: right;\">\n",
       "      <th></th>\n",
       "      <th>product_id</th>\n",
       "      <th>user_id</th>\n",
       "      <th>prediction</th>\n",
       "    </tr>\n",
       "  </thead>\n",
       "  <tbody>\n",
       "    <tr>\n",
       "      <th>0</th>\n",
       "      <td>8424</td>\n",
       "      <td>6</td>\n",
       "      <td>1</td>\n",
       "    </tr>\n",
       "    <tr>\n",
       "      <th>1</th>\n",
       "      <td>10644</td>\n",
       "      <td>6</td>\n",
       "      <td>1</td>\n",
       "    </tr>\n",
       "    <tr>\n",
       "      <th>2</th>\n",
       "      <td>11068</td>\n",
       "      <td>6</td>\n",
       "      <td>1</td>\n",
       "    </tr>\n",
       "    <tr>\n",
       "      <th>3</th>\n",
       "      <td>20323</td>\n",
       "      <td>6</td>\n",
       "      <td>1</td>\n",
       "    </tr>\n",
       "    <tr>\n",
       "      <th>4</th>\n",
       "      <td>21903</td>\n",
       "      <td>6</td>\n",
       "      <td>1</td>\n",
       "    </tr>\n",
       "  </tbody>\n",
       "</table>\n",
       "</div>"
      ],
      "text/plain": [
       "   product_id  user_id  prediction\n",
       "0        8424        6           1\n",
       "1       10644        6           1\n",
       "2       11068        6           1\n",
       "3       20323        6           1\n",
       "4       21903        6           1"
      ]
     },
     "execution_count": 186,
     "metadata": {},
     "output_type": "execute_result"
    }
   ],
   "source": [
    "final2.head()"
   ]
  },
  {
   "cell_type": "code",
   "execution_count": 187,
   "id": "a6bfe53b",
   "metadata": {
    "execution": {
     "iopub.execute_input": "2022-11-20T06:50:31.316842Z",
     "iopub.status.busy": "2022-11-20T06:50:31.316202Z",
     "iopub.status.idle": "2022-11-20T06:50:31.593891Z",
     "shell.execute_reply": "2022-11-20T06:50:31.592588Z"
    },
    "papermill": {
     "duration": 0.368704,
     "end_time": "2022-11-20T06:50:31.596767",
     "exception": false,
     "start_time": "2022-11-20T06:50:31.228063",
     "status": "completed"
    },
    "tags": []
   },
   "outputs": [],
   "source": [
    "final2 = final2.merge(products, on = ['product_id'], how = 'inner')"
   ]
  },
  {
   "cell_type": "code",
   "execution_count": 188,
   "id": "6f64bf91",
   "metadata": {
    "execution": {
     "iopub.execute_input": "2022-11-20T06:50:31.768907Z",
     "iopub.status.busy": "2022-11-20T06:50:31.768503Z",
     "iopub.status.idle": "2022-11-20T06:50:31.785342Z",
     "shell.execute_reply": "2022-11-20T06:50:31.783996Z"
    },
    "papermill": {
     "duration": 0.105526,
     "end_time": "2022-11-20T06:50:31.788129",
     "exception": false,
     "start_time": "2022-11-20T06:50:31.682603",
     "status": "completed"
    },
    "tags": []
   },
   "outputs": [
    {
     "data": {
      "text/html": [
       "<div>\n",
       "<style scoped>\n",
       "    .dataframe tbody tr th:only-of-type {\n",
       "        vertical-align: middle;\n",
       "    }\n",
       "\n",
       "    .dataframe tbody tr th {\n",
       "        vertical-align: top;\n",
       "    }\n",
       "\n",
       "    .dataframe thead th {\n",
       "        text-align: right;\n",
       "    }\n",
       "</style>\n",
       "<table border=\"1\" class=\"dataframe\">\n",
       "  <thead>\n",
       "    <tr style=\"text-align: right;\">\n",
       "      <th></th>\n",
       "      <th>product_id</th>\n",
       "      <th>user_id</th>\n",
       "      <th>prediction</th>\n",
       "      <th>product_name</th>\n",
       "      <th>aisle_id</th>\n",
       "      <th>department_id</th>\n",
       "    </tr>\n",
       "  </thead>\n",
       "  <tbody>\n",
       "    <tr>\n",
       "      <th>0</th>\n",
       "      <td>8424</td>\n",
       "      <td>6</td>\n",
       "      <td>1</td>\n",
       "      <td>Broccoli Crown</td>\n",
       "      <td>83</td>\n",
       "      <td>4</td>\n",
       "    </tr>\n",
       "    <tr>\n",
       "      <th>1</th>\n",
       "      <td>8424</td>\n",
       "      <td>94</td>\n",
       "      <td>1</td>\n",
       "      <td>Broccoli Crown</td>\n",
       "      <td>83</td>\n",
       "      <td>4</td>\n",
       "    </tr>\n",
       "    <tr>\n",
       "      <th>2</th>\n",
       "      <td>8424</td>\n",
       "      <td>381</td>\n",
       "      <td>1</td>\n",
       "      <td>Broccoli Crown</td>\n",
       "      <td>83</td>\n",
       "      <td>4</td>\n",
       "    </tr>\n",
       "    <tr>\n",
       "      <th>3</th>\n",
       "      <td>8424</td>\n",
       "      <td>450</td>\n",
       "      <td>1</td>\n",
       "      <td>Broccoli Crown</td>\n",
       "      <td>83</td>\n",
       "      <td>4</td>\n",
       "    </tr>\n",
       "    <tr>\n",
       "      <th>4</th>\n",
       "      <td>8424</td>\n",
       "      <td>463</td>\n",
       "      <td>1</td>\n",
       "      <td>Broccoli Crown</td>\n",
       "      <td>83</td>\n",
       "      <td>4</td>\n",
       "    </tr>\n",
       "    <tr>\n",
       "      <th>...</th>\n",
       "      <td>...</td>\n",
       "      <td>...</td>\n",
       "      <td>...</td>\n",
       "      <td>...</td>\n",
       "      <td>...</td>\n",
       "      <td>...</td>\n",
       "    </tr>\n",
       "    <tr>\n",
       "      <th>1460946</th>\n",
       "      <td>43684</td>\n",
       "      <td>206182</td>\n",
       "      <td>0</td>\n",
       "      <td>Triple Berry Layer Fruit Snack</td>\n",
       "      <td>50</td>\n",
       "      <td>19</td>\n",
       "    </tr>\n",
       "    <tr>\n",
       "      <th>1460947</th>\n",
       "      <td>16315</td>\n",
       "      <td>206201</td>\n",
       "      <td>0</td>\n",
       "      <td>Nature's Way Long Grain &amp; Wild Rice Rice Mix</td>\n",
       "      <td>4</td>\n",
       "      <td>9</td>\n",
       "    </tr>\n",
       "    <tr>\n",
       "      <th>1460948</th>\n",
       "      <td>24110</td>\n",
       "      <td>206201</td>\n",
       "      <td>0</td>\n",
       "      <td>Blasted Chocolatey Chip Marshmallow Rice Krisp...</td>\n",
       "      <td>45</td>\n",
       "      <td>19</td>\n",
       "    </tr>\n",
       "    <tr>\n",
       "      <th>1460949</th>\n",
       "      <td>33935</td>\n",
       "      <td>206201</td>\n",
       "      <td>0</td>\n",
       "      <td>Double Stuf Chocolate/Chocolate Variety Pack S...</td>\n",
       "      <td>100</td>\n",
       "      <td>21</td>\n",
       "    </tr>\n",
       "    <tr>\n",
       "      <th>1460950</th>\n",
       "      <td>46640</td>\n",
       "      <td>206201</td>\n",
       "      <td>0</td>\n",
       "      <td>Grain Free Soft Dog Food</td>\n",
       "      <td>40</td>\n",
       "      <td>8</td>\n",
       "    </tr>\n",
       "  </tbody>\n",
       "</table>\n",
       "<p>1460951 rows × 6 columns</p>\n",
       "</div>"
      ],
      "text/plain": [
       "         product_id  user_id  prediction  \\\n",
       "0              8424        6           1   \n",
       "1              8424       94           1   \n",
       "2              8424      381           1   \n",
       "3              8424      450           1   \n",
       "4              8424      463           1   \n",
       "...             ...      ...         ...   \n",
       "1460946       43684   206182           0   \n",
       "1460947       16315   206201           0   \n",
       "1460948       24110   206201           0   \n",
       "1460949       33935   206201           0   \n",
       "1460950       46640   206201           0   \n",
       "\n",
       "                                              product_name  aisle_id  \\\n",
       "0                                           Broccoli Crown        83   \n",
       "1                                           Broccoli Crown        83   \n",
       "2                                           Broccoli Crown        83   \n",
       "3                                           Broccoli Crown        83   \n",
       "4                                           Broccoli Crown        83   \n",
       "...                                                    ...       ...   \n",
       "1460946                     Triple Berry Layer Fruit Snack        50   \n",
       "1460947       Nature's Way Long Grain & Wild Rice Rice Mix         4   \n",
       "1460948  Blasted Chocolatey Chip Marshmallow Rice Krisp...        45   \n",
       "1460949  Double Stuf Chocolate/Chocolate Variety Pack S...       100   \n",
       "1460950                           Grain Free Soft Dog Food        40   \n",
       "\n",
       "         department_id  \n",
       "0                    4  \n",
       "1                    4  \n",
       "2                    4  \n",
       "3                    4  \n",
       "4                    4  \n",
       "...                ...  \n",
       "1460946             19  \n",
       "1460947              9  \n",
       "1460948             19  \n",
       "1460949             21  \n",
       "1460950              8  \n",
       "\n",
       "[1460951 rows x 6 columns]"
      ]
     },
     "execution_count": 188,
     "metadata": {},
     "output_type": "execute_result"
    }
   ],
   "source": [
    "final2"
   ]
  },
  {
   "cell_type": "code",
   "execution_count": 189,
   "id": "ff50aca5",
   "metadata": {
    "execution": {
     "iopub.execute_input": "2022-11-20T06:50:31.955982Z",
     "iopub.status.busy": "2022-11-20T06:50:31.955562Z",
     "iopub.status.idle": "2022-11-20T06:50:31.967194Z",
     "shell.execute_reply": "2022-11-20T06:50:31.965859Z"
    },
    "papermill": {
     "duration": 0.098932,
     "end_time": "2022-11-20T06:50:31.970011",
     "exception": false,
     "start_time": "2022-11-20T06:50:31.871079",
     "status": "completed"
    },
    "tags": []
   },
   "outputs": [],
   "source": [
    "orders_test = orders.loc[orders.eval_set == 'test', ('user_id', 'order_id')]"
   ]
  },
  {
   "cell_type": "code",
   "execution_count": 190,
   "id": "b15d89b7",
   "metadata": {
    "execution": {
     "iopub.execute_input": "2022-11-20T06:50:32.139458Z",
     "iopub.status.busy": "2022-11-20T06:50:32.138582Z",
     "iopub.status.idle": "2022-11-20T06:50:32.148384Z",
     "shell.execute_reply": "2022-11-20T06:50:32.147149Z"
    },
    "papermill": {
     "duration": 0.097782,
     "end_time": "2022-11-20T06:50:32.150608",
     "exception": false,
     "start_time": "2022-11-20T06:50:32.052826",
     "status": "completed"
    },
    "tags": []
   },
   "outputs": [
    {
     "data": {
      "text/html": [
       "<div>\n",
       "<style scoped>\n",
       "    .dataframe tbody tr th:only-of-type {\n",
       "        vertical-align: middle;\n",
       "    }\n",
       "\n",
       "    .dataframe tbody tr th {\n",
       "        vertical-align: top;\n",
       "    }\n",
       "\n",
       "    .dataframe thead th {\n",
       "        text-align: right;\n",
       "    }\n",
       "</style>\n",
       "<table border=\"1\" class=\"dataframe\">\n",
       "  <thead>\n",
       "    <tr style=\"text-align: right;\">\n",
       "      <th></th>\n",
       "      <th>user_id</th>\n",
       "      <th>order_id</th>\n",
       "    </tr>\n",
       "  </thead>\n",
       "  <tbody>\n",
       "    <tr>\n",
       "      <th>53</th>\n",
       "      <td>6</td>\n",
       "      <td>1528013</td>\n",
       "    </tr>\n",
       "    <tr>\n",
       "      <th>217</th>\n",
       "      <td>19</td>\n",
       "      <td>1735923</td>\n",
       "    </tr>\n",
       "    <tr>\n",
       "      <th>300</th>\n",
       "      <td>25</td>\n",
       "      <td>1411408</td>\n",
       "    </tr>\n",
       "    <tr>\n",
       "      <th>495</th>\n",
       "      <td>35</td>\n",
       "      <td>707453</td>\n",
       "    </tr>\n",
       "    <tr>\n",
       "      <th>588</th>\n",
       "      <td>40</td>\n",
       "      <td>2431024</td>\n",
       "    </tr>\n",
       "  </tbody>\n",
       "</table>\n",
       "</div>"
      ],
      "text/plain": [
       "     user_id  order_id\n",
       "53         6   1528013\n",
       "217       19   1735923\n",
       "300       25   1411408\n",
       "495       35    707453\n",
       "588       40   2431024"
      ]
     },
     "execution_count": 190,
     "metadata": {},
     "output_type": "execute_result"
    }
   ],
   "source": [
    "orders_test.head()"
   ]
  },
  {
   "cell_type": "code",
   "execution_count": 191,
   "id": "3d4c2aef",
   "metadata": {
    "execution": {
     "iopub.execute_input": "2022-11-20T06:50:32.325242Z",
     "iopub.status.busy": "2022-11-20T06:50:32.324469Z",
     "iopub.status.idle": "2022-11-20T06:50:32.624956Z",
     "shell.execute_reply": "2022-11-20T06:50:32.623502Z"
    },
    "papermill": {
     "duration": 0.394245,
     "end_time": "2022-11-20T06:50:32.627802",
     "exception": false,
     "start_time": "2022-11-20T06:50:32.233557",
     "status": "completed"
    },
    "tags": []
   },
   "outputs": [],
   "source": [
    "final2 = final2.merge(orders_test, on = 'user_id', how = 'left')"
   ]
  },
  {
   "cell_type": "code",
   "execution_count": 192,
   "id": "613dd98c",
   "metadata": {
    "execution": {
     "iopub.execute_input": "2022-11-20T06:50:32.796932Z",
     "iopub.status.busy": "2022-11-20T06:50:32.795732Z",
     "iopub.status.idle": "2022-11-20T06:50:32.809973Z",
     "shell.execute_reply": "2022-11-20T06:50:32.808781Z"
    },
    "papermill": {
     "duration": 0.102129,
     "end_time": "2022-11-20T06:50:32.812417",
     "exception": false,
     "start_time": "2022-11-20T06:50:32.710288",
     "status": "completed"
    },
    "tags": []
   },
   "outputs": [
    {
     "data": {
      "text/html": [
       "<div>\n",
       "<style scoped>\n",
       "    .dataframe tbody tr th:only-of-type {\n",
       "        vertical-align: middle;\n",
       "    }\n",
       "\n",
       "    .dataframe tbody tr th {\n",
       "        vertical-align: top;\n",
       "    }\n",
       "\n",
       "    .dataframe thead th {\n",
       "        text-align: right;\n",
       "    }\n",
       "</style>\n",
       "<table border=\"1\" class=\"dataframe\">\n",
       "  <thead>\n",
       "    <tr style=\"text-align: right;\">\n",
       "      <th></th>\n",
       "      <th>product_id</th>\n",
       "      <th>user_id</th>\n",
       "      <th>prediction</th>\n",
       "      <th>product_name</th>\n",
       "      <th>aisle_id</th>\n",
       "      <th>department_id</th>\n",
       "      <th>order_id</th>\n",
       "    </tr>\n",
       "  </thead>\n",
       "  <tbody>\n",
       "    <tr>\n",
       "      <th>0</th>\n",
       "      <td>8424</td>\n",
       "      <td>6</td>\n",
       "      <td>1</td>\n",
       "      <td>Broccoli Crown</td>\n",
       "      <td>83</td>\n",
       "      <td>4</td>\n",
       "      <td>1528013</td>\n",
       "    </tr>\n",
       "    <tr>\n",
       "      <th>1</th>\n",
       "      <td>8424</td>\n",
       "      <td>94</td>\n",
       "      <td>1</td>\n",
       "      <td>Broccoli Crown</td>\n",
       "      <td>83</td>\n",
       "      <td>4</td>\n",
       "      <td>622677</td>\n",
       "    </tr>\n",
       "    <tr>\n",
       "      <th>2</th>\n",
       "      <td>8424</td>\n",
       "      <td>381</td>\n",
       "      <td>1</td>\n",
       "      <td>Broccoli Crown</td>\n",
       "      <td>83</td>\n",
       "      <td>4</td>\n",
       "      <td>1185710</td>\n",
       "    </tr>\n",
       "    <tr>\n",
       "      <th>3</th>\n",
       "      <td>8424</td>\n",
       "      <td>450</td>\n",
       "      <td>1</td>\n",
       "      <td>Broccoli Crown</td>\n",
       "      <td>83</td>\n",
       "      <td>4</td>\n",
       "      <td>2730481</td>\n",
       "    </tr>\n",
       "    <tr>\n",
       "      <th>4</th>\n",
       "      <td>8424</td>\n",
       "      <td>463</td>\n",
       "      <td>1</td>\n",
       "      <td>Broccoli Crown</td>\n",
       "      <td>83</td>\n",
       "      <td>4</td>\n",
       "      <td>1493300</td>\n",
       "    </tr>\n",
       "  </tbody>\n",
       "</table>\n",
       "</div>"
      ],
      "text/plain": [
       "   product_id  user_id  prediction    product_name  aisle_id  department_id  \\\n",
       "0        8424        6           1  Broccoli Crown        83              4   \n",
       "1        8424       94           1  Broccoli Crown        83              4   \n",
       "2        8424      381           1  Broccoli Crown        83              4   \n",
       "3        8424      450           1  Broccoli Crown        83              4   \n",
       "4        8424      463           1  Broccoli Crown        83              4   \n",
       "\n",
       "   order_id  \n",
       "0   1528013  \n",
       "1    622677  \n",
       "2   1185710  \n",
       "3   2730481  \n",
       "4   1493300  "
      ]
     },
     "execution_count": 192,
     "metadata": {},
     "output_type": "execute_result"
    }
   ],
   "source": [
    "final2.head()"
   ]
  },
  {
   "cell_type": "code",
   "execution_count": 193,
   "id": "fa131de5",
   "metadata": {
    "execution": {
     "iopub.execute_input": "2022-11-20T06:50:32.984744Z",
     "iopub.status.busy": "2022-11-20T06:50:32.983867Z",
     "iopub.status.idle": "2022-11-20T06:50:33.101727Z",
     "shell.execute_reply": "2022-11-20T06:50:33.100758Z"
    },
    "papermill": {
     "duration": 0.206614,
     "end_time": "2022-11-20T06:50:33.104453",
     "exception": false,
     "start_time": "2022-11-20T06:50:32.897839",
     "status": "completed"
    },
    "tags": []
   },
   "outputs": [],
   "source": [
    "final2 = final2.drop(['user_id', 'department_id', 'aisle_id'], axis = 1)"
   ]
  },
  {
   "cell_type": "code",
   "execution_count": 194,
   "id": "5dbd3ae5",
   "metadata": {
    "execution": {
     "iopub.execute_input": "2022-11-20T06:50:33.272249Z",
     "iopub.status.busy": "2022-11-20T06:50:33.271442Z",
     "iopub.status.idle": "2022-11-20T06:50:33.285053Z",
     "shell.execute_reply": "2022-11-20T06:50:33.283754Z"
    },
    "papermill": {
     "duration": 0.101191,
     "end_time": "2022-11-20T06:50:33.287941",
     "exception": false,
     "start_time": "2022-11-20T06:50:33.186750",
     "status": "completed"
    },
    "tags": []
   },
   "outputs": [],
   "source": [
    "final2['product_id'] = final2.product_id.astype(int)"
   ]
  },
  {
   "cell_type": "code",
   "execution_count": 195,
   "id": "ddb87e58",
   "metadata": {
    "execution": {
     "iopub.execute_input": "2022-11-20T06:50:33.526091Z",
     "iopub.status.busy": "2022-11-20T06:50:33.525671Z",
     "iopub.status.idle": "2022-11-20T06:50:33.531028Z",
     "shell.execute_reply": "2022-11-20T06:50:33.529817Z"
    },
    "papermill": {
     "duration": 0.094509,
     "end_time": "2022-11-20T06:50:33.533723",
     "exception": false,
     "start_time": "2022-11-20T06:50:33.439214",
     "status": "completed"
    },
    "tags": []
   },
   "outputs": [],
   "source": [
    "del orders_test"
   ]
  },
  {
   "cell_type": "code",
   "execution_count": 196,
   "id": "e8d9c06e",
   "metadata": {
    "execution": {
     "iopub.execute_input": "2022-11-20T06:50:33.702482Z",
     "iopub.status.busy": "2022-11-20T06:50:33.701707Z",
     "iopub.status.idle": "2022-11-20T06:50:33.835575Z",
     "shell.execute_reply": "2022-11-20T06:50:33.834082Z"
    },
    "papermill": {
     "duration": 0.221756,
     "end_time": "2022-11-20T06:50:33.838573",
     "exception": false,
     "start_time": "2022-11-20T06:50:33.616817",
     "status": "completed"
    },
    "tags": []
   },
   "outputs": [
    {
     "data": {
      "text/plain": [
       "21"
      ]
     },
     "execution_count": 196,
     "metadata": {},
     "output_type": "execute_result"
    }
   ],
   "source": [
    "gc.collect()"
   ]
  },
  {
   "cell_type": "code",
   "execution_count": 197,
   "id": "3bc00da5",
   "metadata": {
    "execution": {
     "iopub.execute_input": "2022-11-20T06:50:34.007532Z",
     "iopub.status.busy": "2022-11-20T06:50:34.007067Z",
     "iopub.status.idle": "2022-11-20T06:50:34.018804Z",
     "shell.execute_reply": "2022-11-20T06:50:34.017959Z"
    },
    "papermill": {
     "duration": 0.098992,
     "end_time": "2022-11-20T06:50:34.020827",
     "exception": false,
     "start_time": "2022-11-20T06:50:33.921835",
     "status": "completed"
    },
    "tags": []
   },
   "outputs": [
    {
     "data": {
      "text/html": [
       "<div>\n",
       "<style scoped>\n",
       "    .dataframe tbody tr th:only-of-type {\n",
       "        vertical-align: middle;\n",
       "    }\n",
       "\n",
       "    .dataframe tbody tr th {\n",
       "        vertical-align: top;\n",
       "    }\n",
       "\n",
       "    .dataframe thead th {\n",
       "        text-align: right;\n",
       "    }\n",
       "</style>\n",
       "<table border=\"1\" class=\"dataframe\">\n",
       "  <thead>\n",
       "    <tr style=\"text-align: right;\">\n",
       "      <th></th>\n",
       "      <th>product_id</th>\n",
       "      <th>prediction</th>\n",
       "      <th>product_name</th>\n",
       "      <th>order_id</th>\n",
       "    </tr>\n",
       "  </thead>\n",
       "  <tbody>\n",
       "    <tr>\n",
       "      <th>0</th>\n",
       "      <td>8424</td>\n",
       "      <td>1</td>\n",
       "      <td>Broccoli Crown</td>\n",
       "      <td>1528013</td>\n",
       "    </tr>\n",
       "    <tr>\n",
       "      <th>1</th>\n",
       "      <td>8424</td>\n",
       "      <td>1</td>\n",
       "      <td>Broccoli Crown</td>\n",
       "      <td>622677</td>\n",
       "    </tr>\n",
       "    <tr>\n",
       "      <th>2</th>\n",
       "      <td>8424</td>\n",
       "      <td>1</td>\n",
       "      <td>Broccoli Crown</td>\n",
       "      <td>1185710</td>\n",
       "    </tr>\n",
       "    <tr>\n",
       "      <th>3</th>\n",
       "      <td>8424</td>\n",
       "      <td>1</td>\n",
       "      <td>Broccoli Crown</td>\n",
       "      <td>2730481</td>\n",
       "    </tr>\n",
       "    <tr>\n",
       "      <th>4</th>\n",
       "      <td>8424</td>\n",
       "      <td>1</td>\n",
       "      <td>Broccoli Crown</td>\n",
       "      <td>1493300</td>\n",
       "    </tr>\n",
       "  </tbody>\n",
       "</table>\n",
       "</div>"
      ],
      "text/plain": [
       "   product_id  prediction    product_name  order_id\n",
       "0        8424           1  Broccoli Crown   1528013\n",
       "1        8424           1  Broccoli Crown    622677\n",
       "2        8424           1  Broccoli Crown   1185710\n",
       "3        8424           1  Broccoli Crown   2730481\n",
       "4        8424           1  Broccoli Crown   1493300"
      ]
     },
     "execution_count": 197,
     "metadata": {},
     "output_type": "execute_result"
    }
   ],
   "source": [
    "final2.head()"
   ]
  },
  {
   "cell_type": "code",
   "execution_count": 198,
   "id": "1ff0e213",
   "metadata": {
    "execution": {
     "iopub.execute_input": "2022-11-20T06:50:34.191304Z",
     "iopub.status.busy": "2022-11-20T06:50:34.190874Z",
     "iopub.status.idle": "2022-11-20T06:50:39.044266Z",
     "shell.execute_reply": "2022-11-20T06:50:39.042899Z"
    },
    "papermill": {
     "duration": 4.943243,
     "end_time": "2022-11-20T06:50:39.047175",
     "exception": false,
     "start_time": "2022-11-20T06:50:34.103932",
     "status": "completed"
    },
    "tags": []
   },
   "outputs": [],
   "source": [
    "# In this dictionary we will place as index the order_id and as values all the product name and id that the order will have\n",
    "d = dict()\n",
    "for row in final2.itertuples():\n",
    "    if row.prediction == 1:\n",
    "        try:\n",
    "            d[row.order_id] += ' ' + str(row.product_id) + ' ' +  str(row.product_name)\n",
    "        except:\n",
    "            d[row.order_id] = str(row.product_id) + ' ' + str(row.product_name)\n",
    "\n",
    "for order in final2.order_id:\n",
    "    if order not in d:\n",
    "        d[order] = 'None'"
   ]
  },
  {
   "cell_type": "code",
   "execution_count": 199,
   "id": "08f9471c",
   "metadata": {
    "execution": {
     "iopub.execute_input": "2022-11-20T06:50:39.216392Z",
     "iopub.status.busy": "2022-11-20T06:50:39.215953Z",
     "iopub.status.idle": "2022-11-20T06:50:39.349715Z",
     "shell.execute_reply": "2022-11-20T06:50:39.348436Z"
    },
    "papermill": {
     "duration": 0.221748,
     "end_time": "2022-11-20T06:50:39.352216",
     "exception": false,
     "start_time": "2022-11-20T06:50:39.130468",
     "status": "completed"
    },
    "tags": []
   },
   "outputs": [
    {
     "data": {
      "text/plain": [
       "88"
      ]
     },
     "execution_count": 199,
     "metadata": {},
     "output_type": "execute_result"
    }
   ],
   "source": [
    "gc.collect()"
   ]
  },
  {
   "cell_type": "code",
   "execution_count": 200,
   "id": "b94eb699",
   "metadata": {
    "execution": {
     "iopub.execute_input": "2022-11-20T06:50:39.524313Z",
     "iopub.status.busy": "2022-11-20T06:50:39.523816Z",
     "iopub.status.idle": "2022-11-20T06:50:39.539067Z",
     "shell.execute_reply": "2022-11-20T06:50:39.537868Z"
    },
    "papermill": {
     "duration": 0.104221,
     "end_time": "2022-11-20T06:50:39.542649",
     "exception": false,
     "start_time": "2022-11-20T06:50:39.438428",
     "status": "completed"
    },
    "tags": []
   },
   "outputs": [
    {
     "name": "stdout",
     "output_type": "stream",
     "text": [
      "[(1528013,\n",
      "  '8424 Broccoli Crown 10644 Italian Extra Virgin Olive Oil 11068 Medium '\n",
      "  'Cheddar Cheese Block 20323 Strained Tomatoes 21903 Organic Baby Spinach '\n",
      "  '25659 Organic Coconut Milk 27521 Organic Lacinato (Dinosaur) Kale 38293 '\n",
      "  'Ground Turkey Breast 40992 Chopped Tomatoes 45007 Organic Zucchini 48679 '\n",
      "  'Organic Garnet Sweet Potato (Yam) 49401 Chicken Base, Organic'),\n",
      " (622677,\n",
      "  '8424 Broccoli Crown 2192 Bold & Crispy Zesties! Crispy Seasoned French '\n",
      "  'Fried Potatoes 23734 Sour Cream 5025 Green Onions 34358 Garlic 34969 Red '\n",
      "  \"Vine Tomato 44142 Red Onion 17264 Stand 'n Stuff Taco Shells 25952 Original \"\n",
      "  'Potato Chips 40593 Cream Cheese 1541 Jumbo Grade A Eggs 3990 Natural Sharp '\n",
      "  'Cheddar Sliced Cheese 4058 Mild Fire Roasted Diced Green Chiles 4595 '\n",
      "  'Italian Dry Salame 5097 Mexican Style Taco Shredded Cheese 11615 Original '\n",
      "  'Prepared Cheese Product 15294 Butter Hamburger Buns 16185 Sharp Cheddar '\n",
      "  'Cheese 17364 Beans 17616 Goldfish Cheddar Baked Snack Crackers 17663 '\n",
      "  'Cinnabon Sweet Rolls with Orange Icing 21938 Green Bell Pepper 25048 '\n",
      "  'Mayonnaise with Olive Oil 26040 Deli Fresh Honey Ham, 97% Fat Free, Gluten '\n",
      "  'Free 27325 Alpine Spring Water 27796 Real Mayonnaise 28911 Buttermilk '\n",
      "  'Complete Pancake & Waffle Mix 29311 Organic California White Basmati Rice '\n",
      "  '32478 Reduced Fat 2% Milk 35752 Hardwood SmokedCenter Cut Original Bacon '\n",
      "  '35846 Sausage, Hot Link, Louisiana Brand 36086 Philadelphia Original Cream '\n",
      "  'Cheese 37145 Select Natural Applewood Smoked Turkey Breast 37238 Vantage '\n",
      "  'Choose-A-Size Regular Roll Towels 40954 Enriched Hamburger Buns Sesame '\n",
      "  '44566 Thick Cut Bacon 46041 Beef Franks 47058 Freshly made pasta in a Real '\n",
      "  'Cheddar cheese sauce Macaroni & Cheese 47100 Fire Roasted Diced Tomatoes '\n",
      "  'With Seasonings'),\n",
      " (1185710,\n",
      "  '8424 Broccoli Crown 10644 Italian Extra Virgin Olive Oil 21903 Organic Baby '\n",
      "  'Spinach 25659 Organic Coconut Milk 45007 Organic Zucchini 9076 Blueberries '\n",
      "  '45633 Organic Beef Hot Dogs 4605 Yellow Onions 6873 Organic Iceberg Lettuce '\n",
      "  '16797 Strawberries 21137 Organic Strawberries 21267 Sourdough Bread 22963 '\n",
      "  'Organic Roasted Turkey Breast 24852 Banana 25005 Organic Green Lentils '\n",
      "  '26209 Limes 28842 Bunched Cilantro 31506 Extra Virgin Olive Oil 34126 '\n",
      "  'Organic Italian Parsley Bunch 39619 Organic Tomato Basil Pasta Sauce 42585 '\n",
      "  'Organic Extra Firm Tofu 42828 Whipped Cream Cheese 43961 Organic Peeled '\n",
      "  'Whole Baby Carrots 44142 Red Onion 46802 Pineapple Chunks 47766 Organic '\n",
      "  'Avocado 28928 Uncured Black Forest Ham 22935 Organic Yellow Onion 1999 '\n",
      "  'Organic Chicken Broth 4210 Whole Milk 6615 Mozzarella Cheese 11520 Large '\n",
      "  'Alfresco Eggs 12206 Basil Pesto 24964 Organic Garlic 25890 Boneless '\n",
      "  'Skinless Chicken Breasts 26604 Organic Blackberries 27845 Organic Whole '\n",
      "  'Milk 28849 No Salt Added Black Beans 40604 Feta Cheese Crumbles 42736 '\n",
      "  'Unsalted Butter 43713 Organic Creamy Peanut Butter 47209 Organic Hass '\n",
      "  'Avocado 49533 Cane Sugar 21938 Green Bell Pepper 9839 Organic Broccoli '\n",
      "  '28204 Organic Fuji Apple 30391 Organic Cucumber 41787 Bartlett Pears 19508 '\n",
      "  'Corn Tortillas 28601 Collard Greens 49683 Cucumber Kirby 31717 Organic '\n",
      "  'Cilantro 41220 Organic Romaine Lettuce 2228 Organic Frozen Mango Chunks '\n",
      "  '8075 Small Compostable Waste Bag 10017 Tilapia Filet 13829 Mild Salsa 15040 '\n",
      "  'Organic Acorn Squash 17794 Carrots 37646 Organic Gala Apples 41950 Organic '\n",
      "  'Tomato Cluster 45123 Organic 21 Grain Thin Sliced Bread 1158 Mango Chunks '\n",
      "  '5373 Organic No Salt Added Diced Tomatoes 24489 Organic Whole Strawberries '\n",
      "  '26317 Organic Lemonade 27156 Organic Black Beans 31927 Four Cheese Pasta '\n",
      "  'Sauce 35221 Lime Sparkling Water 38650 Organic Red Lentils 5876 Organic '\n",
      "  'Lemon 44910 Organic Spring Mix Salad 41588 Firm Tofu 890 Organic Diced '\n",
      "  'Tomatoes 26751 Organic Tomato Basil Sauce 46667 Organic Ginger Root 1540 '\n",
      "  'Organic Southwest Taco Seasoning 13380 Organic Blue Corn Tortilla Chips '\n",
      "  '24184 Red Peppers 42265 Organic Baby Carrots 43192 Dark with 70% Cacao '\n",
      "  'Content Organic Chocolate Bar 5621 Sea Salt Fine Crystals 31343 Shredded '\n",
      "  'Mild Cheddar Cheese 33731 Grated Parmesan 31040 Sea Salt Pita Chips 38456 '\n",
      "  'Large Grapefruit 43122 Organic Bartlett Pear 48697 Canola Oil 17948 Frozen '\n",
      "  'Organic Wild Blueberries 2573 Garlic Pepper Ramen 21616 Organic Baby '\n",
      "  'Arugula 24009 Organic Long Grain White Rice 27055 Mushroom Ramen 39408 Gala '\n",
      "  'Apples 44683 Brussels Sprouts 45535 Organic Low Sodium Chicken Broth 2180 '\n",
      "  'Angel Hair Pasta 43076 Wide Egg Noodles 43967 Raspberry Lemonade 27104 '\n",
      "  'Fresh Cauliflower 28985 Michigan Organic Kale 36389 Organic Rainbow Chard '\n",
      "  'Vegetable 44359 Organic Small Bunch Celery 47734 Organic Green Cabbage 2380 '\n",
      "  'Cayenne Pepper 4030 Egg Roll Wraps 5883 Organic Strawberry Lemonade 6474 '\n",
      "  'Organic Sparkling Cider 7021 Organic Tomato Paste 7063 Graham Cracker Crust '\n",
      "  '9 Inch 7179 Chopped Pecans 8239 Peanut Butter Creamy With Salt 9689 Whole '\n",
      "  'Hearts of Palm 9883 Garlic Asiago Brazilian Cheese Bread 12099 Honey Greek '\n",
      "  'Yogurt 12482 Ramen, Soba 12872 Penne Rigate 14347 Mortadella 14715 Coconut '\n",
      "  'Water 15622 Chipotle In Adobo Sauce Peppers 15995 Organic Cinnamon Apple '\n",
      "  'Sauce 17284 Organic Sugar Snap Peas 18811 Organic Apple Juice 20017 Greek '\n",
      "  'Yogurt Style Nonfat Yogurt 20549 Organic Orzo 21403 Lemon Grass 21724 '\n",
      "  'Stir-fry Rice Noodles 21775 Brazilian Cheese Bread Original Cheddar and '\n",
      "  'Parmesan 26648 Ataulfo Mango 27548 Original Semisoft Cheese 27783 '\n",
      "  'Strawberry Fruit Spread 27925 Organic Red Bartlett Pear 29370 Organic White '\n",
      "  'Cheddar Popcorn 29722 Pasta Sauce Tomato Basil 30024 Cage Free Grade AA '\n",
      "  'Large White Eggs 30442 Low Fat Vanilla Yogurt 30745 Organic Bulgarian '\n",
      "  'Yogurt 35217 Toasted Sesame Seed Oil 35503 Organic Vanilla Almond Milk '\n",
      "  '35535 Organic Red Chard Greens 38159 Organic Yellow Peaches 38689 Organic '\n",
      "  'Reduced Fat Milk 39216 Original Multigrain Spoonfuls Cereal 43129 Panko '\n",
      "  'Bread Crumbs 43210 Rolled Oats 43343 Seaweed Ramen 43406 Roasted Seaweed '\n",
      "  'Snacks 44953 Organic Three Grain Tempeh 46047 Organic Original Acai Berry + '\n",
      "  'Guarana Smoothie Packs 47492 Organic Berry Blend 48171 Shredded Hash Browns '\n",
      "  '49038 Organic Fava Beans 49236 80% Lean Ground Beef 49247 Coconut Yoghurt'),\n",
      " (2730481,\n",
      "  '8424 Broccoli Crown 21903 Organic Baby Spinach 38293 Ground Turkey Breast '\n",
      "  '39993 Vine Ripe Tomatoes 4799 Shredded Parmesan 16797 Strawberries 21137 '\n",
      "  'Organic Strawberries 37766 XL Emerald White Seedless Grapes 39275 Organic '\n",
      "  'Blueberries 47766 Organic Avocado 13176 Bag of Organic Bananas 39928 '\n",
      "  'Organic Kiwi 8193 Russet Potato 40411 Calm Chamomile Herbal Tea 40396 '\n",
      "  'Guacamole 4920 Seedless Red Grapes 5769 Organic Chicken Stock 12206 Basil '\n",
      "  'Pesto 17600 YoKids Squeezers Organic Low-Fat Yogurt, Strawberry 24964 '\n",
      "  'Organic Garlic 26604 Organic Blackberries 27845 Organic Whole Milk 28535 '\n",
      "  'Cucumber & Garlic  Tzatziki 30169 Total 2% All Natural Plain Greek Yogurt '\n",
      "  '47029 Organic Greek Nonfat Yogurt With Mixed Berries 47209 Organic Hass '\n",
      "  'Avocado 47626 Large Lemon 21938 Green Bell Pepper 30391 Organic Cucumber '\n",
      "  '40706 Organic Grape Tomatoes 34448 Original Veggie Straws 41220 Organic '\n",
      "  'Romaine Lettuce 14947 Pure Sparkling Water 37646 Organic Gala Apples 45 '\n",
      "  'European Cucumber 5373 Organic No Salt Added Diced Tomatoes 18272 Slices '\n",
      "  'Cheddar Cheese 26790 Organic AppleApple 34570 Veggie Curls 42356 Strawberry '\n",
      "  'Preserves 2966 Pure Coconut Water 3142 Organic Short Grain Brown Rice 45210 '\n",
      "  'Organic Greek Lowfat Yogurt With Blueberries 19057 Organic Large Extra '\n",
      "  'Fancy Fuji Apple 39877 Organic Granny Smith Apple 7916 Grilled Chicken '\n",
      "  'Breast 13380 Organic Blue Corn Tortilla Chips 42265 Organic Baby Carrots '\n",
      "  '47144 Unsweetened Original Almond Breeze Almond Milk 31343 Shredded Mild '\n",
      "  'Cheddar Cheese 32429 Red Mango 25093 Colby Jack Cheese 32139 Hommus Classic '\n",
      "  'Original 38777 Organic Green Seedless Grapes 27966 Organic Raspberries '\n",
      "  '12980 Large Greenhouse Tomato 19348 Fat Free Milk 9808 Organic Cottage '\n",
      "  'Cheese 44359 Organic Small Bunch Celery 27783 Strawberry Fruit Spread 4562 '\n",
      "  'English Seedless Cucumber 2770 Brownberry Natural Wheat Bread 2982 Natural '\n",
      "  'Health Nut 100% All Natural Bread 4367 Garlic & Fine Herbs Gournay Cheese '\n",
      "  '4451 Organic Skim Milk with DHA Omega-3 7647 Turkey Meatballs 8479 Original '\n",
      "  'Black Box Tablewater Cracker 10246 Organic Celery Hearts 10312 Zen Tea '\n",
      "  '12290 Brie 17181 Natural Goddess Dressing 17461 Air Chilled Organic '\n",
      "  'Boneless Skinless Chicken Breasts 17706 Organic Whole Grain Wheat English '\n",
      "  'Muffins 17902 Liquid Egg Whites 18465 Organic Grade A Free Range Large '\n",
      "  'Brown Eggs 20082 Organic Whole Milk with DHA Omega-3 20574 Roasted Turkey '\n",
      "  '27663 GOLEAN Crunch! Cereal 27683 Black Beans No Salt Added 32096 Yogurt '\n",
      "  'Pretzels 33845 Organic YoBaby Vanilla Yogurt 35940 Family Recipe Italian '\n",
      "  'Dressing 42193 Chocolate Chip Cookie 43726 Mixed Grapes 44628 Organic Dijon '\n",
      "  'Mustard 44926 Tortilla Chips with Salt 47616 Sesame Street Organic Mini '\n",
      "  'Blueberry Pancakes 47759 Mandarin Oranges 48974 Organic Asian Sesame '\n",
      "  'Dressing'),\n",
      " (1493300,\n",
      "  '8424 Broccoli Crown 21903 Organic Baby Spinach 45007 Organic Zucchini 22963 '\n",
      "  'Organic Roasted Turkey Breast 24852 Banana 25005 Organic Green Lentils '\n",
      "  '25931 Organic Baby Spinach Salad 42450 Macaroni & Cheese 42585 Organic '\n",
      "  'Extra Firm Tofu 13176 Bag of Organic Bananas 41844 Honey Nut Cheerios 21497 '\n",
      "  'White Sandwich Bread 11520 Large Alfresco Eggs 24964 Organic Garlic 25890 '\n",
      "  'Boneless Skinless Chicken Breasts 27845 Organic Whole Milk 40198 Blueberry '\n",
      "  'Yoghurt 42736 Unsalted Butter 47626 Large Lemon 43352 Raspberries 8277 '\n",
      "  'Apple Honeycrisp Organic 10017 Tilapia Filet 17794 Carrots 13113 Organic '\n",
      "  'Apple Juice Boxes 26790 Organic AppleApple 3957 100% Raw Coconut Water '\n",
      "  '22888 90% Lean Ground Beef 24184 Red Peppers 42265 Organic Baby Carrots '\n",
      "  '5077 100% Whole Wheat Bread 7781 Organic Sticks Low Moisture Part Skim '\n",
      "  'Mozzarella String Cheese 48697 Canola Oil 27966 Organic Raspberries 16759 '\n",
      "  'Organic Carrot Bunch 22950 Natural Free & Clear Dishwasher Detergent Packs '\n",
      "  '27104 Fresh Cauliflower 27548 Original Semisoft Cheese 17706 Organic Whole '\n",
      "  'Grain Wheat English Muffins 18465 Organic Grade A Free Range Large Brown '\n",
      "  'Eggs 204 Free & Clear Natural Laundry Detergent For Sensitive Skin 424 '\n",
      "  'Linguine Pasta 1039 Free & Clear Unscented Refill Value Packs Baby Wipes '\n",
      "  '1896 Organic Sensible Sipper Apple Juice 2124 Cheese Ravioli 5646 Organic '\n",
      "  'Turkey Bacon 6348 Mini Original Babybel Cheese 17630 YoKids Squeeze! '\n",
      "  'Organic Strawberry Flavor Yogurt 17758 Strawberry Rhubarb Yoghurt 20670 '\n",
      "  'Organic Lentil Vegetable Soup 21847 Lemongrass Citrus Scent Disinfecting '\n",
      "  'Wipes 23801 Fusilli No. 34 24561 Organic Cheese Frozen Pizza 26283 White '\n",
      "  'Corn 31766 Cheese Pizza Snacks 32035 Toasted Pine Nut Couscous Mix 37664 '\n",
      "  'Organic Sliced Provalone Cheese 39561 Crackers Cheddar Bunnies Snack Packs '\n",
      "  '41930 Heat & Eat Organic Long Grain Bowl Rice Bowl 44471 Free & Clear '\n",
      "  'Unscented Baby Wipes 44795 Minneola Tangelo 48642 2-Ply Right Size 100% '\n",
      "  'Recycled Paper Towels')]\n"
     ]
    }
   ],
   "source": [
    "from pprint import pprint\n",
    "k = list(d.items())[:5]\n",
    "pprint(k)"
   ]
  },
  {
   "cell_type": "code",
   "execution_count": 201,
   "id": "4ad3ba15",
   "metadata": {
    "execution": {
     "iopub.execute_input": "2022-11-20T06:50:39.712973Z",
     "iopub.status.busy": "2022-11-20T06:50:39.711744Z",
     "iopub.status.idle": "2022-11-20T06:50:39.730272Z",
     "shell.execute_reply": "2022-11-20T06:50:39.729210Z"
    },
    "papermill": {
     "duration": 0.106357,
     "end_time": "2022-11-20T06:50:39.733321",
     "exception": false,
     "start_time": "2022-11-20T06:50:39.626964",
     "status": "completed"
    },
    "tags": []
   },
   "outputs": [],
   "source": [
    "sub3 = pd.DataFrame.from_dict(d, orient = 'index')\n",
    "sub3.reset_index(inplace = True)"
   ]
  },
  {
   "cell_type": "code",
   "execution_count": 202,
   "id": "dd2846ab",
   "metadata": {
    "execution": {
     "iopub.execute_input": "2022-11-20T06:50:39.902009Z",
     "iopub.status.busy": "2022-11-20T06:50:39.901606Z",
     "iopub.status.idle": "2022-11-20T06:50:39.907525Z",
     "shell.execute_reply": "2022-11-20T06:50:39.906202Z"
    },
    "papermill": {
     "duration": 0.092939,
     "end_time": "2022-11-20T06:50:39.910079",
     "exception": false,
     "start_time": "2022-11-20T06:50:39.817140",
     "status": "completed"
    },
    "tags": []
   },
   "outputs": [],
   "source": [
    "sub3.columns = ['order_id', 'products']"
   ]
  },
  {
   "cell_type": "code",
   "execution_count": 203,
   "id": "f70b35dc",
   "metadata": {
    "execution": {
     "iopub.execute_input": "2022-11-20T06:50:40.082218Z",
     "iopub.status.busy": "2022-11-20T06:50:40.081730Z",
     "iopub.status.idle": "2022-11-20T06:50:40.093048Z",
     "shell.execute_reply": "2022-11-20T06:50:40.091873Z"
    },
    "papermill": {
     "duration": 0.09993,
     "end_time": "2022-11-20T06:50:40.095561",
     "exception": false,
     "start_time": "2022-11-20T06:50:39.995631",
     "status": "completed"
    },
    "tags": []
   },
   "outputs": [
    {
     "data": {
      "text/html": [
       "<div>\n",
       "<style scoped>\n",
       "    .dataframe tbody tr th:only-of-type {\n",
       "        vertical-align: middle;\n",
       "    }\n",
       "\n",
       "    .dataframe tbody tr th {\n",
       "        vertical-align: top;\n",
       "    }\n",
       "\n",
       "    .dataframe thead th {\n",
       "        text-align: right;\n",
       "    }\n",
       "</style>\n",
       "<table border=\"1\" class=\"dataframe\">\n",
       "  <thead>\n",
       "    <tr style=\"text-align: right;\">\n",
       "      <th></th>\n",
       "      <th>order_id</th>\n",
       "      <th>products</th>\n",
       "    </tr>\n",
       "  </thead>\n",
       "  <tbody>\n",
       "    <tr>\n",
       "      <th>0</th>\n",
       "      <td>1528013</td>\n",
       "      <td>8424 Broccoli Crown 10644 Italian Extra Virgin...</td>\n",
       "    </tr>\n",
       "    <tr>\n",
       "      <th>1</th>\n",
       "      <td>622677</td>\n",
       "      <td>8424 Broccoli Crown 2192 Bold &amp; Crispy Zesties...</td>\n",
       "    </tr>\n",
       "    <tr>\n",
       "      <th>2</th>\n",
       "      <td>1185710</td>\n",
       "      <td>8424 Broccoli Crown 10644 Italian Extra Virgin...</td>\n",
       "    </tr>\n",
       "    <tr>\n",
       "      <th>3</th>\n",
       "      <td>2730481</td>\n",
       "      <td>8424 Broccoli Crown 21903 Organic Baby Spinach...</td>\n",
       "    </tr>\n",
       "    <tr>\n",
       "      <th>4</th>\n",
       "      <td>1493300</td>\n",
       "      <td>8424 Broccoli Crown 21903 Organic Baby Spinach...</td>\n",
       "    </tr>\n",
       "    <tr>\n",
       "      <th>5</th>\n",
       "      <td>1901134</td>\n",
       "      <td>8424 Broccoli Crown 45007 Organic Zucchini 350...</td>\n",
       "    </tr>\n",
       "    <tr>\n",
       "      <th>6</th>\n",
       "      <td>391588</td>\n",
       "      <td>8424 Broccoli Crown 21903 Organic Baby Spinach...</td>\n",
       "    </tr>\n",
       "    <tr>\n",
       "      <th>7</th>\n",
       "      <td>1176544</td>\n",
       "      <td>8424 Broccoli Crown 45007 Organic Zucchini 196...</td>\n",
       "    </tr>\n",
       "    <tr>\n",
       "      <th>8</th>\n",
       "      <td>1237487</td>\n",
       "      <td>8424 Broccoli Crown 21903 Organic Baby Spinach...</td>\n",
       "    </tr>\n",
       "    <tr>\n",
       "      <th>9</th>\n",
       "      <td>1601439</td>\n",
       "      <td>8424 Broccoli Crown 21903 Organic Baby Spinach...</td>\n",
       "    </tr>\n",
       "  </tbody>\n",
       "</table>\n",
       "</div>"
      ],
      "text/plain": [
       "   order_id                                           products\n",
       "0   1528013  8424 Broccoli Crown 10644 Italian Extra Virgin...\n",
       "1    622677  8424 Broccoli Crown 2192 Bold & Crispy Zesties...\n",
       "2   1185710  8424 Broccoli Crown 10644 Italian Extra Virgin...\n",
       "3   2730481  8424 Broccoli Crown 21903 Organic Baby Spinach...\n",
       "4   1493300  8424 Broccoli Crown 21903 Organic Baby Spinach...\n",
       "5   1901134  8424 Broccoli Crown 45007 Organic Zucchini 350...\n",
       "6    391588  8424 Broccoli Crown 21903 Organic Baby Spinach...\n",
       "7   1176544  8424 Broccoli Crown 45007 Organic Zucchini 196...\n",
       "8   1237487  8424 Broccoli Crown 21903 Organic Baby Spinach...\n",
       "9   1601439  8424 Broccoli Crown 21903 Organic Baby Spinach..."
      ]
     },
     "execution_count": 203,
     "metadata": {},
     "output_type": "execute_result"
    }
   ],
   "source": [
    "# final prediction\n",
    "sub3.head(10)"
   ]
  },
  {
   "cell_type": "markdown",
   "id": "0a10632f",
   "metadata": {
    "papermill": {
     "duration": 0.082834,
     "end_time": "2022-11-20T06:50:40.261393",
     "exception": false,
     "start_time": "2022-11-20T06:50:40.178559",
     "status": "completed"
    },
    "tags": []
   },
   "source": [
    "# Plotting Curve for Overfitting/Underfitting"
   ]
  },
  {
   "cell_type": "code",
   "execution_count": 204,
   "id": "5e0f6705",
   "metadata": {
    "execution": {
     "iopub.execute_input": "2022-11-20T06:50:40.430876Z",
     "iopub.status.busy": "2022-11-20T06:50:40.430490Z",
     "iopub.status.idle": "2022-11-20T06:50:41.447462Z",
     "shell.execute_reply": "2022-11-20T06:50:41.446183Z"
    },
    "papermill": {
     "duration": 1.106,
     "end_time": "2022-11-20T06:50:41.450886",
     "exception": false,
     "start_time": "2022-11-20T06:50:40.344886",
     "status": "completed"
    },
    "tags": []
   },
   "outputs": [],
   "source": [
    "X_train, X_val, y_train, y_val = train_test_split(data_train.drop('reordered', axis=1), data_train.reordered, test_size=0.8, random_state=42)\n",
    "train_scores, test_scores = list(), list()"
   ]
  },
  {
   "cell_type": "code",
   "execution_count": 205,
   "id": "dec5b9e4",
   "metadata": {
    "execution": {
     "iopub.execute_input": "2022-11-20T06:50:41.622771Z",
     "iopub.status.busy": "2022-11-20T06:50:41.622159Z",
     "iopub.status.idle": "2022-11-20T07:05:21.875535Z",
     "shell.execute_reply": "2022-11-20T07:05:21.874159Z"
    },
    "papermill": {
     "duration": 880.424352,
     "end_time": "2022-11-20T07:05:21.961517",
     "exception": false,
     "start_time": "2022-11-20T06:50:41.537165",
     "status": "completed"
    },
    "tags": []
   },
   "outputs": [
    {
     "name": "stdout",
     "output_type": "stream",
     "text": [
      ">1, train: 0.9046, test: 0.9043\n",
      ">3, train: 0.9074, test: 0.9075\n",
      ">5, train: 0.9073, test: 0.9074\n",
      ">10, train: 0.9074, test: 0.9075\n",
      ">20, train: 0.9075, test: 0.9076\n",
      ">30, train: 0.9074, test: 0.9075\n",
      ">50, train: 0.9077, test: 0.9078\n",
      ">70, train: 0.9076, test: 0.9076\n",
      ">100, train: 0.9076, test: 0.9076\n"
     ]
    }
   ],
   "source": [
    "values = [1,3,5,10,20,30,50,70,100]\n",
    "\n",
    "for i in values:\n",
    "\tmodel = LogisticRegressionCV(Cs = i, random_state = 101)\n",
    "\tmodel.fit(X_train, y_train)\n",
    "\ttrain_yhat = model.predict(X_train)\n",
    "\ttrain_acc = accuracy_score(y_train, train_yhat)\n",
    "\ttrain_scores.append(train_acc)\n",
    "\ttest_yhat = model.predict(X_test)\n",
    "\ttest_acc = accuracy_score(y_test, test_yhat)\n",
    "\ttest_scores.append(test_acc)\n",
    "\tprint('>%d, train: %.4f, test: %.4f' % (i, train_acc, test_acc))"
   ]
  },
  {
   "cell_type": "code",
   "execution_count": 206,
   "id": "3f1b67d8",
   "metadata": {
    "execution": {
     "iopub.execute_input": "2022-11-20T07:05:22.136668Z",
     "iopub.status.busy": "2022-11-20T07:05:22.136264Z",
     "iopub.status.idle": "2022-11-20T07:05:22.360345Z",
     "shell.execute_reply": "2022-11-20T07:05:22.359137Z"
    },
    "papermill": {
     "duration": 0.314297,
     "end_time": "2022-11-20T07:05:22.362884",
     "exception": false,
     "start_time": "2022-11-20T07:05:22.048587",
     "status": "completed"
    },
    "tags": []
   },
   "outputs": [
    {
     "data": {
      "image/png": "[encoded data removed]",
      "text/plain": [
       "<Figure size 432x288 with 1 Axes>"
      ]
     },
     "metadata": {
      "needs_background": "light"
     },
     "output_type": "display_data"
    }
   ],
   "source": [
    "# plotting the graph between train and test dataframes\n",
    "pyplot.plot(values, train_scores, '-o', label='Train')\n",
    "pyplot.plot(values, test_scores, '-o', label='Test')\n",
    "pyplot.legend()\n",
    "pyplot.show()"
   ]
  },
  {
   "cell_type": "markdown",
   "id": "6fb65b85",
   "metadata": {
    "papermill": {
     "duration": 0.085184,
     "end_time": "2022-11-20T07:05:22.532388",
     "exception": false,
     "start_time": "2022-11-20T07:05:22.447204",
     "status": "completed"
    },
    "tags": []
   },
   "source": [
    "The plot clearly shows that increasing the number of estimators in the early stages results in a corresponding improvement in both train and test sets.\n",
    "\n",
    "This continues and the outcome is good i.e., the model is doing what it's supposed to do"
   ]
  }
 ],
 "metadata": {
  "kernelspec": {
   "display_name": "Python 3",
   "language": "python",
   "name": "python3"
  },
  "language_info": {
   "codemirror_mode": {
    "name": "ipython",
    "version": 3
   },
   "file_extension": ".py",
   "mimetype": "text/x-python",
   "name": "python",
   "nbconvert_exporter": "python",
   "pygments_lexer": "ipython3",
   "version": "3.7.12"
  },
  "papermill": {
   "default_parameters": {},
   "duration": 4236.329203,
   "end_time": "2022-11-20T07:05:25.448994",
   "environment_variables": {},
   "exception": null,
   "input_path": "__notebook__.ipynb",
   "output_path": "__notebook__.ipynb",
   "parameters": {},
   "start_time": "2022-11-20T05:54:49.119791",
   "version": "2.3.4"
  }
 },
 "nbformat": 4,
 "nbformat_minor": 5
}
